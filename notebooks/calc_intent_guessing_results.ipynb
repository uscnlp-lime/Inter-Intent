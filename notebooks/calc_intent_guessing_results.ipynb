{
 "cells": [
  {
   "cell_type": "code",
   "execution_count": 1,
   "metadata": {},
   "outputs": [],
   "source": [
    "import pandas as pd\n",
    "import os\n",
    "import random\n",
    "import json\n",
    "from ast import literal_eval\n",
    "import re\n",
    "from utils import *\n",
    "from collections import Counter\n",
    "from collections import defaultdict\n",
    "from tqdm import notebook"
   ]
  },
  {
   "cell_type": "code",
   "execution_count": 2,
   "metadata": {},
   "outputs": [],
   "source": [
    "from sentence_transformers import SentenceTransformer, util\n",
    "\n",
    "# Load a pre-trained sentence-transformer model\n",
    "model = SentenceTransformer('all-MiniLM-L6-v2')"
   ]
  },
  {
   "cell_type": "code",
   "execution_count": 3,
   "metadata": {},
   "outputs": [],
   "source": [
    "similar_intent_map = {'express concerns about a player from a failed quest team and suggest to not include them in the current team': 'express concerns about a player from a failed quest team and suggest to remove them from current team',\n",
    "         'question the leader why they selected a particular player for the team': 'question the leader why they selected a particular player for the team',\n",
    "         'question the leader why they chose a player for the team': 'question the leader why they selected a particular player for the team',\n",
    "         'question the leader why they chose a specific player for the team': 'question the leader why they selected a particular player for the team',\n",
    "         'question the leader why they chose a particular player for the team': 'question the leader why they selected a particular player for the team',\n",
    "         'question team selection': 'question the leader why they selected a particular player for the team',\n",
    "         'question leaders choice': 'question the leader why they selected a particular player for the team',\n",
    "         'counter the team proposal because you think a player on the team is evil': 'counter the team proposal citing that you think a player on the team is evil',\n",
    "         'counter the team proposal because a player on the team is evil': 'counter the team proposal citing that you think a player on the team is evil',\n",
    "         'stay hidden in discussions and act like a loyal servant to protect yourself': 'stay hidden in discussions and act like a loyal servant to protect yourself',\n",
    "         'stay hidden in discussions': 'stay hidden in discussions and act like a loyal servant to protect yourself',\n",
    "         'stay hidden in discussions to protect yourself': 'stay hidden in discussions and act like a loyal servant to protect yourself',\n",
    "         'stay hidden as loyal servant': 'stay hidden in discussions and act like a loyal servant to protect yourself',\n",
    "         'support team proposal': 'support team proposal',\n",
    "         'supporting team proposal': 'support team proposal',\n",
    "         'support the team proposal': 'support team proposal',\n",
    "         'question a player on why he didnt vote for the last team': 'question a player on why he didnt vote for the last team',\n",
    "         'question a player on why they didnt vote for the last team': 'question a player on why he didnt vote for the last team',\n",
    "         'defend yourself against allegations that you could be evil': 'defend yourself against allegations that you could be evil',\n",
    "         'support your teammate by expressing that he is good': 'support your teammate by expressing that he is good',\n",
    "         'question a player about why they changed their statements': 'question a player about why they changed their statements',\n",
    "         'provide hints to loyal players about evil players': 'provide hints to loyal players about evil players',\n",
    "         'provide hints to loyal players': 'provide hints to loyal players about evil players',\n",
    "         'guide team subtly': 'provide hints to loyal players about evil players',\n",
    "         'provide hints about evil players': 'provide hints to loyal players about evil players',\n",
    "         'express concerns about including player in the team': 'express concerns about a player from a failed quest team and suggest to remove them from current team',\n",
    "         'express concerns about a player from a failed quest team and suggest not including them in current team': 'express concerns about a player from a failed quest team and suggest to remove them from current team',\n",
    "         'express concerns about a player from a failed quest team and suggest not to include them': 'express concerns about a player from a failed quest team and suggest to remove them from current team',\n",
    "         'express concerns about a player from a failed quest team and suggest to not include them in current team': 'express concerns about a player from a failed quest team and suggest to remove them from current team',\n",
    "         'express concerns about a player from a failed quest team and suggest to not include them in current team': 'express concerns about a player from a failed quest team and suggest to remove them from current team',\n",
    "         'express concerns about a player from a failed quest team and suggest not including them in the current team': 'express concerns about a player from a failed quest team and suggest to remove them from current team',\n",
    "         'express concerns about a player from a failed quest team and suggest not to include them in the current team': 'express concerns about a player from a failed quest team and suggest to remove them from current team',\n",
    "         'express concerns about a player from a failed quest team and suggest to not include them in the current team': 'express concerns about a player from a failed quest team and suggest to remove them from current team',\n",
    "         'express concerns about a player from a failed quest team': 'express concerns about a player from a failed quest team and suggest to remove them from current team',\n",
    "         'express concerns about a player from a failed quest and suggest to not include them in current team': 'express concerns about a player from a failed quest team and suggest to remove them from current team',\n",
    "         'express concerns about including a player from a failed quest': 'express concerns about a player from a failed quest team and suggest to remove them from current team',\n",
    "         'pretend to be merlin by providing hints on who is evil': 'pretend to be merlin by providing hints on who is evil',\n",
    "         'express disagreement and vote disagree only if you are not in the proposed team': 'express disagreement and vote disagree only if you are not in the proposed team',\n",
    "         'express disagreement and vote disagree if not on team': 'express disagreement and vote disagree only if you are not in the proposed team',\n",
    "         'express disagreement and vote disagree if not in the team': 'express disagreement and vote disagree only if you are not in the proposed team',\n",
    "         'express disagreement and vote disagree if not in team': 'express disagreement and vote disagree only if you are not in the proposed team',\n",
    "         'express disagreement and vote disagree if not on the team': 'express disagreement and vote disagree only if you are not in the proposed team',\n",
    "         'express disagreement if not in team': 'express disagreement and vote disagree only if you are not in the proposed team',\n",
    "         'express disagreement and vote disagree if not in proposed team': 'express disagreement and vote disagree only if you are not in the proposed team',\n",
    "         'express disagreement and vote disagree only if not in team': 'express disagreement and vote disagree only if you are not in the proposed team',\n",
    "         'express disagreement if not on team': 'express disagreement and vote disagree only if you are not in the proposed team',\n",
    "         'counter the team proposal because you are good and not part of the team': 'counter the team proposal citing that you are good and not part of the team',\n",
    "         'express confusion for failure of mission': 'express confusion for failure of mission',\n",
    "         'express confusion for failure': 'express confusion for failure of mission',\n",
    "         'express confusion for failed mission': 'express confusion for failure of mission',\n",
    "         'include loyal players on the quest team as leader': 'include loyal players on the quest team as leader',\n",
    "         'support loyal players on quest team as leader': 'include loyal players on the quest team as leader',\n",
    "         'include loyal players on quest team as leader': 'include loyal players on the quest team as leader',\n",
    "         'include loyal players on quest team': 'include loyal players on the quest team as leader',\n",
    "         'pretend to have information and act like merlin': 'pretend to have information and act like merlin',\n",
    "         'pretend to be merlin to mislead': 'pretend to have information and act like merlin',\n",
    "         'support your teammate to be on the quest team': 'support your teammate to be on the quest team',\n",
    "         'support teammate to be on the quest team': 'support your teammate to be on the quest team',\n",
    "         'support teammate on quest team': 'support your teammate to be on the quest team',\n",
    "         'support teammate to be on quest team': 'support your teammate to be on the quest team',\n",
    "         'support evil team composition': 'support your teammate to be on the quest team',\n",
    "         'support teammate on team': 'support your teammate to be on the quest team',\n",
    "         'cast suspicion on innocent players': 'cast suspicion on innocent players',\n",
    "         'cast suspicion on loyal players': 'cast suspicion on innocent players',\n",
    "         'trying to cast suspicion on innocent players': 'cast suspicion on innocent players',\n",
    "         'support one loyal player': 'support one loyal player',\n",
    "         'support loyal players': 'support one loyal player',\n",
    "         'protect loyal players': 'support one loyal player',\n",
    "         'express trust in loyal players': 'support one loyal player',\n",
    "         'share concerns about an evil player': 'share concerns about an evil player',\n",
    "         'express concerns about evil player': 'share concerns about an evil player',\n",
    "         'express concerns about an evil player': 'share concerns about an evil player',\n",
    "         'support loyal players of the previous quest team if the mission failed': 'support loyal players of the previous quest team if the mission failed',\n",
    "         'defend previous quest team members': 'support loyal players of the previous quest team if the mission failed',\n",
    "         'support loyal players of the previous quest team': 'support loyal players of the previous quest team if the mission failed',\n",
    "         'support loyal players from previous quest team': 'support loyal players of the previous quest team if the mission failed',\n",
    "         'defend your teammate against allegations that they could be evil': 'defend your teammate against allegations that they could be evil',\n",
    "         'defend your teammate against allegations': 'defend your teammate against allegations that they could be evil',\n",
    "         'defend teammate against allegations': 'defend your teammate against allegations that they could be evil',\n",
    "         'defend teammate': 'defend your teammate against allegations that they could be evil',\n",
    "         'defend teammate against suspicion': 'defend your teammate against allegations that they could be evil',\n",
    "         'question the leader why they didnt put themselves on the quest team': 'question the leader why they didnt put themselves on the quest team',\n",
    "         'question the leader why they didnt put themselves on the team': 'question the leader why they didnt put themselves on the quest team',\n",
    "         'strongly convince the team leader to choose you on team': 'strongly convince the team leader to choose you on team',\n",
    "         'reveal identity by telling others you are servant to persuade other loyal players': 'reveal identity by telling others you are servant to persuade other loyal players',\n",
    "         'reveal identity as a loyal player': 'reveal identity by telling others you are servant to persuade other loyal players',\n",
    "         'defend the proposed team composition if it includes loyal players': 'defend the proposed team composition if it includes loyal players',\n",
    "         'defend proposed team if includes loyal players': 'defend the proposed team composition if it includes loyal players',\n",
    "         'defend proposed team with loyal players': 'defend the proposed team composition if it includes loyal players',\n",
    "         'defend the proposed team if it includes loyal players': 'defend the proposed team composition if it includes loyal players',\n",
    "         'defend the proposed team composition if includes loyal players': 'defend the proposed team composition if it includes loyal players',\n",
    "         'support loyal players on team': 'defend the proposed team composition if it includes loyal players',\n",
    "         'support loyal players on the quest team': 'defend the proposed team composition if it includes loyal players',\n",
    "         'support the leaders decision': 'support team proposal',\n",
    "         'express you are a loyal player': 'express you are a loyal player',\n",
    "         'express loyalty': 'express you are a loyal player',\n",
    "         'expressing loyalty': 'express you are a loyal player',\n",
    "         'question why a player didnt vote for the last team': 'question a player on why he didnt vote for the last team',\n",
    "         'support a loyal player': 'support one loyal player',\n",
    "         'counter the team proposal because i suspect a player on the team is evil': 'counter the team proposal citing that you think a player on the team is evil',\n",
    "         'counter the team proposal because you think a player on the team is evil': 'counter the team proposal citing that you think a player on the team is evil',\n",
    "         'express concerns about a player from a failed quest team and suggest not including them in the current team': 'express concerns about a player from a failed quest team and suggest to remove them from current team',\n",
    "         'strongly convince the team leader to choose you on the team': 'strongly convince the team leader to choose you on team',\n",
    "         'question the leader why they selected player for the team': 'question the leader why they selected a particular player for the team',\n",
    "         'express concerns about including player in the quest team': 'express concerns about a player from a failed quest team and suggest to remove them from current team',\n",
    "         'counter previous players suspicion on me by expressing loyalty': 'defend yourself against allegations that you could be evil',\n",
    "         'defend yourself against allegations of being evil': 'defend yourself against allegations of being evil',\n",
    "         'defend yourself against allegations': 'defend yourself against allegations',\n",
    "         'question player why they didnt include themselves in the proposed team': 'question the leader why they didnt put themselves on the quest team',\n",
    "         'question player about their sudden change in stance': 'question a player about why they changed their statements',\n",
    "         'express loyalty to the team': 'express you are a loyal player',\n",
    "         'question a player on why they changed their statements': 'question a player about why they changed their statements',\n",
    "        'pretend that you dont have enough information about who is evil right now': 'pretend that you dont have enough information about who is evil right now',\n",
    "        'express that you dont have any information on whom to put on the team to protect yourself': 'express that you dont have any information on whom to put on the team to protect yourself',\n",
    "        'express that you dont have enough information about who is evil right now': 'express that you dont have any information on whom to put on the team to protect yourself',\n",
    "         'reveal identity by telling others you are percival to persuade other loyal players': 'reveal identity by telling others you are percival to persuade other loyal players',\n",
    "         'reveal identity as percival': 'reveal identity by telling others you are percival to persuade other loyal players',\n",
    "         'defend the team composition': 'support team proposal',\n",
    "         'pretend to be percival by telling others you are percival': 'pretend to be percival by telling others you are percival',\n",
    "         'pretend to be percival': 'pretend to be percival by telling others you are percival',\n",
    "        'support the proposed team': 'support team proposal',\n",
    "        'express concerns about a player from a failed quest and suggest to not include them in the current team': 'express concerns about a player from a failed quest team and suggest to remove them from current team',\n",
    "        'express disagreement if not on the team': 'express disagreement and vote disagree only if you are not in the proposed team',\n",
    "        'stay hidden as servant': 'stay hidden in discussions and act like a loyal servant to protect yourself',\n",
    "        'stay hidden in discussions as a loyal servant': 'stay hidden in discussions and act like a loyal servant to protect yourself',\n",
    "        'express disagreement and vote disagree': 'express disagreement and vote disagree only if you are not in the proposed team',\n",
    "        'express disagreement and vote disagree if not on the proposed team': 'express disagreement and vote disagree only if you are not in the proposed team',\n",
    "        'express concerns about including a player from a failed quest team and suggest to not include them in the current team': 'express concerns about a player from a failed quest team and suggest to remove them from current team',\n",
    "        'express concerns about a player from a failed quest team and suggest not including them': 'express concerns about a player from a failed quest team and suggest to remove them from current team',\n",
    "        'express disagreement and vote disagree if not in the proposed team': 'express disagreement and vote disagree only if you are not in the proposed team',\n",
    "        'stay hidden in discussions to protect self': 'stay hidden in discussions and act like a loyal servant to protect yourself',\n",
    "        'stay hidden': 'stay hidden in discussions and act like a loyal servant to protect yourself',\n",
    "        'deceive as a loyal player': 'stay hidden in discussions and act like a loyal servant to protect yourself',\n",
    "        'stay hidden as evil': 'stay hidden in discussions and act like a loyal servant to protect yourself',\n",
    "\n",
    "}"
   ]
  },
  {
   "cell_type": "code",
   "execution_count": 4,
   "metadata": {},
   "outputs": [
    {
     "data": {
      "text/plain": [
       "130"
      ]
     },
     "execution_count": 4,
     "metadata": {},
     "output_type": "execute_result"
    }
   ],
   "source": [
    "len(similar_intent_map)"
   ]
  },
  {
   "cell_type": "code",
   "execution_count": 5,
   "metadata": {},
   "outputs": [],
   "source": [
    "uniq_intents = set(similar_intent_map.values())\n",
    "for intent in uniq_intents:\n",
    "    if intent not in similar_intent_map:\n",
    "        similar_intent_map[intent] = intent"
   ]
  },
  {
   "cell_type": "code",
   "execution_count": 6,
   "metadata": {},
   "outputs": [
    {
     "data": {
      "text/plain": [
       "133"
      ]
     },
     "execution_count": 6,
     "metadata": {},
     "output_type": "execute_result"
    }
   ],
   "source": [
    "len(similar_intent_map)"
   ]
  },
  {
   "cell_type": "code",
   "execution_count": 7,
   "metadata": {},
   "outputs": [],
   "source": [
    "orig_intents = set(similar_intent_map.values())"
   ]
  },
  {
   "cell_type": "code",
   "execution_count": 8,
   "metadata": {},
   "outputs": [],
   "source": [
    "orig_intents_embs = {}\n",
    "for intent in orig_intents:\n",
    "    orig_intents_embs[intent] = model.encode(intent)"
   ]
  },
  {
   "cell_type": "code",
   "execution_count": 9,
   "metadata": {},
   "outputs": [],
   "source": [
    "def insert_phrase(sentence):\n",
    "    max_score = 0\n",
    "    max_score_intent = ''\n",
    "    for intent in orig_intents:\n",
    "        # Generate embeddings\n",
    "        embeddings1 = model.encode(sentence)\n",
    "        embeddings2 = orig_intents_embs[intent]\n",
    "\n",
    "        # Compute cosine similarity\n",
    "        similarity = util.cos_sim(embeddings1, embeddings2)\n",
    "        if similarity > max_score:\n",
    "            max_score = similarity\n",
    "            max_score_intent = intent\n",
    "\n",
    "    if max_score >= 0.6:\n",
    "        similar_intent_map[sentence] = max_score_intent\n",
    "    "
   ]
  },
  {
   "cell_type": "code",
   "execution_count": 10,
   "metadata": {},
   "outputs": [],
   "source": [
    "intent_stats_dic = {}\n",
    "def calc_intent_stats(summarized_intents, selected_intents):\n",
    "    for intent in summarized_intents:\n",
    "        if intent not in intent_stats_dic:\n",
    "            intent_stats_dic[intent] = {'count': 0, 'summary': 0, 'selection': 0, 'both': 0}\n",
    "        intent_stats_dic[intent]['count'] += 1\n",
    "        intent_stats_dic[intent]['summary'] += 1\n",
    "        if intent in selected_intents:\n",
    "            intent_stats_dic[intent]['selection'] += 1\n",
    "            intent_stats_dic[intent]['both'] += 1\n",
    "\n",
    "    for intent in selected_intents:\n",
    "        if intent not in intent_stats_dic:\n",
    "            intent_stats_dic[intent] = {'count': 0, 'summary': 0, 'selection': 0, 'both': 0}\n",
    "        if intent not in summarized_intents:\n",
    "            intent_stats_dic[intent]['count'] += 1\n",
    "            intent_stats_dic[intent]['selection'] += 1"
   ]
  },
  {
   "cell_type": "code",
   "execution_count": 11,
   "metadata": {},
   "outputs": [],
   "source": [
    "def get_results(samples_list):\n",
    "    results = []\n",
    "    for r in samples_list:\n",
    "        intents = [remove_non_alphabets(intent) for intent in r[1]]\n",
    "        intents = [similar_intent_map[intent] for intent in intents if intent in similar_intent_map]\n",
    "        guessed_intents = [similar_intent_map[remove_non_alphabets(intent)] for intent in r[2] if remove_non_alphabets(intent) in similar_intent_map]\n",
    "        # guessed_intents = [remove_non_alphabets(intent) for intent in guessed_intents]\n",
    "        \n",
    "        results.append({'guessed_intents': guessed_intents, 'intents': intents})\n",
    "\n",
    "    \n",
    "    for res in results:\n",
    "        calc_intent_stats(res['guessed_intents'], res['intents'])\n",
    "\n",
    "    total_selection_count = 0\n",
    "    selection_in_summary_count = 0\n",
    "    total_summary_count = 0\n",
    "    for key, value in intent_stats_dic.items():\n",
    "        total_selection_count += value['selection']\n",
    "        selection_in_summary_count += value['both']\n",
    "        total_summary_count += value['summary']\n",
    "    # print(total_selection_count, total_summary_count)\n",
    "    recall = selection_in_summary_count / total_selection_count\n",
    "    precision = selection_in_summary_count/total_summary_count\n",
    "    f1score = calculate_f1_score(recall, precision)\n",
    "    return f1score, recall, precision"
   ]
  },
  {
   "cell_type": "code",
   "execution_count": 1225,
   "metadata": {},
   "outputs": [],
   "source": [
    "# ANNOTATED_FILE = \"output/gpt-3_5-turbo-games/annotated/evaluation/guessing_annotations/refine_con_intent_following_without_intents_100_guessing_sy (1).csv\"\n",
    "# ANNOTATED_FILE = \"output/gpt-3_5-turbo-games/annotated/evaluation/guessing_annotations/refine_con_intent_following_without_intents_100_javin.csv\"\n",
    "# ANNOTATED_FILE = \"output/gpt-3_5-turbo-games/annotated/evaluation/guessing_annotations/refine_con_intent_following_without_intents_100_guessing_Final.csv\"\n",
    "# gpt 4\n",
    "ANNOTATED_FILE = \"output/gpt-4-games/annotated/evaluation/guessing_annotations/intent_guessing_gpt4_without_intents_50_Ziyi.csv\"\n",
    "# ANNOTATED_FILE = \"output/gpt-4-games/annotated/evaluation/guessing_annotations/intent_guessing_gpt4_without_intents_50_javin.csv\"\n",
    "# ANNOTATED_FILE = \"output/gpt-4-games/annotated/evaluation/guessing_annotations/intent_guessing_gpt4_without_intents_50_Abhi.csv\""
   ]
  },
  {
   "cell_type": "code",
   "execution_count": 1226,
   "metadata": {},
   "outputs": [
    {
     "data": {
      "text/html": [
       "<div>\n",
       "<style scoped>\n",
       "    .dataframe tbody tr th:only-of-type {\n",
       "        vertical-align: middle;\n",
       "    }\n",
       "\n",
       "    .dataframe tbody tr th {\n",
       "        vertical-align: top;\n",
       "    }\n",
       "\n",
       "    .dataframe thead th {\n",
       "        text-align: right;\n",
       "    }\n",
       "</style>\n",
       "<table border=\"1\" class=\"dataframe\">\n",
       "  <thead>\n",
       "    <tr style=\"text-align: right;\">\n",
       "      <th></th>\n",
       "      <th>id</th>\n",
       "      <th>context</th>\n",
       "      <th>speak</th>\n",
       "      <th>Unnamed: 3</th>\n",
       "    </tr>\n",
       "  </thead>\n",
       "  <tbody>\n",
       "    <tr>\n",
       "      <th>0</th>\n",
       "      <td>game_2024-03-29-12-52-20-player3-4</td>\n",
       "      <td>**Name**: Player4\\n\\n**Role**: Servant\\n\\n**Ro...</td>\n",
       "      <td>Team, our previous quest outcomes must guide o...</td>\n",
       "      <td>Question the leader why they selected a partic...</td>\n",
       "    </tr>\n",
       "    <tr>\n",
       "      <th>1</th>\n",
       "      <td>game_2024-03-29-1-59-14-player4-2</td>\n",
       "      <td>**Name**: Player5\\n\\n**Role**: Assassin\\n\\n**R...</td>\n",
       "      <td>Player2, I understand the need for a strong te...</td>\n",
       "      <td>Question the leader why they selected a partic...</td>\n",
       "    </tr>\n",
       "    <tr>\n",
       "      <th>2</th>\n",
       "      <td>game_2024-03-29-1-27-24-player5-3</td>\n",
       "      <td>**Name**: Player1\\n\\n**Role**: Assassin\\n\\n**R...</td>\n",
       "      <td>Player3, I find it risky to include a member f...</td>\n",
       "      <td>express disagreement and vote disagree only if...</td>\n",
       "    </tr>\n",
       "    <tr>\n",
       "      <th>3</th>\n",
       "      <td>game_2024-03-29-0-16-48-player2-4</td>\n",
       "      <td>**Name**: Player3\\n\\n**Role**: Assassin\\n\\n**R...</td>\n",
       "      <td>While I trust Player4's judgment, the inclusio...</td>\n",
       "      <td>counter the team proposal citing that you thin...</td>\n",
       "    </tr>\n",
       "    <tr>\n",
       "      <th>4</th>\n",
       "      <td>game_2024-03-29-1-27-24-player2-3</td>\n",
       "      <td>**Name**: Player3\\n\\n**Role**: Morgana\\n\\n**Ro...</td>\n",
       "      <td>Player3's decision to include Player1 again is...</td>\n",
       "      <td>Question the leader why they selected a partic...</td>\n",
       "    </tr>\n",
       "  </tbody>\n",
       "</table>\n",
       "</div>"
      ],
      "text/plain": [
       "                                   id  \\\n",
       "0  game_2024-03-29-12-52-20-player3-4   \n",
       "1   game_2024-03-29-1-59-14-player4-2   \n",
       "2   game_2024-03-29-1-27-24-player5-3   \n",
       "3   game_2024-03-29-0-16-48-player2-4   \n",
       "4   game_2024-03-29-1-27-24-player2-3   \n",
       "\n",
       "                                             context  \\\n",
       "0  **Name**: Player4\\n\\n**Role**: Servant\\n\\n**Ro...   \n",
       "1  **Name**: Player5\\n\\n**Role**: Assassin\\n\\n**R...   \n",
       "2  **Name**: Player1\\n\\n**Role**: Assassin\\n\\n**R...   \n",
       "3  **Name**: Player3\\n\\n**Role**: Assassin\\n\\n**R...   \n",
       "4  **Name**: Player3\\n\\n**Role**: Morgana\\n\\n**Ro...   \n",
       "\n",
       "                                               speak  \\\n",
       "0  Team, our previous quest outcomes must guide o...   \n",
       "1  Player2, I understand the need for a strong te...   \n",
       "2  Player3, I find it risky to include a member f...   \n",
       "3  While I trust Player4's judgment, the inclusio...   \n",
       "4  Player3's decision to include Player1 again is...   \n",
       "\n",
       "                                          Unnamed: 3  \n",
       "0  Question the leader why they selected a partic...  \n",
       "1  Question the leader why they selected a partic...  \n",
       "2  express disagreement and vote disagree only if...  \n",
       "3  counter the team proposal citing that you thin...  \n",
       "4  Question the leader why they selected a partic...  "
      ]
     },
     "execution_count": 1226,
     "metadata": {},
     "output_type": "execute_result"
    }
   ],
   "source": [
    "guessing_annotated_df = pd.read_csv(ANNOTATED_FILE)\n",
    "guessing_annotated_df.head()"
   ]
  },
  {
   "cell_type": "code",
   "execution_count": 1227,
   "metadata": {},
   "outputs": [
    {
     "data": {
      "text/plain": [
       "'express disagreement and vote disagree only if you are not in the proposed team,Question the leader why they selected a particular player for the team'"
      ]
     },
     "execution_count": 1227,
     "metadata": {},
     "output_type": "execute_result"
    }
   ],
   "source": [
    "guessing_annotated_df['Unnamed: 3'].values[2]"
   ]
  },
  {
   "cell_type": "code",
   "execution_count": 1228,
   "metadata": {},
   "outputs": [],
   "source": [
    "# GOLD_FILE = \"output/gpt-3_5-turbo-games/annotated/evaluation/structured_context_files/refine_con_intent_following_100.csv\"\n",
    "\n",
    "# gpt 4\n",
    "GOLD_FILE = \"output/gpt-4-games/annotated/evaluation/structured_context_files/intent_guessing_gpt4_50.csv\""
   ]
  },
  {
   "cell_type": "code",
   "execution_count": 1229,
   "metadata": {},
   "outputs": [
    {
     "data": {
      "text/html": [
       "<div>\n",
       "<style scoped>\n",
       "    .dataframe tbody tr th:only-of-type {\n",
       "        vertical-align: middle;\n",
       "    }\n",
       "\n",
       "    .dataframe tbody tr th {\n",
       "        vertical-align: top;\n",
       "    }\n",
       "\n",
       "    .dataframe thead th {\n",
       "        text-align: right;\n",
       "    }\n",
       "</style>\n",
       "<table border=\"1\" class=\"dataframe\">\n",
       "  <thead>\n",
       "    <tr style=\"text-align: right;\">\n",
       "      <th></th>\n",
       "      <th>id</th>\n",
       "      <th>context</th>\n",
       "      <th>intents</th>\n",
       "      <th>speak</th>\n",
       "    </tr>\n",
       "  </thead>\n",
       "  <tbody>\n",
       "    <tr>\n",
       "      <th>0</th>\n",
       "      <td>game_2024-03-29-12-52-20-player3-4</td>\n",
       "      <td>**Name**: Player4\\n\\n**Role**: Servant\\n\\n**Ro...</td>\n",
       "      <td>['question a player on why he didnt vote for t...</td>\n",
       "      <td>Team, our previous quest outcomes must guide o...</td>\n",
       "    </tr>\n",
       "    <tr>\n",
       "      <th>1</th>\n",
       "      <td>game_2024-03-29-1-59-14-player4-2</td>\n",
       "      <td>**Name**: Player5\\n\\n**Role**: Assassin\\n\\n**R...</td>\n",
       "      <td>['question the leader why they selected a part...</td>\n",
       "      <td>Player2, I understand the need for a strong te...</td>\n",
       "    </tr>\n",
       "    <tr>\n",
       "      <th>2</th>\n",
       "      <td>game_2024-03-29-1-27-24-player5-3</td>\n",
       "      <td>**Name**: Player1\\n\\n**Role**: Assassin\\n\\n**R...</td>\n",
       "      <td>['question the leader why they selected a part...</td>\n",
       "      <td>Player3, I find it risky to include a member f...</td>\n",
       "    </tr>\n",
       "    <tr>\n",
       "      <th>3</th>\n",
       "      <td>game_2024-03-29-0-16-48-player2-4</td>\n",
       "      <td>**Name**: Player3\\n\\n**Role**: Assassin\\n\\n**R...</td>\n",
       "      <td>['defend yourself against allegations that you...</td>\n",
       "      <td>While I trust Player4's judgment, the inclusio...</td>\n",
       "    </tr>\n",
       "    <tr>\n",
       "      <th>4</th>\n",
       "      <td>game_2024-03-29-1-27-24-player2-3</td>\n",
       "      <td>**Name**: Player3\\n\\n**Role**: Morgana\\n\\n**Ro...</td>\n",
       "      <td>['question the leader why they selected a part...</td>\n",
       "      <td>Player3's decision to include Player1 again is...</td>\n",
       "    </tr>\n",
       "  </tbody>\n",
       "</table>\n",
       "</div>"
      ],
      "text/plain": [
       "                                   id  \\\n",
       "0  game_2024-03-29-12-52-20-player3-4   \n",
       "1   game_2024-03-29-1-59-14-player4-2   \n",
       "2   game_2024-03-29-1-27-24-player5-3   \n",
       "3   game_2024-03-29-0-16-48-player2-4   \n",
       "4   game_2024-03-29-1-27-24-player2-3   \n",
       "\n",
       "                                             context  \\\n",
       "0  **Name**: Player4\\n\\n**Role**: Servant\\n\\n**Ro...   \n",
       "1  **Name**: Player5\\n\\n**Role**: Assassin\\n\\n**R...   \n",
       "2  **Name**: Player1\\n\\n**Role**: Assassin\\n\\n**R...   \n",
       "3  **Name**: Player3\\n\\n**Role**: Assassin\\n\\n**R...   \n",
       "4  **Name**: Player3\\n\\n**Role**: Morgana\\n\\n**Ro...   \n",
       "\n",
       "                                             intents  \\\n",
       "0  ['question a player on why he didnt vote for t...   \n",
       "1  ['question the leader why they selected a part...   \n",
       "2  ['question the leader why they selected a part...   \n",
       "3  ['defend yourself against allegations that you...   \n",
       "4  ['question the leader why they selected a part...   \n",
       "\n",
       "                                               speak  \n",
       "0  Team, our previous quest outcomes must guide o...  \n",
       "1  Player2, I understand the need for a strong te...  \n",
       "2  Player3, I find it risky to include a member f...  \n",
       "3  While I trust Player4's judgment, the inclusio...  \n",
       "4  Player3's decision to include Player1 again is...  "
      ]
     },
     "execution_count": 1229,
     "metadata": {},
     "output_type": "execute_result"
    }
   ],
   "source": [
    "guessing_gold_df = pd.read_csv(GOLD_FILE)\n",
    "guessing_gold_df.head()"
   ]
  },
  {
   "cell_type": "code",
   "execution_count": 1230,
   "metadata": {},
   "outputs": [],
   "source": [
    "def clean_annotation(annotation):\n",
    "    if (type(annotation) != str):\n",
    "        return ''\n",
    "    split_intents = re.split(r\"\\d[.]+|\\n\", annotation)\n",
    "    guessed_intents = []\n",
    "    for line in split_intents:\n",
    "        if len(line) > 10:\n",
    "            processed_intent = remove_non_alphabets(line.strip())\n",
    "            guessed_intents.append(processed_intent)\n",
    "\n",
    "    # summarized_intents = [remove_non_alphabets(intent.split('. ')[-1]) for intent in r[1].split('\\n')]\n",
    "    guessed_intents_final = []\n",
    "    for intent in guessed_intents:\n",
    "        split_intents = intent.strip().split(\"  \")\n",
    "        split_intents = [i.strip() for i in split_intents]\n",
    "        guessed_intents_final.extend(split_intents)\n",
    "\n",
    "    return ','.join(guessed_intents_final)"
   ]
  },
  {
   "cell_type": "code",
   "execution_count": 1231,
   "metadata": {},
   "outputs": [],
   "source": [
    "def clean_annotation_v2(annotation):\n",
    "    if (type(annotation) != str):\n",
    "        return ''\n",
    "    split_intents = re.split(',', annotation)\n",
    "    guessed_intents = []\n",
    "    for line in split_intents:\n",
    "        if len(line) > 10:\n",
    "            processed_intent = remove_non_alphabets(line.strip())\n",
    "            guessed_intents.append(processed_intent)\n",
    "\n",
    "    # summarized_intents = [remove_non_alphabets(intent.split('. ')[-1]) for intent in r[1].split('\\n')]\n",
    "    # guessed_intents_final = []\n",
    "    # for intent in guessed_intents:\n",
    "    #     split_intents = intent.strip().split(\"  \")\n",
    "    #     split_intents = [i.strip() for i in split_intents]\n",
    "    #     guessed_intents_final.extend(split_intents)\n",
    "\n",
    "    return ','.join(guessed_intents)"
   ]
  },
  {
   "cell_type": "code",
   "execution_count": 1232,
   "metadata": {},
   "outputs": [
    {
     "data": {
      "text/html": [
       "<div>\n",
       "<style scoped>\n",
       "    .dataframe tbody tr th:only-of-type {\n",
       "        vertical-align: middle;\n",
       "    }\n",
       "\n",
       "    .dataframe tbody tr th {\n",
       "        vertical-align: top;\n",
       "    }\n",
       "\n",
       "    .dataframe thead th {\n",
       "        text-align: right;\n",
       "    }\n",
       "</style>\n",
       "<table border=\"1\" class=\"dataframe\">\n",
       "  <thead>\n",
       "    <tr style=\"text-align: right;\">\n",
       "      <th></th>\n",
       "      <th>id</th>\n",
       "      <th>context</th>\n",
       "      <th>speak</th>\n",
       "      <th>Unnamed: 3</th>\n",
       "      <th>guessed_intents</th>\n",
       "    </tr>\n",
       "  </thead>\n",
       "  <tbody>\n",
       "    <tr>\n",
       "      <th>0</th>\n",
       "      <td>game_2024-03-29-12-52-20-player3-4</td>\n",
       "      <td>**Name**: Player4\\n\\n**Role**: Servant\\n\\n**Ro...</td>\n",
       "      <td>Team, our previous quest outcomes must guide o...</td>\n",
       "      <td>Question the leader why they selected a partic...</td>\n",
       "      <td>question the leader why they selected a partic...</td>\n",
       "    </tr>\n",
       "    <tr>\n",
       "      <th>1</th>\n",
       "      <td>game_2024-03-29-1-59-14-player4-2</td>\n",
       "      <td>**Name**: Player5\\n\\n**Role**: Assassin\\n\\n**R...</td>\n",
       "      <td>Player2, I understand the need for a strong te...</td>\n",
       "      <td>Question the leader why they selected a partic...</td>\n",
       "      <td>question the leader why they selected a partic...</td>\n",
       "    </tr>\n",
       "    <tr>\n",
       "      <th>2</th>\n",
       "      <td>game_2024-03-29-1-27-24-player5-3</td>\n",
       "      <td>**Name**: Player1\\n\\n**Role**: Assassin\\n\\n**R...</td>\n",
       "      <td>Player3, I find it risky to include a member f...</td>\n",
       "      <td>express disagreement and vote disagree only if...</td>\n",
       "      <td>express disagreement and vote disagree only if...</td>\n",
       "    </tr>\n",
       "    <tr>\n",
       "      <th>3</th>\n",
       "      <td>game_2024-03-29-0-16-48-player2-4</td>\n",
       "      <td>**Name**: Player3\\n\\n**Role**: Assassin\\n\\n**R...</td>\n",
       "      <td>While I trust Player4's judgment, the inclusio...</td>\n",
       "      <td>counter the team proposal citing that you thin...</td>\n",
       "      <td>counter the team proposal citing that you thin...</td>\n",
       "    </tr>\n",
       "    <tr>\n",
       "      <th>4</th>\n",
       "      <td>game_2024-03-29-1-27-24-player2-3</td>\n",
       "      <td>**Name**: Player3\\n\\n**Role**: Morgana\\n\\n**Ro...</td>\n",
       "      <td>Player3's decision to include Player1 again is...</td>\n",
       "      <td>Question the leader why they selected a partic...</td>\n",
       "      <td>question the leader why they selected a partic...</td>\n",
       "    </tr>\n",
       "  </tbody>\n",
       "</table>\n",
       "</div>"
      ],
      "text/plain": [
       "                                   id  \\\n",
       "0  game_2024-03-29-12-52-20-player3-4   \n",
       "1   game_2024-03-29-1-59-14-player4-2   \n",
       "2   game_2024-03-29-1-27-24-player5-3   \n",
       "3   game_2024-03-29-0-16-48-player2-4   \n",
       "4   game_2024-03-29-1-27-24-player2-3   \n",
       "\n",
       "                                             context  \\\n",
       "0  **Name**: Player4\\n\\n**Role**: Servant\\n\\n**Ro...   \n",
       "1  **Name**: Player5\\n\\n**Role**: Assassin\\n\\n**R...   \n",
       "2  **Name**: Player1\\n\\n**Role**: Assassin\\n\\n**R...   \n",
       "3  **Name**: Player3\\n\\n**Role**: Assassin\\n\\n**R...   \n",
       "4  **Name**: Player3\\n\\n**Role**: Morgana\\n\\n**Ro...   \n",
       "\n",
       "                                               speak  \\\n",
       "0  Team, our previous quest outcomes must guide o...   \n",
       "1  Player2, I understand the need for a strong te...   \n",
       "2  Player3, I find it risky to include a member f...   \n",
       "3  While I trust Player4's judgment, the inclusio...   \n",
       "4  Player3's decision to include Player1 again is...   \n",
       "\n",
       "                                          Unnamed: 3  \\\n",
       "0  Question the leader why they selected a partic...   \n",
       "1  Question the leader why they selected a partic...   \n",
       "2  express disagreement and vote disagree only if...   \n",
       "3  counter the team proposal citing that you thin...   \n",
       "4  Question the leader why they selected a partic...   \n",
       "\n",
       "                                     guessed_intents  \n",
       "0  question the leader why they selected a partic...  \n",
       "1  question the leader why they selected a partic...  \n",
       "2  express disagreement and vote disagree only if...  \n",
       "3  counter the team proposal citing that you thin...  \n",
       "4  question the leader why they selected a partic...  "
      ]
     },
     "execution_count": 1232,
     "metadata": {},
     "output_type": "execute_result"
    }
   ],
   "source": [
    "# guessing_annotated_df['guessed_intents'] = guessing_annotated_df['Unnamed: 3'].apply(lambda x: clean_annotation(x))\n",
    "# gpt 4 javin\n",
    "guessing_annotated_df['guessed_intents'] = guessing_annotated_df['Unnamed: 3'].apply(lambda x: clean_annotation_v2(x))\n",
    "guessing_annotated_df.head()"
   ]
  },
  {
   "cell_type": "code",
   "execution_count": 1233,
   "metadata": {},
   "outputs": [
    {
     "data": {
      "text/plain": [
       "50"
      ]
     },
     "execution_count": 1233,
     "metadata": {},
     "output_type": "execute_result"
    }
   ],
   "source": [
    "guessing_gold_data = guessing_gold_df[['id', 'intents']].values.tolist()\n",
    "guessing_gold_data_dic = {key: literal_eval(intents) for key, intents in guessing_gold_data}\n",
    "len(guessing_gold_data_dic)"
   ]
  },
  {
   "cell_type": "code",
   "execution_count": 1234,
   "metadata": {},
   "outputs": [
    {
     "data": {
      "text/plain": [
       "array(['question the leader why they selected a particular player for the team,question a player on why he didnt vote for the last team',\n",
       "       'question the leader why they selected a particular player for the team',\n",
       "       'express disagreement and vote disagree only if you are not in the proposed team,question the leader why they selected a particular player for the team',\n",
       "       'counter the team proposal citing that you think a player on the team is evil,defend yourself against allegations that you could be evil,express concerns about a player from a failed quest team and suggest to remove them from current team',\n",
       "       'question the leader why they selected a particular player for the team,defend the proposed team composition if it includes loyal players'],\n",
       "      dtype=object)"
      ]
     },
     "execution_count": 1234,
     "metadata": {},
     "output_type": "execute_result"
    }
   ],
   "source": [
    "guessing_annotated_df['guessed_intents'].values[:5]"
   ]
  },
  {
   "cell_type": "code",
   "execution_count": 1235,
   "metadata": {},
   "outputs": [
    {
     "data": {
      "text/plain": [
       "50"
      ]
     },
     "execution_count": 1235,
     "metadata": {},
     "output_type": "execute_result"
    }
   ],
   "source": [
    "guessing_annotated_df = guessing_annotated_df.dropna(subset=[\"id\"])\n",
    "len(guessing_annotated_df)"
   ]
  },
  {
   "cell_type": "code",
   "execution_count": 1236,
   "metadata": {},
   "outputs": [],
   "source": [
    "annotation_results = guessing_annotated_df[['id', 'guessed_intents']].values.tolist()\n",
    "annotated_samples = []\n",
    "missing_count = 0\n",
    "for r in annotation_results:\n",
    "    if r[0] not in guessing_gold_data_dic:\n",
    "        missing_count += 1\n",
    "        continue\n",
    "    data = {}\n",
    "    data['id'] = r[0]\n",
    "    data['intents'] = guessing_gold_data_dic[r[0]]\n",
    "    data['guessed_intents'] = r[1].split(',')\n",
    "    annotated_samples.append(data)"
   ]
  },
  {
   "cell_type": "code",
   "execution_count": 1237,
   "metadata": {},
   "outputs": [
    {
     "data": {
      "text/plain": [
       "0"
      ]
     },
     "execution_count": 1237,
     "metadata": {},
     "output_type": "execute_result"
    }
   ],
   "source": [
    "missing_count"
   ]
  },
  {
   "cell_type": "code",
   "execution_count": 1238,
   "metadata": {},
   "outputs": [
    {
     "data": {
      "text/plain": [
       "{'id': 'game_2024-03-29-1-27-24-player4-3',\n",
       " 'intents': ['question the leader why they selected a particular player for the team',\n",
       "  'express concerns about a player from a failed quest team and suggest to not include them in current team',\n",
       "  'counter the team proposal because you think a player on the team is evil'],\n",
       " 'guessed_intents': ['question the leader why they selected a particular player for the team',\n",
       "  'express concerns about a player from a failed quest team and suggest to remove them from current team',\n",
       "  'support loyal players of the previous quest team if the mission failed']}"
      ]
     },
     "execution_count": 1238,
     "metadata": {},
     "output_type": "execute_result"
    }
   ],
   "source": [
    "annotated_samples[10]"
   ]
  },
  {
   "cell_type": "code",
   "execution_count": 1239,
   "metadata": {},
   "outputs": [],
   "source": [
    "results = []\n",
    "for sample in annotated_samples:\n",
    "    if 'guessed_intents' not in sample:\n",
    "        continue\n",
    "    intents = [remove_non_alphabets(intent) for intent in sample['intents']]\n",
    "    intents = [similar_intent_map[intent] for intent in intents if intent in similar_intent_map]\n",
    "    summarized_intents = [remove_non_alphabets(intent) for intent in sample['guessed_intents'] if intent != '']\n",
    "    \n",
    "    results.append({'guessed_intents': summarized_intents, 'intents': intents})"
   ]
  },
  {
   "cell_type": "code",
   "execution_count": 1240,
   "metadata": {},
   "outputs": [
    {
     "data": {
      "text/plain": [
       "{'guessed_intents': ['support team proposal',\n",
       "  'defend your teammate against allegations that they could be evil'],\n",
       " 'intents': ['support team proposal',\n",
       "  'support your teammate by expressing that he is good',\n",
       "  'stay hidden in discussions and act like a loyal servant to protect yourself']}"
      ]
     },
     "execution_count": 1240,
     "metadata": {},
     "output_type": "execute_result"
    }
   ],
   "source": [
    "results[45]"
   ]
  },
  {
   "cell_type": "code",
   "execution_count": 1241,
   "metadata": {},
   "outputs": [
    {
     "data": {
      "text/plain": [
       "(115, 146)"
      ]
     },
     "execution_count": 1241,
     "metadata": {},
     "output_type": "execute_result"
    }
   ],
   "source": [
    "count1, count2 = 0, 0\n",
    "for r in results:\n",
    "    count1 += len(r['guessed_intents'])\n",
    "    count2 += len(r['intents'])\n",
    "count1, count2"
   ]
  },
  {
   "cell_type": "code",
   "execution_count": 1242,
   "metadata": {},
   "outputs": [
    {
     "data": {
      "text/plain": [
       "{'guessed_intents': ['question the leader why they selected a particular player for the team'],\n",
       " 'intents': ['question the leader why they selected a particular player for the team',\n",
       "  'counter the team proposal citing that you think a player on the team is evil',\n",
       "  'express concerns about a player from a failed quest team and suggest to remove them from current team']}"
      ]
     },
     "execution_count": 1242,
     "metadata": {},
     "output_type": "execute_result"
    }
   ],
   "source": [
    "results[1]"
   ]
  },
  {
   "cell_type": "code",
   "execution_count": 1243,
   "metadata": {},
   "outputs": [],
   "source": [
    "intent_stats_dic = {}\n",
    "for res in results:\n",
    "    calc_intent_stats(res['guessed_intents'], res['intents'])"
   ]
  },
  {
   "cell_type": "code",
   "execution_count": 1244,
   "metadata": {},
   "outputs": [],
   "source": [
    "total_selection_count = 0\n",
    "selection_in_summary_count = 0\n",
    "total_summary_count = 0\n",
    "for key, value in intent_stats_dic.items():\n",
    "    total_selection_count += value['selection']\n",
    "    selection_in_summary_count += value['both']\n",
    "    total_summary_count += value['summary']"
   ]
  },
  {
   "cell_type": "code",
   "execution_count": 1245,
   "metadata": {},
   "outputs": [
    {
     "data": {
      "text/plain": [
       "0.6027397260273972"
      ]
     },
     "execution_count": 1245,
     "metadata": {},
     "output_type": "execute_result"
    }
   ],
   "source": [
    "recall = selection_in_summary_count / total_selection_count\n",
    "recall"
   ]
  },
  {
   "cell_type": "code",
   "execution_count": 1246,
   "metadata": {},
   "outputs": [
    {
     "data": {
      "text/plain": [
       "0.7652173913043478"
      ]
     },
     "execution_count": 1246,
     "metadata": {},
     "output_type": "execute_result"
    }
   ],
   "source": [
    "precision = selection_in_summary_count/total_summary_count\n",
    "precision"
   ]
  },
  {
   "cell_type": "code",
   "execution_count": 1247,
   "metadata": {},
   "outputs": [
    {
     "data": {
      "text/plain": [
       "0.6743295019157087"
      ]
     },
     "execution_count": 1247,
     "metadata": {},
     "output_type": "execute_result"
    }
   ],
   "source": [
    "calculate_f1_score(recall, precision)"
   ]
  },
  {
   "cell_type": "markdown",
   "metadata": {},
   "source": [
    "### round wise"
   ]
  },
  {
   "cell_type": "code",
   "execution_count": 1248,
   "metadata": {},
   "outputs": [],
   "source": [
    "samples_list = []\n",
    "total_sel = 0\n",
    "total_guessed = 0\n",
    "for s in annotated_samples:\n",
    "    if 'guessed_intents' in s:\n",
    "        total_sel += len(s['intents'])\n",
    "        total_guessed += len(s['guessed_intents'])\n",
    "        samples_list.append([s['id'], s['intents'], s['guessed_intents']])"
   ]
  },
  {
   "cell_type": "code",
   "execution_count": 1249,
   "metadata": {},
   "outputs": [
    {
     "data": {
      "text/plain": [
       "5"
      ]
     },
     "execution_count": 1249,
     "metadata": {},
     "output_type": "execute_result"
    }
   ],
   "source": [
    "rounds = defaultdict(list)\n",
    "for item in samples_list:\n",
    "    round_no = int(item[0].split('-')[-1])%10\n",
    "    rounds[round_no].append(item)\n",
    "len(rounds)"
   ]
  },
  {
   "cell_type": "code",
   "execution_count": 1250,
   "metadata": {},
   "outputs": [
    {
     "name": "stdout",
     "output_type": "stream",
     "text": [
      "Round: 1 => f1score=0.67\n",
      "Round: 2 => f1score=0.64\n",
      "Round: 3 => f1score=0.67\n",
      "Round: 4 => f1score=0.78\n",
      "Round: 5 => f1score=0.50\n"
     ]
    }
   ],
   "source": [
    "for rnd in sorted(rounds.keys()):\n",
    "    intent_stats_dic = {}\n",
    "    f1score, recall, precision = get_results(rounds[rnd])\n",
    "    f1score, recall, precision = f1score, recall*100, precision*100\n",
    "    # print(f\"Round: {rnd} => {f1score=:.2f} {recall=:.2f} {precision=:.2f}\")\n",
    "    print(f\"Round: {rnd} => {f1score=:.2f}\")"
   ]
  },
  {
   "cell_type": "markdown",
   "metadata": {},
   "source": [
    "GPT 3.5 \n",
    "\n",
    "Deepayan(final file) = f1 = 0.6193, recall = 0.5745, precision = 0.6717\n",
    "\n",
    "1. Round: 1 => f1score=0.62\n",
    "2. Round: 2 => f1score=0.61\n",
    "3. Round: 3 => f1score=0.65\n",
    "4. Round: 4 => f1score=0.60\n",
    "\n",
    "Javin = f1 = 0.5772, recall = 0.5, precision = 0.6826\n",
    "\n",
    "1. Round: 1 => f1score=0.61\n",
    "2. Round: 2 => f1score=0.54\n",
    "3. Round: 3 => f1score=0.53\n",
    "4. Round: 4 => f1score=0.64\n",
    "\n",
    "Sy = f1 = 0.6439, recall = 0.5789, precision = 0.7252\n",
    "\n",
    "1. Round: 1 => f1score=0.62\n",
    "2. Round: 2 => f1score=0.63\n",
    "3. Round: 3 => f1score=0.68\n",
    "4. Round: 4 => f1score=0.64\n",
    "\n",
    "std = 0.0275\n",
    "\n",
    "Avg = 0.6134\n",
    "\n",
    "Round 1 = 0.62, 004\n",
    "Round 2 = 0.59, 0.03\n",
    "Round 3 = 0.62, 0.06\n",
    "Round 4 = 0.63, 0.02"
   ]
  },
  {
   "cell_type": "markdown",
   "metadata": {},
   "source": [
    "Gpt 4 guessing javing results on 50 samples = f1 = 0.5826, recall = 0.4589, precision = 0.7976 <br/>\n",
    "GPt 4 guessing Ziyi results on 50 samples = f1 = 0.6743, recall = 0.6027, precision = 0.7652<br/>\n",
    "GPt 4 guessing Abhi results on 50 samples = f1 = 0.70, recall = 0.6712, precision = 0.7313\n",
    "\n",
    "std = 0.0503\n",
    "\n",
    "Javin\n",
    "\n",
    "1. Round: 1 => f1score=0.67\n",
    "2. Round: 2 => f1score=0.56\n",
    "3. Round: 3 => f1score=0.55\n",
    "4. Round: 4 => f1score=0.57\n",
    "5. Round: 5 => f1score=0.67\n",
    "\n",
    "\n",
    "Ziyi\n",
    "\n",
    "1. Round: 1 => f1score=0.67\n",
    "2. Round: 2 => f1score=0.64\n",
    "3. Round: 3 => f1score=0.67\n",
    "4. Round: 4 => f1score=0.78\n",
    "5. Round: 5 => f1score=0.50\n",
    "\n",
    "Abhishek\n",
    "\n",
    "1. Round: 1 => f1score=0.74\n",
    "2. Round: 2 => f1score=0.75\n",
    "3. Round: 3 => f1score=0.84\n",
    "4. Round: 4 => f1score=0.86\n",
    "5. Round: 5 => f1score=0.62\n",
    "\n",
    "Avg = \n",
    "\n",
    "Round 1 = 0.67, 0.0\n",
    "Round 2 = 0.60, 0.04\n",
    "Round 3 = 0.61, 0.06\n",
    "Round 4 = 0.67, 0.10\n",
    "Round 5 = 0.58, 0.08"
   ]
  },
  {
   "cell_type": "markdown",
   "metadata": {},
   "source": [
    "# Model results"
   ]
  },
  {
   "cell_type": "code",
   "execution_count": 12,
   "metadata": {},
   "outputs": [],
   "source": [
    "# RESULTS_FILE = \"output/gpt-4-games/annotated/evaluation/guessing_model_results/intent_guessing_all_reflective_gpt_3_5_results.json\"\n",
    "RESULTS_FILE = \"output/gpt-3_5-turbo-games/annotated/evaluation_our_annotations/guessing_model_results/intent_guessing_second_order_5_games_results.json\""
   ]
  },
  {
   "cell_type": "code",
   "execution_count": 19,
   "metadata": {},
   "outputs": [],
   "source": [
    "FIRST_ORDER_RESULTS_FILE = 'output/gpt-3_5-turbo-games/annotated/evaluation_our_annotations/guessing_model_results/intent_guessing_results.json'"
   ]
  },
  {
   "cell_type": "code",
   "execution_count": 13,
   "metadata": {},
   "outputs": [],
   "source": [
    "with open(RESULTS_FILE) as f:\n",
    "    data = json.load(f)\n",
    "samples = list(data.values())"
   ]
  },
  {
   "cell_type": "code",
   "execution_count": 20,
   "metadata": {},
   "outputs": [],
   "source": [
    "with open(FIRST_ORDER_RESULTS_FILE) as f:\n",
    "    first_order_data = json.load(f)"
   ]
  },
  {
   "cell_type": "code",
   "execution_count": 22,
   "metadata": {},
   "outputs": [],
   "source": [
    "for sample in samples:\n",
    "    first_order_intents = first_order_data[sample['id']]['guessed_intents']\n",
    "    sample['first_order_intents'] = first_order_intents"
   ]
  },
  {
   "cell_type": "code",
   "execution_count": 23,
   "metadata": {},
   "outputs": [
    {
     "data": {
      "text/plain": [
       "{'id': 'game_2024-03-06-16-53-2-player5-3',\n",
       " 'context': \"**Name**: Player5\\n\\n**Role**: Merlin\\n\\n**Role Details**: \\nYou are Merlin. These are your goals and characteristics: \\n- Know the identities of evil players.\\n- Subtly guide your team, especially Percival.\\n- Avoid behaviours that expose your role: overly accusing, being too helpful.\\n- Goal(Main Intent): Win without revealing identity.\\n\\n**Round**: 3\\n\\n**Player Name**: Player4\\n\\n**Current Leader**: Player3\\n\\n**Current Team**: Player1, Player2\\n\\n**Previous Rounds Team Voting**:\\nRound 1: Player1 = agree, Player2 = agree, Player3 = disagree, Player4 = agree, Player5 = disagree \\nRound 2: Player1 = disagree, Player2 = agree, Player3 = disagree, Player4 = agree, Player5 = agree \\nRound 3: Player1 = agree, Player2 = disagree, Player3 = agree, Player4 = agree, Player5 = disagree \\n\\n**Previous Results**: \\nRound 1: Team = Player1, Player2, Result = success\\nRound 2: Team = Player1, Player4, Player5, Result = success\\n\\n**Previous Rounds Summary**:\\nSummary questions: \\n\\nWho was the leader for this round?\\nWhat was the proposed team for this round?\\nWhy do you think the leader proposed the current team?\\nDid everyone agree for the proposed team?\\nIf some people disagreed, why do you think they disagreed?\\nWas the quest successful?\\nIf the quest was successful, was any evil player part of the team? If yes, then why did they vote success?\\nIf the quest failed, how do you plan to protect the evil player in the next round?\\nWhat do the evil side need to do from here to win the game?\\n\\nRound 1 : \\nWho was the leader for this round? - Player1\\nWhat was the proposed team for this round? - Player1, Player2\\nWhy do you think the leader proposed the current team? - Player1 proposed the team as they believed Player2 and Player4 were trustworthy and could contribute effectively.\\nDid everyone agree for the proposed team? - No, Player5 disagreed.\\nIf some people disagreed, why do you think they disagreed? - Player5 had concerns about Player1 being on the team.\\nWas the quest successful? - Yes, the quest was successful.\\nIf the quest was successful, do you think the quest had some evil players? If yes, then who do you think was it? - No, as Merlin, Player1 and Player3 are the evil players.\\nWhat do the loyal side need to do from here to win the game? - The loyal side needs to continue working together, analyzing player actions, and ensuring successful quests to win the game.\\n \\n\\nRound 2 : \\nWho was the leader for this round? - Player2\\nWhat was the proposed team for this round? - Player1, Player4, Player5\\nWhy do you think the leader proposed the current team? - Player2 believed that the proposed team of Player1, Player4, and Player5 would maximize their chances of victory.\\nDid everyone agree for the proposed team? - No, Player1 and Player3 disagreed.\\nIf some people disagreed, why do you think they disagreed? - Player1 and Player3 had concerns about the team composition.\\nWas the quest successful? - Yes, the quest was successful.\\nIf the quest was successful, do you think the quest had some evil players? If yes, then who do you think was it? - No, as Merlin, Player1 and Player3 are the evil players.\\nWhat do the loyal side need to do from here to win the game? - The loyal side needs to continue ensuring successful quests to reach the victory condition.\\n \\n\\n\\n**Previous Discussions(in the current round)**: \\nPlayer3: I propose selecting Player1 and Player2 for this quest. Both have shown dedication and trustworthiness in previous rounds.\\nPlayer4: Player3, why didn't you vote for the last team? I have concerns about including the player from the failed quest, but I support the proposed team for this round.\\n\",\n",
       " 'intents': ['question the leader why they selected a particular player for the team',\n",
       "  'express concerns about a player from a failed quest team and suggest to not include them in the current team',\n",
       "  'support team proposal'],\n",
       " 'think': \"I need to subtly guide the team and Percival by questioning the leader's team selection and expressing concerns about including a player from a failed quest. I must support the proposed team to maintain trust and cooperation.\",\n",
       " 'speak': 'Player3, could you explain why you selected Player1 and Player2 for the team? I have concerns about including a player from a failed quest, so perhaps we should reconsider that choice. However, I support the proposed team and believe we can work well together to succeed in this quest.',\n",
       " 'guessed_intents': ['express concerns about an evil player',\n",
       "  'question the leader why they selected a particular player for the team'],\n",
       " 'first_order_intents': ['Propose a team with potential Merlin to gather information',\n",
       "  'Defend teammate against suspicion']}"
      ]
     },
     "execution_count": 23,
     "metadata": {},
     "output_type": "execute_result"
    }
   ],
   "source": [
    "samples[6]"
   ]
  },
  {
   "cell_type": "code",
   "execution_count": 24,
   "metadata": {},
   "outputs": [],
   "source": [
    "samples_list = []\n",
    "total_sel = 0\n",
    "total_guessed = 0\n",
    "for s in samples:\n",
    "    if 'guessed_intents' in s:\n",
    "        total_sel += len(s['first_order_intents'])\n",
    "        total_guessed += len(s['guessed_intents'])\n",
    "        samples_list.append([s['id'], s['first_order_intents'], s['guessed_intents']])"
   ]
  },
  {
   "cell_type": "code",
   "execution_count": 25,
   "metadata": {},
   "outputs": [
    {
     "data": {
      "text/plain": [
       "(188, 179)"
      ]
     },
     "execution_count": 25,
     "metadata": {},
     "output_type": "execute_result"
    }
   ],
   "source": [
    "total_sel, total_guessed"
   ]
  },
  {
   "cell_type": "code",
   "execution_count": 26,
   "metadata": {},
   "outputs": [
    {
     "name": "stdout",
     "output_type": "stream",
     "text": [
      "179\n",
      "45\n"
     ]
    },
    {
     "data": {
      "text/plain": [
       "3"
      ]
     },
     "execution_count": 26,
     "metadata": {},
     "output_type": "execute_result"
    }
   ],
   "source": [
    "uniq_sum_intents = []\n",
    "for ann in samples_list:\n",
    "    for intent in ann[2]:\n",
    "        intent = remove_non_alphabets(intent)\n",
    "        uniq_sum_intents.append(intent)\n",
    "\n",
    "print(len(uniq_sum_intents))\n",
    "uniq_sum_intents1 = set(uniq_sum_intents)\n",
    "print(len(uniq_sum_intents1))\n",
    "\n",
    "count = 0\n",
    "st_count = 0\n",
    "rephrased_intents = set()\n",
    "for intent in uniq_sum_intents:\n",
    "    if intent not in similar_intent_map:\n",
    "        count += 1\n",
    "        rephrased_intents.add(intent)\n",
    "count"
   ]
  },
  {
   "cell_type": "code",
   "execution_count": 27,
   "metadata": {},
   "outputs": [
    {
     "data": {
      "application/vnd.jupyter.widget-view+json": {
       "model_id": "4c89897e43ae48119e80ff6289567421",
       "version_major": 2,
       "version_minor": 0
      },
      "text/plain": [
       "  0%|          | 0/3 [00:00<?, ?it/s]"
      ]
     },
     "metadata": {},
     "output_type": "display_data"
    }
   ],
   "source": [
    "for rephrased_intent in notebook.tqdm(rephrased_intents):\n",
    "    insert_phrase(rephrased_intent)"
   ]
  },
  {
   "cell_type": "code",
   "execution_count": 28,
   "metadata": {},
   "outputs": [],
   "source": [
    "# annotated_samples = []\n",
    "# missing_count = 0\n",
    "# for r in samples_list:\n",
    "#     # if r[0] not in all_data_dic:\n",
    "#     #     missing_count += 1\n",
    "#     #     continue\n",
    "#     data = {}\n",
    "#     data['intents'] = r[1]\n",
    "#     # split_intents = r[1].split('\\n')\n",
    "#     data['guessed_intents'] = [similar_intent_map[remove_non_alphabets(intent)] for intent in r[2] if remove_non_alphabets(intent) in similar_intent_map]\n",
    "#     annotated_samples.append(data)"
   ]
  },
  {
   "cell_type": "code",
   "execution_count": 29,
   "metadata": {},
   "outputs": [
    {
     "data": {
      "text/plain": [
       "['game_2024-03-06-16-53-2-player2-2',\n",
       " ['Support loyal players',\n",
       "  'Provide hints to loyal players about evil players'],\n",
       " ['express concerns about a player from a failed quest team and suggest to not include them in the current team']]"
      ]
     },
     "execution_count": 29,
     "metadata": {},
     "output_type": "execute_result"
    }
   ],
   "source": [
    "samples_list[1]"
   ]
  },
  {
   "cell_type": "code",
   "execution_count": 30,
   "metadata": {},
   "outputs": [],
   "source": [
    "# len(annotated_samples)"
   ]
  },
  {
   "cell_type": "code",
   "execution_count": 31,
   "metadata": {},
   "outputs": [],
   "source": [
    "def calculate_f1_score(precision, recall):\n",
    "    if precision + recall == 0:\n",
    "        return 0.0\n",
    "    else:\n",
    "        return 2 * (precision * recall) / (precision + recall)"
   ]
  },
  {
   "cell_type": "code",
   "execution_count": 32,
   "metadata": {},
   "outputs": [],
   "source": [
    "impactful_intents = {\n",
    "    'cast suspicion on innocent players': True, \n",
    "    'counter the team proposal because you think a player on the team is evil': True, \n",
    "    'express concerns about a player from a failed quest team and suggest to not include them in the current team': True, \n",
    "    'express confusion for failure of mission': True, \n",
    "    'express disagreement and vote disagree only if you are not in the proposed team': True, \n",
    "    'express you are a loyal player': True, \n",
    "    'pretend to be merlin by providing hints on who is evil': True, \n",
    "    'question a player about why they changed their statements': True, \n",
    "    'question a player on why they didnt vote for the last team': True, \n",
    "    'question the leader why they selected a particular player for the team': True, \n",
    "    'reveal identity by telling others you are servant to persuade other loyal players': True, \n",
    "    'share concerns about an evil player': True, \n",
    "    'strongly convince the team leader to choose you on team': True, \n",
    "    'support loyal players of the previous quest team if the mission failed': True, \n",
    "    'support your teammate by expressing that he is good': True\n",
    "}"
   ]
  },
  {
   "cell_type": "code",
   "execution_count": 33,
   "metadata": {},
   "outputs": [],
   "source": [
    "def get_results(samples_list):\n",
    "    results = []\n",
    "    for r in samples_list:\n",
    "        intents = [remove_non_alphabets(intent) for intent in r[1]]\n",
    "        intents = [similar_intent_map[intent] for intent in intents if intent in similar_intent_map]\n",
    "        guessed_intents = [similar_intent_map[remove_non_alphabets(intent)] for intent in r[2] if remove_non_alphabets(intent) in similar_intent_map]\n",
    "        results.append({'guessed_intents': guessed_intents, 'intents': intents})\n",
    "\n",
    "    \n",
    "    for res in results:\n",
    "        calc_intent_stats(res['guessed_intents'], res['intents'])\n",
    "\n",
    "    total_selection_count = 0\n",
    "    selection_in_summary_count = 0\n",
    "    total_summary_count = 0\n",
    "    for key, value in intent_stats_dic.items():\n",
    "        total_selection_count += value['selection']\n",
    "        selection_in_summary_count += value['both']\n",
    "        total_summary_count += value['summary']\n",
    "    print(total_selection_count, total_summary_count)\n",
    "    recall = selection_in_summary_count / total_selection_count\n",
    "    precision = selection_in_summary_count/total_summary_count\n",
    "    f1score = calculate_f1_score(recall, precision)\n",
    "    return f1score, recall, precision"
   ]
  },
  {
   "cell_type": "code",
   "execution_count": 34,
   "metadata": {},
   "outputs": [],
   "source": [
    "intent_stats_dic = {}"
   ]
  },
  {
   "cell_type": "markdown",
   "metadata": {},
   "source": [
    "### Results on complete data"
   ]
  },
  {
   "cell_type": "code",
   "execution_count": 35,
   "metadata": {},
   "outputs": [
    {
     "name": "stdout",
     "output_type": "stream",
     "text": [
      "184 176\n"
     ]
    },
    {
     "data": {
      "text/plain": [
       "(0.05555555555555556, 0.05434782608695652, 0.056818181818181816)"
      ]
     },
     "execution_count": 35,
     "metadata": {},
     "output_type": "execute_result"
    }
   ],
   "source": [
    "get_results(samples_list)"
   ]
  },
  {
   "cell_type": "markdown",
   "metadata": {},
   "source": [
    "gpt 3.5 results with perspective example - (0.3009523809523809, 0.27147766323024053, 0.33760683760683763) <br/>\n",
    "gpt 3.5 results with perspective example on gpt 4 games for 50 turns - (0.15702479338842978, 0.1292517006802721, 0.2)"
   ]
  },
  {
   "cell_type": "markdown",
   "metadata": {},
   "source": [
    "### Updated results on just our annotation's files\n",
    "gpt 4 vanilla results - (0.2020, 0.1492, 0.3125) <br/>\n",
    "gpt 4 reflective results - (0.4402, 0.3482, 0.5982) <br/>\n",
    "gpt 3.5 reflective results on gpt 4 data - (0.2395, 0.1990, 0.3007)\n",
    "\n",
    "gpt 3.5 vanilla results - (0.0778, 0.0701, 0.0874) <br/>\n",
    "gpt 3.5 reflective results - (0.2973, 0.2719, 0.3280) <br/>\n",
    "gpt 4 reflective results on gpt 3.5 data - (0.3491, 0.3070, 0.4046)\n"
   ]
  },
  {
   "cell_type": "markdown",
   "metadata": {},
   "source": [
    "gpt 3.5 all vanilla = (0.31632653061224486, 0.27978339350180503, 0.36384976525821594)\n",
    "\n",
    "100 - (0.38399999999999995, 0.34782608695652173, 0.42857142857142855)\n",
    "\n",
    "reflective 100 - (0.40108401084010836, 0.357487922705314, 0.4567901234567901)"
   ]
  },
  {
   "cell_type": "code",
   "execution_count": null,
   "metadata": {},
   "outputs": [],
   "source": []
  },
  {
   "cell_type": "code",
   "execution_count": 815,
   "metadata": {},
   "outputs": [
    {
     "data": {
      "text/plain": [
       "5"
      ]
     },
     "execution_count": 815,
     "metadata": {},
     "output_type": "execute_result"
    }
   ],
   "source": [
    "rounds = defaultdict(list)\n",
    "for item in samples_list:\n",
    "    round_no = int(item[0].split('-')[-1])%10\n",
    "    rounds[round_no].append(item)\n",
    "len(rounds)"
   ]
  },
  {
   "cell_type": "markdown",
   "metadata": {},
   "source": [
    "### Round wise results"
   ]
  },
  {
   "cell_type": "code",
   "execution_count": 816,
   "metadata": {},
   "outputs": [
    {
     "name": "stdout",
     "output_type": "stream",
     "text": [
      "Round: 1 => f1score=0.25\n",
      "Round: 2 => f1score=0.36\n",
      "Round: 3 => f1score=0.35\n",
      "Round: 4 => f1score=0.37\n",
      "Round: 5 => f1score=0.32\n"
     ]
    }
   ],
   "source": [
    "for rnd in sorted(rounds.keys()):\n",
    "    intent_stats_dic = {}\n",
    "    f1score, recall, precision = get_results(rounds[rnd])\n",
    "    f1score, recall, precision = f1score, recall*100, precision*100\n",
    "    # print(f\"Round: {rnd} => {f1score=:.2f} {recall=:.2f} {precision=:.2f}\")\n",
    "    print(f\"Round: {rnd} => {f1score=:.2f}\")"
   ]
  },
  {
   "cell_type": "markdown",
   "metadata": {},
   "source": [
    "Round wise results (our annotations)\n",
    "\n",
    "GPT 3.5 Vanilla -\n",
    "\n",
    "1. Round: 1 => f1score=0.02\n",
    "2. Round: 2 => f1score=0.11\n",
    "3. Round: 3 => f1score=0.05\n",
    "4. Round: 4 => f1score=0.11\n",
    "\n",
    "GPT 3.5 Reflective - \n",
    "\n",
    "1. Round: 1 => f1score=0.25\n",
    "2. Round: 2 => f1score=0.34\n",
    "3. Round: 3 => f1score=0.32\n",
    "4. Round: 4 => f1score=0.27\n",
    "\n",
    "GPT 4 on GPT 3.5 data (reflective) - \n",
    "\n",
    "1. Round: 1 => f1score=0.32\n",
    "2. Round: 2 => f1score=0.37\n",
    "3. Round: 3 => f1score=0.31\n",
    "4. Round: 4 => f1score=0.39\n",
    "\n",
    "\n",
    "GPT 4 Vanilla - \n",
    "\n",
    "1. Round: 1 => f1score=0.29\n",
    "2. Round: 2 => f1score=0.18\n",
    "3. Round: 3 => f1score=0.17\n",
    "4. Round: 4 => f1score=0.15\n",
    "5. Round: 5 => f1score=0.23\n",
    "\n",
    "GPT 4 Reflective -\n",
    "\n",
    "1. Round: 1 => f1score=0.35\n",
    "2. Round: 2 => f1score=0.32\n",
    "3. Round: 3 => f1score=0.47\n",
    "4. Round: 4 => f1score=0.55\n",
    "5. Round: 5 => f1score=0.56\n",
    "\n",
    "GPT 3.5 on GPT 4 data (reflective) - \n",
    "\n",
    "1. Round: 1 => f1score=0.07\n",
    "2. Round: 2 => f1score=0.22\n",
    "3. Round: 3 => f1score=0.30\n",
    "4. Round: 4 => f1score=0.34\n",
    "5. Round: 5 => f1score=0.35"
   ]
  }
 ],
 "metadata": {
  "kernelspec": {
   "display_name": "py11-env",
   "language": "python",
   "name": "python3"
  },
  "language_info": {
   "codemirror_mode": {
    "name": "ipython",
    "version": 3
   },
   "file_extension": ".py",
   "mimetype": "text/x-python",
   "name": "python",
   "nbconvert_exporter": "python",
   "pygments_lexer": "ipython3",
   "version": "3.9.6"
  }
 },
 "nbformat": 4,
 "nbformat_minor": 2
}
