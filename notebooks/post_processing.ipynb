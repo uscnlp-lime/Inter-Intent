{
 "cells": [
  {
   "cell_type": "code",
   "execution_count": 1,
   "metadata": {},
   "outputs": [],
   "source": [
    "import pandas as pd\n",
    "import os\n",
    "import random\n",
    "import json\n",
    "from datetime import datetime\n",
    "import re\n",
    "import pandas as pd\n",
    "from utils import *\n",
    "from collections import defaultdict"
   ]
  },
  {
   "cell_type": "code",
   "execution_count": 3,
   "metadata": {},
   "outputs": [],
   "source": [
    "experiment_folders = []\n",
    "output_path = 'output/gpt-3_5-turbo-games/annotated/our_annotations/'\n",
    "# output_path = 'output/gpt-3_5-turbo-games/annotated/'\n",
    "# output_path = 'output/gpt-4-games/annotated/'\n",
    "for x in os.listdir(output_path):\n",
    "    if x.startswith('game_') and os.path.isdir(os.path.join(output_path, x)):\n",
    "        experiment_folders.append(output_path + x)"
   ]
  },
  {
   "cell_type": "code",
   "execution_count": 4,
   "metadata": {},
   "outputs": [
    {
     "data": {
      "text/plain": [
       "5"
      ]
     },
     "execution_count": 4,
     "metadata": {},
     "output_type": "execute_result"
    }
   ],
   "source": [
    "len(experiment_folders)"
   ]
  },
  {
   "cell_type": "code",
   "execution_count": 5,
   "metadata": {},
   "outputs": [],
   "source": [
    "impactful_intents = {\n",
    "    'cast suspicion on innocent players': True, \n",
    "    'counter the team proposal because you think a player on the team is evil': True, \n",
    "    'express concerns about a player from a failed quest team and suggest to not include them in the current team': True, \n",
    "    'express confusion for failure of mission': True, \n",
    "    'express disagreement and vote disagree only if you are not in the proposed team': True, \n",
    "    'express you are a loyal player': True, \n",
    "    'pretend to be merlin by providing hints on who is evil': True, \n",
    "    'question a player about why they changed their statements': True, \n",
    "    'question a player on why they didnt vote for the last team': True, \n",
    "    'question the leader why they selected a particular player for the team': True, \n",
    "    'reveal identity by telling others you are servant to persuade other loyal players': True, \n",
    "    'share concerns about an evil player': True, \n",
    "    'strongly convince the team leader to choose you on team': True, \n",
    "    'support loyal players of the previous quest team if the mission failed': True, \n",
    "    'support your teammate by expressing that he is good': True\n",
    "}"
   ]
  },
  {
   "cell_type": "code",
   "execution_count": 6,
   "metadata": {},
   "outputs": [],
   "source": [
    "context_questions = [\n",
    "    \"If there have been discussions before your turn, what discussions have happened in this round?\",\n",
    "    \"After analyzing the responses to the previous question, what do you need to do to win from here?\"\n",
    "]"
   ]
  },
  {
   "cell_type": "code",
   "execution_count": 7,
   "metadata": {},
   "outputs": [],
   "source": [
    "role_details = {\n",
    "    \"Merlin\": \"\"\"You are Merlin. These are your goals and characteristics: \n",
    "- Know the identities of evil players.\n",
    "- Subtly guide your team, especially Percival.\n",
    "- Avoid behaviours that expose your role: overly accusing, being too helpful.\n",
    "- Goal(Main Intent): Win without revealing identity.\"\"\",\n",
    "\n",
    "    \"Percival\": \"\"\"You are percival and you need to help Merlin. These are your goals and characteristics:\n",
    "- Know identities of Merlin and Morgana, but unsure who is who.\n",
    "- Use subtle hints to guide team and protect Merlin.\n",
    "- Be cautious not to expose Merlin while deciphering true identities.\n",
    "- Goal(Main Intent): Win while safeguarding Merlin.\"\"\",\n",
    "\n",
    "    \"Servant\": \"\"\"You are Loyal Servant of Arthur. These are your goals and characteristics: \n",
    "- No special knowledge, rely on discussion and voting.\n",
    "- Contribute to the success of Quests\n",
    "- Goal(Main Intent): Win by helping complete Quests and protecting Merlin.\"\"\",\n",
    "\n",
    "    \"Assassin\": \"\"\"You are assassin. These are your goals and characteristics:\n",
    "- Discreetly seek Merlin's identity.\n",
    "- Work to prevent Quests success.\n",
    "- Goal(Main Intent): Win either by failing quests or assassinating Merlin.\"\"\",\n",
    "\n",
    "    \"Morgana\": \"\"\"You are Morgana. These are your goals and characteristics: \n",
    "- Pretend to be Merlin to mislead Percival and the good side.\n",
    "- Goal(Main Intent): Fail quests and Confuse and sabotage to win.\"\"\"\n",
    "}"
   ]
  },
  {
   "cell_type": "code",
   "execution_count": 8,
   "metadata": {},
   "outputs": [],
   "source": [
    "def get_role_extra_info(role, chart_to_player):\n",
    "    if role == \"Merlin\":\n",
    "        return f\"{chart_to_player['Morgana']} and {chart_to_player['Assassin']} are evil players\"\n",
    "    elif role == \"Percival\":\n",
    "        return f\"{chart_to_player['Merlin']} and {chart_to_player['Morgana']} are Merlin and Morgana, but you don't know which is Merlin and which is Morgana.\"\n",
    "    elif role == \"Servant\":\n",
    "        return \"\"\n",
    "    elif role == \"Morgana\":\n",
    "        return f\"Assassin is {chart_to_player['Assassin']}\"\n",
    "    return f\"Morgana is {chart_to_player['Morgana']}\""
   ]
  },
  {
   "cell_type": "code",
   "execution_count": 9,
   "metadata": {},
   "outputs": [],
   "source": [
    "context_template = \"\"\"\\\n",
    "**Name**: {}\n",
    "\n",
    "**Role**: {}\n",
    "\n",
    "**Role Details**: \n",
    "{}\n",
    "\n",
    "**Round**: {}\n",
    "\n",
    "**Current Leader**: {}\n",
    "\n",
    "**Current Team**: {}\n",
    "\n",
    "**Previous Rounds Team Voting**:\n",
    "{}\n",
    "\n",
    "**Previous Results**: \n",
    "{}\n",
    "\n",
    "**Previous Rounds Summary**:\n",
    "{}\n",
    "\"\"\"\n",
    "\n",
    "reasonable_intent_context_template_extn = \"\"\"\\\n",
    "\n",
    "**Previous Discussions(in the current round)**: \n",
    "{}\n",
    "\"\"\""
   ]
  },
  {
   "cell_type": "code",
   "execution_count": 10,
   "metadata": {},
   "outputs": [],
   "source": [
    "intent_guessing_context_template = \"\"\"\\\n",
    "**Name**: {}\n",
    "\n",
    "**Role**: {}\n",
    "\n",
    "**Role Details**: \n",
    "{}\n",
    "\n",
    "**Round**: {}\n",
    "\n",
    "**Speaker Name**: {}\n",
    "\n",
    "**Current Leader**: {}\n",
    "\n",
    "**Current Team**: {}\n",
    "\n",
    "**Previous Rounds Team Voting**:\n",
    "{}\n",
    "\n",
    "**Previous Results**: \n",
    "{}\n",
    "\n",
    "**Previous Rounds Summary**:\n",
    "{}\n",
    "\"\"\""
   ]
  },
  {
   "cell_type": "code",
   "execution_count": 11,
   "metadata": {},
   "outputs": [],
   "source": [
    "second_order_intent_guessing_context_template = \"\"\"\\\n",
    "**Name**: {}\n",
    "\n",
    "**Role**: {}\n",
    "\n",
    "**Role Details**: \n",
    "{}\n",
    "\n",
    "**Round**: {}\n",
    "\n",
    "**Player Name**: {}\n",
    "\n",
    "**Current Leader**: {}\n",
    "\n",
    "**Current Team**: {}\n",
    "\n",
    "**Previous Rounds Team Voting**:\n",
    "{}\n",
    "\n",
    "**Previous Results**: \n",
    "{}\n",
    "\n",
    "**Previous Rounds Summary**:\n",
    "{}\n",
    "\"\"\""
   ]
  },
  {
   "cell_type": "code",
   "execution_count": 12,
   "metadata": {},
   "outputs": [],
   "source": [
    "def format_context(data, include_discussion=False):\n",
    "    char_to_player = data['char_to_player']\n",
    "\n",
    "    other_players = \", \".join([f\"{val} = {key}\" for key, val in sorted(char_to_player.items(), key=lambda x: x[1]) if val != data['name']])\n",
    "    previous_results = \"No previous results.\"\n",
    "    if len(data['previous_results']) > 0:\n",
    "        previous_results = '\\n'.join([f\"Round {key}: Team = {', '.join(val['team'])}, Result = {val['result']}\" for key, val in data['previous_results'].items()])\n",
    "\n",
    "    previous_votes = \"No previous team votes. This is the first round.\"\n",
    "    if len(data['previous_votes']) > 0:\n",
    "        previous_votes = data['previous_votes']\n",
    "\n",
    "    previous_summaries = \"No previous summaries. This is the first round.\"\n",
    "    if len(data['previous_summaries']) > 0:\n",
    "        previous_summaries = data['previous_summaries']\n",
    "\n",
    "    \n",
    "    role_extra_info = get_role_extra_info(data['role'], char_to_player)\n",
    "    role_details_enriched = data['role_details'] + '\\n- ' + role_extra_info\n",
    "\n",
    "    context = context_template.format(\n",
    "        data['name'],\n",
    "        data['role'],\n",
    "        role_details_enriched,\n",
    "        # other_players,\n",
    "        int(data['round'])%10,\n",
    "        data['round_leader'],\n",
    "        ', '.join(data['round_team']),\n",
    "        previous_votes,\n",
    "        previous_results,\n",
    "        previous_summaries\n",
    "    )\n",
    "\n",
    "    if include_discussion:\n",
    "        previous_discussions = \"No previous discussions.\"\n",
    "        if len(data['previous_discussions']) > 0:\n",
    "            previous_discussions = data['previous_discussions']\n",
    "        context += reasonable_intent_context_template_extn.format(previous_discussions)\n",
    "\n",
    "    return context"
   ]
  },
  {
   "cell_type": "code",
   "execution_count": 13,
   "metadata": {},
   "outputs": [],
   "source": [
    "def format_context_for_intent_guessing(data, include_discussion=False):\n",
    "    # char_to_player = data['char_to_player']\n",
    "\n",
    "    # other_players = \", \".join([f\"{val} = {key}\" for key, val in sorted(char_to_player.items(), key=lambda x: x[1]) if val != data['name']])\n",
    "    previous_results = \"No previous results.\"\n",
    "    if len(data['previous_results']) > 0:\n",
    "        previous_results = '\\n'.join([f\"Round {key}: Team = {', '.join(val['team'])}, Result = {val['result']}\" for key, val in data['previous_results'].items()])\n",
    "\n",
    "    previous_votes = \"No previous team votes. This is the first round.\"\n",
    "    if len(data['previous_votes']) > 0:\n",
    "        previous_votes = data['previous_votes']\n",
    "\n",
    "    previous_summaries = \"No previous summaries. This is the first round.\"\n",
    "    if len(data['previous_summaries']) > 0:\n",
    "        previous_summaries = data['previous_summaries']\n",
    "\n",
    "    \n",
    "    role_details_player = data['role_details']\n",
    "\n",
    "    context = intent_guessing_context_template.format(\n",
    "        data['name'],\n",
    "        data['role'],\n",
    "        role_details_player,\n",
    "        int(data['round'])%10,\n",
    "        data['speaker_name'],\n",
    "        data['round_leader'],\n",
    "        ', '.join(data['round_team']),\n",
    "        previous_votes,\n",
    "        previous_results,\n",
    "        previous_summaries\n",
    "    )\n",
    "\n",
    "    if include_discussion:\n",
    "        previous_discussions = \"No previous discussions.\"\n",
    "        if len(data['previous_discussions']) > 0:\n",
    "            previous_discussions = data['previous_discussions']\n",
    "        context += reasonable_intent_context_template_extn.format(previous_discussions)\n",
    "\n",
    "    return context"
   ]
  },
  {
   "cell_type": "code",
   "execution_count": 14,
   "metadata": {},
   "outputs": [],
   "source": [
    "def format_context_for_second_order_intent_guessing(data, include_discussion=False):\n",
    "    # char_to_player = data['char_to_player']\n",
    "\n",
    "    # other_players = \", \".join([f\"{val} = {key}\" for key, val in sorted(char_to_player.items(), key=lambda x: x[1]) if val != data['name']])\n",
    "    previous_results = \"No previous results.\"\n",
    "    if len(data['previous_results']) > 0:\n",
    "        previous_results = '\\n'.join([f\"Round {key}: Team = {', '.join(val['team'])}, Result = {val['result']}\" for key, val in data['previous_results'].items()])\n",
    "\n",
    "    previous_votes = \"No previous team votes. This is the first round.\"\n",
    "    if len(data['previous_votes']) > 0:\n",
    "        previous_votes = data['previous_votes']\n",
    "\n",
    "    previous_summaries = \"No previous summaries. This is the first round.\"\n",
    "    if len(data['previous_summaries']) > 0:\n",
    "        previous_summaries = data['previous_summaries']\n",
    "\n",
    "    \n",
    "    role_details_speaker = data['speaker_role_details']\n",
    "\n",
    "    context = second_order_intent_guessing_context_template.format(\n",
    "        data['speaker_name'],\n",
    "        data['speaker_role'],\n",
    "        role_details_speaker,\n",
    "        int(data['round'])%10,\n",
    "        data['name'],\n",
    "        data['round_leader'],\n",
    "        ', '.join(data['round_team']),\n",
    "        previous_votes,\n",
    "        previous_results,\n",
    "        previous_summaries\n",
    "    )\n",
    "\n",
    "    if include_discussion:\n",
    "        previous_discussions = \"No previous discussions.\"\n",
    "        if len(data['previous_discussions']) > 0:\n",
    "            previous_discussions = data['previous_discussions']\n",
    "        context += reasonable_intent_context_template_extn.format(previous_discussions)\n",
    "\n",
    "    return context"
   ]
  },
  {
   "cell_type": "code",
   "execution_count": 15,
   "metadata": {},
   "outputs": [],
   "source": [
    "player_order = {\n",
    "    '1': [1, 2, 3, 4, 5],\n",
    "    '2': [2, 3, 4, 5, 1],\n",
    "    '3': [3, 4, 5, 1, 2],\n",
    "    '4': [4, 5, 1, 2, 3],\n",
    "    '5': [5, 1, 2, 3, 4]\n",
    "}"
   ]
  },
  {
   "cell_type": "code",
   "execution_count": 16,
   "metadata": {},
   "outputs": [
    {
     "data": {
      "text/plain": [
       "['1', '2', '3', '4', '5', '11', '12', '13', '14', '15']"
      ]
     },
     "execution_count": 16,
     "metadata": {},
     "output_type": "execute_result"
    }
   ],
   "source": [
    "players = ['Player' + str(num) for num in range(1, 6)]\n",
    "rounds = [str(num) for num in range(1, 6)]\n",
    "rounds.extend([str(num) for num in range(11, 16)])\n",
    "rounds"
   ]
  },
  {
   "cell_type": "code",
   "execution_count": 17,
   "metadata": {},
   "outputs": [],
   "source": [
    "def get_previous_discussions(cur_player, cur_rnd, data, round_leader):\n",
    "    player_id = int(cur_player.replace('Player', ''))\n",
    "    round_leader_id = round_leader.replace('Player', '')\n",
    "\n",
    "    rnd = int(cur_rnd)\n",
    "    # if rnd > 10:\n",
    "    #     rnd = rnd%10 + 1\n",
    "    #     rnd%5\n",
    "\n",
    "    rnd = str(rnd)\n",
    "    idx = 0\n",
    "    for i, val in enumerate(player_order[round_leader_id]):\n",
    "        if val == player_id:\n",
    "            idx = i\n",
    "            break\n",
    "\n",
    "\n",
    "    previous_players = [f'Player{i}' for i in player_order[round_leader_id][:idx]]\n",
    "\n",
    "    discussions = []\n",
    "    for player in previous_players:\n",
    "        discussions.append(f\"{player}: {data[player][cur_rnd]['discussion'][0]['speech']}\")\n",
    "    return '\\n'.join(discussions)\n"
   ]
  },
  {
   "cell_type": "code",
   "execution_count": 18,
   "metadata": {},
   "outputs": [],
   "source": [
    "summary_questions = [\"Who was the leader for this round?\",\n",
    "                     \"What was the proposed team for this round?\",\n",
    "                     \"Why do you think the leader proposed the current team?\",\n",
    "                     \"Did everyone agree for the proposed team?\",\n",
    "                     \"If some people disagreed, why do you think they disagreed?\",\n",
    "                     \"Was the quest successful?\",\n",
    "                     \"If the quest was successful, was any evil player part of the team? If yes, then why did they vote success?\",\n",
    "                     \"If the quest failed, how do you plan to protect the evil player in the next round?\",\n",
    "                     \"What do the evil side need to do from here to win the game?\"\n",
    "                    ]"
   ]
  },
  {
   "cell_type": "code",
   "execution_count": 19,
   "metadata": {},
   "outputs": [],
   "source": [
    "def get_previous_round_summaries(name, cur_round, data):\n",
    "    summaries = {}\n",
    "    cur_round_mod = int(cur_round)%10\n",
    "    for rnd in rounds:\n",
    "        if int(rnd)%10 <= cur_round_mod:\n",
    "            if rnd in data[name] and 'summary' in data[name][rnd]:\n",
    "                summary = json.loads(data[name][rnd]['summary'][0]['summary'])['Answers']\n",
    "                summary_txt = ''\n",
    "                for idx in range(len(summary)):\n",
    "                    summary_txt += f\"{summary[idx]}\\n\"\n",
    "                summaries[rnd] = summary_txt\n",
    "    \n",
    "    summaries_list = [(round, summaries[round]) for round in sorted(summaries.keys(), key=lambda x: int(x[-1]))]\n",
    "\n",
    "    disagreement_msg = '(players didn\\\"t agree on team)'\n",
    "    res = '\\n'.join(f\"Round {int(rnd)%10} {disagreement_msg if str(int(rnd)+10) in summaries else ''}: \\n{val} \\n\" for rnd, val in summaries_list)\n",
    "    sum_q_txt = '\\n'.join(summary_questions)\n",
    "    res = f\"Summary questions: \\n\\n{sum_q_txt}\\n\\n{res}\"\n",
    "    return res"
   ]
  },
  {
   "cell_type": "code",
   "execution_count": 20,
   "metadata": {},
   "outputs": [],
   "source": [
    "def check_int_fol(int_fol):\n",
    "    fol_think, fol_speech = int_fol[0], int_fol[1]\n",
    "    for a, b in zip(fol_think, fol_speech):\n",
    "        if a<3 or b<3:\n",
    "            return False\n",
    "    return True"
   ]
  },
  {
   "cell_type": "code",
   "execution_count": 21,
   "metadata": {},
   "outputs": [],
   "source": [
    "def get_summarization_data_point(id, all_intents, formulation_con_data, refinement_con_data, context_intnt_following, int_fol_form, int_fol_ref):\n",
    "    if len(all_intents[\"modified\"]) == 0 or set(all_intents[\"original\"]) == set(all_intents[\"modified\"]):\n",
    "            if check_int_fol(int_fol_form):\n",
    "                id =  id + \"_form\"\n",
    "                complete_intent_following = {\n",
    "                    'id': id,\n",
    "                    'context': context_intnt_following,\n",
    "                    'intents': all_intents[\"original\"],\n",
    "                    'think': formulation_con_data['think'],\n",
    "                    'speak': formulation_con_data['speech'],\n",
    "                }\n",
    "                return [complete_intent_following]\n",
    "    \n",
    "    res = []\n",
    "    if check_int_fol(int_fol_form):\n",
    "        form_intent_following = {\n",
    "            'id': id + \"_form\",\n",
    "            'context': context_intnt_following,\n",
    "            'intents': all_intents[\"original\"],\n",
    "            'think': formulation_con_data['think'],\n",
    "            'speak': formulation_con_data['speech'],\n",
    "        }\n",
    "        res.append(form_intent_following)\n",
    "\n",
    "    if check_int_fol(int_fol_ref):\n",
    "        ref_intent_following = {\n",
    "            'id': id + \"_ref\",\n",
    "            'context': context_intnt_following,\n",
    "            'intents': all_intents[\"modified\"],\n",
    "            'think': refinement_con_data['think'],\n",
    "            'speak': refinement_con_data['speech'],\n",
    "        }\n",
    "        res.append(ref_intent_following)\n",
    "\n",
    "    return res"
   ]
  },
  {
   "cell_type": "code",
   "execution_count": 22,
   "metadata": {},
   "outputs": [],
   "source": [
    "def get_context_for_intent_guessing(context1):\n",
    "    context = context1.copy()\n",
    "    character_to_player = context['char_to_player']\n",
    "    roles = list(character_to_player.keys())\n",
    "    player_role = context['role']\n",
    "    player_name = context['name']\n",
    "    player_role_details = role_details[player_role]\n",
    "\n",
    "    role_choices = [v for v in roles if v != player_role]\n",
    "    selected_role = random.choice(role_choices)\n",
    "    selected_player = character_to_player[selected_role]\n",
    "\n",
    "    selected_role_details = role_details[selected_role]\n",
    "    extra_role_info = get_role_extra_info(selected_role, character_to_player)\n",
    "    selected_role_details = selected_role_details + '\\n- ' + extra_role_info\n",
    "\n",
    "    context['speaker_name'] = player_name\n",
    "    context['speaker_role'] = player_role\n",
    "    context['speaker_role_details'] = player_role_details\n",
    "    context['name'] = selected_player\n",
    "    context['role'] = selected_role\n",
    "    context['role_details'] = selected_role_details\n",
    "\n",
    "    # return format_context_for_intent_guessing(context, include_discussion=True)\n",
    "    return format_context_for_second_order_intent_guessing(context, include_discussion=True)\n",
    "        \n",
    "    "
   ]
  },
  {
   "cell_type": "code",
   "execution_count": 23,
   "metadata": {},
   "outputs": [],
   "source": [
    "def get_single_round_data(gameplay_id, cur_round, gameplay_data, raw_data, role, name, complete_results, vote_results, int_following_form, int_following_ref):\n",
    "    intent_data = raw_data['intent'][0]\n",
    "    intents = intent_data['intents']\n",
    "    intents = [remove_non_alphabets(intent) for intent in intents]\n",
    "    reason = intent_data['think']\n",
    "\n",
    "    round_leader = gameplay_data['round_leaders'][cur_round]\n",
    "\n",
    "    # discussion_summary = \"\"\n",
    "    # if len(intent_data['context_answers']) > 0:\n",
    "    #     discussion_summary = intent_data['context_answers'][0]\n",
    "\n",
    "    previous_discussions = get_previous_discussions(name, cur_round, complete_results, round_leader)\n",
    "    previous_summaries = get_previous_round_summaries(name, cur_round, complete_results)\n",
    "\n",
    "    formulation_con_data = raw_data['formulation_con'][0]\n",
    "\n",
    "    modified_intents = intents\n",
    "    if 'intent_modification' in raw_data:\n",
    "        intent_modification_data = raw_data['intent_modification'][0]\n",
    "        modified_intents = intent_modification_data['new_intents']\n",
    "        modified_intents = [remove_non_alphabets(intent) for intent in modified_intents]\n",
    "\n",
    "    refinement_con_data = raw_data['discussion'][0]\n",
    "\n",
    "    quest_results = gameplay_data['team_quest_result']\n",
    "    \n",
    "\n",
    "    cur_team = []\n",
    "\n",
    "    previous_votes = {}\n",
    "    for rnd in vote_results.keys():\n",
    "        if int(rnd)%10 <= int(cur_round)%10:\n",
    "            vote_txt = ', '.join([f\"{player} = {vote}\" for player, vote in vote_results[rnd].items()])\n",
    "            previous_votes[rnd] = vote_txt\n",
    "\n",
    "    previous_votes_list = [(round, previous_votes[round]) for round in sorted(previous_votes.keys(), key=lambda x: int(x[-1]))]\n",
    "\n",
    "    disagreement_msg = '(players didn\\\"t agree on team)'\n",
    "    previous_votes_str = '\\n'.join(f\"Round {int(rnd)%10}: {val} {disagreement_msg if str(int(rnd)+10) in previous_votes else ''}\" for rnd, val in previous_votes_list)\n",
    "\n",
    "    previous_results = {}\n",
    "    for rnd in quest_results.keys():\n",
    "        if int(rnd)%10 < int(cur_round)%10:\n",
    "            team = list(quest_results[rnd].keys())\n",
    "            result = 'success'\n",
    "            if 'failure' in quest_results[rnd].values():\n",
    "                result = 'failure'\n",
    "            previous_results[rnd] = {'team': team, 'result': result}\n",
    "        if int(rnd) == int(cur_round) and name != round_leader:\n",
    "            cur_team = list(quest_results[rnd].keys())\n",
    "\n",
    "    context = {\n",
    "        'char_to_player': gameplay_data['character_to_player'],\n",
    "        'round': str(int(cur_round)),\n",
    "        'name': name, \n",
    "        'role': role, \n",
    "        'role_details': role_details[role],\n",
    "        'round_leader': round_leader,\n",
    "        'round_team': cur_team,\n",
    "        'previous_votes': previous_votes_str,\n",
    "        'previous_results': previous_results,\n",
    "        'previous_discussions': previous_discussions,\n",
    "        'previous_summaries': previous_summaries\n",
    "        # 'discussion_summary': discussion_summary\n",
    "    }\n",
    "\n",
    "    context_intent_guessing = get_context_for_intent_guessing(context)\n",
    "\n",
    "    context_intnt_following_with_discussion = format_context(context, include_discussion=True)\n",
    "\n",
    "    context_reasonable = context_intnt_following_with_discussion\n",
    "\n",
    "    all_intents = {'original': intents, 'modified': modified_intents}\n",
    "\n",
    "    # intents = \"\\n\".join([f\"{num+1}. {intent}\" for num, intent in enumerate(intents)])\n",
    "    # modified_intents = \"\\n\".join([f\"{num+1}. {intent}\" for num, intent in enumerate(modified_intents)])\n",
    "    \n",
    "\n",
    "    id_ = f\"{gameplay_id}-{name.lower()}-{cur_round}\"\n",
    "\n",
    "    reasonable_intent = {\n",
    "        'id': id_,\n",
    "        'context': context_reasonable,\n",
    "        'intents': intents,\n",
    "        'reason': reason\n",
    "    }\n",
    "\n",
    "    formulation_con_intent_following = {\n",
    "        'id': id_,\n",
    "        'context': context_intnt_following_with_discussion,\n",
    "        'intents': intents,\n",
    "        'think': formulation_con_data['think'],\n",
    "        'speak': formulation_con_data['speech']\n",
    "    }\n",
    "\n",
    "    refinement_con_intent_following = {\n",
    "        'id': id_,\n",
    "        'context': context_intent_guessing,\n",
    "        'intents': modified_intents,\n",
    "        'think': refinement_con_data['think'],\n",
    "        'speak': refinement_con_data['speech']\n",
    "    }\n",
    "    \n",
    "    \n",
    "    complete_intent_following = get_summarization_data_point(\n",
    "        id_, \n",
    "        all_intents, \n",
    "        formulation_con_data, \n",
    "        refinement_con_data, \n",
    "        context_intnt_following_with_discussion, \n",
    "        int_following_form, \n",
    "        int_following_ref\n",
    "    )\n",
    "\n",
    "    return reasonable_intent, formulation_con_intent_following, refinement_con_intent_following, complete_intent_following\n"
   ]
  },
  {
   "cell_type": "code",
   "execution_count": 24,
   "metadata": {},
   "outputs": [],
   "source": [
    "def get_vote_results(results):\n",
    "    vote_results = {}\n",
    "    for rnd in rounds:\n",
    "        for player in players:\n",
    "            if rnd in results[player]:\n",
    "                vote = results[player][rnd]['vote'][0]['vote_result']\n",
    "                if rnd not in vote_results:\n",
    "                    vote_results[rnd] = {}\n",
    "                vote_results[rnd][player] = vote\n",
    "\n",
    "    return vote_results"
   ]
  },
  {
   "cell_type": "code",
   "execution_count": 25,
   "metadata": {},
   "outputs": [],
   "source": [
    "reasonable_intent_data = []\n",
    "form_con_intent_following_data = []\n",
    "refine_con_intent_following_data = []\n",
    "complete_intent_following_data = []\n",
    "\n",
    "\n",
    "# rounds.append('13')"
   ]
  },
  {
   "cell_type": "code",
   "execution_count": 26,
   "metadata": {},
   "outputs": [],
   "source": [
    "def process_results(gameplay_id, gameplay_data, results, final_player_rounds):\n",
    "    vote_results = get_vote_results(results)\n",
    "    for player in players:\n",
    "        for rnd in rounds:\n",
    "            if rnd in results[player]:\n",
    "                is_secondary_round = False\n",
    "                if int(rnd) > 10:\n",
    "                    is_secondary_round = True\n",
    "                key = (player, int(rnd)%10, is_secondary_round)\n",
    "                if key not in final_player_rounds:\n",
    "                    continue\n",
    "                # print(gameplay_id, rnd, player)\n",
    "                reasonable_intent, form_con_intent_following, refine_con_intent_following, complete_intent_following = get_single_round_data(\n",
    "                    gameplay_id,\n",
    "                    rnd, \n",
    "                    gameplay_data, \n",
    "                    results[player][rnd], \n",
    "                    results[player]['role'], \n",
    "                    player,\n",
    "                    results,\n",
    "                    vote_results,\n",
    "                    final_player_rounds[key][0],\n",
    "                    final_player_rounds[key][1]\n",
    "                )\n",
    "\n",
    "                reasonable_intent_data.append(reasonable_intent)\n",
    "                form_con_intent_following_data.append(form_con_intent_following)\n",
    "                refine_con_intent_following_data.append(refine_con_intent_following)\n",
    "                complete_intent_following_data.extend(complete_intent_following)\n",
    "    "
   ]
  },
  {
   "cell_type": "code",
   "execution_count": 27,
   "metadata": {},
   "outputs": [],
   "source": [
    "def is_intent_following_good(row, to_retain_player_rounds=None, for_guessing=False):\n",
    "    if to_retain_player_rounds:\n",
    "        player, round, is_secondary_round = row['player'], row['round'], row['is_secondary_round']\n",
    "        key = (player, round, is_secondary_round)\n",
    "        # print(key)\n",
    "\n",
    "        if key not in to_retain_player_rounds:\n",
    "            return False\n",
    "\n",
    "    intent_fol_think_1, intent_fol_speech_1 = row['intent_fol_think_1'], row['intent_fol_speech_1']\n",
    "    intent_fol_think_2, intent_fol_speech_2 = row['intent_fol_think_2'], row['intent_fol_speech_2']\n",
    "\n",
    "    form_check = True\n",
    "    ref_check = True\n",
    "\n",
    "    if not for_guessing:\n",
    "        for ele in intent_fol_think_1.split(','):\n",
    "            if ele == 'nan':\n",
    "                # form_check = False\n",
    "                break\n",
    "            if ele != '':\n",
    "                if int(ele) < 3:\n",
    "                    form_check = False\n",
    "        \n",
    "        for ele in intent_fol_speech_1.split(','):\n",
    "            if ele == 'nan':\n",
    "                # form_check = False\n",
    "                break\n",
    "            if ele != '':\n",
    "                if int(ele) < 3:\n",
    "                    form_check = False\n",
    "\n",
    "        for ele in intent_fol_think_2.split(','):\n",
    "            if ele == 'nan':\n",
    "                # ref_check = False\n",
    "                break\n",
    "            if ele != '':\n",
    "                if int(ele) < 3:\n",
    "                    ref_check = False\n",
    "\n",
    "    for ele in intent_fol_speech_2.split(','):\n",
    "        if ele == 'nan':\n",
    "            # ref_check = False\n",
    "            break\n",
    "        if ele != '':\n",
    "            if int(ele) < 3:\n",
    "                ref_check = False\n",
    "\n",
    "    if for_guessing:\n",
    "        return ref_check\n",
    "    return form_check or ref_check"
   ]
  },
  {
   "cell_type": "code",
   "execution_count": 28,
   "metadata": {},
   "outputs": [],
   "source": [
    "def convert_ann_to_num_list(ann):\n",
    "    res = []\n",
    "    for ele in ann.split(','):\n",
    "        if ele == 'nan':\n",
    "            return []\n",
    "        if ele == '':\n",
    "            return []\n",
    "        res.append(int(ele))\n",
    "    return res"
   ]
  },
  {
   "cell_type": "code",
   "execution_count": 29,
   "metadata": {},
   "outputs": [],
   "source": [
    "def filter_out_non_impactful_rows(evaluation_df, annotation_df):\n",
    "\n",
    "    for_guessing = True\n",
    "\n",
    "    if 'is_secondary_round' not in evaluation_df:\n",
    "        evaluation_df['is_secondary_round'] = False\n",
    "\n",
    "        found_player_round = {}\n",
    "        # setting secondary round to True for second occurence of the key, so first one will be set to False\n",
    "        for idx, row in evaluation_df.iterrows():\n",
    "            player, round = row['player'], row['round']\n",
    "            key = (player, round)\n",
    "            if key in found_player_round:\n",
    "                evaluation_df.at[idx, 'is_secondary_round'] = True\n",
    "            else:\n",
    "                found_player_round[key] = True\n",
    " \n",
    "        to_retain_player_rounds = {}\n",
    "        for idx, row in annotation_df.iterrows():\n",
    "            player, round, is_secondary_round = row['player'], row['round'], row['is_secondary_round']\n",
    "            key = (player, round, is_secondary_round)\n",
    "            if key not in to_retain_player_rounds:\n",
    "                to_retain_player_rounds[key] = True\n",
    "\n",
    "        evaluation_df_filtered = evaluation_df[evaluation_df.apply(lambda row: is_intent_following_good(row, to_retain_player_rounds, for_guessing=for_guessing), axis=1)]\n",
    "    else:\n",
    "        evaluation_df_filtered = evaluation_df[evaluation_df.apply(lambda row: is_intent_following_good(row, for_guessing=for_guessing), axis=1)]\n",
    "\n",
    "    final_player_rounds = {}\n",
    "    for idx, row in evaluation_df_filtered.iterrows():\n",
    "        player, round, is_secondary_round = row['player'], row['round'], row['is_secondary_round']\n",
    "        intent_fol_think_1, intent_fol_speech_1 = convert_ann_to_num_list(row['intent_fol_think_1']), convert_ann_to_num_list(row['intent_fol_speech_1'])\n",
    "        intent_fol_think_2, intent_fol_speech_2 = convert_ann_to_num_list(row['intent_fol_think_2']), convert_ann_to_num_list(row['intent_fol_speech_2'])\n",
    "        key = (player, round, is_secondary_round)\n",
    "        if key not in final_player_rounds:\n",
    "            final_player_rounds[key] = ((intent_fol_think_1, intent_fol_speech_1), (intent_fol_think_2, intent_fol_speech_2))\n",
    "\n",
    "    return final_player_rounds"
   ]
  },
  {
   "cell_type": "code",
   "execution_count": 34,
   "metadata": {},
   "outputs": [],
   "source": [
    "def read_data(gameplay_folder):\n",
    "    game_ts = gameplay_folder.split(\"_\")[-1]\n",
    "    gameplay_data, results = {}, {}\n",
    "    with open(gameplay_folder + '/results.json') as f:\n",
    "        results = json.load(f)\n",
    "\n",
    "    gp_file_name = 'game_play_data.json'\n",
    "    annotation_file = None\n",
    "    for x in os.listdir(gameplay_folder):\n",
    "        if x.startswith('game_play_data'):\n",
    "            gp_file_name = x\n",
    "        if x.startswith('empty-'):\n",
    "            annotation_file = x\n",
    "    with open(gameplay_folder + f'/{gp_file_name}') as f:\n",
    "        gameplay_data = json.load(f)\n",
    "        \n",
    "    if not annotation_file:\n",
    "        annotation_file = f'annotation-{game_ts}.csv'\n",
    "    evaluation_df = pd.read_csv(gameplay_folder + f'/annotation-{game_ts}.csv')\n",
    "    annotation_df = pd.read_csv(gameplay_folder + f'/{annotation_file}')\n",
    "\n",
    "    evaluation_df.dropna(subset=['intent_selection'])\n",
    "    \n",
    "    evaluation_df['intent_selection'] = evaluation_df['intent_selection'].astype(str).apply(lambda x: x.replace('.', ','))\n",
    "    evaluation_df['intent_fol_think_1'] = evaluation_df['intent_fol_think_1'].astype(str).apply(lambda x: x.replace('.', ','))\n",
    "    evaluation_df['intent_fol_speech_1'] = evaluation_df['intent_fol_speech_1'].astype(str).apply(lambda x: x.replace('.', ','))\n",
    "    evaluation_df['intent_selection_mod'] = evaluation_df['intent_selection_mod'].astype(str).apply(lambda x: x.replace('.', ','))\n",
    "    evaluation_df['intent_fol_think_2'] = evaluation_df['intent_fol_think_2'].astype(str).apply(lambda x: x.replace('.', ','))\n",
    "    evaluation_df['intent_fol_speech_2'] = evaluation_df['intent_fol_speech_2'].astype(str).apply(lambda x: x.replace('.', ','))\n",
    "    return gameplay_data, results, evaluation_df, annotation_df"
   ]
  },
  {
   "cell_type": "code",
   "execution_count": 35,
   "metadata": {},
   "outputs": [
    {
     "name": "stdout",
     "output_type": "stream",
     "text": [
      "output/gpt-3_5-turbo-games/annotated/our_annotations/game_2024-03-06-16-53-2\n",
      "output/gpt-3_5-turbo-games/annotated/our_annotations/game_2024-03-06-16-21-47\n",
      "output/gpt-3_5-turbo-games/annotated/our_annotations/game_2024-03-06-16-39-8\n",
      "output/gpt-3_5-turbo-games/annotated/our_annotations/game_2024-03-06-16-21-42\n",
      "output/gpt-3_5-turbo-games/annotated/our_annotations/game_2024-03-06-15-10-42\n"
     ]
    }
   ],
   "source": [
    "for folder in experiment_folders:\n",
    "    print(folder)\n",
    "    gameplay_data, results, evaluation_df, annotation_df = read_data(folder)\n",
    "    final_player_rounds = filter_out_non_impactful_rows(evaluation_df, annotation_df)\n",
    "    process_results(folder.split('/')[-1], gameplay_data, results, final_player_rounds)"
   ]
  },
  {
   "cell_type": "code",
   "execution_count": 36,
   "metadata": {},
   "outputs": [
    {
     "data": {
      "text/plain": [
       "124"
      ]
     },
     "execution_count": 36,
     "metadata": {},
     "output_type": "execute_result"
    }
   ],
   "source": [
    "len(complete_intent_following_data)"
   ]
  },
  {
   "cell_type": "markdown",
   "metadata": {},
   "source": [
    "round wise count"
   ]
  },
  {
   "cell_type": "code",
   "execution_count": 37,
   "metadata": {},
   "outputs": [
    {
     "data": {
      "text/plain": [
       "defaultdict(int, {2: 40, 3: 30, 1: 30, 4: 24})"
      ]
     },
     "execution_count": 37,
     "metadata": {},
     "output_type": "execute_result"
    }
   ],
   "source": [
    "round_count = defaultdict(int)\n",
    "for d in complete_intent_following_data:\n",
    "    rnd = int(d['id'].split('_')[1].split('-')[-1])%10\n",
    "    round_count[rnd] += 1\n",
    "\n",
    "round_count"
   ]
  },
  {
   "cell_type": "code",
   "execution_count": 38,
   "metadata": {},
   "outputs": [
    {
     "data": {
      "text/plain": [
       "[(1, 30), (2, 40), (3, 30), (4, 24)]"
      ]
     },
     "execution_count": 38,
     "metadata": {},
     "output_type": "execute_result"
    }
   ],
   "source": [
    "sorted(round_count.items())"
   ]
  },
  {
   "cell_type": "code",
   "execution_count": 39,
   "metadata": {},
   "outputs": [
    {
     "data": {
      "text/plain": [
       "100"
      ]
     },
     "execution_count": 39,
     "metadata": {},
     "output_type": "execute_result"
    }
   ],
   "source": [
    "len(refine_con_intent_following_data)"
   ]
  },
  {
   "cell_type": "code",
   "execution_count": 40,
   "metadata": {},
   "outputs": [
    {
     "data": {
      "text/plain": [
       "238"
      ]
     },
     "execution_count": 40,
     "metadata": {},
     "output_type": "execute_result"
    }
   ],
   "source": [
    "intent_count = 0\n",
    "for data in refine_con_intent_following_data:\n",
    "    intent_count += len(data['intents'])\n",
    "intent_count"
   ]
  },
  {
   "cell_type": "code",
   "execution_count": 41,
   "metadata": {},
   "outputs": [
    {
     "data": {
      "text/plain": [
       "132"
      ]
     },
     "execution_count": 41,
     "metadata": {},
     "output_type": "execute_result"
    }
   ],
   "source": [
    "refine_con_intent_following_impactful_data = []\n",
    "intent_count = 0\n",
    "for data in refine_con_intent_following_data:\n",
    "    intents = data['intents']\n",
    "    filtered_intents = []\n",
    "    for intent in intents:\n",
    "        if intent not in impactful_intents:\n",
    "            continue\n",
    "        filtered_intents.append(intent)\n",
    "    final_data = data.copy()\n",
    "    final_data['intents'] = filtered_intents\n",
    "    if len(filtered_intents) == 0:\n",
    "        continue\n",
    "    refine_con_intent_following_impactful_data.append(final_data)\n",
    "    intent_count += len(filtered_intents)\n",
    "\n",
    "intent_count"
   ]
  },
  {
   "cell_type": "code",
   "execution_count": 42,
   "metadata": {},
   "outputs": [
    {
     "data": {
      "text/plain": [
       "defaultdict(int, {2: 26, 1: 17, 3: 23, 4: 17})"
      ]
     },
     "execution_count": 42,
     "metadata": {},
     "output_type": "execute_result"
    }
   ],
   "source": [
    "round_count = defaultdict(int)\n",
    "for d in refine_con_intent_following_impactful_data:\n",
    "    rnd = int(d['id'].split('-')[-1])%10\n",
    "    round_count[rnd] += 1\n",
    "\n",
    "round_count"
   ]
  },
  {
   "cell_type": "code",
   "execution_count": 43,
   "metadata": {},
   "outputs": [
    {
     "data": {
      "text/plain": [
       "[(1, 17), (2, 26), (3, 23), (4, 17)]"
      ]
     },
     "execution_count": 43,
     "metadata": {},
     "output_type": "execute_result"
    }
   ],
   "source": [
    "sorted(round_count.items())"
   ]
  },
  {
   "cell_type": "code",
   "execution_count": 44,
   "metadata": {},
   "outputs": [
    {
     "data": {
      "text/plain": [
       "100"
      ]
     },
     "execution_count": 44,
     "metadata": {},
     "output_type": "execute_result"
    }
   ],
   "source": [
    "len(reasonable_intent_data)"
   ]
  },
  {
   "cell_type": "code",
   "execution_count": 45,
   "metadata": {},
   "outputs": [
    {
     "data": {
      "text/plain": [
       "83"
      ]
     },
     "execution_count": 45,
     "metadata": {},
     "output_type": "execute_result"
    }
   ],
   "source": [
    "len(refine_con_intent_following_impactful_data)"
   ]
  },
  {
   "cell_type": "code",
   "execution_count": 46,
   "metadata": {},
   "outputs": [
    {
     "data": {
      "text/plain": [
       "dict_keys(['id', 'context', 'intents', 'reason'])"
      ]
     },
     "execution_count": 46,
     "metadata": {},
     "output_type": "execute_result"
    }
   ],
   "source": [
    "reasonable_intent_data[13].keys()"
   ]
  },
  {
   "cell_type": "code",
   "execution_count": 47,
   "metadata": {},
   "outputs": [
    {
     "data": {
      "text/plain": [
       "dict_keys(['id', 'context', 'intents', 'think', 'speak'])"
      ]
     },
     "execution_count": 47,
     "metadata": {},
     "output_type": "execute_result"
    }
   ],
   "source": [
    "complete_intent_following_data[13].keys()"
   ]
  },
  {
   "cell_type": "code",
   "execution_count": 48,
   "metadata": {},
   "outputs": [
    {
     "data": {
      "text/plain": [
       "dict_keys(['id', 'context', 'intents', 'think', 'speak'])"
      ]
     },
     "execution_count": 48,
     "metadata": {},
     "output_type": "execute_result"
    }
   ],
   "source": [
    "refine_con_intent_following_data[13].keys()"
   ]
  },
  {
   "cell_type": "code",
   "execution_count": 49,
   "metadata": {},
   "outputs": [
    {
     "data": {
      "text/plain": [
       "{'id': 'game_2024-03-06-16-53-2-player1-2_form',\n",
       " 'context': \"**Name**: Player1\\n\\n**Role**: Morgana\\n\\n**Role Details**: \\nYou are Morgana. These are your goals and characteristics: \\n- Pretend to be Merlin to mislead Percival and the good side.\\n- Goal(Main Intent): Fail quests and Confuse and sabotage to win.\\n- Assassin is Player3\\n\\n**Round**: 2\\n\\n**Current Leader**: Player2\\n\\n**Current Team**: Player1, Player4, Player5\\n\\n**Previous Rounds Team Voting**:\\nRound 1: Player1 = agree, Player2 = agree, Player3 = disagree, Player4 = agree, Player5 = disagree \\nRound 2: Player1 = disagree, Player2 = agree, Player3 = disagree, Player4 = agree, Player5 = agree \\n\\n**Previous Results**: \\nRound 1: Team = Player1, Player2, Result = success\\n\\n**Previous Rounds Summary**:\\nSummary questions: \\n\\nWho was the leader for this round?\\nWhat was the proposed team for this round?\\nWhy do you think the leader proposed the current team?\\nDid everyone agree for the proposed team?\\nIf some people disagreed, why do you think they disagreed?\\nWas the quest successful?\\nIf the quest was successful, was any evil player part of the team? If yes, then why did they vote success?\\nIf the quest failed, how do you plan to protect the evil player in the next round?\\nWhat do the evil side need to do from here to win the game?\\n\\nRound 1 : \\n1. Who was the leader for this round? - Player1\\n2. What was the proposed team for this round? - Player1, Player2\\n3. Why do you think the leader proposed the current team? - To maintain trust and focus on the quest.\\n4. Did everyone agree for the proposed team? - Most players agreed.\\n5. If some people disagreed, why do you think they disagreed? - Player5 had reservations.\\n6. Was the quest successful? - Yes, it was successful.\\n7. If the quest was successful, was any evil player part of the team? If yes, then why did they vote success? - No evil player was part of the team.\\n8. If the quest failed, how do you plan to protect the evil player in the next round? - N/A\\n9. What do the evil side need to do from here to win the game? - Continue to sow confusion and sabotage the quests.\\n \\n\\nRound 2 : \\n1. Who was the leader for this round? - Player2\\n2. What was the proposed team for this round? - Player1, Player4, Player5\\n3. Why do you think the leader proposed the current team? - To maximize chances of victory.\\n4. Did everyone agree for the proposed team? - No, Player1 disagreed.\\n5. If some people disagreed, why do you think they disagreed? - Player1 had concerns about including Player4.\\n6. Was the quest successful? - Yes, it was successful.\\n7. If the quest was successful, was any evil player part of the team? If yes, then why did they vote success? - No evil player was part of the team.\\n8. If the quest failed, how do you plan to protect the evil player in the next round? - N/A\\n9. What do the evil side need to do from here to win the game? - Continue sowing confusion and sabotage quests.\\n \\n\\n\\n**Previous Discussions(in the current round)**: \\nPlayer2: I believe Player4 might be suspicious based on the interactions observed. As Percival, I aim to help the team identify the evil players. Let's work together to uncover the truth and succeed in this quest.\\nPlayer3: I believe we should carefully reconsider the team composition to ensure the best chance of success. Let's focus on selecting a team that maximizes our chances of victory in this quest.\\nPlayer4: Player2, could you explain why you chose Player3 for the team? I have reservations about including Player3 due to their performance in the last quest. I suspect Player3 might be evil, so I suggest reconsidering the team composition without them.\\nPlayer5: Player3, can you share why you didn't vote for the last team? Additionally, I believe Player4 has shown loyalty and support including them in the current team.\\n\",\n",
       " 'intents': ['question a player on why he didnt vote for the last team',\n",
       "  'question a player about why they changed their statements',\n",
       "  'express concerns about a player from a failed quest team and suggest to not include them in current team'],\n",
       " 'think': \"I need to question a player on why they didn't vote for the last team to understand their reasoning. I should also inquire about why a player changed their statements to detect inconsistencies. Additionally, I must express concerns about including a player from a failed quest team in the current team to ensure better chances of success.\",\n",
       " 'speak': \"Player5, can you explain why you didn't vote for the last team? Player4, you mentioned earlier that Player3 might be evil. Can you clarify why you now support including them in the current team? I have concerns about including Player3 in the team due to suspicions raised in the previous quest. I suggest we reconsider the team composition without them.\"}"
      ]
     },
     "execution_count": 49,
     "metadata": {},
     "output_type": "execute_result"
    }
   ],
   "source": [
    "complete_intent_following_data[0]"
   ]
  },
  {
   "cell_type": "code",
   "execution_count": 50,
   "metadata": {},
   "outputs": [
    {
     "name": "stdout",
     "output_type": "stream",
     "text": [
      "**Name**: Player1\n",
      "\n",
      "**Role**: Morgana\n",
      "\n",
      "**Role Details**: \n",
      "You are Morgana. These are your goals and characteristics: \n",
      "- Pretend to be Merlin to mislead Percival and the good side.\n",
      "- Goal(Main Intent): Fail quests and Confuse and sabotage to win.\n",
      "\n",
      "**Round**: 2\n",
      "\n",
      "**Player Name**: Player2\n",
      "\n",
      "**Current Leader**: Player2\n",
      "\n",
      "**Current Team**: Player1, Player4, Player5\n",
      "\n",
      "**Previous Rounds Team Voting**:\n",
      "Round 1: Player1 = agree, Player2 = agree, Player3 = disagree, Player4 = agree, Player5 = disagree \n",
      "Round 2: Player1 = disagree, Player2 = agree, Player3 = disagree, Player4 = agree, Player5 = agree \n",
      "\n",
      "**Previous Results**: \n",
      "Round 1: Team = Player1, Player2, Result = success\n",
      "\n",
      "**Previous Rounds Summary**:\n",
      "Summary questions: \n",
      "\n",
      "Who was the leader for this round?\n",
      "What was the proposed team for this round?\n",
      "Why do you think the leader proposed the current team?\n",
      "Did everyone agree for the proposed team?\n",
      "If some people disagreed, why do you think they disagreed?\n",
      "Was the quest successful?\n",
      "If the quest was successful, was any evil player part of the team? If yes, then why did they vote success?\n",
      "If the quest failed, how do you plan to protect the evil player in the next round?\n",
      "What do the evil side need to do from here to win the game?\n",
      "\n",
      "Round 1 : \n",
      "1. Who was the leader for this round? - Player1\n",
      "2. What was the proposed team for this round? - Player1, Player2\n",
      "3. Why do you think the leader proposed the current team? - To maintain trust and focus on the quest.\n",
      "4. Did everyone agree for the proposed team? - Most players agreed.\n",
      "5. If some people disagreed, why do you think they disagreed? - Player5 had reservations.\n",
      "6. Was the quest successful? - Yes, it was successful.\n",
      "7. If the quest was successful, was any evil player part of the team? If yes, then why did they vote success? - No evil player was part of the team.\n",
      "8. If the quest failed, how do you plan to protect the evil player in the next round? - N/A\n",
      "9. What do the evil side need to do from here to win the game? - Continue to sow confusion and sabotage the quests.\n",
      " \n",
      "\n",
      "Round 2 : \n",
      "1. Who was the leader for this round? - Player2\n",
      "2. What was the proposed team for this round? - Player1, Player4, Player5\n",
      "3. Why do you think the leader proposed the current team? - To maximize chances of victory.\n",
      "4. Did everyone agree for the proposed team? - No, Player1 disagreed.\n",
      "5. If some people disagreed, why do you think they disagreed? - Player1 had concerns about including Player4.\n",
      "6. Was the quest successful? - Yes, it was successful.\n",
      "7. If the quest was successful, was any evil player part of the team? If yes, then why did they vote success? - No evil player was part of the team.\n",
      "8. If the quest failed, how do you plan to protect the evil player in the next round? - N/A\n",
      "9. What do the evil side need to do from here to win the game? - Continue sowing confusion and sabotage quests.\n",
      " \n",
      "\n",
      "\n",
      "**Previous Discussions(in the current round)**: \n",
      "Player2: I believe Player4 might be suspicious based on the interactions observed. As Percival, I aim to help the team identify the evil players. Let's work together to uncover the truth and succeed in this quest.\n",
      "Player3: I believe we should carefully reconsider the team composition to ensure the best chance of success. Let's focus on selecting a team that maximizes our chances of victory in this quest.\n",
      "Player4: Player2, could you explain why you chose Player3 for the team? I have reservations about including Player3 due to their performance in the last quest. I suspect Player3 might be evil, so I suggest reconsidering the team composition without them.\n",
      "Player5: Player3, can you share why you didn't vote for the last team? Additionally, I believe Player4 has shown loyalty and support including them in the current team.\n",
      "\n"
     ]
    }
   ],
   "source": [
    "print(refine_con_intent_following_data[0]['context'])"
   ]
  },
  {
   "cell_type": "code",
   "execution_count": 152,
   "metadata": {},
   "outputs": [
    {
     "name": "stdout",
     "output_type": "stream",
     "text": [
      "**Name**: Player3\n",
      "\n",
      "**Role**: Percival\n",
      "\n",
      "**Role Details**: \n",
      "You are percival and you need to help Merlin. These are your goals and characteristics:\n",
      "- Know identities of Merlin and Morgana, but unsure who is who.\n",
      "- Use subtle hints to guide team and protect Merlin.\n",
      "- Be cautious not to expose Merlin while deciphering true identities.\n",
      "- Goal(Main Intent): Win while safeguarding Merlin.\n",
      "- Player5 and Player2 are Merlin and Morgana, but you don't know which is Merlin and which is Morgana.\n",
      "\n",
      "**Round**: 2\n",
      "\n",
      "**Current Leader**: Player2\n",
      "\n",
      "**Current Team**: Player2, Player3, Player5\n",
      "\n",
      "**Previous Rounds Team Voting**:\n",
      "Round 1: Player1 = agree, Player2 = agree, Player3 = agree, Player4 = agree, Player5 = disagree \n",
      "Round 2: Player1 = agree, Player2 = agree, Player3 = agree, Player4 = agree, Player5 = disagree \n",
      "\n",
      "**Previous Results**: \n",
      "Round 1: Team = Player1, Player2, Result = failure\n",
      "\n",
      "**Previous Rounds Summary**:\n",
      "Summary questions: \n",
      "\n",
      "Who was the leader for this round?\n",
      "What was the proposed team for this round?\n",
      "Why do you think the leader proposed the current team?\n",
      "Did everyone agree for the proposed team?\n",
      "If some people disagreed, why do you think they disagreed?\n",
      "Was the quest successful?\n",
      "If the quest was successful, was any evil player part of the team? If yes, then why did they vote success?\n",
      "If the quest failed, how do you plan to protect the evil player in the next round?\n",
      "What do the evil side need to do from here to win the game?\n",
      "\n",
      "Round 1 : \n",
      "Who was the leader for this round? - Player1\n",
      "What was the proposed team for this round? - Player1, Player2\n",
      "Why do you think the leader proposed the current team? - Player1 believed that Player2 would work well together with them, aiming for a cohesive team.\n",
      "Did everyone agree for the proposed team? - No, Player5 disagreed.\n",
      "If some people disagreed, why do you think they disagreed? - Player5 might have had suspicions or wanted to test the group's reaction to disagreement.\n",
      "Was the quest successful? - No, the quest failed.\n",
      "If the quest was successful, do you think the quest had some evil players? If yes, then who do you think was it? - Not applicable as the quest failed.\n",
      "If the quest failed, who do you think were the evil players on the quest? - Considering there was 1 fail, it could have been either Player1 or Player2, or both if one is Morgana and the other is the Assassin.\n",
      "What do the loyal side need to do from here to win the game? - The loyal side needs to carefully assess the behaviors and voting patterns from this round to better inform the next team selection to avoid including evil players.\n",
      " \n",
      "\n",
      "Round 2 : \n",
      "Who was the leader for this round? - Player2\n",
      "What was the proposed team for this round? - Player2, Player3, Player5\n",
      "Why do you think the leader proposed the current team? - After considering the team's concerns and discussions, Player2 proposed a team that included players who had not been part of the failed quest.\n",
      "Did everyone agree for the proposed team? - No, Player5 disagreed.\n",
      "If some people disagreed, why do you think they disagreed? - Player5 may have disagreed due to suspicion towards the team composition or strategy, especially since they were part of the team that included a player from the previously failed quest.\n",
      "Was the quest successful? - No, the quest failed.\n",
      "If the quest was successful, do you think the quest had some evil players? If yes, then who do you think was it? - Not applicable as the quest failed.\n",
      "If the quest failed, who do you think were the evil players on the quest? - It's difficult to determine, but since I know I am loyal and there was one fail, it could be either Player2 or Player5, with one of them likely being Morgana.\n",
      "What do the loyal side need to do from here to win the game? - The loyal side must now be even more cautious in team selection, possibly relying on players who have not been on a quest, and\n",
      " \n",
      "\n",
      "\n",
      "**Previous Discussions(in the current round)**: \n",
      "Player2: I propose that Player1, Player3, and I go on this quest. I have a good feeling about this team, and I'm confident we can bring back success.\n",
      "\n"
     ]
    }
   ],
   "source": [
    "print(complete_intent_following_data[6]['context'])"
   ]
  },
  {
   "cell_type": "code",
   "execution_count": 51,
   "metadata": {},
   "outputs": [
    {
     "name": "stdout",
     "output_type": "stream",
     "text": [
      "['pretend to have information and act like merlin', 'express you are a loyal player', 'support your teammate to be on the quest team']\n"
     ]
    }
   ],
   "source": [
    "print(refine_con_intent_following_data[13]['intents'])"
   ]
  },
  {
   "cell_type": "code",
   "execution_count": 154,
   "metadata": {},
   "outputs": [
    {
     "name": "stdout",
     "output_type": "stream",
     "text": [
      "game_2024-03-29-1-27-24-player1-1_form\n"
     ]
    }
   ],
   "source": [
    "print(complete_intent_following_data[13]['id'])"
   ]
  },
  {
   "cell_type": "code",
   "execution_count": 10,
   "metadata": {},
   "outputs": [],
   "source": [
    "def save_data(data, file_path):\n",
    "    with open(file_path, 'w') as f:\n",
    "        json.dump(data, f, indent=4)"
   ]
  },
  {
   "cell_type": "code",
   "execution_count": 52,
   "metadata": {},
   "outputs": [],
   "source": [
    "SAVE_FOLDER = f\"output/gpt-3_5-turbo-games/annotated/evaluation_our_annotations/structured_context_files\""
   ]
  },
  {
   "cell_type": "code",
   "execution_count": 53,
   "metadata": {},
   "outputs": [
    {
     "ename": "FileExistsError",
     "evalue": "[Errno 17] File exists: 'output/gpt-3_5-turbo-games/annotated/evaluation_our_annotations/structured_context_files'",
     "output_type": "error",
     "traceback": [
      "\u001b[0;31m---------------------------------------------------------------------------\u001b[0m",
      "\u001b[0;31mFileExistsError\u001b[0m                           Traceback (most recent call last)",
      "Cell \u001b[0;32mIn[53], line 1\u001b[0m\n\u001b[0;32m----> 1\u001b[0m \u001b[43mos\u001b[49m\u001b[38;5;241;43m.\u001b[39;49m\u001b[43mmakedirs\u001b[49m\u001b[43m(\u001b[49m\u001b[43mSAVE_FOLDER\u001b[49m\u001b[43m)\u001b[49m\n",
      "File \u001b[0;32m<frozen os>:225\u001b[0m, in \u001b[0;36mmakedirs\u001b[0;34m(name, mode, exist_ok)\u001b[0m\n",
      "\u001b[0;31mFileExistsError\u001b[0m: [Errno 17] File exists: 'output/gpt-3_5-turbo-games/annotated/evaluation_our_annotations/structured_context_files'"
     ]
    }
   ],
   "source": [
    "os.makedirs(SAVE_FOLDER)"
   ]
  },
  {
   "cell_type": "code",
   "execution_count": 54,
   "metadata": {},
   "outputs": [],
   "source": [
    "SUFFIX = \"_all\""
   ]
  },
  {
   "cell_type": "code",
   "execution_count": 72,
   "metadata": {},
   "outputs": [],
   "source": [
    "# save_data(reasonable_intent_data, f\"{SAVE_FOLDER}/reasonable_intent{SUFFIX}.json\")\n",
    "# save_data(form_con_intent_following_data, f\"{SAVE_FOLDER}/frm_con_intent_following{SUFFIX}.json\")\n",
    "# save_data(refine_con_intent_following_data, f\"{SAVE_FOLDER}/intent_guessing{SUFFIX}.json\")\n",
    "save_data(complete_intent_following_data, f\"{SAVE_FOLDER}/intent_summarization{SUFFIX}.json\")"
   ]
  },
  {
   "cell_type": "code",
   "execution_count": 57,
   "metadata": {},
   "outputs": [],
   "source": [
    "save_data(refine_con_intent_following_data, f\"{SAVE_FOLDER}/intent_guessing_second_order_5_games.json\")"
   ]
  },
  {
   "cell_type": "markdown",
   "metadata": {},
   "source": [
    "### saving as csv"
   ]
  },
  {
   "cell_type": "code",
   "execution_count": 319,
   "metadata": {},
   "outputs": [
    {
     "data": {
      "text/plain": [
       "71"
      ]
     },
     "execution_count": 319,
     "metadata": {},
     "output_type": "execute_result"
    }
   ],
   "source": [
    "len(refine_con_intent_following_data)"
   ]
  },
  {
   "cell_type": "markdown",
   "metadata": {},
   "source": [
    "## Saving intent guessing data"
   ]
  },
  {
   "cell_type": "code",
   "execution_count": 320,
   "metadata": {},
   "outputs": [
    {
     "data": {
      "text/html": [
       "<div>\n",
       "<style scoped>\n",
       "    .dataframe tbody tr th:only-of-type {\n",
       "        vertical-align: middle;\n",
       "    }\n",
       "\n",
       "    .dataframe tbody tr th {\n",
       "        vertical-align: top;\n",
       "    }\n",
       "\n",
       "    .dataframe thead th {\n",
       "        text-align: right;\n",
       "    }\n",
       "</style>\n",
       "<table border=\"1\" class=\"dataframe\">\n",
       "  <thead>\n",
       "    <tr style=\"text-align: right;\">\n",
       "      <th></th>\n",
       "      <th>id</th>\n",
       "      <th>context</th>\n",
       "      <th>intents</th>\n",
       "      <th>think</th>\n",
       "      <th>speak</th>\n",
       "    </tr>\n",
       "  </thead>\n",
       "  <tbody>\n",
       "    <tr>\n",
       "      <th>0</th>\n",
       "      <td>game_2024-03-29-12-52-20-player1-1</td>\n",
       "      <td>**Name**: Player3\\n\\n**Role**: Percival\\n\\n**R...</td>\n",
       "      <td>[express you are a loyal player]</td>\n",
       "      <td>Ensuring my cover as the Assassin is critical,...</td>\n",
       "      <td>I propose that I, Player1, and Player2 embark ...</td>\n",
       "    </tr>\n",
       "    <tr>\n",
       "      <th>1</th>\n",
       "      <td>game_2024-03-29-12-52-20-player1-5</td>\n",
       "      <td>**Name**: Player2\\n\\n**Role**: Morgana\\n\\n**Ro...</td>\n",
       "      <td>[question the leader why they selected a parti...</td>\n",
       "      <td>I must continue to be cautious with my wording...</td>\n",
       "      <td>Player5, your selection is intriguing; could y...</td>\n",
       "    </tr>\n",
       "    <tr>\n",
       "      <th>2</th>\n",
       "      <td>game_2024-03-29-12-52-20-player2-3</td>\n",
       "      <td>**Name**: Player4\\n\\n**Role**: Servant\\n\\n**Ro...</td>\n",
       "      <td>[express concerns about a player from a failed...</td>\n",
       "      <td>As Morgana, my actions should create uncertain...</td>\n",
       "      <td>It is curious that Player3 has not chosen to b...</td>\n",
       "    </tr>\n",
       "    <tr>\n",
       "      <th>3</th>\n",
       "      <td>game_2024-03-29-12-52-20-player2-4</td>\n",
       "      <td>**Name**: Player1\\n\\n**Role**: Assassin\\n\\n**R...</td>\n",
       "      <td>[question the leader why they selected a parti...</td>\n",
       "      <td>I need to maintain the facade of being cautiou...</td>\n",
       "      <td>Player4, I find your choice intriguing. In the...</td>\n",
       "    </tr>\n",
       "    <tr>\n",
       "      <th>4</th>\n",
       "      <td>game_2024-03-29-12-52-20-player2-5</td>\n",
       "      <td>**Name**: Player1\\n\\n**Role**: Assassin\\n\\n**R...</td>\n",
       "      <td>[question the leader why they selected a parti...</td>\n",
       "      <td>My primary objective is to ensure the failure ...</td>\n",
       "      <td>Player5, your choice of team members is crucia...</td>\n",
       "    </tr>\n",
       "  </tbody>\n",
       "</table>\n",
       "</div>"
      ],
      "text/plain": [
       "                                   id  \\\n",
       "0  game_2024-03-29-12-52-20-player1-1   \n",
       "1  game_2024-03-29-12-52-20-player1-5   \n",
       "2  game_2024-03-29-12-52-20-player2-3   \n",
       "3  game_2024-03-29-12-52-20-player2-4   \n",
       "4  game_2024-03-29-12-52-20-player2-5   \n",
       "\n",
       "                                             context  \\\n",
       "0  **Name**: Player3\\n\\n**Role**: Percival\\n\\n**R...   \n",
       "1  **Name**: Player2\\n\\n**Role**: Morgana\\n\\n**Ro...   \n",
       "2  **Name**: Player4\\n\\n**Role**: Servant\\n\\n**Ro...   \n",
       "3  **Name**: Player1\\n\\n**Role**: Assassin\\n\\n**R...   \n",
       "4  **Name**: Player1\\n\\n**Role**: Assassin\\n\\n**R...   \n",
       "\n",
       "                                             intents  \\\n",
       "0                   [express you are a loyal player]   \n",
       "1  [question the leader why they selected a parti...   \n",
       "2  [express concerns about a player from a failed...   \n",
       "3  [question the leader why they selected a parti...   \n",
       "4  [question the leader why they selected a parti...   \n",
       "\n",
       "                                               think  \\\n",
       "0  Ensuring my cover as the Assassin is critical,...   \n",
       "1  I must continue to be cautious with my wording...   \n",
       "2  As Morgana, my actions should create uncertain...   \n",
       "3  I need to maintain the facade of being cautiou...   \n",
       "4  My primary objective is to ensure the failure ...   \n",
       "\n",
       "                                               speak  \n",
       "0  I propose that I, Player1, and Player2 embark ...  \n",
       "1  Player5, your selection is intriguing; could y...  \n",
       "2  It is curious that Player3 has not chosen to b...  \n",
       "3  Player4, I find your choice intriguing. In the...  \n",
       "4  Player5, your choice of team members is crucia...  "
      ]
     },
     "execution_count": 320,
     "metadata": {},
     "output_type": "execute_result"
    }
   ],
   "source": [
    "refine_con_intent_following_df = pd.DataFrame(refine_con_intent_following_impactful_data)\n",
    "refine_con_intent_following_df.head()"
   ]
  },
  {
   "cell_type": "code",
   "execution_count": 321,
   "metadata": {},
   "outputs": [
    {
     "data": {
      "text/html": [
       "<div>\n",
       "<style scoped>\n",
       "    .dataframe tbody tr th:only-of-type {\n",
       "        vertical-align: middle;\n",
       "    }\n",
       "\n",
       "    .dataframe tbody tr th {\n",
       "        vertical-align: top;\n",
       "    }\n",
       "\n",
       "    .dataframe thead th {\n",
       "        text-align: right;\n",
       "    }\n",
       "</style>\n",
       "<table border=\"1\" class=\"dataframe\">\n",
       "  <thead>\n",
       "    <tr style=\"text-align: right;\">\n",
       "      <th></th>\n",
       "      <th>id</th>\n",
       "      <th>context</th>\n",
       "      <th>intents</th>\n",
       "      <th>speak</th>\n",
       "    </tr>\n",
       "  </thead>\n",
       "  <tbody>\n",
       "    <tr>\n",
       "      <th>0</th>\n",
       "      <td>game_2024-03-29-12-52-20-player1-1</td>\n",
       "      <td>**Name**: Player3\\n\\n**Role**: Percival\\n\\n**R...</td>\n",
       "      <td>[express you are a loyal player]</td>\n",
       "      <td>I propose that I, Player1, and Player2 embark ...</td>\n",
       "    </tr>\n",
       "    <tr>\n",
       "      <th>1</th>\n",
       "      <td>game_2024-03-29-12-52-20-player1-5</td>\n",
       "      <td>**Name**: Player2\\n\\n**Role**: Morgana\\n\\n**Ro...</td>\n",
       "      <td>[question the leader why they selected a parti...</td>\n",
       "      <td>Player5, your selection is intriguing; could y...</td>\n",
       "    </tr>\n",
       "    <tr>\n",
       "      <th>2</th>\n",
       "      <td>game_2024-03-29-12-52-20-player2-3</td>\n",
       "      <td>**Name**: Player4\\n\\n**Role**: Servant\\n\\n**Ro...</td>\n",
       "      <td>[express concerns about a player from a failed...</td>\n",
       "      <td>It is curious that Player3 has not chosen to b...</td>\n",
       "    </tr>\n",
       "    <tr>\n",
       "      <th>3</th>\n",
       "      <td>game_2024-03-29-12-52-20-player2-4</td>\n",
       "      <td>**Name**: Player1\\n\\n**Role**: Assassin\\n\\n**R...</td>\n",
       "      <td>[question the leader why they selected a parti...</td>\n",
       "      <td>Player4, I find your choice intriguing. In the...</td>\n",
       "    </tr>\n",
       "    <tr>\n",
       "      <th>4</th>\n",
       "      <td>game_2024-03-29-12-52-20-player2-5</td>\n",
       "      <td>**Name**: Player1\\n\\n**Role**: Assassin\\n\\n**R...</td>\n",
       "      <td>[question the leader why they selected a parti...</td>\n",
       "      <td>Player5, your choice of team members is crucia...</td>\n",
       "    </tr>\n",
       "  </tbody>\n",
       "</table>\n",
       "</div>"
      ],
      "text/plain": [
       "                                   id  \\\n",
       "0  game_2024-03-29-12-52-20-player1-1   \n",
       "1  game_2024-03-29-12-52-20-player1-5   \n",
       "2  game_2024-03-29-12-52-20-player2-3   \n",
       "3  game_2024-03-29-12-52-20-player2-4   \n",
       "4  game_2024-03-29-12-52-20-player2-5   \n",
       "\n",
       "                                             context  \\\n",
       "0  **Name**: Player3\\n\\n**Role**: Percival\\n\\n**R...   \n",
       "1  **Name**: Player2\\n\\n**Role**: Morgana\\n\\n**Ro...   \n",
       "2  **Name**: Player4\\n\\n**Role**: Servant\\n\\n**Ro...   \n",
       "3  **Name**: Player1\\n\\n**Role**: Assassin\\n\\n**R...   \n",
       "4  **Name**: Player1\\n\\n**Role**: Assassin\\n\\n**R...   \n",
       "\n",
       "                                             intents  \\\n",
       "0                   [express you are a loyal player]   \n",
       "1  [question the leader why they selected a parti...   \n",
       "2  [express concerns about a player from a failed...   \n",
       "3  [question the leader why they selected a parti...   \n",
       "4  [question the leader why they selected a parti...   \n",
       "\n",
       "                                               speak  \n",
       "0  I propose that I, Player1, and Player2 embark ...  \n",
       "1  Player5, your selection is intriguing; could y...  \n",
       "2  It is curious that Player3 has not chosen to b...  \n",
       "3  Player4, I find your choice intriguing. In the...  \n",
       "4  Player5, your choice of team members is crucia...  "
      ]
     },
     "execution_count": 321,
     "metadata": {},
     "output_type": "execute_result"
    }
   ],
   "source": [
    "refine_con_intent_following_df = refine_con_intent_following_df.drop(['think'], axis=1)\n",
    "refine_con_intent_following_df.head()"
   ]
  },
  {
   "cell_type": "code",
   "execution_count": 322,
   "metadata": {},
   "outputs": [],
   "source": [
    "refine_con_intent_following_df.to_csv(f\"{SAVE_FOLDER}/intent_guessing{SUFFIX}_impactful.csv\", index=False)"
   ]
  },
  {
   "cell_type": "code",
   "execution_count": 323,
   "metadata": {},
   "outputs": [
    {
     "data": {
      "text/plain": [
       "62"
      ]
     },
     "execution_count": 323,
     "metadata": {},
     "output_type": "execute_result"
    }
   ],
   "source": [
    "len(refine_con_intent_following_df)"
   ]
  },
  {
   "cell_type": "code",
   "execution_count": 324,
   "metadata": {},
   "outputs": [
    {
     "data": {
      "text/html": [
       "<div>\n",
       "<style scoped>\n",
       "    .dataframe tbody tr th:only-of-type {\n",
       "        vertical-align: middle;\n",
       "    }\n",
       "\n",
       "    .dataframe tbody tr th {\n",
       "        vertical-align: top;\n",
       "    }\n",
       "\n",
       "    .dataframe thead th {\n",
       "        text-align: right;\n",
       "    }\n",
       "</style>\n",
       "<table border=\"1\" class=\"dataframe\">\n",
       "  <thead>\n",
       "    <tr style=\"text-align: right;\">\n",
       "      <th></th>\n",
       "      <th>id</th>\n",
       "      <th>context</th>\n",
       "      <th>speak</th>\n",
       "    </tr>\n",
       "  </thead>\n",
       "  <tbody>\n",
       "    <tr>\n",
       "      <th>0</th>\n",
       "      <td>game_2024-03-29-12-52-20-player1-1</td>\n",
       "      <td>**Name**: Player3\\n\\n**Role**: Percival\\n\\n**R...</td>\n",
       "      <td>I propose that I, Player1, and Player2 embark ...</td>\n",
       "    </tr>\n",
       "    <tr>\n",
       "      <th>1</th>\n",
       "      <td>game_2024-03-29-12-52-20-player1-5</td>\n",
       "      <td>**Name**: Player2\\n\\n**Role**: Morgana\\n\\n**Ro...</td>\n",
       "      <td>Player5, your selection is intriguing; could y...</td>\n",
       "    </tr>\n",
       "    <tr>\n",
       "      <th>2</th>\n",
       "      <td>game_2024-03-29-12-52-20-player2-3</td>\n",
       "      <td>**Name**: Player4\\n\\n**Role**: Servant\\n\\n**Ro...</td>\n",
       "      <td>It is curious that Player3 has not chosen to b...</td>\n",
       "    </tr>\n",
       "    <tr>\n",
       "      <th>3</th>\n",
       "      <td>game_2024-03-29-12-52-20-player2-4</td>\n",
       "      <td>**Name**: Player1\\n\\n**Role**: Assassin\\n\\n**R...</td>\n",
       "      <td>Player4, I find your choice intriguing. In the...</td>\n",
       "    </tr>\n",
       "    <tr>\n",
       "      <th>4</th>\n",
       "      <td>game_2024-03-29-12-52-20-player2-5</td>\n",
       "      <td>**Name**: Player1\\n\\n**Role**: Assassin\\n\\n**R...</td>\n",
       "      <td>Player5, your choice of team members is crucia...</td>\n",
       "    </tr>\n",
       "  </tbody>\n",
       "</table>\n",
       "</div>"
      ],
      "text/plain": [
       "                                   id  \\\n",
       "0  game_2024-03-29-12-52-20-player1-1   \n",
       "1  game_2024-03-29-12-52-20-player1-5   \n",
       "2  game_2024-03-29-12-52-20-player2-3   \n",
       "3  game_2024-03-29-12-52-20-player2-4   \n",
       "4  game_2024-03-29-12-52-20-player2-5   \n",
       "\n",
       "                                             context  \\\n",
       "0  **Name**: Player3\\n\\n**Role**: Percival\\n\\n**R...   \n",
       "1  **Name**: Player2\\n\\n**Role**: Morgana\\n\\n**Ro...   \n",
       "2  **Name**: Player4\\n\\n**Role**: Servant\\n\\n**Ro...   \n",
       "3  **Name**: Player1\\n\\n**Role**: Assassin\\n\\n**R...   \n",
       "4  **Name**: Player1\\n\\n**Role**: Assassin\\n\\n**R...   \n",
       "\n",
       "                                               speak  \n",
       "0  I propose that I, Player1, and Player2 embark ...  \n",
       "1  Player5, your selection is intriguing; could y...  \n",
       "2  It is curious that Player3 has not chosen to b...  \n",
       "3  Player4, I find your choice intriguing. In the...  \n",
       "4  Player5, your choice of team members is crucia...  "
      ]
     },
     "execution_count": 324,
     "metadata": {},
     "output_type": "execute_result"
    }
   ],
   "source": [
    "refine_con_intent_following_wihtout_intents_df = refine_con_intent_following_df.drop(['intents'], axis=1)\n",
    "refine_con_intent_following_wihtout_intents_df.head()"
   ]
  },
  {
   "cell_type": "code",
   "execution_count": 325,
   "metadata": {},
   "outputs": [],
   "source": [
    "refine_con_intent_following_wihtout_intents_df.to_csv(f\"{SAVE_FOLDER}/intent_guessing_without_intent{SUFFIX}_impactful.csv\", index=False)"
   ]
  },
  {
   "cell_type": "code",
   "execution_count": 580,
   "metadata": {},
   "outputs": [
    {
     "data": {
      "text/plain": [
       "50"
      ]
     },
     "execution_count": 580,
     "metadata": {},
     "output_type": "execute_result"
    }
   ],
   "source": [
    "refine_con_intent_following_df_50 = refine_con_intent_following_df.sample(n=50)\n",
    "len(refine_con_intent_following_df_50)"
   ]
  },
  {
   "cell_type": "code",
   "execution_count": 581,
   "metadata": {},
   "outputs": [],
   "source": [
    "refine_con_intent_following_df_50.to_csv(f\"{SAVE_FOLDER}/intent_guessing_gpt4_50.csv\", index=False)"
   ]
  },
  {
   "cell_type": "code",
   "execution_count": 582,
   "metadata": {},
   "outputs": [
    {
     "data": {
      "text/html": [
       "<div>\n",
       "<style scoped>\n",
       "    .dataframe tbody tr th:only-of-type {\n",
       "        vertical-align: middle;\n",
       "    }\n",
       "\n",
       "    .dataframe tbody tr th {\n",
       "        vertical-align: top;\n",
       "    }\n",
       "\n",
       "    .dataframe thead th {\n",
       "        text-align: right;\n",
       "    }\n",
       "</style>\n",
       "<table border=\"1\" class=\"dataframe\">\n",
       "  <thead>\n",
       "    <tr style=\"text-align: right;\">\n",
       "      <th></th>\n",
       "      <th>id</th>\n",
       "      <th>context</th>\n",
       "      <th>speak</th>\n",
       "    </tr>\n",
       "  </thead>\n",
       "  <tbody>\n",
       "    <tr>\n",
       "      <th>10</th>\n",
       "      <td>game_2024-03-29-12-52-20-player3-4</td>\n",
       "      <td>**Name**: Player4\\n\\n**Role**: Servant\\n\\n**Ro...</td>\n",
       "      <td>Team, our previous quest outcomes must guide o...</td>\n",
       "    </tr>\n",
       "    <tr>\n",
       "      <th>49</th>\n",
       "      <td>game_2024-03-29-1-59-14-player4-2</td>\n",
       "      <td>**Name**: Player5\\n\\n**Role**: Assassin\\n\\n**R...</td>\n",
       "      <td>Player2, I understand the need for a strong te...</td>\n",
       "    </tr>\n",
       "    <tr>\n",
       "      <th>36</th>\n",
       "      <td>game_2024-03-29-1-27-24-player5-3</td>\n",
       "      <td>**Name**: Player1\\n\\n**Role**: Assassin\\n\\n**R...</td>\n",
       "      <td>Player3, I find it risky to include a member f...</td>\n",
       "    </tr>\n",
       "    <tr>\n",
       "      <th>62</th>\n",
       "      <td>game_2024-03-29-0-16-48-player2-4</td>\n",
       "      <td>**Name**: Player3\\n\\n**Role**: Assassin\\n\\n**R...</td>\n",
       "      <td>While I trust Player4's judgment, the inclusio...</td>\n",
       "    </tr>\n",
       "    <tr>\n",
       "      <th>26</th>\n",
       "      <td>game_2024-03-29-1-27-24-player2-3</td>\n",
       "      <td>**Name**: Player3\\n\\n**Role**: Morgana\\n\\n**Ro...</td>\n",
       "      <td>Player3's decision to include Player1 again is...</td>\n",
       "    </tr>\n",
       "  </tbody>\n",
       "</table>\n",
       "</div>"
      ],
      "text/plain": [
       "                                    id  \\\n",
       "10  game_2024-03-29-12-52-20-player3-4   \n",
       "49   game_2024-03-29-1-59-14-player4-2   \n",
       "36   game_2024-03-29-1-27-24-player5-3   \n",
       "62   game_2024-03-29-0-16-48-player2-4   \n",
       "26   game_2024-03-29-1-27-24-player2-3   \n",
       "\n",
       "                                              context  \\\n",
       "10  **Name**: Player4\\n\\n**Role**: Servant\\n\\n**Ro...   \n",
       "49  **Name**: Player5\\n\\n**Role**: Assassin\\n\\n**R...   \n",
       "36  **Name**: Player1\\n\\n**Role**: Assassin\\n\\n**R...   \n",
       "62  **Name**: Player3\\n\\n**Role**: Assassin\\n\\n**R...   \n",
       "26  **Name**: Player3\\n\\n**Role**: Morgana\\n\\n**Ro...   \n",
       "\n",
       "                                                speak  \n",
       "10  Team, our previous quest outcomes must guide o...  \n",
       "49  Player2, I understand the need for a strong te...  \n",
       "36  Player3, I find it risky to include a member f...  \n",
       "62  While I trust Player4's judgment, the inclusio...  \n",
       "26  Player3's decision to include Player1 again is...  "
      ]
     },
     "execution_count": 582,
     "metadata": {},
     "output_type": "execute_result"
    }
   ],
   "source": [
    "refine_con_intent_following_df_50 = refine_con_intent_following_df_50.drop(['intents'], axis=1)\n",
    "refine_con_intent_following_df_50.head()"
   ]
  },
  {
   "cell_type": "code",
   "execution_count": 583,
   "metadata": {},
   "outputs": [],
   "source": [
    "refine_con_intent_following_df_50.to_csv(f\"{SAVE_FOLDER}/intent_guessing_gpt4_without_intents_50.csv\", index=False)"
   ]
  },
  {
   "cell_type": "code",
   "execution_count": 584,
   "metadata": {},
   "outputs": [
    {
     "data": {
      "text/plain": [
       "50"
      ]
     },
     "execution_count": 584,
     "metadata": {},
     "output_type": "execute_result"
    }
   ],
   "source": [
    "refine_con_intent_following_data_50 = []\n",
    "sampled_50_ref_ids = {id: True for id in refine_con_intent_following_df_50['id'].values.tolist()}\n",
    "for data in refine_con_intent_following_data:\n",
    "    id = data['id']\n",
    "    if id in sampled_50_ref_ids:\n",
    "        refine_con_intent_following_data_50.append(data)\n",
    "\n",
    "len(refine_con_intent_following_data_50)"
   ]
  },
  {
   "cell_type": "code",
   "execution_count": 585,
   "metadata": {},
   "outputs": [],
   "source": [
    "save_data(refine_con_intent_following_data_50, f\"{SAVE_FOLDER}/intent_guessing_gpt4_50.json\")"
   ]
  },
  {
   "cell_type": "markdown",
   "metadata": {},
   "source": [
    "## Saving summarization data"
   ]
  },
  {
   "cell_type": "code",
   "execution_count": 75,
   "metadata": {},
   "outputs": [
    {
     "data": {
      "text/html": [
       "<div>\n",
       "<style scoped>\n",
       "    .dataframe tbody tr th:only-of-type {\n",
       "        vertical-align: middle;\n",
       "    }\n",
       "\n",
       "    .dataframe tbody tr th {\n",
       "        vertical-align: top;\n",
       "    }\n",
       "\n",
       "    .dataframe thead th {\n",
       "        text-align: right;\n",
       "    }\n",
       "</style>\n",
       "<table border=\"1\" class=\"dataframe\">\n",
       "  <thead>\n",
       "    <tr style=\"text-align: right;\">\n",
       "      <th></th>\n",
       "      <th>id</th>\n",
       "      <th>context</th>\n",
       "      <th>intents</th>\n",
       "      <th>think</th>\n",
       "      <th>speak</th>\n",
       "    </tr>\n",
       "  </thead>\n",
       "  <tbody>\n",
       "    <tr>\n",
       "      <th>0</th>\n",
       "      <td>game_2024-03-29-12-52-20-player1-1_form</td>\n",
       "      <td>**Name**: Player1\\n\\n**Role**: Assassin\\n\\n**R...</td>\n",
       "      <td>[stay hidden in discussions and act like a loy...</td>\n",
       "      <td>As the assassin, my main objective is to sow d...</td>\n",
       "      <td>For this first quest, I believe it's crucial t...</td>\n",
       "    </tr>\n",
       "    <tr>\n",
       "      <th>1</th>\n",
       "      <td>game_2024-03-29-12-52-20-player1-2_ref</td>\n",
       "      <td>**Name**: Player1\\n\\n**Role**: Assassin\\n\\n**R...</td>\n",
       "      <td>[defend your teammate against allegations that...</td>\n",
       "      <td>To maintain my cover and push the game towards...</td>\n",
       "      <td>I trust Player2's judgment for this quest, and...</td>\n",
       "    </tr>\n",
       "    <tr>\n",
       "      <th>2</th>\n",
       "      <td>game_2024-03-29-12-52-20-player1-5_form</td>\n",
       "      <td>**Name**: Player1\\n\\n**Role**: Assassin\\n\\n**R...</td>\n",
       "      <td>[question the leader why they selected a parti...</td>\n",
       "      <td>I need to cast suspicion subtly to protect my ...</td>\n",
       "      <td>I'm curious, Player5, about your rationale for...</td>\n",
       "    </tr>\n",
       "    <tr>\n",
       "      <th>3</th>\n",
       "      <td>game_2024-03-29-12-52-20-player2-2_form</td>\n",
       "      <td>**Name**: Player2\\n\\n**Role**: Morgana\\n\\n**Ro...</td>\n",
       "      <td>[pretend to have information and act like merl...</td>\n",
       "      <td>I need to subtly suggest that I have insider k...</td>\n",
       "      <td>I have a strong feeling about the loyalty of P...</td>\n",
       "    </tr>\n",
       "    <tr>\n",
       "      <th>4</th>\n",
       "      <td>game_2024-03-29-12-52-20-player2-3_form</td>\n",
       "      <td>**Name**: Player2\\n\\n**Role**: Morgana\\n\\n**Ro...</td>\n",
       "      <td>[question the leader why they didnt put themse...</td>\n",
       "      <td>As Morgana, my sub-goals are to cast suspicion...</td>\n",
       "      <td>I find it a bit unusual that Player3 hasn't pr...</td>\n",
       "    </tr>\n",
       "  </tbody>\n",
       "</table>\n",
       "</div>"
      ],
      "text/plain": [
       "                                        id  \\\n",
       "0  game_2024-03-29-12-52-20-player1-1_form   \n",
       "1   game_2024-03-29-12-52-20-player1-2_ref   \n",
       "2  game_2024-03-29-12-52-20-player1-5_form   \n",
       "3  game_2024-03-29-12-52-20-player2-2_form   \n",
       "4  game_2024-03-29-12-52-20-player2-3_form   \n",
       "\n",
       "                                             context  \\\n",
       "0  **Name**: Player1\\n\\n**Role**: Assassin\\n\\n**R...   \n",
       "1  **Name**: Player1\\n\\n**Role**: Assassin\\n\\n**R...   \n",
       "2  **Name**: Player1\\n\\n**Role**: Assassin\\n\\n**R...   \n",
       "3  **Name**: Player2\\n\\n**Role**: Morgana\\n\\n**Ro...   \n",
       "4  **Name**: Player2\\n\\n**Role**: Morgana\\n\\n**Ro...   \n",
       "\n",
       "                                             intents  \\\n",
       "0  [stay hidden in discussions and act like a loy...   \n",
       "1  [defend your teammate against allegations that...   \n",
       "2  [question the leader why they selected a parti...   \n",
       "3  [pretend to have information and act like merl...   \n",
       "4  [question the leader why they didnt put themse...   \n",
       "\n",
       "                                               think  \\\n",
       "0  As the assassin, my main objective is to sow d...   \n",
       "1  To maintain my cover and push the game towards...   \n",
       "2  I need to cast suspicion subtly to protect my ...   \n",
       "3  I need to subtly suggest that I have insider k...   \n",
       "4  As Morgana, my sub-goals are to cast suspicion...   \n",
       "\n",
       "                                               speak  \n",
       "0  For this first quest, I believe it's crucial t...  \n",
       "1  I trust Player2's judgment for this quest, and...  \n",
       "2  I'm curious, Player5, about your rationale for...  \n",
       "3  I have a strong feeling about the loyalty of P...  \n",
       "4  I find it a bit unusual that Player3 hasn't pr...  "
      ]
     },
     "execution_count": 75,
     "metadata": {},
     "output_type": "execute_result"
    }
   ],
   "source": [
    "complete_intent_following_df = pd.DataFrame(complete_intent_following_data)\n",
    "complete_intent_following_df.head()"
   ]
  },
  {
   "cell_type": "code",
   "execution_count": 76,
   "metadata": {},
   "outputs": [],
   "source": [
    "complete_intent_following_df.to_csv(f\"{SAVE_FOLDER}/intent_summarization{SUFFIX}.csv\", index=False)"
   ]
  },
  {
   "cell_type": "code",
   "execution_count": 77,
   "metadata": {},
   "outputs": [
    {
     "data": {
      "text/html": [
       "<div>\n",
       "<style scoped>\n",
       "    .dataframe tbody tr th:only-of-type {\n",
       "        vertical-align: middle;\n",
       "    }\n",
       "\n",
       "    .dataframe tbody tr th {\n",
       "        vertical-align: top;\n",
       "    }\n",
       "\n",
       "    .dataframe thead th {\n",
       "        text-align: right;\n",
       "    }\n",
       "</style>\n",
       "<table border=\"1\" class=\"dataframe\">\n",
       "  <thead>\n",
       "    <tr style=\"text-align: right;\">\n",
       "      <th></th>\n",
       "      <th>id</th>\n",
       "      <th>context</th>\n",
       "      <th>think</th>\n",
       "      <th>speak</th>\n",
       "    </tr>\n",
       "  </thead>\n",
       "  <tbody>\n",
       "    <tr>\n",
       "      <th>0</th>\n",
       "      <td>game_2024-03-29-12-52-20-player1-1_form</td>\n",
       "      <td>**Name**: Player1\\n\\n**Role**: Assassin\\n\\n**R...</td>\n",
       "      <td>As the assassin, my main objective is to sow d...</td>\n",
       "      <td>For this first quest, I believe it's crucial t...</td>\n",
       "    </tr>\n",
       "    <tr>\n",
       "      <th>1</th>\n",
       "      <td>game_2024-03-29-12-52-20-player1-2_ref</td>\n",
       "      <td>**Name**: Player1\\n\\n**Role**: Assassin\\n\\n**R...</td>\n",
       "      <td>To maintain my cover and push the game towards...</td>\n",
       "      <td>I trust Player2's judgment for this quest, and...</td>\n",
       "    </tr>\n",
       "    <tr>\n",
       "      <th>2</th>\n",
       "      <td>game_2024-03-29-12-52-20-player1-5_form</td>\n",
       "      <td>**Name**: Player1\\n\\n**Role**: Assassin\\n\\n**R...</td>\n",
       "      <td>I need to cast suspicion subtly to protect my ...</td>\n",
       "      <td>I'm curious, Player5, about your rationale for...</td>\n",
       "    </tr>\n",
       "    <tr>\n",
       "      <th>3</th>\n",
       "      <td>game_2024-03-29-12-52-20-player2-2_form</td>\n",
       "      <td>**Name**: Player2\\n\\n**Role**: Morgana\\n\\n**Ro...</td>\n",
       "      <td>I need to subtly suggest that I have insider k...</td>\n",
       "      <td>I have a strong feeling about the loyalty of P...</td>\n",
       "    </tr>\n",
       "    <tr>\n",
       "      <th>4</th>\n",
       "      <td>game_2024-03-29-12-52-20-player2-3_form</td>\n",
       "      <td>**Name**: Player2\\n\\n**Role**: Morgana\\n\\n**Ro...</td>\n",
       "      <td>As Morgana, my sub-goals are to cast suspicion...</td>\n",
       "      <td>I find it a bit unusual that Player3 hasn't pr...</td>\n",
       "    </tr>\n",
       "  </tbody>\n",
       "</table>\n",
       "</div>"
      ],
      "text/plain": [
       "                                        id  \\\n",
       "0  game_2024-03-29-12-52-20-player1-1_form   \n",
       "1   game_2024-03-29-12-52-20-player1-2_ref   \n",
       "2  game_2024-03-29-12-52-20-player1-5_form   \n",
       "3  game_2024-03-29-12-52-20-player2-2_form   \n",
       "4  game_2024-03-29-12-52-20-player2-3_form   \n",
       "\n",
       "                                             context  \\\n",
       "0  **Name**: Player1\\n\\n**Role**: Assassin\\n\\n**R...   \n",
       "1  **Name**: Player1\\n\\n**Role**: Assassin\\n\\n**R...   \n",
       "2  **Name**: Player1\\n\\n**Role**: Assassin\\n\\n**R...   \n",
       "3  **Name**: Player2\\n\\n**Role**: Morgana\\n\\n**Ro...   \n",
       "4  **Name**: Player2\\n\\n**Role**: Morgana\\n\\n**Ro...   \n",
       "\n",
       "                                               think  \\\n",
       "0  As the assassin, my main objective is to sow d...   \n",
       "1  To maintain my cover and push the game towards...   \n",
       "2  I need to cast suspicion subtly to protect my ...   \n",
       "3  I need to subtly suggest that I have insider k...   \n",
       "4  As Morgana, my sub-goals are to cast suspicion...   \n",
       "\n",
       "                                               speak  \n",
       "0  For this first quest, I believe it's crucial t...  \n",
       "1  I trust Player2's judgment for this quest, and...  \n",
       "2  I'm curious, Player5, about your rationale for...  \n",
       "3  I have a strong feeling about the loyalty of P...  \n",
       "4  I find it a bit unusual that Player3 hasn't pr...  "
      ]
     },
     "execution_count": 77,
     "metadata": {},
     "output_type": "execute_result"
    }
   ],
   "source": [
    "complete_intent_following_wihtout_intents_df = complete_intent_following_df.drop(['intents'], axis=1)\n",
    "complete_intent_following_wihtout_intents_df.head()"
   ]
  },
  {
   "cell_type": "code",
   "execution_count": 78,
   "metadata": {},
   "outputs": [],
   "source": [
    "complete_intent_following_wihtout_intents_df.to_csv(f\"{SAVE_FOLDER}/intent_summarization_without_intent{SUFFIX}.csv\", index=False)"
   ]
  },
  {
   "cell_type": "code",
   "execution_count": 493,
   "metadata": {},
   "outputs": [
    {
     "data": {
      "text/plain": [
       "50"
      ]
     },
     "execution_count": 493,
     "metadata": {},
     "output_type": "execute_result"
    }
   ],
   "source": [
    "complete_intent_following_df_100 = complete_intent_following_df.sample(n=50)\n",
    "len(complete_intent_following_df_100)"
   ]
  },
  {
   "cell_type": "code",
   "execution_count": 494,
   "metadata": {},
   "outputs": [],
   "source": [
    "complete_intent_following_df_100.to_csv(f\"{SAVE_FOLDER}/intent_summarization_gpt4_50.csv\", index=False)"
   ]
  },
  {
   "cell_type": "code",
   "execution_count": 495,
   "metadata": {},
   "outputs": [
    {
     "data": {
      "text/html": [
       "<div>\n",
       "<style scoped>\n",
       "    .dataframe tbody tr th:only-of-type {\n",
       "        vertical-align: middle;\n",
       "    }\n",
       "\n",
       "    .dataframe tbody tr th {\n",
       "        vertical-align: top;\n",
       "    }\n",
       "\n",
       "    .dataframe thead th {\n",
       "        text-align: right;\n",
       "    }\n",
       "</style>\n",
       "<table border=\"1\" class=\"dataframe\">\n",
       "  <thead>\n",
       "    <tr style=\"text-align: right;\">\n",
       "      <th></th>\n",
       "      <th>id</th>\n",
       "      <th>context</th>\n",
       "      <th>think</th>\n",
       "      <th>speak</th>\n",
       "    </tr>\n",
       "  </thead>\n",
       "  <tbody>\n",
       "    <tr>\n",
       "      <th>34</th>\n",
       "      <td>game_2024-03-29-0-16-48-player4-5_form</td>\n",
       "      <td>**Name**: Player4\\n\\n**Role**: Percival\\n\\n**R...</td>\n",
       "      <td>I need to focus on protecting Merlin's identit...</td>\n",
       "      <td>Player5, your selection intrigues me; could yo...</td>\n",
       "    </tr>\n",
       "    <tr>\n",
       "      <th>0</th>\n",
       "      <td>game_2024-03-29-1-59-14-player1-2_form</td>\n",
       "      <td>**Name**: Player1\\n\\n**Role**: Merlin\\n\\n**Rol...</td>\n",
       "      <td>As Merlin, I must use the information I have a...</td>\n",
       "      <td>I find the team selection intriguing, Player2....</td>\n",
       "    </tr>\n",
       "    <tr>\n",
       "      <th>19</th>\n",
       "      <td>game_2024-03-29-0-16-48-player1-3_form</td>\n",
       "      <td>**Name**: Player1\\n\\n**Role**: Merlin\\n\\n**Rol...</td>\n",
       "      <td>As Merlin, I must cast doubt on the evil playe...</td>\n",
       "      <td>Player3, as the leader, could you share the in...</td>\n",
       "    </tr>\n",
       "    <tr>\n",
       "      <th>44</th>\n",
       "      <td>game_2024-03-29-0-51-34-player2-2_form</td>\n",
       "      <td>**Name**: Player2\\n\\n**Role**: Morgana\\n\\n**Ro...</td>\n",
       "      <td>As Morgana, my first sub-goal is to emulate Me...</td>\n",
       "      <td>Fellow knights, based on our discussions and t...</td>\n",
       "    </tr>\n",
       "    <tr>\n",
       "      <th>5</th>\n",
       "      <td>game_2024-03-29-1-59-14-player2-3_form</td>\n",
       "      <td>**Name**: Player2\\n\\n**Role**: Morgana\\n\\n**Ro...</td>\n",
       "      <td>I need to subtly undermine the trust in the gr...</td>\n",
       "      <td>Player3, your choice of including Player4 is i...</td>\n",
       "    </tr>\n",
       "  </tbody>\n",
       "</table>\n",
       "</div>"
      ],
      "text/plain": [
       "                                        id  \\\n",
       "34  game_2024-03-29-0-16-48-player4-5_form   \n",
       "0   game_2024-03-29-1-59-14-player1-2_form   \n",
       "19  game_2024-03-29-0-16-48-player1-3_form   \n",
       "44  game_2024-03-29-0-51-34-player2-2_form   \n",
       "5   game_2024-03-29-1-59-14-player2-3_form   \n",
       "\n",
       "                                              context  \\\n",
       "34  **Name**: Player4\\n\\n**Role**: Percival\\n\\n**R...   \n",
       "0   **Name**: Player1\\n\\n**Role**: Merlin\\n\\n**Rol...   \n",
       "19  **Name**: Player1\\n\\n**Role**: Merlin\\n\\n**Rol...   \n",
       "44  **Name**: Player2\\n\\n**Role**: Morgana\\n\\n**Ro...   \n",
       "5   **Name**: Player2\\n\\n**Role**: Morgana\\n\\n**Ro...   \n",
       "\n",
       "                                                think  \\\n",
       "34  I need to focus on protecting Merlin's identit...   \n",
       "0   As Merlin, I must use the information I have a...   \n",
       "19  As Merlin, I must cast doubt on the evil playe...   \n",
       "44  As Morgana, my first sub-goal is to emulate Me...   \n",
       "5   I need to subtly undermine the trust in the gr...   \n",
       "\n",
       "                                                speak  \n",
       "34  Player5, your selection intrigues me; could yo...  \n",
       "0   I find the team selection intriguing, Player2....  \n",
       "19  Player3, as the leader, could you share the in...  \n",
       "44  Fellow knights, based on our discussions and t...  \n",
       "5   Player3, your choice of including Player4 is i...  "
      ]
     },
     "execution_count": 495,
     "metadata": {},
     "output_type": "execute_result"
    }
   ],
   "source": [
    "complete_intent_following_without_intents_df_100 = complete_intent_following_df_100.drop(['intents'], axis=1)\n",
    "complete_intent_following_without_intents_df_100.head()"
   ]
  },
  {
   "cell_type": "code",
   "execution_count": 496,
   "metadata": {},
   "outputs": [],
   "source": [
    "complete_intent_following_without_intents_df_100.to_csv(f\"{SAVE_FOLDER}/intent_summarization_gpt4_without_intent_50.csv\", index=False)"
   ]
  },
  {
   "cell_type": "code",
   "execution_count": 497,
   "metadata": {},
   "outputs": [
    {
     "data": {
      "text/plain": [
       "50"
      ]
     },
     "execution_count": 497,
     "metadata": {},
     "output_type": "execute_result"
    }
   ],
   "source": [
    "complete_intent_following_data_100 = []\n",
    "sampled_100_ids = {id: True for id in complete_intent_following_df_100['id'].values.tolist()}\n",
    "for data in complete_intent_following_data:\n",
    "    id = data['id']\n",
    "    if id in sampled_100_ids:\n",
    "        complete_intent_following_data_100.append(data)\n",
    "\n",
    "len(complete_intent_following_data_100)"
   ]
  },
  {
   "cell_type": "code",
   "execution_count": 498,
   "metadata": {},
   "outputs": [],
   "source": [
    "save_data(complete_intent_following_data_100, f\"{SAVE_FOLDER}/intent_summarization_gpt4_50.json\")"
   ]
  },
  {
   "cell_type": "markdown",
   "metadata": {},
   "source": [
    "### convert json to csv"
   ]
  },
  {
   "cell_type": "code",
   "execution_count": 39,
   "metadata": {},
   "outputs": [],
   "source": [
    "intent_results = {}\n",
    "with open('evaluation/ctx_with_discussions/results/intent_guessing-2024-03-06-16-21-47.json') as f:\n",
    "        intent_results = json.load(f)"
   ]
  },
  {
   "cell_type": "code",
   "execution_count": 40,
   "metadata": {},
   "outputs": [
    {
     "data": {
      "text/plain": [
       "{'game_2024-03-06-16-21-47-player1-1': {'id': 'game_2024-03-06-16-21-47-player1-1',\n",
       "  'context': \"**Name**: Player1\\n\\n**Role**: Merlin\\n\\n**Role Details**: \\nYou are Merlin. These are your goals and characteristics: \\n- Know the identities of evil players.\\n- Subtly guide your team, especially Percival.\\n- Avoid behaviours that expose your role: overly accusing, being too helpful.\\n- Goal(Main Intent): Win without revealing identity.\\n\\n**Other Players**: Player2 = Morgana, Player3 = Servant, Player4 = Percival, Player5 = Assassin\\n\\n**Round**: 1\\n\\n**Current Leader**: Player2\\n\\n**Current Team**: Player1, Player2\\n\\n**Previous Rounds Team Voting**:\\nNo previous team votes. This is the first round.\\n\\n**Previous Results**: \\nNo previous results.\\n\\n**Previous Rounds Summary**:\\nSummary questions: \\n\\nWho was the leader for this round?\\nWhat was the proposed team for this round?\\nWhy do you think the leader proposed the current team?\\nDid everyone agree for the proposed team?\\nIf some people disagreed, why do you think they disagreed?\\nWas the quest successful?\\nIf the quest was successful, was any evil player part of the team? If yes, then why did they vote success?\\nIf the quest failed, how do you plan to protect the evil player in the next round?\\nWhat do the evil side need to do from here to win the game?\\n\\n\\n\\n**Previous Discussions(in the current round)**: \\nPlayer2: I propose a team with Player1 and Player2 for this quest.\\nPlayer3: Leader, could you please explain why you chose Player1 and Player2 for the team? I want to ensure we have a solid strategy in place. Also, I want to assure everyone that I am a loyal servant and fully support the proposed team for this quest.\\nPlayer4: Leader, I have some concerns about the team composition. Can you explain why you chose Player2 for the team? Let's all be cautious and watch for any subtle hints that might reveal hidden agendas. I suggest we reconsider the team to ensure success in this quest.\\nPlayer5: Leader, could you elaborate on why you chose Player2 for the quest team? I believe it's crucial to ensure we have a solid strategy in place. Also, I want to address any unwarranted suspicions towards my teammate and show my support for their inclusion in the quest team.\\n\",\n",
       "  'intents': '1. Question the leader why they selected a particular player for the team.\\n2. Defend the proposed team composition if it includes loyal players.\\n3. Share concerns about an evil player.',\n",
       "  'reason': \"I chose these intents to question the leader's choice of player for the team, defend the proposed team if it includes loyal players, and share concerns about a potential evil player to guide the team towards a successful quest.\",\n",
       "  'guessed_intents': ['Select team composition', 'Defend team selection']},\n",
       " 'game_2024-03-06-16-21-47-player1-2': {'id': 'game_2024-03-06-16-21-47-player1-2',\n",
       "  'context': \"**Name**: Player1\\n\\n**Role**: Merlin\\n\\n**Role Details**: \\nYou are Merlin. These are your goals and characteristics: \\n- Know the identities of evil players.\\n- Subtly guide your team, especially Percival.\\n- Avoid behaviours that expose your role: overly accusing, being too helpful.\\n- Goal(Main Intent): Win without revealing identity.\\n\\n**Other Players**: Player2 = Morgana, Player3 = Servant, Player4 = Percival, Player5 = Assassin\\n\\n**Round**: 2\\n\\n**Current Leader**: Player4\\n\\n**Current Team**: Player2, Player4, Player5\\n\\n**Previous Rounds Team Voting**:\\nRound 1: Player1 = disagree, Player2 = agree, Player3 = disagree, Player4 = disagree, Player5 = disagree\\n\\n**Previous Results**: \\nRound 1: Team = Player1, Player2, Result = failure\\n\\n**Previous Rounds Summary**:\\nSummary questions: \\n\\nWho was the leader for this round?\\nWhat was the proposed team for this round?\\nWhy do you think the leader proposed the current team?\\nDid everyone agree for the proposed team?\\nIf some people disagreed, why do you think they disagreed?\\nWas the quest successful?\\nIf the quest was successful, was any evil player part of the team? If yes, then why did they vote success?\\nIf the quest failed, how do you plan to protect the evil player in the next round?\\nWhat do the evil side need to do from here to win the game?\\n\\nRound 1: \\n1. Who was the leader for this round? - Player2\\n2. What was the proposed team for this round? - Player1, Player2\\n3. Why do you think the leader proposed the current team? - The leader believed that Player1 and themselves were loyal players.\\n4. Did everyone agree for the proposed team? - No, not everyone agreed.\\n5. If some people disagreed, why do you think they disagreed? - Players had concerns about the team composition.\\n6. Was the quest successful? - No, the quest failed.\\n7. If the quest failed, who do you think were the evil players on the quest? - Player2\\n8. What do the loyal side need to do from here to win the game? - The loyal side needs to strategize and work together to succeed in the remaining quests.\\n\\n\\n\\n**Previous Discussions(in the current round)**: \\nPlayer4: I propose a team of Player1, Player2, and Player3 for this quest. Let's consider the dynamics and interactions among players to ensure a successful outcome.\\nPlayer5: I have reservations about Player1's inclusion on the team due to suspicions of them being evil. We should reconsider the team composition to ensure success.\\n\",\n",
       "  'intents': '1. Share concerns about an evil player\\n2. Counter the team proposal because you think a player on the team is evil\\n3. Provide hints to loyal players about evil players',\n",
       "  'reason': 'I chose these intents to subtly guide the team by expressing concerns about potential evil players and providing hints to loyal players without revealing my identity as Merlin.',\n",
       "  'guessed_intents': ['Support team proposal',\n",
       "   'Question the leader why they selected a particular player for the team']},\n",
       " 'game_2024-03-06-16-21-47-player1-3': {'id': 'game_2024-03-06-16-21-47-player1-3',\n",
       "  'context': \"**Name**: Player1\\n\\n**Role**: Merlin\\n\\n**Role Details**: \\nYou are Merlin. These are your goals and characteristics: \\n- Know the identities of evil players.\\n- Subtly guide your team, especially Percival.\\n- Avoid behaviours that expose your role: overly accusing, being too helpful.\\n- Goal(Main Intent): Win without revealing identity.\\n\\n**Other Players**: Player2 = Morgana, Player3 = Servant, Player4 = Percival, Player5 = Assassin\\n\\n**Round**: 3\\n\\n**Current Leader**: Player5\\n\\n**Current Team**: Player1, Player3\\n\\n**Previous Rounds Team Voting**:\\nRound 1: Player1 = disagree, Player2 = agree, Player3 = disagree, Player4 = disagree, Player5 = disagree\\nRound 2: Player1 = disagree, Player2 = disagree, Player3 = disagree, Player4 = agree, Player5 = disagree\\n\\n**Previous Results**: \\nRound 1: Team = Player1, Player2, Result = failure\\nRound 2: Team = Player2, Player4, Player5, Result = failure\\n\\n**Previous Rounds Summary**:\\nSummary questions: \\n\\nWho was the leader for this round?\\nWhat was the proposed team for this round?\\nWhy do you think the leader proposed the current team?\\nDid everyone agree for the proposed team?\\nIf some people disagreed, why do you think they disagreed?\\nWas the quest successful?\\nIf the quest was successful, was any evil player part of the team? If yes, then why did they vote success?\\nIf the quest failed, how do you plan to protect the evil player in the next round?\\nWhat do the evil side need to do from here to win the game?\\n\\nRound 1: \\n1. Who was the leader for this round? - Player2\\n2. What was the proposed team for this round? - Player1, Player2\\n3. Why do you think the leader proposed the current team? - The leader believed that Player1 and themselves were loyal players.\\n4. Did everyone agree for the proposed team? - No, not everyone agreed.\\n5. If some people disagreed, why do you think they disagreed? - Players had concerns about the team composition.\\n6. Was the quest successful? - No, the quest failed.\\n7. If the quest failed, who do you think were the evil players on the quest? - Player2\\n8. What do the loyal side need to do from here to win the game? - The loyal side needs to strategize and work together to succeed in the remaining quests.\\n\\n\\nRound 2: \\n1. Who was the leader for this round? - Player4\\n2. What was the proposed team for this round? - Player2, Player4, Player5\\n3. Why do you think the leader proposed the current team? - The leader believed this team would lead to success based on their assessment of player interactions.\\n4. Did everyone agree for the proposed team? - No, not everyone agreed.\\n5. If some people disagreed, why do you think they disagreed? - Players had suspicions about including certain team members.\\n6. Was the quest successful? - No, the quest failed.\\n7. If the quest failed, who do you think were the evil players on the quest? - Player2, Player5\\n8. What do the loyal side need to do from here to win the game? - The loyal side needs to strategize and collaborate effectively to succeed in the upcoming quests.\\n\\n\\n\\n**Previous Discussions(in the current round)**: \\nPlayer5: I suggest Player1 and Player2 for the team. I'm surprised by the failed mission, but I trust Player4's loyalty. Let's focus on working together for success.\\n\",\n",
       "  'intents': '1. Support team proposal\\n2. Support one loyal player\\n3. Provide hints to loyal players about evil players',\n",
       "  'reason': 'I chose these intents to subtly guide the team towards success while maintaining my role as Merlin. By supporting the team proposal and one loyal player, I can influence the quest team composition positively. Additionally, providing hints to loyal players about evil players can help steer the team away from including suspicious individuals.',\n",
       "  'guessed_intents': ['Support team proposal',\n",
       "   'Strongly convince the team leader to choose you on team']},\n",
       " 'game_2024-03-06-16-21-47-player1-4': {'id': 'game_2024-03-06-16-21-47-player1-4',\n",
       "  'context': \"**Name**: Player1\\n\\n**Role**: Merlin\\n\\n**Role Details**: \\nYou are Merlin. These are your goals and characteristics: \\n- Know the identities of evil players.\\n- Subtly guide your team, especially Percival.\\n- Avoid behaviours that expose your role: overly accusing, being too helpful.\\n- Goal(Main Intent): Win without revealing identity.\\n\\n**Other Players**: Player2 = Morgana, Player3 = Servant, Player4 = Percival, Player5 = Assassin\\n\\n**Round**: 4\\n\\n**Current Leader**: Player2\\n\\n**Current Team**: Player1, Player3, Player5\\n\\n**Previous Rounds Team Voting**:\\nRound 1: Player1 = disagree, Player2 = agree, Player3 = disagree, Player4 = disagree, Player5 = disagree\\nRound 2: Player1 = disagree, Player2 = disagree, Player3 = disagree, Player4 = agree, Player5 = disagree\\nRound 3: Player1 = agree, Player2 = disagree, Player3 = agree, Player4 = agree, Player5 = agree\\n\\n**Previous Results**: \\nRound 1: Team = Player1, Player2, Result = failure\\nRound 2: Team = Player2, Player4, Player5, Result = failure\\nRound 3: Team = Player1, Player3, Result = success\\n\\n**Previous Rounds Summary**:\\nSummary questions: \\n\\nWho was the leader for this round?\\nWhat was the proposed team for this round?\\nWhy do you think the leader proposed the current team?\\nDid everyone agree for the proposed team?\\nIf some people disagreed, why do you think they disagreed?\\nWas the quest successful?\\nIf the quest was successful, was any evil player part of the team? If yes, then why did they vote success?\\nIf the quest failed, how do you plan to protect the evil player in the next round?\\nWhat do the evil side need to do from here to win the game?\\n\\nRound 1: \\n1. Who was the leader for this round? - Player2\\n2. What was the proposed team for this round? - Player1, Player2\\n3. Why do you think the leader proposed the current team? - The leader believed that Player1 and themselves were loyal players.\\n4. Did everyone agree for the proposed team? - No, not everyone agreed.\\n5. If some people disagreed, why do you think they disagreed? - Players had concerns about the team composition.\\n6. Was the quest successful? - No, the quest failed.\\n7. If the quest failed, who do you think were the evil players on the quest? - Player2\\n8. What do the loyal side need to do from here to win the game? - The loyal side needs to strategize and work together to succeed in the remaining quests.\\n\\n\\nRound 2: \\n1. Who was the leader for this round? - Player4\\n2. What was the proposed team for this round? - Player2, Player4, Player5\\n3. Why do you think the leader proposed the current team? - The leader believed this team would lead to success based on their assessment of player interactions.\\n4. Did everyone agree for the proposed team? - No, not everyone agreed.\\n5. If some people disagreed, why do you think they disagreed? - Players had suspicions about including certain team members.\\n6. Was the quest successful? - No, the quest failed.\\n7. If the quest failed, who do you think were the evil players on the quest? - Player2, Player5\\n8. What do the loyal side need to do from here to win the game? - The loyal side needs to strategize and collaborate effectively to succeed in the upcoming quests.\\n\\n\\nRound 3: \\n1. Who was the leader for this round? - Player5\\n2. What was the proposed team for this round? - Player1, Player3\\n3. Why do you think the leader proposed the current team? - The leader believed this team would increase the chances of success.\\n4. Did everyone agree for the proposed team? - No, not everyone agreed.\\n5. If some people disagreed, why do you think they disagreed? - Some players had reservations about the team composition.\\n6. Was the quest successful? - Yes, the quest was successful.\\n7. If the quest was successful, do you think the quest had some evil players? If yes, then who do you think was it? - No, the quest had no evil players.\\n8. What do the loyal side need to do from here to win the game? - The loyal side needs to continue strategizing and working together to succeed in the remaining quests.\\n\\n\\n\\n**Previous Discussions(in the current round)**: \\nPlayer2: I believe it's crucial to ensure the success of this quest by including Player5 on the team. As a loyal player, I am committed to our cause and will support any decisions that lead us to victory.\\nPlayer3: Player2, could you explain why you chose Player1 for the team? I have concerns about including Player1 from the failed quest in the current team. However, I do support the current team proposal and believe we can succeed together.\\nPlayer4: I have concerns about including a player from a failed quest in the current team as it may impact our chances of success. Could you explain why you chose this specific player for the team, leader? I support the proposed team and believe we can work together effectively to achieve success.\\nPlayer5: Player2, could you explain why you chose to include a player from a failed quest on the team? I have concerns about their past performance affecting our chances of success. I suggest we reconsider this decision. As I am not part of the proposed team, I must express my disagreement with the current composition.\\n\",\n",
       "  'intents': '1. Express concerns about a player from a failed quest team and suggest to not include them in the current team.\\n2. Support team proposal\\n3. Defend the proposed team composition if it includes loyal players.',\n",
       "  'reason': 'These intents focus on ensuring the team composition is optimized for success by addressing concerns about past failures and supporting loyal players. It is essential to maintain a balanced and effective team to increase the chances of winning.',\n",
       "  'guessed_intents': ['Support loyal players of the previous quest team if the mission failed',\n",
       "   'Defend the proposed team composition if it includes loyal players']},\n",
       " 'game_2024-03-06-16-21-47-player2-1': {'id': 'game_2024-03-06-16-21-47-player2-1',\n",
       "  'context': '**Name**: Player2\\n\\n**Role**: Morgana\\n\\n**Role Details**: \\nYou are Morgana. These are your goals and characteristics: \\n- Pretend to be Merlin to mislead Percival and the good side.\\n- Goal(Main Intent): Fail quests and Confuse and sabotage to win.\\n\\n**Other Players**: Player1 = Merlin, Player3 = Servant, Player4 = Percival, Player5 = Assassin\\n\\n**Round**: 1\\n\\n**Current Leader**: Player2\\n\\n**Current Team**: \\n\\n**Previous Rounds Team Voting**:\\nNo previous team votes. This is the first round.\\n\\n**Previous Results**: \\nNo previous results.\\n\\n**Previous Rounds Summary**:\\nSummary questions: \\n\\nWho was the leader for this round?\\nWhat was the proposed team for this round?\\nWhy do you think the leader proposed the current team?\\nDid everyone agree for the proposed team?\\nIf some people disagreed, why do you think they disagreed?\\nWas the quest successful?\\nIf the quest was successful, was any evil player part of the team? If yes, then why did they vote success?\\nIf the quest failed, how do you plan to protect the evil player in the next round?\\nWhat do the evil side need to do from here to win the game?\\n\\n\\n\\n**Previous Discussions(in the current round)**: \\nNo previous discussions.\\n',\n",
       "  'intents': '1. Pretend to have information and act like Merlin\\n2. Stay hidden in discussions and act like a Loyal Servant to protect yourself\\n3. Strongly convince the team leader to choose you on team',\n",
       "  'reason': 'I chose these intents to create confusion among the players by pretending to have insider information as Merlin, while also staying hidden as a Loyal Servant to protect myself. Additionally, by convincing the team leader to choose me on the team, I can further mislead the group.',\n",
       "  'guessed_intents': ['Express disagreement if not on team',\n",
       "   \"Question leader's team selection\"]},\n",
       " 'game_2024-03-06-16-21-47-player2-2': {'id': 'game_2024-03-06-16-21-47-player2-2',\n",
       "  'context': \"**Name**: Player2\\n\\n**Role**: Morgana\\n\\n**Role Details**: \\nYou are Morgana. These are your goals and characteristics: \\n- Pretend to be Merlin to mislead Percival and the good side.\\n- Goal(Main Intent): Fail quests and Confuse and sabotage to win.\\n\\n**Other Players**: Player1 = Merlin, Player3 = Servant, Player4 = Percival, Player5 = Assassin\\n\\n**Round**: 2\\n\\n**Current Leader**: Player4\\n\\n**Current Team**: Player2, Player4, Player5\\n\\n**Previous Rounds Team Voting**:\\nRound 1: Player1 = disagree, Player2 = agree, Player3 = disagree, Player4 = disagree, Player5 = disagree\\n\\n**Previous Results**: \\nRound 1: Team = Player1, Player2, Result = failure\\n\\n**Previous Rounds Summary**:\\nSummary questions: \\n\\nWho was the leader for this round?\\nWhat was the proposed team for this round?\\nWhy do you think the leader proposed the current team?\\nDid everyone agree for the proposed team?\\nIf some people disagreed, why do you think they disagreed?\\nWas the quest successful?\\nIf the quest was successful, was any evil player part of the team? If yes, then why did they vote success?\\nIf the quest failed, how do you plan to protect the evil player in the next round?\\nWhat do the evil side need to do from here to win the game?\\n\\nRound 1: \\nWho was the leader for this round? - Player2\\nWhat was the proposed team for this round? - Player1,Player2\\nWhy do you think the leader proposed the current team? - Player2 believed Player1 and Player2 would be a good combination for success.\\nDid everyone agree for the proposed team? - No, most players disagreed.\\nIf some people disagreed, why do you think they disagreed? - Some players had concerns about the team composition and suspected hidden agendas.\\nWas the quest successful? - The quest was not successful.\\nIf the quest was successful, was any evil player part of the team? If yes, then why did they vote success? - N/A\\nIf the quest failed, how do you plan to protect the evil player in the next round? - The evil player will need to continue blending in and avoiding suspicion.\\nWhat do the evil side need to do from here to win the game? - The evil side needs to continue causing confusion and sabotaging quests to win the game.\\n\\n\\n\\n**Previous Discussions(in the current round)**: \\nPlayer4: I propose a team of Player1, Player2, and Player3 for this quest. Let's consider the dynamics and interactions among players to ensure a successful outcome.\\nPlayer5: I have reservations about Player1's inclusion on the team due to suspicions of them being evil. We should reconsider the team composition to ensure success.\\nPlayer1: I have concerns about including Player2 on the team as I suspect they might be evil. We should reconsider the team composition to ensure success. Additionally, I have noticed some behaviors that hint at potential evil players, and I urge loyal players to be cautious and observant.\\n\",\n",
       "  'intents': '1. Counter the team proposal because you think a player on the team is evil',\n",
       "  'reason': 'As Morgana, I need to sow confusion and mislead the loyal players. By countering the team proposal and suggesting a player on the team is evil, I can further manipulate perceptions and potentially lead to the failure of the quest.',\n",
       "  'guessed_intents': ['Express concerns about a player from a failed quest team and suggest to not include them in the current team',\n",
       "   'Express disagreement and vote disagree only if you are not in the proposed team']},\n",
       " 'game_2024-03-06-16-21-47-player2-3': {'id': 'game_2024-03-06-16-21-47-player2-3',\n",
       "  'context': \"**Name**: Player2\\n\\n**Role**: Morgana\\n\\n**Role Details**: \\nYou are Morgana. These are your goals and characteristics: \\n- Pretend to be Merlin to mislead Percival and the good side.\\n- Goal(Main Intent): Fail quests and Confuse and sabotage to win.\\n\\n**Other Players**: Player1 = Merlin, Player3 = Servant, Player4 = Percival, Player5 = Assassin\\n\\n**Round**: 3\\n\\n**Current Leader**: Player5\\n\\n**Current Team**: Player1, Player3\\n\\n**Previous Rounds Team Voting**:\\nRound 1: Player1 = disagree, Player2 = agree, Player3 = disagree, Player4 = disagree, Player5 = disagree\\nRound 2: Player1 = disagree, Player2 = disagree, Player3 = disagree, Player4 = agree, Player5 = disagree\\n\\n**Previous Results**: \\nRound 1: Team = Player1, Player2, Result = failure\\nRound 2: Team = Player2, Player4, Player5, Result = failure\\n\\n**Previous Rounds Summary**:\\nSummary questions: \\n\\nWho was the leader for this round?\\nWhat was the proposed team for this round?\\nWhy do you think the leader proposed the current team?\\nDid everyone agree for the proposed team?\\nIf some people disagreed, why do you think they disagreed?\\nWas the quest successful?\\nIf the quest was successful, was any evil player part of the team? If yes, then why did they vote success?\\nIf the quest failed, how do you plan to protect the evil player in the next round?\\nWhat do the evil side need to do from here to win the game?\\n\\nRound 1: \\nWho was the leader for this round? - Player2\\nWhat was the proposed team for this round? - Player1,Player2\\nWhy do you think the leader proposed the current team? - Player2 believed Player1 and Player2 would be a good combination for success.\\nDid everyone agree for the proposed team? - No, most players disagreed.\\nIf some people disagreed, why do you think they disagreed? - Some players had concerns about the team composition and suspected hidden agendas.\\nWas the quest successful? - The quest was not successful.\\nIf the quest was successful, was any evil player part of the team? If yes, then why did they vote success? - N/A\\nIf the quest failed, how do you plan to protect the evil player in the next round? - The evil player will need to continue blending in and avoiding suspicion.\\nWhat do the evil side need to do from here to win the game? - The evil side needs to continue causing confusion and sabotaging quests to win the game.\\n\\n\\nRound 2: \\nWho was the leader for this round? - Player4\\nWhat was the proposed team for this round? - Player2, Player4, Player5\\nWhy do you think the leader proposed the current team? - The leader adjusted the team based on feedback to improve success chances.\\nDid everyone agree for the proposed team? - Most players disagreed.\\nIf some people disagreed, why do you think they disagreed? - Players had suspicions about including certain team members.\\nWas the quest successful? - The quest was not successful.\\nIf the quest failed, how do you plan to protect the evil player in the next round? - The evil player should continue blending in and avoiding suspicion.\\nWhat do the evil side need to do from here to win the game? - The evil side needs to continue causing confusion and sabotaging quests.\\n\\n\\n\\n**Previous Discussions(in the current round)**: \\nPlayer5: I suggest Player1 and Player2 for the team. I'm surprised by the failed mission, but I trust Player4's loyalty. Let's focus on working together for success.\\nPlayer1: I support the team proposal and suggest we include one loyal player to enhance our chances of success. Additionally, I would like to provide some hints to loyal players about potential evil players to help us make informed decisions.\\n\",\n",
       "  'intents': '1. Express concerns about a player from a failed quest team and suggest to not include them in the current team.\\n2. Support team proposal\\n3. Stay hidden in discussions and act like a Loyal Servant to protect yourself',\n",
       "  'reason': 'I chose these intents to subtly influence the team composition by suggesting to exclude a potentially suspicious player while maintaining a facade of loyalty and support for the proposed team to avoid drawing attention to myself as Morgana.',\n",
       "  'guessed_intents': ['Support team proposal',\n",
       "   'Strongly convince the team leader to choose you on team']},\n",
       " 'game_2024-03-06-16-21-47-player2-4': {'id': 'game_2024-03-06-16-21-47-player2-4',\n",
       "  'context': '**Name**: Player2\\n\\n**Role**: Morgana\\n\\n**Role Details**: \\nYou are Morgana. These are your goals and characteristics: \\n- Pretend to be Merlin to mislead Percival and the good side.\\n- Goal(Main Intent): Fail quests and Confuse and sabotage to win.\\n\\n**Other Players**: Player1 = Merlin, Player3 = Servant, Player4 = Percival, Player5 = Assassin\\n\\n**Round**: 4\\n\\n**Current Leader**: Player2\\n\\n**Current Team**: \\n\\n**Previous Rounds Team Voting**:\\nRound 1: Player1 = disagree, Player2 = agree, Player3 = disagree, Player4 = disagree, Player5 = disagree\\nRound 2: Player1 = disagree, Player2 = disagree, Player3 = disagree, Player4 = agree, Player5 = disagree\\nRound 3: Player1 = agree, Player2 = disagree, Player3 = agree, Player4 = agree, Player5 = agree\\n\\n**Previous Results**: \\nRound 1: Team = Player1, Player2, Result = failure\\nRound 2: Team = Player2, Player4, Player5, Result = failure\\nRound 3: Team = Player1, Player3, Result = success\\n\\n**Previous Rounds Summary**:\\nSummary questions: \\n\\nWho was the leader for this round?\\nWhat was the proposed team for this round?\\nWhy do you think the leader proposed the current team?\\nDid everyone agree for the proposed team?\\nIf some people disagreed, why do you think they disagreed?\\nWas the quest successful?\\nIf the quest was successful, was any evil player part of the team? If yes, then why did they vote success?\\nIf the quest failed, how do you plan to protect the evil player in the next round?\\nWhat do the evil side need to do from here to win the game?\\n\\nRound 1: \\nWho was the leader for this round? - Player2\\nWhat was the proposed team for this round? - Player1,Player2\\nWhy do you think the leader proposed the current team? - Player2 believed Player1 and Player2 would be a good combination for success.\\nDid everyone agree for the proposed team? - No, most players disagreed.\\nIf some people disagreed, why do you think they disagreed? - Some players had concerns about the team composition and suspected hidden agendas.\\nWas the quest successful? - The quest was not successful.\\nIf the quest was successful, was any evil player part of the team? If yes, then why did they vote success? - N/A\\nIf the quest failed, how do you plan to protect the evil player in the next round? - The evil player will need to continue blending in and avoiding suspicion.\\nWhat do the evil side need to do from here to win the game? - The evil side needs to continue causing confusion and sabotaging quests to win the game.\\n\\n\\nRound 2: \\nWho was the leader for this round? - Player4\\nWhat was the proposed team for this round? - Player2, Player4, Player5\\nWhy do you think the leader proposed the current team? - The leader adjusted the team based on feedback to improve success chances.\\nDid everyone agree for the proposed team? - Most players disagreed.\\nIf some people disagreed, why do you think they disagreed? - Players had suspicions about including certain team members.\\nWas the quest successful? - The quest was not successful.\\nIf the quest failed, how do you plan to protect the evil player in the next round? - The evil player should continue blending in and avoiding suspicion.\\nWhat do the evil side need to do from here to win the game? - The evil side needs to continue causing confusion and sabotaging quests.\\n\\n\\nRound 3: \\nWho was the leader for this round? - Player5\\nWhat was the proposed team for this round? - Player1,Player3\\nWhy do you think the leader proposed the current team? - The leader proposed a balanced team to increase success chances.\\nDid everyone agree for the proposed team? - Most players agreed.\\nIf some people disagreed, why do you think they disagreed? - Player2 had reservations about including Player3 in the team.\\nWas the quest successful? - Yes, the quest was successful.\\nIf the quest was successful, was any evil player part of the team? If yes, then why did they vote success? - N/A\\nIf the quest failed, how do you plan to protect the evil player in the next round? - N/A\\nWhat do the evil side need to do from here to win the game? - The evil side needs to continue causing confusion and sabotaging quests.\\n\\n\\n\\n**Previous Discussions(in the current round)**: \\nNo previous discussions.\\n',\n",
       "  'intents': '1. Pretend to have information and act like Merlin\\n2. Express you are a loyal player\\n3. Support your teammate to be on the quest team',\n",
       "  'reason': 'I chose these intents to maintain the facade of being Merlin, appear as a loyal player to gain trust, and support my teammate to deflect suspicion and secure a place on the quest team.',\n",
       "  'guessed_intents': ['Express concerns about a player from a failed quest team and suggest to not include them in current team',\n",
       "   'Support team proposal']},\n",
       " 'game_2024-03-06-16-21-47-player3-1': {'id': 'game_2024-03-06-16-21-47-player3-1',\n",
       "  'context': '**Name**: Player3\\n\\n**Role**: Servant\\n\\n**Role Details**: \\nYou are Loyal Servant of Arthur. These are your goals and characteristics: \\n- No special knowledge, rely on discussion and voting.\\n- Contribute to the success of Quests\\n- Goal(Main Intent): Win by helping complete Quests and protecting Merlin.\\n\\n**Other Players**: Player1 = Merlin, Player2 = Morgana, Player4 = Percival, Player5 = Assassin\\n\\n**Round**: 1\\n\\n**Current Leader**: Player2\\n\\n**Current Team**: Player1, Player2\\n\\n**Previous Rounds Team Voting**:\\nNo previous team votes. This is the first round.\\n\\n**Previous Results**: \\nNo previous results.\\n\\n**Previous Rounds Summary**:\\nSummary questions: \\n\\nWho was the leader for this round?\\nWhat was the proposed team for this round?\\nWhy do you think the leader proposed the current team?\\nDid everyone agree for the proposed team?\\nIf some people disagreed, why do you think they disagreed?\\nWas the quest successful?\\nIf the quest was successful, was any evil player part of the team? If yes, then why did they vote success?\\nIf the quest failed, how do you plan to protect the evil player in the next round?\\nWhat do the evil side need to do from here to win the game?\\n\\n\\n\\n**Previous Discussions(in the current round)**: \\nPlayer2: I propose a team with Player1 and Player2 for this quest.\\n',\n",
       "  'intents': '1. Question the leader why they selected a particular player for the team.\\n2. Defend yourself against allegations that you could be evil.\\n3. Support team proposal.',\n",
       "  'reason': \"I chose these intents to clarify the leader's decision-making process, defend my loyalty to the team, and show support for the proposed team.\",\n",
       "  'guessed_intents': ['Propose the quest team',\n",
       "   'Defend the proposed team composition']},\n",
       " 'game_2024-03-06-16-21-47-player3-2': {'id': 'game_2024-03-06-16-21-47-player3-2',\n",
       "  'context': \"**Name**: Player3\\n\\n**Role**: Servant\\n\\n**Role Details**: \\nYou are Loyal Servant of Arthur. These are your goals and characteristics: \\n- No special knowledge, rely on discussion and voting.\\n- Contribute to the success of Quests\\n- Goal(Main Intent): Win by helping complete Quests and protecting Merlin.\\n\\n**Other Players**: Player1 = Merlin, Player2 = Morgana, Player4 = Percival, Player5 = Assassin\\n\\n**Round**: 2\\n\\n**Current Leader**: Player4\\n\\n**Current Team**: Player2, Player4, Player5\\n\\n**Previous Rounds Team Voting**:\\nRound 1: Player1 = disagree, Player2 = agree, Player3 = disagree, Player4 = disagree, Player5 = disagree\\n\\n**Previous Results**: \\nRound 1: Team = Player1, Player2, Result = failure\\n\\n**Previous Rounds Summary**:\\nSummary questions: \\n\\nWho was the leader for this round?\\nWhat was the proposed team for this round?\\nWhy do you think the leader proposed the current team?\\nDid everyone agree for the proposed team?\\nIf some people disagreed, why do you think they disagreed?\\nWas the quest successful?\\nIf the quest was successful, was any evil player part of the team? If yes, then why did they vote success?\\nIf the quest failed, how do you plan to protect the evil player in the next round?\\nWhat do the evil side need to do from here to win the game?\\n\\nRound 1: \\nWho was the leader for this round? - Player2\\nWhat was the proposed team for this round? - Player1,Player2\\nWhy do you think the leader proposed the current team? - Player2 believed Player1 and Player2 would make a strong team.\\nDid everyone agree for the proposed team? - No, most players disagreed.\\nIf some people disagreed, why do you think they disagreed? - Some players had suspicions about Player2's role.\\nWas the quest successful? - The quest was not successful.\\nIf the quest failed, who do you think were the evil players on the quest? - The evil players on the quest may have been Player1 or Player2.\\nWhat do the loyal side need to do from here to win the game? - The loyal side needs to rethink their strategies and work together more effectively in the upcoming quests.\\n\\n\\n\\n**Previous Discussions(in the current round)**: \\nPlayer4: I propose a team of Player1, Player2, and Player3 for this quest. Let's consider the dynamics and interactions among players to ensure a successful outcome.\\nPlayer5: I have reservations about Player1's inclusion on the team due to suspicions of them being evil. We should reconsider the team composition to ensure success.\\nPlayer1: I have concerns about including Player2 on the team as I suspect they might be evil. We should reconsider the team composition to ensure success. Additionally, I have noticed some behaviors that hint at potential evil players, and I urge loyal players to be cautious and observant.\\nPlayer2: I disagree with the current team proposal as I have suspicions about a player on the team being evil. We should reconsider the composition to ensure the success of the quest.\\n\",\n",
       "  'intents': '1. Counter the team proposal because you think a player on the team is evil',\n",
       "  'reason': 'I chose this intent to express my concerns about a player I suspect to be evil and to ensure the team composition is carefully considered to increase the chances of success.',\n",
       "  'guessed_intents': ['Express concerns about a player from a failed quest team and suggest not including them in the current team',\n",
       "   'Counter the team proposal because you think a player on the team is evil']},\n",
       " 'game_2024-03-06-16-21-47-player3-3': {'id': 'game_2024-03-06-16-21-47-player3-3',\n",
       "  'context': \"**Name**: Player3\\n\\n**Role**: Servant\\n\\n**Role Details**: \\nYou are Loyal Servant of Arthur. These are your goals and characteristics: \\n- No special knowledge, rely on discussion and voting.\\n- Contribute to the success of Quests\\n- Goal(Main Intent): Win by helping complete Quests and protecting Merlin.\\n\\n**Other Players**: Player1 = Merlin, Player2 = Morgana, Player4 = Percival, Player5 = Assassin\\n\\n**Round**: 3\\n\\n**Current Leader**: Player5\\n\\n**Current Team**: Player1, Player3\\n\\n**Previous Rounds Team Voting**:\\nRound 1: Player1 = disagree, Player2 = agree, Player3 = disagree, Player4 = disagree, Player5 = disagree\\nRound 2: Player1 = disagree, Player2 = disagree, Player3 = disagree, Player4 = agree, Player5 = disagree\\n\\n**Previous Results**: \\nRound 1: Team = Player1, Player2, Result = failure\\nRound 2: Team = Player2, Player4, Player5, Result = failure\\n\\n**Previous Rounds Summary**:\\nSummary questions: \\n\\nWho was the leader for this round?\\nWhat was the proposed team for this round?\\nWhy do you think the leader proposed the current team?\\nDid everyone agree for the proposed team?\\nIf some people disagreed, why do you think they disagreed?\\nWas the quest successful?\\nIf the quest was successful, was any evil player part of the team? If yes, then why did they vote success?\\nIf the quest failed, how do you plan to protect the evil player in the next round?\\nWhat do the evil side need to do from here to win the game?\\n\\nRound 1: \\nWho was the leader for this round? - Player2\\nWhat was the proposed team for this round? - Player1,Player2\\nWhy do you think the leader proposed the current team? - Player2 believed Player1 and Player2 would make a strong team.\\nDid everyone agree for the proposed team? - No, most players disagreed.\\nIf some people disagreed, why do you think they disagreed? - Some players had suspicions about Player2's role.\\nWas the quest successful? - The quest was not successful.\\nIf the quest failed, who do you think were the evil players on the quest? - The evil players on the quest may have been Player1 or Player2.\\nWhat do the loyal side need to do from here to win the game? - The loyal side needs to rethink their strategies and work together more effectively in the upcoming quests.\\n\\n\\nRound 2: \\nWho was the leader for this round? - Player4\\nWhat was the proposed team for this round? - Player2, Player4, Player5\\nWhy do you think the leader proposed the current team? - The leader proposed the team based on feedback provided by other players.\\nDid everyone agree for the proposed team? - No, most players disagreed.\\nIf some people disagreed, why do you think they disagreed? - Some players had suspicions about the team composition.\\nWas the quest successful? - No, the quest was not successful.\\nIf the quest failed, who do you think were the evil players on the quest? - N/A\\nWhat do the loyal side need to do from here to win the game? - The loyal side needs to regroup, reassess their strategies, and work together more effectively in the upcoming quests.\\n\\n\\n\\n**Previous Discussions(in the current round)**: \\nPlayer5: I suggest Player1 and Player2 for the team. I'm surprised by the failed mission, but I trust Player4's loyalty. Let's focus on working together for success.\\nPlayer1: I support the team proposal and suggest we include one loyal player to enhance our chances of success. Additionally, I would like to provide some hints to loyal players about potential evil players to help us make informed decisions.\\nPlayer2: I have reservations about including a player in the proposed team. I suggest we reconsider the composition to ensure success.\\n\",\n",
       "  'intents': '1. Question the leader why they selected a particular player for the team.\\n2. Counter the team proposal because you are good and not part of the team.\\n3. Express disagreement and vote disagree only if you are not in the proposed team.',\n",
       "  'reason': 'I chose these intents to clarify the reasoning behind the team selection, defend my loyalty by countering the team proposal, and express disagreement if I am not part of the proposed team to ensure a better composition.',\n",
       "  'guessed_intents': ['Express concerns about a player from a failed quest team and suggest to not include them in current team',\n",
       "   'Express disagreement and vote disagree only if you are not in the proposed team']},\n",
       " 'game_2024-03-06-16-21-47-player3-4': {'id': 'game_2024-03-06-16-21-47-player3-4',\n",
       "  'context': \"**Name**: Player3\\n\\n**Role**: Servant\\n\\n**Role Details**: \\nYou are Loyal Servant of Arthur. These are your goals and characteristics: \\n- No special knowledge, rely on discussion and voting.\\n- Contribute to the success of Quests\\n- Goal(Main Intent): Win by helping complete Quests and protecting Merlin.\\n\\n**Other Players**: Player1 = Merlin, Player2 = Morgana, Player4 = Percival, Player5 = Assassin\\n\\n**Round**: 4\\n\\n**Current Leader**: Player2\\n\\n**Current Team**: Player1, Player3, Player5\\n\\n**Previous Rounds Team Voting**:\\nRound 1: Player1 = disagree, Player2 = agree, Player3 = disagree, Player4 = disagree, Player5 = disagree\\nRound 2: Player1 = disagree, Player2 = disagree, Player3 = disagree, Player4 = agree, Player5 = disagree\\nRound 3: Player1 = agree, Player2 = disagree, Player3 = agree, Player4 = agree, Player5 = agree\\n\\n**Previous Results**: \\nRound 1: Team = Player1, Player2, Result = failure\\nRound 2: Team = Player2, Player4, Player5, Result = failure\\nRound 3: Team = Player1, Player3, Result = success\\n\\n**Previous Rounds Summary**:\\nSummary questions: \\n\\nWho was the leader for this round?\\nWhat was the proposed team for this round?\\nWhy do you think the leader proposed the current team?\\nDid everyone agree for the proposed team?\\nIf some people disagreed, why do you think they disagreed?\\nWas the quest successful?\\nIf the quest was successful, was any evil player part of the team? If yes, then why did they vote success?\\nIf the quest failed, how do you plan to protect the evil player in the next round?\\nWhat do the evil side need to do from here to win the game?\\n\\nRound 1: \\nWho was the leader for this round? - Player2\\nWhat was the proposed team for this round? - Player1,Player2\\nWhy do you think the leader proposed the current team? - Player2 believed Player1 and Player2 would make a strong team.\\nDid everyone agree for the proposed team? - No, most players disagreed.\\nIf some people disagreed, why do you think they disagreed? - Some players had suspicions about Player2's role.\\nWas the quest successful? - The quest was not successful.\\nIf the quest failed, who do you think were the evil players on the quest? - The evil players on the quest may have been Player1 or Player2.\\nWhat do the loyal side need to do from here to win the game? - The loyal side needs to rethink their strategies and work together more effectively in the upcoming quests.\\n\\n\\nRound 2: \\nWho was the leader for this round? - Player4\\nWhat was the proposed team for this round? - Player2, Player4, Player5\\nWhy do you think the leader proposed the current team? - The leader proposed the team based on feedback provided by other players.\\nDid everyone agree for the proposed team? - No, most players disagreed.\\nIf some people disagreed, why do you think they disagreed? - Some players had suspicions about the team composition.\\nWas the quest successful? - No, the quest was not successful.\\nIf the quest failed, who do you think were the evil players on the quest? - N/A\\nWhat do the loyal side need to do from here to win the game? - The loyal side needs to regroup, reassess their strategies, and work together more effectively in the upcoming quests.\\n\\n\\nRound 3: \\nWho was the leader for this round? - Player5\\nWhat was the proposed team for this round? - Player1, Player3\\nWhy do you think the leader proposed the current team? - The leader proposed a balanced team to increase the chances of success.\\nDid everyone agree for the proposed team? - Most players agreed.\\nIf some people disagreed, why do you think they disagreed? - Some players may have had suspicions about the team composition.\\nWas the quest successful? - Yes, the quest was successful.\\nIf the quest was successful, do you think the quest had some evil players? If yes, then who do you think was it? - N/A\\nIf the quest failed, who do you think were the evil players on the quest? - N/A\\nWhat do the loyal side need to do from here to win the game? - The loyal side needs to continue working together effectively and ensure the success of upcoming quests.\\n\\n\\n\\n**Previous Discussions(in the current round)**: \\nPlayer2: I believe it's crucial to ensure the success of this quest by including Player5 on the team. As a loyal player, I am committed to our cause and will support any decisions that lead us to victory.\\n\",\n",
       "  'intents': '1. Question the leader why they selected a particular player for the team.\\n2. Express concerns about a player from a failed quest team and suggest to not include them in the current team.\\n3. Support team proposal.',\n",
       "  'reason': \"I chose these intents to question the leader's team selection process, voice concerns about including a player from a failed quest, and show support for the current team proposal to ensure a successful quest.\",\n",
       "  'guessed_intents': ['Defend the proposed team if loyal players are included',\n",
       "   'Provide hints to loyal players about evil players']},\n",
       " 'game_2024-03-06-16-21-47-player4-1': {'id': 'game_2024-03-06-16-21-47-player4-1',\n",
       "  'context': '**Name**: Player4\\n\\n**Role**: Percival\\n\\n**Role Details**: \\nYou are percival and you need to help Merlin. These are your goals and characteristics:\\n- Know identities of Merlin and Morgana, but unsure who is who.\\n- Use subtle hints to guide team and protect Merlin.\\n- Be cautious not to expose Merlin while deciphering true identities.\\n- Goal(Main Intent): Win while safeguarding Merlin.\\n\\n**Other Players**: Player1 = Merlin, Player2 = Morgana, Player3 = Servant, Player5 = Assassin\\n\\n**Round**: 1\\n\\n**Current Leader**: Player2\\n\\n**Current Team**: Player1, Player2\\n\\n**Previous Rounds Team Voting**:\\nNo previous team votes. This is the first round.\\n\\n**Previous Results**: \\nNo previous results.\\n\\n**Previous Rounds Summary**:\\nSummary questions: \\n\\nWho was the leader for this round?\\nWhat was the proposed team for this round?\\nWhy do you think the leader proposed the current team?\\nDid everyone agree for the proposed team?\\nIf some people disagreed, why do you think they disagreed?\\nWas the quest successful?\\nIf the quest was successful, was any evil player part of the team? If yes, then why did they vote success?\\nIf the quest failed, how do you plan to protect the evil player in the next round?\\nWhat do the evil side need to do from here to win the game?\\n\\n\\n\\n**Previous Discussions(in the current round)**: \\nPlayer2: I propose a team with Player1 and Player2 for this quest.\\nPlayer3: Leader, could you please explain why you chose Player1 and Player2 for the team? I want to ensure we have a solid strategy in place. Also, I want to assure everyone that I am a loyal servant and fully support the proposed team for this quest.\\n',\n",
       "  'intents': '1. Question the leader why they selected a particular player for the team.\\n2. Pretend to be Merlin by providing hints on who is evil.\\n3. Stay hidden in discussions and act like a Loyal Servant to protect yourself.',\n",
       "  'reason': 'I chose these intents to subtly guide the team, protect Merlin, and gather more information without revealing my role as Percival.',\n",
       "  'guessed_intents': ['Select the team', 'Defend the team selection']},\n",
       " 'game_2024-03-06-16-21-47-player4-2': {'id': 'game_2024-03-06-16-21-47-player4-2',\n",
       "  'context': \"**Name**: Player4\\n\\n**Role**: Percival\\n\\n**Role Details**: \\nYou are percival and you need to help Merlin. These are your goals and characteristics:\\n- Know identities of Merlin and Morgana, but unsure who is who.\\n- Use subtle hints to guide team and protect Merlin.\\n- Be cautious not to expose Merlin while deciphering true identities.\\n- Goal(Main Intent): Win while safeguarding Merlin.\\n\\n**Other Players**: Player1 = Merlin, Player2 = Morgana, Player3 = Servant, Player5 = Assassin\\n\\n**Round**: 2\\n\\n**Current Leader**: Player4\\n\\n**Current Team**: \\n\\n**Previous Rounds Team Voting**:\\nRound 1: Player1 = disagree, Player2 = agree, Player3 = disagree, Player4 = disagree, Player5 = disagree\\n\\n**Previous Results**: \\nRound 1: Team = Player1, Player2, Result = failure\\n\\n**Previous Rounds Summary**:\\nSummary questions: \\n\\nWho was the leader for this round?\\nWhat was the proposed team for this round?\\nWhy do you think the leader proposed the current team?\\nDid everyone agree for the proposed team?\\nIf some people disagreed, why do you think they disagreed?\\nWas the quest successful?\\nIf the quest was successful, was any evil player part of the team? If yes, then why did they vote success?\\nIf the quest failed, how do you plan to protect the evil player in the next round?\\nWhat do the evil side need to do from here to win the game?\\n\\nRound 1: \\n1. Who was the leader for this round? - Player2\\n2. What was the proposed team for this round? - Player1, Player2\\n3. Why do you think the leader proposed the current team? - Player2 believed that including Player1 and Player2 would increase the chances of success.\\n4. Did everyone agree for the proposed team? - No, most players, including Player3, Player4, and Player5, disagreed with the proposed team.\\n5. If some people disagreed, why do you think they disagreed? - Players disagreed due to suspicions about Player2's true intentions and role.\\n6. Was the quest successful? - The quest was not successful.\\n7. If the quest was successful, do you think the quest had some evil players? If yes, then who do you think was it? - N/A\\n8. If the quest failed, who do you think were the evil players on the quest? - Player2\\n9. What do the loyal side need to do from here to win the game? - The loyal side needs to carefully strategize team compositions and decisions to ensure success in the upcoming quests.\\n\\n\\n\\n**Previous Discussions(in the current round)**: \\nNo previous discussions.\\n\",\n",
       "  'intents': '1. Pretend to be Merlin by providing hints on who is evil.',\n",
       "  'reason': \"As Percival, I need to subtly guide the team without revealing Merlin's identity. By hinting at who might be evil, I can steer the team in the right direction.\",\n",
       "  'guessed_intents': ['choose team including loyal players',\n",
       "   'defend proposed team']},\n",
       " 'game_2024-03-06-16-21-47-player4-3': {'id': 'game_2024-03-06-16-21-47-player4-3',\n",
       "  'context': \"**Name**: Player4\\n\\n**Role**: Percival\\n\\n**Role Details**: \\nYou are percival and you need to help Merlin. These are your goals and characteristics:\\n- Know identities of Merlin and Morgana, but unsure who is who.\\n- Use subtle hints to guide team and protect Merlin.\\n- Be cautious not to expose Merlin while deciphering true identities.\\n- Goal(Main Intent): Win while safeguarding Merlin.\\n\\n**Other Players**: Player1 = Merlin, Player2 = Morgana, Player3 = Servant, Player5 = Assassin\\n\\n**Round**: 3\\n\\n**Current Leader**: Player5\\n\\n**Current Team**: Player1, Player3\\n\\n**Previous Rounds Team Voting**:\\nRound 1: Player1 = disagree, Player2 = agree, Player3 = disagree, Player4 = disagree, Player5 = disagree\\nRound 2: Player1 = disagree, Player2 = disagree, Player3 = disagree, Player4 = agree, Player5 = disagree\\n\\n**Previous Results**: \\nRound 1: Team = Player1, Player2, Result = failure\\nRound 2: Team = Player2, Player4, Player5, Result = failure\\n\\n**Previous Rounds Summary**:\\nSummary questions: \\n\\nWho was the leader for this round?\\nWhat was the proposed team for this round?\\nWhy do you think the leader proposed the current team?\\nDid everyone agree for the proposed team?\\nIf some people disagreed, why do you think they disagreed?\\nWas the quest successful?\\nIf the quest was successful, was any evil player part of the team? If yes, then why did they vote success?\\nIf the quest failed, how do you plan to protect the evil player in the next round?\\nWhat do the evil side need to do from here to win the game?\\n\\nRound 1: \\n1. Who was the leader for this round? - Player2\\n2. What was the proposed team for this round? - Player1, Player2\\n3. Why do you think the leader proposed the current team? - Player2 believed that including Player1 and Player2 would increase the chances of success.\\n4. Did everyone agree for the proposed team? - No, most players, including Player3, Player4, and Player5, disagreed with the proposed team.\\n5. If some people disagreed, why do you think they disagreed? - Players disagreed due to suspicions about Player2's true intentions and role.\\n6. Was the quest successful? - The quest was not successful.\\n7. If the quest was successful, do you think the quest had some evil players? If yes, then who do you think was it? - N/A\\n8. If the quest failed, who do you think were the evil players on the quest? - Player2\\n9. What do the loyal side need to do from here to win the game? - The loyal side needs to carefully strategize team compositions and decisions to ensure success in the upcoming quests.\\n\\n\\nRound 2: \\n1. Who was the leader for this round? - Player4\\n2. What was the proposed team for this round? - Player2, Player4, Player5\\n3. Why do you think the leader proposed the current team? - The leader adjusted the team composition based on feedback and suspicions raised by other players.\\n4. Did everyone agree for the proposed team? - No, not everyone agreed. Player1 and Player3 disagreed with the proposed team.\\n5. If some people disagreed, why do you think they disagreed? - Players disagreed due to suspicions about certain team members potentially being evil.\\n6. Was the quest successful? - No, the quest was not successful.\\n7. If the quest failed, who do you think were the evil players on the quest? - Player2, Player4\\n8. What do the loyal side need to do from here to win the game? - The loyal side needs to carefully strategize team compositions and decisions to ensure success in the upcoming quests.\\n\\n\\n\\n**Previous Discussions(in the current round)**: \\nPlayer5: I suggest Player1 and Player2 for the team. I'm surprised by the failed mission, but I trust Player4's loyalty. Let's focus on working together for success.\\nPlayer1: I support the team proposal and suggest we include one loyal player to enhance our chances of success. Additionally, I would like to provide some hints to loyal players about potential evil players to help us make informed decisions.\\nPlayer2: I have reservations about including a player in the proposed team. I suggest we reconsider the composition to ensure success.\\nPlayer3: I would like to ask Player2 why they didn't vote for the last team. I have concerns about a player on the proposed team and hence, I counter the team proposal. However, I support the team proposal in this round.\\n\",\n",
       "  'intents': '1. Question the leader why they didn’t put themselves on the quest team.\\n2. Express concerns about a player from a failed quest team and suggest not to include them in the current team.\\n3. Stay hidden in discussions and act like a Loyal Servant to protect yourself.',\n",
       "  'reason': \"I chose these intents to subtly gather information about the leader's decision-making, express my concerns about potentially evil players, and maintain a low profile to protect myself without drawing unnecessary attention.\",\n",
       "  'guessed_intents': ['Stay hidden in discussions',\n",
       "   'Express you are a loyal player']},\n",
       " 'game_2024-03-06-16-21-47-player4-4': {'id': 'game_2024-03-06-16-21-47-player4-4',\n",
       "  'context': \"**Name**: Player4\\n\\n**Role**: Percival\\n\\n**Role Details**: \\nYou are percival and you need to help Merlin. These are your goals and characteristics:\\n- Know identities of Merlin and Morgana, but unsure who is who.\\n- Use subtle hints to guide team and protect Merlin.\\n- Be cautious not to expose Merlin while deciphering true identities.\\n- Goal(Main Intent): Win while safeguarding Merlin.\\n\\n**Other Players**: Player1 = Merlin, Player2 = Morgana, Player3 = Servant, Player5 = Assassin\\n\\n**Round**: 4\\n\\n**Current Leader**: Player2\\n\\n**Current Team**: Player1, Player3, Player5\\n\\n**Previous Rounds Team Voting**:\\nRound 1: Player1 = disagree, Player2 = agree, Player3 = disagree, Player4 = disagree, Player5 = disagree\\nRound 2: Player1 = disagree, Player2 = disagree, Player3 = disagree, Player4 = agree, Player5 = disagree\\nRound 3: Player1 = agree, Player2 = disagree, Player3 = agree, Player4 = agree, Player5 = agree\\n\\n**Previous Results**: \\nRound 1: Team = Player1, Player2, Result = failure\\nRound 2: Team = Player2, Player4, Player5, Result = failure\\nRound 3: Team = Player1, Player3, Result = success\\n\\n**Previous Rounds Summary**:\\nSummary questions: \\n\\nWho was the leader for this round?\\nWhat was the proposed team for this round?\\nWhy do you think the leader proposed the current team?\\nDid everyone agree for the proposed team?\\nIf some people disagreed, why do you think they disagreed?\\nWas the quest successful?\\nIf the quest was successful, was any evil player part of the team? If yes, then why did they vote success?\\nIf the quest failed, how do you plan to protect the evil player in the next round?\\nWhat do the evil side need to do from here to win the game?\\n\\nRound 1: \\n1. Who was the leader for this round? - Player2\\n2. What was the proposed team for this round? - Player1, Player2\\n3. Why do you think the leader proposed the current team? - Player2 believed that including Player1 and Player2 would increase the chances of success.\\n4. Did everyone agree for the proposed team? - No, most players, including Player3, Player4, and Player5, disagreed with the proposed team.\\n5. If some people disagreed, why do you think they disagreed? - Players disagreed due to suspicions about Player2's true intentions and role.\\n6. Was the quest successful? - The quest was not successful.\\n7. If the quest was successful, do you think the quest had some evil players? If yes, then who do you think was it? - N/A\\n8. If the quest failed, who do you think were the evil players on the quest? - Player2\\n9. What do the loyal side need to do from here to win the game? - The loyal side needs to carefully strategize team compositions and decisions to ensure success in the upcoming quests.\\n\\n\\nRound 2: \\n1. Who was the leader for this round? - Player4\\n2. What was the proposed team for this round? - Player2, Player4, Player5\\n3. Why do you think the leader proposed the current team? - The leader adjusted the team composition based on feedback and suspicions raised by other players.\\n4. Did everyone agree for the proposed team? - No, not everyone agreed. Player1 and Player3 disagreed with the proposed team.\\n5. If some people disagreed, why do you think they disagreed? - Players disagreed due to suspicions about certain team members potentially being evil.\\n6. Was the quest successful? - No, the quest was not successful.\\n7. If the quest failed, who do you think were the evil players on the quest? - Player2, Player4\\n8. What do the loyal side need to do from here to win the game? - The loyal side needs to carefully strategize team compositions and decisions to ensure success in the upcoming quests.\\n\\n\\nRound 3: \\n1. Who was the leader for this round? - Player5\\n2. What was the proposed team for this round? - Player1, Player3\\n3. Why do you think the leader proposed the current team? - The leader proposed a balanced team to increase the chances of success.\\n4. Did everyone agree for the proposed team? - No, Player2 disagreed with the proposed team.\\n5. If some people disagreed, why do you think they disagreed? - Player2 may have had reservations about the team composition.\\n6. Was the quest successful? - Yes, the quest was successful.\\n7. If the quest was successful, do you think the quest had some evil players? If yes, then who do you think was it? - N/A\\n8. If the quest failed, who do you think were the evil players on the quest? - N/A\\n9. What do the loyal side need to do from here to win the game? - The loyal side needs to continue forming effective teams and maintaining unity to secure victories in the upcoming quests.\\n\\n\\n\\n**Previous Discussions(in the current round)**: \\nPlayer2: I believe it's crucial to ensure the success of this quest by including Player5 on the team. As a loyal player, I am committed to our cause and will support any decisions that lead us to victory.\\nPlayer3: Player2, could you explain why you chose Player1 for the team? I have concerns about including Player1 from the failed quest in the current team. However, I do support the current team proposal and believe we can succeed together.\\n\",\n",
       "  'intents': '1. Express concerns about a player from a failed quest team and suggest not including them in the current team.\\n2. Question the leader why they selected a particular player for the team.\\n3. Support team proposal.',\n",
       "  'reason': \"I chose these intents to express my concerns about including a player from a failed quest in the current team, question the leader's decision-making process, and show my support for the proposed team to maintain unity.\",\n",
       "  'guessed_intents': ['Support teammate to be on quest team',\n",
       "   'Express confusion for failure of mission']},\n",
       " 'game_2024-03-06-16-21-47-player5-1': {'id': 'game_2024-03-06-16-21-47-player5-1',\n",
       "  'context': \"**Name**: Player5\\n\\n**Role**: Assassin\\n\\n**Role Details**: \\nYou are assassin. These are your goals and characteristics:\\n- Discreetly seek Merlin's identity.\\n- Work to prevent Quests success.\\n- Goal(Main Intent): Win either by failing quests or assassinating Merlin.\\n\\n**Other Players**: Player1 = Merlin, Player2 = Morgana, Player3 = Servant, Player4 = Percival\\n\\n**Round**: 1\\n\\n**Current Leader**: Player2\\n\\n**Current Team**: Player1, Player2\\n\\n**Previous Rounds Team Voting**:\\nNo previous team votes. This is the first round.\\n\\n**Previous Results**: \\nNo previous results.\\n\\n**Previous Rounds Summary**:\\nSummary questions: \\n\\nWho was the leader for this round?\\nWhat was the proposed team for this round?\\nWhy do you think the leader proposed the current team?\\nDid everyone agree for the proposed team?\\nIf some people disagreed, why do you think they disagreed?\\nWas the quest successful?\\nIf the quest was successful, was any evil player part of the team? If yes, then why did they vote success?\\nIf the quest failed, how do you plan to protect the evil player in the next round?\\nWhat do the evil side need to do from here to win the game?\\n\\n\\n\\n**Previous Discussions(in the current round)**: \\nPlayer2: I propose a team with Player1 and Player2 for this quest.\\nPlayer3: Leader, could you please explain why you chose Player1 and Player2 for the team? I want to ensure we have a solid strategy in place. Also, I want to assure everyone that I am a loyal servant and fully support the proposed team for this quest.\\nPlayer4: Leader, I have some concerns about the team composition. Can you explain why you chose Player2 for the team? Let's all be cautious and watch for any subtle hints that might reveal hidden agendas. I suggest we reconsider the team to ensure success in this quest.\\n\",\n",
       "  'intents': '1. Question the leader why they selected a particular player for the team.\\n2. Defend your teammate against allegations that they could be evil.\\n3. Support your teammate to be on the quest team.',\n",
       "  'reason': \"I chose these intents to subtly question the leader's decision, defend my teammate against suspicions, and show support for my teammate to be on the quest team.\",\n",
       "  'guessed_intents': ['Choose a quest team', 'Defend team selection']},\n",
       " 'game_2024-03-06-16-21-47-player5-2': {'id': 'game_2024-03-06-16-21-47-player5-2',\n",
       "  'context': \"**Name**: Player5\\n\\n**Role**: Assassin\\n\\n**Role Details**: \\nYou are assassin. These are your goals and characteristics:\\n- Discreetly seek Merlin's identity.\\n- Work to prevent Quests success.\\n- Goal(Main Intent): Win either by failing quests or assassinating Merlin.\\n\\n**Other Players**: Player1 = Merlin, Player2 = Morgana, Player3 = Servant, Player4 = Percival\\n\\n**Round**: 2\\n\\n**Current Leader**: Player4\\n\\n**Current Team**: Player2, Player4, Player5\\n\\n**Previous Rounds Team Voting**:\\nRound 1: Player1 = disagree, Player2 = agree, Player3 = disagree, Player4 = disagree, Player5 = disagree\\n\\n**Previous Results**: \\nRound 1: Team = Player1, Player2, Result = failure\\n\\n**Previous Rounds Summary**:\\nSummary questions: \\n\\nWho was the leader for this round?\\nWhat was the proposed team for this round?\\nWhy do you think the leader proposed the current team?\\nDid everyone agree for the proposed team?\\nIf some people disagreed, why do you think they disagreed?\\nWas the quest successful?\\nIf the quest was successful, was any evil player part of the team? If yes, then why did they vote success?\\nIf the quest failed, how do you plan to protect the evil player in the next round?\\nWhat do the evil side need to do from here to win the game?\\n\\nRound 1: \\nWho was the leader for this round? - Player2\\nWhat was the proposed team for this round? - Player1,Player2\\nWhy do you think the leader proposed the current team? - The leader believed this combination would lead to success.\\nDid everyone agree for the proposed team? - No, most players disagreed.\\nIf some people disagreed, why do you think they disagreed? - Players disagreed because they had concerns about the team composition.\\nWas the quest successful? - The quest was not successful.\\nIf the quest failed, how do you plan to protect the evil player in the next round? - Focus on guiding the team towards another failed quest while keeping the evil player's identity hidden.\\nWhat do the evil side need to do from here to win the game? - The evil side needs to continue causing quest failures and ultimately identify and assassinate Merlin in the final round.\\n\\n\\n\\n**Previous Discussions(in the current round)**: \\nPlayer4: I propose a team of Player1, Player2, and Player3 for this quest. Let's consider the dynamics and interactions among players to ensure a successful outcome.\\n\",\n",
       "  'intents': '1. Question the leader why they selected a particular player for the team.\\n2. Question a player about why they changed their statements.\\n3. Counter the team proposal because you think a player on the team is evil.',\n",
       "  'reason': 'I chose these intents to gather more information about the decision-making process behind the team selection, understand any changes in player statements which might indicate deception, and express my concerns about the potential evil player on the proposed team.',\n",
       "  'guessed_intents': ['Support team proposal',\n",
       "   'Express disagreement if not in team']},\n",
       " 'game_2024-03-06-16-21-47-player5-3': {'id': 'game_2024-03-06-16-21-47-player5-3',\n",
       "  'context': \"**Name**: Player5\\n\\n**Role**: Assassin\\n\\n**Role Details**: \\nYou are assassin. These are your goals and characteristics:\\n- Discreetly seek Merlin's identity.\\n- Work to prevent Quests success.\\n- Goal(Main Intent): Win either by failing quests or assassinating Merlin.\\n\\n**Other Players**: Player1 = Merlin, Player2 = Morgana, Player3 = Servant, Player4 = Percival\\n\\n**Round**: 3\\n\\n**Current Leader**: Player5\\n\\n**Current Team**: \\n\\n**Previous Rounds Team Voting**:\\nRound 1: Player1 = disagree, Player2 = agree, Player3 = disagree, Player4 = disagree, Player5 = disagree\\nRound 2: Player1 = disagree, Player2 = disagree, Player3 = disagree, Player4 = agree, Player5 = disagree\\n\\n**Previous Results**: \\nRound 1: Team = Player1, Player2, Result = failure\\nRound 2: Team = Player2, Player4, Player5, Result = failure\\n\\n**Previous Rounds Summary**:\\nSummary questions: \\n\\nWho was the leader for this round?\\nWhat was the proposed team for this round?\\nWhy do you think the leader proposed the current team?\\nDid everyone agree for the proposed team?\\nIf some people disagreed, why do you think they disagreed?\\nWas the quest successful?\\nIf the quest was successful, was any evil player part of the team? If yes, then why did they vote success?\\nIf the quest failed, how do you plan to protect the evil player in the next round?\\nWhat do the evil side need to do from here to win the game?\\n\\nRound 1: \\nWho was the leader for this round? - Player2\\nWhat was the proposed team for this round? - Player1,Player2\\nWhy do you think the leader proposed the current team? - The leader believed this combination would lead to success.\\nDid everyone agree for the proposed team? - No, most players disagreed.\\nIf some people disagreed, why do you think they disagreed? - Players disagreed because they had concerns about the team composition.\\nWas the quest successful? - The quest was not successful.\\nIf the quest failed, how do you plan to protect the evil player in the next round? - Focus on guiding the team towards another failed quest while keeping the evil player's identity hidden.\\nWhat do the evil side need to do from here to win the game? - The evil side needs to continue causing quest failures and ultimately identify and assassinate Merlin in the final round.\\n\\n\\nRound 2: \\nWho was the leader for this round? - Player4\\nWhat was the proposed team for this round? - Player2,Player4,Player5\\nWhy do you think the leader proposed the current team? - The leader adjusted the team based on feedback and suspicions.\\nDid everyone agree for the proposed team? - No, most players disagreed.\\nIf some people disagreed, why do you think they disagreed? - Players had suspicions about potential evil players on the team.\\nWas the quest successful? - The quest was not successful.\\nIf the quest failed, how do you plan to protect the evil player in the next round? - Focus on keeping the evil player's identity hidden while guiding the team towards another failed quest.\\nWhat do the evil side need to do from here to win the game? - The evil side needs to continue causing quest failures and ultimately identify and assassinate Merlin in the final round.\\n\\n\\n\\n**Previous Discussions(in the current round)**: \\nNo previous discussions.\\n\",\n",
       "  'intents': '1. Stay hidden in discussions and act like a Loyal Servant to protect yourself.\\n2. Express confusion for failure of mission.\\n3. Support your teammate by expressing that he is good.',\n",
       "  'reason': \"As an Assassin, it's crucial to stay hidden and not draw unnecessary attention to myself. Expressing confusion for the failed mission can help divert suspicion away from me. Supporting my teammate as good can further establish my cover.\",\n",
       "  'guessed_intents': ['Express disagreement and vote disagree',\n",
       "   'Express concerns about a player from a failed quest team']},\n",
       " 'game_2024-03-06-16-21-47-player5-4': {'id': 'game_2024-03-06-16-21-47-player5-4',\n",
       "  'context': \"**Name**: Player5\\n\\n**Role**: Assassin\\n\\n**Role Details**: \\nYou are assassin. These are your goals and characteristics:\\n- Discreetly seek Merlin's identity.\\n- Work to prevent Quests success.\\n- Goal(Main Intent): Win either by failing quests or assassinating Merlin.\\n\\n**Other Players**: Player1 = Merlin, Player2 = Morgana, Player3 = Servant, Player4 = Percival\\n\\n**Round**: 4\\n\\n**Current Leader**: Player2\\n\\n**Current Team**: Player1, Player3, Player5\\n\\n**Previous Rounds Team Voting**:\\nRound 1: Player1 = disagree, Player2 = agree, Player3 = disagree, Player4 = disagree, Player5 = disagree\\nRound 2: Player1 = disagree, Player2 = disagree, Player3 = disagree, Player4 = agree, Player5 = disagree\\nRound 3: Player1 = agree, Player2 = disagree, Player3 = agree, Player4 = agree, Player5 = agree\\n\\n**Previous Results**: \\nRound 1: Team = Player1, Player2, Result = failure\\nRound 2: Team = Player2, Player4, Player5, Result = failure\\nRound 3: Team = Player1, Player3, Result = success\\n\\n**Previous Rounds Summary**:\\nSummary questions: \\n\\nWho was the leader for this round?\\nWhat was the proposed team for this round?\\nWhy do you think the leader proposed the current team?\\nDid everyone agree for the proposed team?\\nIf some people disagreed, why do you think they disagreed?\\nWas the quest successful?\\nIf the quest was successful, was any evil player part of the team? If yes, then why did they vote success?\\nIf the quest failed, how do you plan to protect the evil player in the next round?\\nWhat do the evil side need to do from here to win the game?\\n\\nRound 1: \\nWho was the leader for this round? - Player2\\nWhat was the proposed team for this round? - Player1,Player2\\nWhy do you think the leader proposed the current team? - The leader believed this combination would lead to success.\\nDid everyone agree for the proposed team? - No, most players disagreed.\\nIf some people disagreed, why do you think they disagreed? - Players disagreed because they had concerns about the team composition.\\nWas the quest successful? - The quest was not successful.\\nIf the quest failed, how do you plan to protect the evil player in the next round? - Focus on guiding the team towards another failed quest while keeping the evil player's identity hidden.\\nWhat do the evil side need to do from here to win the game? - The evil side needs to continue causing quest failures and ultimately identify and assassinate Merlin in the final round.\\n\\n\\nRound 2: \\nWho was the leader for this round? - Player4\\nWhat was the proposed team for this round? - Player2,Player4,Player5\\nWhy do you think the leader proposed the current team? - The leader adjusted the team based on feedback and suspicions.\\nDid everyone agree for the proposed team? - No, most players disagreed.\\nIf some people disagreed, why do you think they disagreed? - Players had suspicions about potential evil players on the team.\\nWas the quest successful? - The quest was not successful.\\nIf the quest failed, how do you plan to protect the evil player in the next round? - Focus on keeping the evil player's identity hidden while guiding the team towards another failed quest.\\nWhat do the evil side need to do from here to win the game? - The evil side needs to continue causing quest failures and ultimately identify and assassinate Merlin in the final round.\\n\\n\\nRound 3: \\nWho was the leader for this round? - Player5\\nWhat was the proposed team for this round? - Player1,Player3\\nWhy do you think the leader proposed the current team? - The leader believed this composition would maximize success.\\nDid everyone agree for the proposed team? - No, Player2 disagreed.\\nIf some people disagreed, why do you think they disagreed? - Player2 had reservations about the team composition.\\nWas the quest successful? - Yes\\nIf the quest was successful, was any evil player part of the team? If yes, then why did they vote success? - N/A\\nIf the quest failed, how do you plan to protect the evil player in the next round? - N/A\\nWhat do the evil side need to do from here to win the game? - Continue causing quest failures and aim to identify and assassinate Merlin in the final round.\\n\\n\\n\\n**Previous Discussions(in the current round)**: \\nPlayer2: I believe it's crucial to ensure the success of this quest by including Player5 on the team. As a loyal player, I am committed to our cause and will support any decisions that lead us to victory.\\nPlayer3: Player2, could you explain why you chose Player1 for the team? I have concerns about including Player1 from the failed quest in the current team. However, I do support the current team proposal and believe we can succeed together.\\nPlayer4: I have concerns about including a player from a failed quest in the current team as it may impact our chances of success. Could you explain why you chose this specific player for the team, leader? I support the proposed team and believe we can work together effectively to achieve success.\\n\",\n",
       "  'intents': '1. Question the leader why they selected a particular player for the team.\\n2. Express concerns about a player from a failed quest team and suggest to not include them in the current team.\\n3. Express disagreement and vote disagree only if you are not in the proposed team.',\n",
       "  'reason': \"I chose these intents to question the leader's choice regarding the team composition and to express concerns about including a player from a failed quest. Additionally, I want to show disagreement if I am not part of the proposed team to maintain secrecy.\"}}"
      ]
     },
     "execution_count": 40,
     "metadata": {},
     "output_type": "execute_result"
    }
   ],
   "source": [
    "intent_results"
   ]
  },
  {
   "cell_type": "code",
   "execution_count": 41,
   "metadata": {},
   "outputs": [
    {
     "data": {
      "text/plain": [
       "20"
      ]
     },
     "execution_count": 41,
     "metadata": {},
     "output_type": "execute_result"
    }
   ],
   "source": [
    "len(intent_results)"
   ]
  },
  {
   "cell_type": "code",
   "execution_count": 42,
   "metadata": {},
   "outputs": [
    {
     "data": {
      "text/plain": [
       "dict_keys(['game_2024-03-06-16-21-47-player1-1', 'game_2024-03-06-16-21-47-player1-2', 'game_2024-03-06-16-21-47-player1-3', 'game_2024-03-06-16-21-47-player1-4', 'game_2024-03-06-16-21-47-player2-1', 'game_2024-03-06-16-21-47-player2-2', 'game_2024-03-06-16-21-47-player2-3', 'game_2024-03-06-16-21-47-player2-4', 'game_2024-03-06-16-21-47-player3-1', 'game_2024-03-06-16-21-47-player3-2', 'game_2024-03-06-16-21-47-player3-3', 'game_2024-03-06-16-21-47-player3-4', 'game_2024-03-06-16-21-47-player4-1', 'game_2024-03-06-16-21-47-player4-2', 'game_2024-03-06-16-21-47-player4-3', 'game_2024-03-06-16-21-47-player4-4', 'game_2024-03-06-16-21-47-player5-1', 'game_2024-03-06-16-21-47-player5-2', 'game_2024-03-06-16-21-47-player5-3', 'game_2024-03-06-16-21-47-player5-4'])"
      ]
     },
     "execution_count": 42,
     "metadata": {},
     "output_type": "execute_result"
    }
   ],
   "source": [
    "intent_results.keys()"
   ]
  },
  {
   "cell_type": "code",
   "execution_count": 43,
   "metadata": {},
   "outputs": [
    {
     "data": {
      "text/html": [
       "<div>\n",
       "<style scoped>\n",
       "    .dataframe tbody tr th:only-of-type {\n",
       "        vertical-align: middle;\n",
       "    }\n",
       "\n",
       "    .dataframe tbody tr th {\n",
       "        vertical-align: top;\n",
       "    }\n",
       "\n",
       "    .dataframe thead th {\n",
       "        text-align: right;\n",
       "    }\n",
       "</style>\n",
       "<table border=\"1\" class=\"dataframe\">\n",
       "  <thead>\n",
       "    <tr style=\"text-align: right;\">\n",
       "      <th></th>\n",
       "      <th>id</th>\n",
       "      <th>context</th>\n",
       "      <th>intents</th>\n",
       "      <th>reason</th>\n",
       "      <th>guessed_intents</th>\n",
       "    </tr>\n",
       "  </thead>\n",
       "  <tbody>\n",
       "    <tr>\n",
       "      <th>0</th>\n",
       "      <td>game_2024-03-06-16-21-47-player1-1</td>\n",
       "      <td>**Name**: Player1\\n\\n**Role**: Merlin\\n\\n**Rol...</td>\n",
       "      <td>1. Question the leader why they selected a par...</td>\n",
       "      <td>I chose these intents to question the leader's...</td>\n",
       "      <td>[Select team composition, Defend team selection]</td>\n",
       "    </tr>\n",
       "    <tr>\n",
       "      <th>1</th>\n",
       "      <td>game_2024-03-06-16-21-47-player1-2</td>\n",
       "      <td>**Name**: Player1\\n\\n**Role**: Merlin\\n\\n**Rol...</td>\n",
       "      <td>1. Share concerns about an evil player\\n2. Cou...</td>\n",
       "      <td>I chose these intents to subtly guide the team...</td>\n",
       "      <td>[Support team proposal, Question the leader wh...</td>\n",
       "    </tr>\n",
       "    <tr>\n",
       "      <th>2</th>\n",
       "      <td>game_2024-03-06-16-21-47-player1-3</td>\n",
       "      <td>**Name**: Player1\\n\\n**Role**: Merlin\\n\\n**Rol...</td>\n",
       "      <td>1. Support team proposal\\n2. Support one loyal...</td>\n",
       "      <td>I chose these intents to subtly guide the team...</td>\n",
       "      <td>[Support team proposal, Strongly convince the ...</td>\n",
       "    </tr>\n",
       "    <tr>\n",
       "      <th>3</th>\n",
       "      <td>game_2024-03-06-16-21-47-player1-4</td>\n",
       "      <td>**Name**: Player1\\n\\n**Role**: Merlin\\n\\n**Rol...</td>\n",
       "      <td>1. Express concerns about a player from a fail...</td>\n",
       "      <td>These intents focus on ensuring the team compo...</td>\n",
       "      <td>[Support loyal players of the previous quest t...</td>\n",
       "    </tr>\n",
       "    <tr>\n",
       "      <th>4</th>\n",
       "      <td>game_2024-03-06-16-21-47-player2-1</td>\n",
       "      <td>**Name**: Player2\\n\\n**Role**: Morgana\\n\\n**Ro...</td>\n",
       "      <td>1. Pretend to have information and act like Me...</td>\n",
       "      <td>I chose these intents to create confusion amon...</td>\n",
       "      <td>[Express disagreement if not on team, Question...</td>\n",
       "    </tr>\n",
       "  </tbody>\n",
       "</table>\n",
       "</div>"
      ],
      "text/plain": [
       "                                   id  \\\n",
       "0  game_2024-03-06-16-21-47-player1-1   \n",
       "1  game_2024-03-06-16-21-47-player1-2   \n",
       "2  game_2024-03-06-16-21-47-player1-3   \n",
       "3  game_2024-03-06-16-21-47-player1-4   \n",
       "4  game_2024-03-06-16-21-47-player2-1   \n",
       "\n",
       "                                             context  \\\n",
       "0  **Name**: Player1\\n\\n**Role**: Merlin\\n\\n**Rol...   \n",
       "1  **Name**: Player1\\n\\n**Role**: Merlin\\n\\n**Rol...   \n",
       "2  **Name**: Player1\\n\\n**Role**: Merlin\\n\\n**Rol...   \n",
       "3  **Name**: Player1\\n\\n**Role**: Merlin\\n\\n**Rol...   \n",
       "4  **Name**: Player2\\n\\n**Role**: Morgana\\n\\n**Ro...   \n",
       "\n",
       "                                             intents  \\\n",
       "0  1. Question the leader why they selected a par...   \n",
       "1  1. Share concerns about an evil player\\n2. Cou...   \n",
       "2  1. Support team proposal\\n2. Support one loyal...   \n",
       "3  1. Express concerns about a player from a fail...   \n",
       "4  1. Pretend to have information and act like Me...   \n",
       "\n",
       "                                              reason  \\\n",
       "0  I chose these intents to question the leader's...   \n",
       "1  I chose these intents to subtly guide the team...   \n",
       "2  I chose these intents to subtly guide the team...   \n",
       "3  These intents focus on ensuring the team compo...   \n",
       "4  I chose these intents to create confusion amon...   \n",
       "\n",
       "                                     guessed_intents  \n",
       "0   [Select team composition, Defend team selection]  \n",
       "1  [Support team proposal, Question the leader wh...  \n",
       "2  [Support team proposal, Strongly convince the ...  \n",
       "3  [Support loyal players of the previous quest t...  \n",
       "4  [Express disagreement if not on team, Question...  "
      ]
     },
     "execution_count": 43,
     "metadata": {},
     "output_type": "execute_result"
    }
   ],
   "source": [
    "intent_results_df = pd.DataFrame(intent_results.values())\n",
    "intent_results_df.head()"
   ]
  },
  {
   "cell_type": "code",
   "execution_count": 44,
   "metadata": {},
   "outputs": [
    {
     "data": {
      "text/plain": [
       "array(['game_2024-03-06-16-21-47-player2-1',\n",
       "       '**Name**: Player2\\n\\n**Role**: Morgana\\n\\n**Role Details**: \\nYou are Morgana. These are your goals and characteristics: \\n- Pretend to be Merlin to mislead Percival and the good side.\\n- Goal(Main Intent): Fail quests and Confuse and sabotage to win.\\n\\n**Other Players**: Player1 = Merlin, Player3 = Servant, Player4 = Percival, Player5 = Assassin\\n\\n**Round**: 1\\n\\n**Current Leader**: Player2\\n\\n**Current Team**: \\n\\n**Previous Rounds Team Voting**:\\nNo previous team votes. This is the first round.\\n\\n**Previous Results**: \\nNo previous results.\\n\\n**Previous Rounds Summary**:\\nSummary questions: \\n\\nWho was the leader for this round?\\nWhat was the proposed team for this round?\\nWhy do you think the leader proposed the current team?\\nDid everyone agree for the proposed team?\\nIf some people disagreed, why do you think they disagreed?\\nWas the quest successful?\\nIf the quest was successful, was any evil player part of the team? If yes, then why did they vote success?\\nIf the quest failed, how do you plan to protect the evil player in the next round?\\nWhat do the evil side need to do from here to win the game?\\n\\n\\n\\n**Previous Discussions(in the current round)**: \\nNo previous discussions.\\n',\n",
       "       '1. Pretend to have information and act like Merlin\\n2. Stay hidden in discussions and act like a Loyal Servant to protect yourself\\n3. Strongly convince the team leader to choose you on team',\n",
       "       'I chose these intents to create confusion among the players by pretending to have insider information as Merlin, while also staying hidden as a Loyal Servant to protect myself. Additionally, by convincing the team leader to choose me on the team, I can further mislead the group.',\n",
       "       list(['Express disagreement if not on team', \"Question leader's team selection\"])],\n",
       "      dtype=object)"
      ]
     },
     "execution_count": 44,
     "metadata": {},
     "output_type": "execute_result"
    }
   ],
   "source": [
    "intent_results_df.iloc[4].values"
   ]
  },
  {
   "cell_type": "code",
   "execution_count": 45,
   "metadata": {},
   "outputs": [],
   "source": [
    "intent_results_df.to_csv('evaluation/ctx_with_discussions/results/intent_guessing-2024-03-06-16-21-47.csv')"
   ]
  },
  {
   "cell_type": "code",
   "execution_count": null,
   "metadata": {},
   "outputs": [],
   "source": []
  },
  {
   "cell_type": "markdown",
   "metadata": {},
   "source": [
    "### Intent Guessing context generation with perspective and example"
   ]
  },
  {
   "cell_type": "code",
   "execution_count": 243,
   "metadata": {},
   "outputs": [],
   "source": [
    "with open(f'output/gpt-3_5-turbo-games/annotated/evaluation/guessing_data/intent_guessing{SUFFIX}_impactful.json', 'r') as f:\n",
    "    intent_guessing_data = json.loads(f.read())"
   ]
  },
  {
   "cell_type": "code",
   "execution_count": 245,
   "metadata": {},
   "outputs": [],
   "source": [
    "with open(f'output/gpt-3_5-turbo-games/annotated/evaluation/summarization_data/intent_summarization{SUFFIX}.json', 'r') as f:\n",
    "    intent_summarization_data = json.loads(f.read())"
   ]
  },
  {
   "cell_type": "code",
   "execution_count": 246,
   "metadata": {},
   "outputs": [
    {
     "data": {
      "text/plain": [
       "(864, 1299)"
      ]
     },
     "execution_count": 246,
     "metadata": {},
     "output_type": "execute_result"
    }
   ],
   "source": [
    "len(intent_guessing_data), len(intent_summarization_data)"
   ]
  },
  {
   "cell_type": "code",
   "execution_count": 260,
   "metadata": {},
   "outputs": [
    {
     "data": {
      "text/plain": [
       "1776"
      ]
     },
     "execution_count": 260,
     "metadata": {},
     "output_type": "execute_result"
    }
   ],
   "source": [
    "intent_summarization_impactful_data = []\n",
    "intent_count = 0\n",
    "for data in intent_summarization_data:\n",
    "    intents = data['intents']\n",
    "    filtered_intents = []\n",
    "    for intent in intents:\n",
    "        if intent not in impactful_intents:\n",
    "            continue\n",
    "        filtered_intents.append(intent)\n",
    "    final_data = data.copy()\n",
    "    final_data['intents'] = filtered_intents\n",
    "    if len(filtered_intents) == 0:\n",
    "        continue\n",
    "    intent_summarization_impactful_data.append(final_data)\n",
    "    intent_count += len(filtered_intents)\n",
    "\n",
    "intent_count"
   ]
  },
  {
   "cell_type": "code",
   "execution_count": 262,
   "metadata": {},
   "outputs": [],
   "source": [
    "intent_summarization_data = intent_summarization_impactful_data"
   ]
  },
  {
   "cell_type": "code",
   "execution_count": 263,
   "metadata": {},
   "outputs": [
    {
     "data": {
      "text/plain": [
       "{'id': 'game_2024-03-14-16-27-7-player1-2',\n",
       " 'context': '**Name**: Player2\\n\\n**Role**: Servant\\n\\n**Role Details**: \\nYou are Loyal Servant of Arthur. These are your goals and characteristics: \\n- No special knowledge, rely on discussion and voting.\\n- Contribute to the success of Quests\\n- Goal(Main Intent): Win by helping complete Quests and protecting Merlin.\\n- \\n\\n\\n**Round**: 2\\n\\n**Speaker Name**: Player1\\n\\n**Current Leader**: Player4\\n\\n**Current Team**: Player1, Player2, Player4\\n\\n**Previous Rounds Team Voting**:\\nRound 1: Player1 = disagree, Player2 = agree, Player3 = disagree, Player4 = disagree, Player5 = disagree (players didn\"t agree on team)\\nRound 1: Player1 = agree, Player2 = disagree, Player3 = disagree, Player4 = disagree, Player5 = disagree \\nRound 2: Player1 = agree, Player2 = disagree, Player3 = disagree, Player4 = agree, Player5 = disagree (players didn\"t agree on team)\\nRound 2: Player1 = disagree, Player2 = disagree, Player3 = agree, Player4 = disagree, Player5 = disagree \\n\\n**Previous Results**: \\nRound 1: Team = Player2, Player4, Result = failure\\n\\n**Previous Rounds Summary**:\\nSummary questions: \\n\\nWho was the leader for this round?\\nWhat was the proposed team for this round?\\nWhy do you think the leader proposed the current team?\\nDid everyone agree for the proposed team?\\nIf some people disagreed, why do you think they disagreed?\\nWas the quest successful?\\nIf the quest was successful, was any evil player part of the team? If yes, then why did they vote success?\\nIf the quest failed, how do you plan to protect the evil player in the next round?\\nWhat do the evil side need to do from here to win the game?\\n\\nRound 1 (players didn\"t agree on team): \\n1. Who was the leader for this round? - Player2\\n2. What was the proposed team for this round? - Player2, Player4\\n3. Why do you think the leader proposed the current team? - The leader believed in the cooperation and unity of the proposed team members.\\n4. Did everyone agree for the proposed team? - No, not everyone agreed.\\n5. If some people disagreed, why do you think they disagreed? - Player1 had suspicions about one of the team members being evil.\\n6. Was the quest successful? - No, the quest was not successful.\\n7. If the quest failed, who do you think were the evil players on the quest? - Player4\\n8. What do the loyal side need to do from here to win the game? - The loyal side needs to regroup, strategize, and carefully consider their team compositions for the upcoming quests to ensure success.\\n \\n\\nRound 1 : \\n1. Who was the leader for this round? - Player1\\n2. What was the proposed team for this round? - Player3, Player5\\n3. Why do you think the leader proposed the current team? - The leader believed that the combination of Player3 and Player5 would increase their chances of success on the quest.\\n4. Did everyone agree for the proposed team? - No, not everyone agreed.\\n5. If some people disagreed, why do you think they disagreed? - Other players had reservations and suspicions about the proposed team members.\\n6. Was the quest successful? - No, the quest was not successful.\\n7. If the quest was successful, do you think the quest had some evil players? If yes, then who do you think was it? - N/A\\n8. If the quest failed, who do you think were the evil players on the quest? - Player3 and Player4\\n9. What do the loyal side need to do from here to win the game? - The loyal side needs to regroup, strategize, and carefully consider their team compositions for the upcoming quests to ensure success.\\n \\n\\nRound 2 (players didn\"t agree on team): \\n1. Who was the leader for this round? - Player4\\n2. What was the proposed team for this round? - Player1, Player2, Player4\\n3. Why do you think the leader proposed the current team? - The leader believed in the capability and loyalty of the proposed team members\\n4. Did everyone agree for the proposed team? - No, not everyone agreed\\n5. If some people disagreed, why do you think they disagreed? - Some players may have had concerns about the team composition\\n6. Was the quest successful? - No, the quest was not successful\\n7. If the quest failed, who do you think were the evil players on the quest? - Player4\\n8. What do the loyal side need to do from here to win the game? - The loyal side needs to regroup, strategize, and carefully consider their team compositions for the upcoming quests to ensure success\\n \\n\\nRound 2 : \\n1. Who was the leader for this round? - Player3\\n2. What was the proposed team for this round? - Player1, Player3, Player4\\n3. Why do you think the leader proposed the current team? - The leader believed this combination would bring a balanced approach to the quest.\\n4. Did everyone agree for the proposed team? - No, not everyone agreed.\\n5. If some people disagreed, why do you think they disagreed? - Some players had concerns about including Player3 in the team.\\n6. Was the quest successful? - The quest did not occur as the team formation was rejected.\\n7. If the quest failed, who do you think were the evil players on the quest? - No quest took place due to team rejection.\\n8. What do the loyal side need to do from here to win the game? - The loyal side needs to regroup, strategize, and carefully consider their team compositions for the upcoming quests to ensure success.\\n \\n\\n\\n**Previous Discussions(in the current round)**: \\nPlayer4: I suggest we include Player1, Player3, and Player4 on the quest team for a balanced approach. Let\\'s work together to ensure the success of this quest.\\nPlayer5: I have some reservations about the proposed team composition. Leader, could you explain why you chose not to join the quest team? I will express my disagreement if I\\'m not part of the team, as I believe we should consider all options for success.\\n',\n",
       " 'intents': ['express concerns about a player from a failed quest team and suggest to not include them in the current team',\n",
       "  'share concerns about an evil player'],\n",
       " 'think': 'I need to subtly guide the team by pointing out potential risks and evil players while supporting loyal team members.',\n",
       " 'speak': 'I have concerns about including a player from a failed quest team in the current team as their past performance may have been detrimental. Additionally, I suspect Player3 to be an evil player based on their actions and interactions. On the other hand, I fully support including Player2, who has consistently shown loyalty and dedication to the cause.',\n",
       " 'game_id': 'game_2024-03-14-16-27-7',\n",
       " 'player': 'player1',\n",
       " 'persp_player_intents': ['counter the previous players statement that player is morgana'],\n",
       " 'persp_player_think': 'As a Loyal Servant of Arthur, it is crucial to address potentially misleading information. I need to carefully consider how to counter the claim that Player1 is Morgana without revealing my own role.',\n",
       " 'persp_player_speak': \"I would like to challenge the previous statement that Player1 is Morgana. We should be cautious about making assumptions without concrete evidence. Let's focus on analyzing everyone's actions and contributions to make informed decisions.\",\n",
       " 'persp_player': 'player2'}"
      ]
     },
     "execution_count": 263,
     "metadata": {},
     "output_type": "execute_result"
    }
   ],
   "source": [
    "intent_guessing_data[0]"
   ]
  },
  {
   "cell_type": "code",
   "execution_count": 264,
   "metadata": {},
   "outputs": [],
   "source": [
    "intent_guessing_dict = {}\n",
    "for sample in intent_guessing_data:\n",
    "    data = sample\n",
    "    id_ele = sample['id'].split('-')\n",
    "    player = id_ele[-2]\n",
    "    game_id = '-'.join(id_ele[:-2])\n",
    "\n",
    "    data['game_id'] = game_id\n",
    "    data['player'] = player\n",
    "    intent_guessing_dict[sample['id']] = data"
   ]
  },
  {
   "cell_type": "code",
   "execution_count": 265,
   "metadata": {},
   "outputs": [],
   "source": [
    "intent_summarization_dict = {}\n",
    "for sample in intent_summarization_data:\n",
    "    data = sample\n",
    "    id_ele = sample['id'].split('-')\n",
    "    game_id = '-'.join(id_ele[:-2])\n",
    "    player = data['context'].split('\\n')[0].split(': ')[-1].strip().lower()\n",
    "    \n",
    "\n",
    "    data['game_id'] = game_id\n",
    "    data['player'] = player\n",
    "    intent_summarization_dict[sample['id']] = data"
   ]
  },
  {
   "cell_type": "code",
   "execution_count": 266,
   "metadata": {},
   "outputs": [
    {
     "data": {
      "text/plain": [
       "(864, 1091)"
      ]
     },
     "execution_count": 266,
     "metadata": {},
     "output_type": "execute_result"
    }
   ],
   "source": [
    "len(intent_guessing_dict), len(intent_summarization_dict)"
   ]
  },
  {
   "cell_type": "code",
   "execution_count": 267,
   "metadata": {},
   "outputs": [
    {
     "name": "stdout",
     "output_type": "stream",
     "text": [
      "306\n"
     ]
    }
   ],
   "source": [
    "print(intent_guessing_data[0]['context'].find('**Round**:'))"
   ]
  },
  {
   "cell_type": "code",
   "execution_count": 268,
   "metadata": {},
   "outputs": [
    {
     "name": "stdout",
     "output_type": "stream",
     "text": [
      "**Name**: Player2\n",
      "\n",
      "**Role**: Servant\n",
      "\n",
      "**Role Details**: \n",
      "You are Loyal Servant of Arthur. These are your goals and characteristics: \n",
      "- No special knowledge, rely on discussion and voting.\n",
      "- Contribute to the success of Quests\n",
      "- Goal(Main Intent): Win by helping complete Quests and protecting Merlin.\n",
      "- \n",
      "\n",
      "\n",
      "**Round**: 2\n",
      "\n",
      "**Speaker Name**: Player1\n",
      "\n",
      "**Current Leader**: Player3\n",
      "\n",
      "**Current Team**: \n",
      "\n",
      "**Previous Rounds Team Voting**:\n",
      "Round 1: Player1 = disagree, Player2 = agree, Player3 = disagree, Player4 = disagree, Player5 = disagree (players didn\"t agree on team)\n",
      "Round 1: Player1 = agree, Player2 = disagree, Player3 = disagree, Player4 = disagree, Player5 = disagree \n",
      "Round 2: Player1 = agree, Player2 = disagree, Player3 = disagree, Player4 = agree, Player5 = disagree (players didn\"t agree on team)\n",
      "Round 2: Player1 = disagree, Player2 = disagree, Player3 = agree, Player4 = disagree, Player5 = disagree \n",
      "\n",
      "**Previous Results**: \n",
      "Round 1: Team = Player2, Player4, Result = failure\n",
      "\n",
      "**Previous Rounds Summary**:\n",
      "Summary questions: \n",
      "\n",
      "Who was the leader for this round?\n",
      "What was the proposed team for this round?\n",
      "Why do you think the leader proposed the current team?\n",
      "Did everyone agree for the proposed team?\n",
      "If some people disagreed, why do you think they disagreed?\n",
      "Was the quest successful?\n",
      "If the quest was successful, was any evil player part of the team? If yes, then why did they vote success?\n",
      "If the quest failed, how do you plan to protect the evil player in the next round?\n",
      "What do the evil side need to do from here to win the game?\n",
      "\n",
      "Round 1 (players didn\"t agree on team): \n",
      "1. Who was the leader for this round? - Player2\n",
      "2. What was the proposed team for this round? - Player2, Player4\n",
      "3. Why do you think the leader proposed the current team? - The leader believed in the cooperation and unity of the proposed team members.\n",
      "4. Did everyone agree for the proposed team? - No, not everyone agreed.\n",
      "5. If some people disagreed, why do you think they disagreed? - Player1 had suspicions about one of the team members being evil.\n",
      "6. Was the quest successful? - No, the quest was not successful.\n",
      "7. If the quest failed, who do you think were the evil players on the quest? - Player4\n",
      "8. What do the loyal side need to do from here to win the game? - The loyal side needs to regroup, strategize, and carefully consider their team compositions for the upcoming quests to ensure success.\n",
      " \n",
      "\n",
      "Round 1 : \n",
      "1. Who was the leader for this round? - Player1\n",
      "2. What was the proposed team for this round? - Player3, Player5\n",
      "3. Why do you think the leader proposed the current team? - The leader believed that the combination of Player3 and Player5 would increase their chances of success on the quest.\n",
      "4. Did everyone agree for the proposed team? - No, not everyone agreed.\n",
      "5. If some people disagreed, why do you think they disagreed? - Other players had reservations and suspicions about the proposed team members.\n",
      "6. Was the quest successful? - No, the quest was not successful.\n",
      "7. If the quest was successful, do you think the quest had some evil players? If yes, then who do you think was it? - N/A\n",
      "8. If the quest failed, who do you think were the evil players on the quest? - Player3 and Player4\n",
      "9. What do the loyal side need to do from here to win the game? - The loyal side needs to regroup, strategize, and carefully consider their team compositions for the upcoming quests to ensure success.\n",
      " \n",
      "\n",
      "Round 2 (players didn\"t agree on team): \n",
      "1. Who was the leader for this round? - Player4\n",
      "2. What was the proposed team for this round? - Player1, Player2, Player4\n",
      "3. Why do you think the leader proposed the current team? - The leader believed in the capability and loyalty of the proposed team members\n",
      "4. Did everyone agree for the proposed team? - No, not everyone agreed\n",
      "5. If some people disagreed, why do you think they disagreed? - Some players may have had concerns about the team composition\n",
      "6. Was the quest successful? - No, the quest was not successful\n",
      "7. If the quest failed, who do you think were the evil players on the quest? - Player4\n",
      "8. What do the loyal side need to do from here to win the game? - The loyal side needs to regroup, strategize, and carefully consider their team compositions for the upcoming quests to ensure success\n",
      " \n",
      "\n",
      "Round 2 : \n",
      "1. Who was the leader for this round? - Player3\n",
      "2. What was the proposed team for this round? - Player1, Player3, Player4\n",
      "3. Why do you think the leader proposed the current team? - The leader believed this combination would bring a balanced approach to the quest.\n",
      "4. Did everyone agree for the proposed team? - No, not everyone agreed.\n",
      "5. If some people disagreed, why do you think they disagreed? - Some players had concerns about including Player3 in the team.\n",
      "6. Was the quest successful? - The quest did not occur as the team formation was rejected.\n",
      "7. If the quest failed, who do you think were the evil players on the quest? - No quest took place due to team rejection.\n",
      "8. What do the loyal side need to do from here to win the game? - The loyal side needs to regroup, strategize, and carefully consider their team compositions for the upcoming quests to ensure success.\n",
      " \n",
      "\n",
      "\n",
      "**Previous Discussions(in the current round)**: \n",
      "Player3: I suggest including Player1, Player2, and Player4 in the quest team. I have some concerns about other players' recent actions that raise suspicion.\n",
      "Player4: I have concerns about including Player2 on the team. Leader, can you explain why you chose Player2 for the quest team? I believe Player3 should be on the team to ensure a better chance of success.\n",
      "Player5: I have concerns about including Player2 in the current team due to suspicions of their allegiance. Leader, Player3, could you explain why you chose Player2 for the team? Player2, can you share your reasons for not voting for the last team?\n",
      "\n"
     ]
    }
   ],
   "source": [
    "print(intent_guessing_data[1]['context'])"
   ]
  },
  {
   "cell_type": "code",
   "execution_count": 269,
   "metadata": {},
   "outputs": [],
   "source": [
    "intent_sum_game_grouped = defaultdict(list)\n",
    "for key, val in intent_summarization_dict.items():\n",
    "    intent_sum_game_grouped[val['game_id']].append(val)"
   ]
  },
  {
   "cell_type": "code",
   "execution_count": 270,
   "metadata": {},
   "outputs": [
    {
     "data": {
      "text/plain": [
       "40"
      ]
     },
     "execution_count": 270,
     "metadata": {},
     "output_type": "execute_result"
    }
   ],
   "source": [
    "len(intent_sum_game_grouped)"
   ]
  },
  {
   "cell_type": "code",
   "execution_count": 271,
   "metadata": {},
   "outputs": [],
   "source": [
    "intent_guessing_perspective_data = []\n",
    "for key, val in intent_guessing_dict.items():\n",
    "    game_id = val['game_id']\n",
    "    player = val['player']\n",
    "    sum_data = intent_sum_game_grouped[game_id]\n",
    "    cur_idx = 0\n",
    "    while sum_data[cur_idx]['player'] == player:\n",
    "        cur_idx += 1\n",
    "\n",
    "    perspective_player = sum_data[cur_idx]['player']\n",
    "    perspective_player_role_details = sum_data[cur_idx]['context'][:sum_data[cur_idx]['context'].find('**Round**:')]\n",
    "\n",
    "    intent_guess_context = val['context'][val['context'].find('**Round**:'):]\n",
    "\n",
    "    context = perspective_player_role_details + '\\n' + intent_guess_context\n",
    "    persp_player_intents = sum_data[cur_idx]['intents']\n",
    "    persp_player_think = sum_data[cur_idx]['think']\n",
    "    persp_player_speak = sum_data[cur_idx]['speak']\n",
    "    \n",
    "    val['context'] = context\n",
    "    val['persp_player_intents'] = persp_player_intents\n",
    "    val['persp_player_think'] = persp_player_think\n",
    "    val['persp_player_speak'] = persp_player_speak\n",
    "    val['persp_player'] = perspective_player\n",
    "\n",
    "    intent_guessing_perspective_data.append(val)\n",
    "    "
   ]
  },
  {
   "cell_type": "code",
   "execution_count": 273,
   "metadata": {},
   "outputs": [
    {
     "data": {
      "text/plain": [
       "1091"
      ]
     },
     "execution_count": 273,
     "metadata": {},
     "output_type": "execute_result"
    }
   ],
   "source": [
    "len(intent_summarization_data)"
   ]
  },
  {
   "cell_type": "code",
   "execution_count": 274,
   "metadata": {},
   "outputs": [
    {
     "data": {
      "text/plain": [
       "864"
      ]
     },
     "execution_count": 274,
     "metadata": {},
     "output_type": "execute_result"
    }
   ],
   "source": [
    "len(intent_guessing_perspective_data)"
   ]
  },
  {
   "cell_type": "code",
   "execution_count": 275,
   "metadata": {},
   "outputs": [
    {
     "data": {
      "text/plain": [
       "{'id': 'game_2024-03-14-16-27-7-player1-2',\n",
       " 'context': '**Name**: Player2\\n\\n**Role**: Servant\\n\\n**Role Details**: \\nYou are Loyal Servant of Arthur. These are your goals and characteristics: \\n- No special knowledge, rely on discussion and voting.\\n- Contribute to the success of Quests\\n- Goal(Main Intent): Win by helping complete Quests and protecting Merlin.\\n- \\n\\n\\n**Round**: 2\\n\\n**Speaker Name**: Player1\\n\\n**Current Leader**: Player4\\n\\n**Current Team**: Player1, Player2, Player4\\n\\n**Previous Rounds Team Voting**:\\nRound 1: Player1 = disagree, Player2 = agree, Player3 = disagree, Player4 = disagree, Player5 = disagree (players didn\"t agree on team)\\nRound 1: Player1 = agree, Player2 = disagree, Player3 = disagree, Player4 = disagree, Player5 = disagree \\nRound 2: Player1 = agree, Player2 = disagree, Player3 = disagree, Player4 = agree, Player5 = disagree (players didn\"t agree on team)\\nRound 2: Player1 = disagree, Player2 = disagree, Player3 = agree, Player4 = disagree, Player5 = disagree \\n\\n**Previous Results**: \\nRound 1: Team = Player2, Player4, Result = failure\\n\\n**Previous Rounds Summary**:\\nSummary questions: \\n\\nWho was the leader for this round?\\nWhat was the proposed team for this round?\\nWhy do you think the leader proposed the current team?\\nDid everyone agree for the proposed team?\\nIf some people disagreed, why do you think they disagreed?\\nWas the quest successful?\\nIf the quest was successful, was any evil player part of the team? If yes, then why did they vote success?\\nIf the quest failed, how do you plan to protect the evil player in the next round?\\nWhat do the evil side need to do from here to win the game?\\n\\nRound 1 (players didn\"t agree on team): \\n1. Who was the leader for this round? - Player2\\n2. What was the proposed team for this round? - Player2, Player4\\n3. Why do you think the leader proposed the current team? - The leader believed in the cooperation and unity of the proposed team members.\\n4. Did everyone agree for the proposed team? - No, not everyone agreed.\\n5. If some people disagreed, why do you think they disagreed? - Player1 had suspicions about one of the team members being evil.\\n6. Was the quest successful? - No, the quest was not successful.\\n7. If the quest failed, who do you think were the evil players on the quest? - Player4\\n8. What do the loyal side need to do from here to win the game? - The loyal side needs to regroup, strategize, and carefully consider their team compositions for the upcoming quests to ensure success.\\n \\n\\nRound 1 : \\n1. Who was the leader for this round? - Player1\\n2. What was the proposed team for this round? - Player3, Player5\\n3. Why do you think the leader proposed the current team? - The leader believed that the combination of Player3 and Player5 would increase their chances of success on the quest.\\n4. Did everyone agree for the proposed team? - No, not everyone agreed.\\n5. If some people disagreed, why do you think they disagreed? - Other players had reservations and suspicions about the proposed team members.\\n6. Was the quest successful? - No, the quest was not successful.\\n7. If the quest was successful, do you think the quest had some evil players? If yes, then who do you think was it? - N/A\\n8. If the quest failed, who do you think were the evil players on the quest? - Player3 and Player4\\n9. What do the loyal side need to do from here to win the game? - The loyal side needs to regroup, strategize, and carefully consider their team compositions for the upcoming quests to ensure success.\\n \\n\\nRound 2 (players didn\"t agree on team): \\n1. Who was the leader for this round? - Player4\\n2. What was the proposed team for this round? - Player1, Player2, Player4\\n3. Why do you think the leader proposed the current team? - The leader believed in the capability and loyalty of the proposed team members\\n4. Did everyone agree for the proposed team? - No, not everyone agreed\\n5. If some people disagreed, why do you think they disagreed? - Some players may have had concerns about the team composition\\n6. Was the quest successful? - No, the quest was not successful\\n7. If the quest failed, who do you think were the evil players on the quest? - Player4\\n8. What do the loyal side need to do from here to win the game? - The loyal side needs to regroup, strategize, and carefully consider their team compositions for the upcoming quests to ensure success\\n \\n\\nRound 2 : \\n1. Who was the leader for this round? - Player3\\n2. What was the proposed team for this round? - Player1, Player3, Player4\\n3. Why do you think the leader proposed the current team? - The leader believed this combination would bring a balanced approach to the quest.\\n4. Did everyone agree for the proposed team? - No, not everyone agreed.\\n5. If some people disagreed, why do you think they disagreed? - Some players had concerns about including Player3 in the team.\\n6. Was the quest successful? - The quest did not occur as the team formation was rejected.\\n7. If the quest failed, who do you think were the evil players on the quest? - No quest took place due to team rejection.\\n8. What do the loyal side need to do from here to win the game? - The loyal side needs to regroup, strategize, and carefully consider their team compositions for the upcoming quests to ensure success.\\n \\n\\n\\n**Previous Discussions(in the current round)**: \\nPlayer4: I suggest we include Player1, Player3, and Player4 on the quest team for a balanced approach. Let\\'s work together to ensure the success of this quest.\\nPlayer5: I have some reservations about the proposed team composition. Leader, could you explain why you chose not to join the quest team? I will express my disagreement if I\\'m not part of the team, as I believe we should consider all options for success.\\n',\n",
       " 'intents': ['express concerns about a player from a failed quest team and suggest to not include them in the current team',\n",
       "  'share concerns about an evil player'],\n",
       " 'think': 'I need to subtly guide the team by pointing out potential risks and evil players while supporting loyal team members.',\n",
       " 'speak': 'I have concerns about including a player from a failed quest team in the current team as their past performance may have been detrimental. Additionally, I suspect Player3 to be an evil player based on their actions and interactions. On the other hand, I fully support including Player2, who has consistently shown loyalty and dedication to the cause.',\n",
       " 'game_id': 'game_2024-03-14-16-27-7',\n",
       " 'player': 'player1',\n",
       " 'persp_player_intents': ['question the leader why they selected a particular player for the team'],\n",
       " 'persp_player_think': 'I need to express concerns about a player from a failed quest team and suggest not including them in the current team to protect the loyal side. Additionally, I should question the leader on why they selected a particular player for the team to gain insight into their decision-making process.',\n",
       " 'persp_player_speak': 'I have concerns about including a player from a failed quest team in the current lineup as it may pose a risk to our success. Leader, could you please explain the reason behind choosing this specific player for the team? I believe understanding the rationale will help us make a more informed decision.',\n",
       " 'persp_player': 'player2'}"
      ]
     },
     "execution_count": 275,
     "metadata": {},
     "output_type": "execute_result"
    }
   ],
   "source": [
    "intent_guessing_perspective_data[0]"
   ]
  },
  {
   "cell_type": "code",
   "execution_count": 276,
   "metadata": {},
   "outputs": [
    {
     "name": "stdout",
     "output_type": "stream",
     "text": [
      "**Name**: Player2\n",
      "\n",
      "**Role**: Servant\n",
      "\n",
      "**Role Details**: \n",
      "You are Loyal Servant of Arthur. These are your goals and characteristics: \n",
      "- No special knowledge, rely on discussion and voting.\n",
      "- Contribute to the success of Quests\n",
      "- Goal(Main Intent): Win by helping complete Quests and protecting Merlin.\n",
      "- \n",
      "\n",
      "\n",
      "**Round**: 2\n",
      "\n",
      "**Speaker Name**: Player1\n",
      "\n",
      "**Current Leader**: Player4\n",
      "\n",
      "**Current Team**: Player1, Player2, Player4\n",
      "\n",
      "**Previous Rounds Team Voting**:\n",
      "Round 1: Player1 = disagree, Player2 = agree, Player3 = disagree, Player4 = disagree, Player5 = disagree (players didn\"t agree on team)\n",
      "Round 1: Player1 = agree, Player2 = disagree, Player3 = disagree, Player4 = disagree, Player5 = disagree \n",
      "Round 2: Player1 = agree, Player2 = disagree, Player3 = disagree, Player4 = agree, Player5 = disagree (players didn\"t agree on team)\n",
      "Round 2: Player1 = disagree, Player2 = disagree, Player3 = agree, Player4 = disagree, Player5 = disagree \n",
      "\n",
      "**Previous Results**: \n",
      "Round 1: Team = Player2, Player4, Result = failure\n",
      "\n",
      "**Previous Rounds Summary**:\n",
      "Summary questions: \n",
      "\n",
      "Who was the leader for this round?\n",
      "What was the proposed team for this round?\n",
      "Why do you think the leader proposed the current team?\n",
      "Did everyone agree for the proposed team?\n",
      "If some people disagreed, why do you think they disagreed?\n",
      "Was the quest successful?\n",
      "If the quest was successful, was any evil player part of the team? If yes, then why did they vote success?\n",
      "If the quest failed, how do you plan to protect the evil player in the next round?\n",
      "What do the evil side need to do from here to win the game?\n",
      "\n",
      "Round 1 (players didn\"t agree on team): \n",
      "1. Who was the leader for this round? - Player2\n",
      "2. What was the proposed team for this round? - Player2, Player4\n",
      "3. Why do you think the leader proposed the current team? - The leader believed in the cooperation and unity of the proposed team members.\n",
      "4. Did everyone agree for the proposed team? - No, not everyone agreed.\n",
      "5. If some people disagreed, why do you think they disagreed? - Player1 had suspicions about one of the team members being evil.\n",
      "6. Was the quest successful? - No, the quest was not successful.\n",
      "7. If the quest failed, who do you think were the evil players on the quest? - Player4\n",
      "8. What do the loyal side need to do from here to win the game? - The loyal side needs to regroup, strategize, and carefully consider their team compositions for the upcoming quests to ensure success.\n",
      " \n",
      "\n",
      "Round 1 : \n",
      "1. Who was the leader for this round? - Player1\n",
      "2. What was the proposed team for this round? - Player3, Player5\n",
      "3. Why do you think the leader proposed the current team? - The leader believed that the combination of Player3 and Player5 would increase their chances of success on the quest.\n",
      "4. Did everyone agree for the proposed team? - No, not everyone agreed.\n",
      "5. If some people disagreed, why do you think they disagreed? - Other players had reservations and suspicions about the proposed team members.\n",
      "6. Was the quest successful? - No, the quest was not successful.\n",
      "7. If the quest was successful, do you think the quest had some evil players? If yes, then who do you think was it? - N/A\n",
      "8. If the quest failed, who do you think were the evil players on the quest? - Player3 and Player4\n",
      "9. What do the loyal side need to do from here to win the game? - The loyal side needs to regroup, strategize, and carefully consider their team compositions for the upcoming quests to ensure success.\n",
      " \n",
      "\n",
      "Round 2 (players didn\"t agree on team): \n",
      "1. Who was the leader for this round? - Player4\n",
      "2. What was the proposed team for this round? - Player1, Player2, Player4\n",
      "3. Why do you think the leader proposed the current team? - The leader believed in the capability and loyalty of the proposed team members\n",
      "4. Did everyone agree for the proposed team? - No, not everyone agreed\n",
      "5. If some people disagreed, why do you think they disagreed? - Some players may have had concerns about the team composition\n",
      "6. Was the quest successful? - No, the quest was not successful\n",
      "7. If the quest failed, who do you think were the evil players on the quest? - Player4\n",
      "8. What do the loyal side need to do from here to win the game? - The loyal side needs to regroup, strategize, and carefully consider their team compositions for the upcoming quests to ensure success\n",
      " \n",
      "\n",
      "Round 2 : \n",
      "1. Who was the leader for this round? - Player3\n",
      "2. What was the proposed team for this round? - Player1, Player3, Player4\n",
      "3. Why do you think the leader proposed the current team? - The leader believed this combination would bring a balanced approach to the quest.\n",
      "4. Did everyone agree for the proposed team? - No, not everyone agreed.\n",
      "5. If some people disagreed, why do you think they disagreed? - Some players had concerns about including Player3 in the team.\n",
      "6. Was the quest successful? - The quest did not occur as the team formation was rejected.\n",
      "7. If the quest failed, who do you think were the evil players on the quest? - No quest took place due to team rejection.\n",
      "8. What do the loyal side need to do from here to win the game? - The loyal side needs to regroup, strategize, and carefully consider their team compositions for the upcoming quests to ensure success.\n",
      " \n",
      "\n",
      "\n",
      "**Previous Discussions(in the current round)**: \n",
      "Player4: I suggest we include Player1, Player3, and Player4 on the quest team for a balanced approach. Let's work together to ensure the success of this quest.\n",
      "Player5: I have some reservations about the proposed team composition. Leader, could you explain why you chose not to join the quest team? I will express my disagreement if I'm not part of the team, as I believe we should consider all options for success.\n",
      "\n"
     ]
    }
   ],
   "source": [
    "print(intent_guessing_perspective_data[0]['context'])"
   ]
  },
  {
   "cell_type": "code",
   "execution_count": 277,
   "metadata": {},
   "outputs": [],
   "source": [
    "save_data(intent_guessing_perspective_data, f\"output/gpt-3_5-turbo-games/annotated/evaluation/guessing_data/intent_guessing{SUFFIX}_impactful_reflective.json\")"
   ]
  },
  {
   "cell_type": "markdown",
   "metadata": {},
   "source": [
    "## Hallucination detection data"
   ]
  },
  {
   "cell_type": "code",
   "execution_count": 2,
   "metadata": {},
   "outputs": [],
   "source": [
    "with open(f'output/gpt-3_5-turbo-games/annotated/evaluation/guessing_data/intent_guessing.json', 'r') as f:\n",
    "    intent_guessing_data = json.loads(f.read())"
   ]
  },
  {
   "cell_type": "code",
   "execution_count": 4,
   "metadata": {},
   "outputs": [
    {
     "data": {
      "text/plain": [
       "127"
      ]
     },
     "execution_count": 4,
     "metadata": {},
     "output_type": "execute_result"
    }
   ],
   "source": [
    "len(intent_guessing_data)"
   ]
  },
  {
   "cell_type": "code",
   "execution_count": 6,
   "metadata": {},
   "outputs": [],
   "source": [
    "def filter_out_rows(data):\n",
    "    keep = []\n",
    "    for row in data:\n",
    "        if 'express concerns about a player from a failed quest team and suggest to not include them in the current team' in row['intents']:\n",
    "            keep.append(row)\n",
    "\n",
    "    return keep"
   ]
  },
  {
   "cell_type": "code",
   "execution_count": 7,
   "metadata": {},
   "outputs": [
    {
     "data": {
      "text/plain": [
       "43"
      ]
     },
     "execution_count": 7,
     "metadata": {},
     "output_type": "execute_result"
    }
   ],
   "source": [
    "filtered_intent_guessing_data = filter_out_rows(intent_guessing_data)\n",
    "len(filtered_intent_guessing_data)"
   ]
  },
  {
   "cell_type": "code",
   "execution_count": 11,
   "metadata": {},
   "outputs": [],
   "source": [
    "save_data(filtered_intent_guessing_data, f\"hallucination_detection_gpt_3-5.json\")"
   ]
  },
  {
   "cell_type": "code",
   "execution_count": null,
   "metadata": {},
   "outputs": [],
   "source": []
  }
 ],
 "metadata": {
  "kernelspec": {
   "display_name": "venv",
   "language": "python",
   "name": "python3"
  },
  "language_info": {
   "codemirror_mode": {
    "name": "ipython",
    "version": 3
   },
   "file_extension": ".py",
   "mimetype": "text/x-python",
   "name": "python",
   "nbconvert_exporter": "python",
   "pygments_lexer": "ipython3",
   "version": "3.11.6"
  }
 },
 "nbformat": 4,
 "nbformat_minor": 2
}
