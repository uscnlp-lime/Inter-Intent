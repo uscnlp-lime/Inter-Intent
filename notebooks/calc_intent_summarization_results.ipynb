{
 "cells": [
  {
   "cell_type": "code",
   "execution_count": 1,
   "metadata": {},
   "outputs": [],
   "source": [
    "import pandas as pd\n",
    "import os\n",
    "import random\n",
    "import json\n",
    "from ast import literal_eval\n",
    "import re\n",
    "from utils import *\n",
    "from collections import Counter"
   ]
  },
  {
   "cell_type": "code",
   "execution_count": 2,
   "metadata": {},
   "outputs": [],
   "source": [
    "similar_intent_map = {'express concerns about a player from a failed quest team and suggest to not include them in the current team': 'express concerns about a player from a failed quest team and suggest to remove them from current team',\n",
    "         'question the leader why they selected a particular player for the team': 'question the leader why they selected a particular player for the team',\n",
    "         'counter the team proposal because you think a player on the team is evil': 'counter the team proposal citing that you think a player on the team is evil',\n",
    "         'counter the team proposal because a player on the team is evil': 'counter the team proposal citing that you think a player on the team is evil',\n",
    "         'stay hidden in discussions and act like a loyal servant to protect yourself': 'stay hidden in discussions and act like a loyal servant to protect yourself',\n",
    "         'stay hidden in discussions': 'stay hidden in discussions and act like a loyal servant to protect yourself',\n",
    "         'stay hidden in discussions to protect yourself': 'stay hidden in discussions and act like a loyal servant to protect yourself',\n",
    "         'stay hidden as loyal servant': 'stay hidden in discussions and act like a loyal servant to protect yourself',\n",
    "         'support team proposal': 'support team proposal',\n",
    "         'support the team proposal': 'support team proposal',\n",
    "         'question a player on why he didnt vote for the last team': 'question a player on why he didnt vote for the last team',\n",
    "         'question a player on why they didnt vote for the last team': 'question a player on why he didnt vote for the last team',\n",
    "         'defend yourself against allegations that you could be evil': 'defend yourself against allegations that you could be evil',\n",
    "         'support your teammate by expressing that he is good': 'support your teammate by expressing that he is good',\n",
    "         'question a player about why they changed their statements': 'question a player about why they changed their statements',\n",
    "         'provide hints to loyal players about evil players': 'provide hints to loyal players about evil players',\n",
    "         'provide hints to loyal players': 'provide hints to loyal players about evil players',\n",
    "         'guide team subtly': 'provide hints to loyal players about evil players',\n",
    "         'provide hints about evil players': 'provide hints to loyal players about evil players',\n",
    "         'express concerns about a player from a failed quest team and suggest to not include them in current team': 'express concerns about a player from a failed quest team and suggest to remove them from current team',\n",
    "         'express concerns about a player from a failed quest team and suggest to not include them in current team': 'express concerns about a player from a failed quest team and suggest to remove them from current team',\n",
    "         'express concerns about a player from a failed quest team and suggest not including them in the current team': 'express concerns about a player from a failed quest team and suggest to remove them from current team',\n",
    "         'express concerns about a player from a failed quest team and suggest not to include them in the current team': 'express concerns about a player from a failed quest team and suggest to remove them from current team',\n",
    "         'express concerns about a player from a failed quest team and suggest to not include them in the current team': 'express concerns about a player from a failed quest team and suggest to remove them from current team',\n",
    "         'express concerns about a player from a failed quest team': 'express concerns about a player from a failed quest team and suggest to remove them from current team',\n",
    "         'express concerns about a player from a failed quest and suggest to not include them in current team': 'express concerns about a player from a failed quest team and suggest to remove them from current team',\n",
    "         'express concerns about including a player from a failed quest': 'express concerns about a player from a failed quest team and suggest to remove them from current team',\n",
    "         'pretend to be merlin by providing hints on who is evil': 'pretend to be merlin by providing hints on who is evil',\n",
    "         'express disagreement and vote disagree only if you are not in the proposed team': 'express disagreement and vote disagree only if you are not in the proposed team',\n",
    "         'express disagreement and vote disagree if not on team': 'express disagreement and vote disagree only if you are not in the proposed team',\n",
    "         'express disagreement and vote disagree if not in the team': 'express disagreement and vote disagree only if you are not in the proposed team',\n",
    "         'express disagreement and vote disagree if not in team': 'express disagreement and vote disagree only if you are not in the proposed team',\n",
    "         'express disagreement and vote disagree if not on the team': 'express disagreement and vote disagree only if you are not in the proposed team',\n",
    "         'express disagreement if not in team': 'express disagreement and vote disagree only if you are not in the proposed team',\n",
    "         'counter the team proposal because you are good and not part of the team': 'counter the team proposal citing that you are good and not part of the team',\n",
    "         'express confusion for failure of mission': 'express confusion for failure of mission',\n",
    "         'express confusion for failure': 'express confusion for failure of mission',\n",
    "         'express confusion for failed mission': 'express confusion for failure of mission',\n",
    "         'include loyal players on the quest team as leader': 'include loyal players on the quest team as leader',\n",
    "         'include loyal players on quest team as leader': 'include loyal players on the quest team as leader',\n",
    "         'pretend to have information and act like merlin': 'pretend to have information and act like merlin',\n",
    "         'pretend to be merlin to mislead': 'pretend to have information and act like merlin',\n",
    "         'support your teammate to be on the quest team': 'support your teammate to be on the quest team',\n",
    "         'support teammate to be on the quest team': 'support your teammate to be on the quest team',\n",
    "         'support teammate on quest team': 'support your teammate to be on the quest team',\n",
    "         'support teammate on team': 'support your teammate to be on the quest team',\n",
    "         'cast suspicion on innocent players': 'cast suspicion on innocent players',\n",
    "         'cast suspicion on loyal players': 'cast suspicion on innocent players',\n",
    "         'support one loyal player': 'support one loyal player',\n",
    "         'support loyal players': 'support one loyal player',\n",
    "         'protect loyal players': 'support one loyal player',\n",
    "         'express trust in loyal players': 'support one loyal player',\n",
    "         'share concerns about an evil player': 'share concerns about an evil player',\n",
    "         'express concerns about an evil player': 'share concerns about an evil player',\n",
    "         'support loyal players of the previous quest team if the mission failed': 'support loyal players of the previous quest team if the mission failed',\n",
    "         'defend previous quest team members': 'support loyal players of the previous quest team if the mission failed',\n",
    "         'support loyal players of the previous quest team': 'support loyal players of the previous quest team if the mission failed',\n",
    "         'defend your teammate against allegations that they could be evil': 'defend your teammate against allegations that they could be evil',\n",
    "         'defend your teammate against allegations': 'defend your teammate against allegations that they could be evil',\n",
    "         'defend teammate against allegations': 'defend your teammate against allegations that they could be evil',\n",
    "         'defend teammate': 'defend your teammate against allegations that they could be evil',\n",
    "         'defend teammate against suspicion': 'defend your teammate against allegations that they could be evil',\n",
    "         'question the leader why they didnt put themselves on the quest team': 'question the leader why they didnt put themselves on the quest team',\n",
    "         'strongly convince the team leader to choose you on team': 'strongly convince the team leader to choose you on team',\n",
    "         'reveal identity by telling others you are servant to persuade other loyal players': 'reveal identity by telling others you are servant to persuade other loyal players',\n",
    "         'defend the proposed team composition if it includes loyal players': 'defend the proposed team composition if it includes loyal players',\n",
    "         'defend proposed team if includes loyal players': 'defend the proposed team composition if it includes loyal players',\n",
    "         'defend the proposed team composition if includes loyal players': 'defend the proposed team composition if it includes loyal players',\n",
    "         'support loyal players on team': 'defend the proposed team composition if it includes loyal players',\n",
    "         'support loyal players on the quest team': 'defend the proposed team composition if it includes loyal players',\n",
    "         'support the leaders decision': 'support team proposal',\n",
    "         'express you are a loyal player': 'express you are a loyal player',\n",
    "         'question why a player didnt vote for the last team': 'question a player on why he didnt vote for the last team',\n",
    "         'support a loyal player': 'support one loyal player',\n",
    "         'counter the team proposal because i suspect a player on the team is evil': 'counter the team proposal citing that you think a player on the team is evil',\n",
    "         'counter the team proposal because you think a player on the team is evil': 'counter the team proposal citing that you think a player on the team is evil',\n",
    "         'express concerns about a player from a failed quest team and suggest not including them in the current team': 'express concerns about a player from a failed quest team and suggest to remove them from current team',\n",
    "         'strongly convince the team leader to choose you on the team': 'strongly convince the team leader to choose you on team',\n",
    "         'question the leader why they selected player for the team': 'question the leader why they selected a particular player for the team',\n",
    "         'express concerns about including player in the quest team': 'express concerns about a player from a failed quest team and suggest to remove them from current team',\n",
    "         'counter previous players suspicion on me by expressing loyalty': 'defend yourself against allegations that you could be evil',\n",
    "         'defend yourself against allegations of being evil': 'defend yourself against allegations of being evil',\n",
    "         'defend yourself against allegations': 'defend yourself against allegations',\n",
    "         'question player why they didnt include themselves in the proposed team': 'question the leader why they didnt put themselves on the quest team',\n",
    "         'question player about their sudden change in stance': 'question a player about why they changed their statements',\n",
    "         'express loyalty to the team': 'express you are a loyal player',\n",
    "         'question a player on why they changed their statements': 'question a player about why they changed their statements',\n",
    "        'pretend that you dont have enough information about who is evil right now': 'pretend that you dont have enough information about who is evil right now',\n",
    "        'express that you dont have any information on whom to put on the team to protect yourself': 'express that you dont have any information on whom to put on the team to protect yourself',\n",
    "         'reveal identity by telling others you are percival to persuade other loyal players': 'reveal identity by telling others you are percival to persuade other loyal players',\n",
    "         'defend the team composition': 'support team proposal',\n",
    "         'pretend to be percival by telling others you are percival': 'pretend to be percival by telling others you are percival',\n",
    "         'pretend to be percival': 'pretend to be percival by telling others you are percival',\n",
    "        'support the proposed team': 'support team proposal',\n",
    "        'express concerns about a player from a failed quest and suggest to not include them in the current team': 'express concerns about a player from a failed quest team and suggest to remove them from current team',\n",
    "        'express disagreement if not on the team': 'express disagreement and vote disagree only if you are not in the proposed team',\n",
    "        'stay hidden as servant': 'stay hidden in discussions and act like a loyal servant to protect yourself',\n",
    "        'stay hidden in discussions as a loyal servant': 'stay hidden in discussions and act like a loyal servant to protect yourself',\n",
    "        'express disagreement and vote disagree': 'express disagreement and vote disagree only if you are not in the proposed team',\n",
    "        'express disagreement and vote disagree if not on the proposed team': 'express disagreement and vote disagree only if you are not in the proposed team',\n",
    "        'express concerns about including a player from a failed quest team and suggest to not include them in the current team': 'express concerns about a player from a failed quest team and suggest to remove them from current team',\n",
    "        'express concerns about a player from a failed quest team and suggest not including them': 'express concerns about a player from a failed quest team and suggest to remove them from current team',\n",
    "        'express disagreement and vote disagree if not in the proposed team': 'express disagreement and vote disagree only if you are not in the proposed team',\n",
    "        'stay hidden in discussions to protect self': 'stay hidden in discussions and act like a loyal servant to protect yourself',\n",
    "        'stay hidden': 'stay hidden in discussions and act like a loyal servant to protect yourself',\n",
    "        'stay hidden as evil': 'stay hidden in discussions and act like a loyal servant to protect yourself',\n",
    "\n",
    "}"
   ]
  },
  {
   "cell_type": "code",
   "execution_count": 3,
   "metadata": {},
   "outputs": [
    {
     "name": "stdout",
     "output_type": "stream",
     "text": [
      "102\n",
      "105\n"
     ]
    }
   ],
   "source": [
    "print(len(similar_intent_map))\n",
    "uniq_intents = set(similar_intent_map.values())\n",
    "for intent in uniq_intents:\n",
    "    if intent not in similar_intent_map:\n",
    "        similar_intent_map[intent] = intent\n",
    "print(len(similar_intent_map))"
   ]
  },
  {
   "cell_type": "code",
   "execution_count": 4,
   "metadata": {},
   "outputs": [],
   "source": [
    "intent_stats_dic = {}\n",
    "def calc_intent_stats(summarized_intents, selected_intents):\n",
    "    for intent in summarized_intents:\n",
    "        if intent not in intent_stats_dic:\n",
    "            intent_stats_dic[intent] = {'count': 0, 'summary': 0, 'selection': 0, 'both': 0}\n",
    "        intent_stats_dic[intent]['count'] += 1\n",
    "        intent_stats_dic[intent]['summary'] += 1\n",
    "        if intent in selected_intents:\n",
    "            intent_stats_dic[intent]['selection'] += 1\n",
    "            intent_stats_dic[intent]['both'] += 1\n",
    "\n",
    "    for intent in selected_intents:\n",
    "        if intent not in intent_stats_dic:\n",
    "            intent_stats_dic[intent] = {'count': 0, 'summary': 0, 'selection': 0, 'both': 0}\n",
    "        if intent not in summarized_intents:\n",
    "            intent_stats_dic[intent]['count'] += 1\n",
    "            intent_stats_dic[intent]['selection'] += 1"
   ]
  },
  {
   "cell_type": "code",
   "execution_count": 87,
   "metadata": {},
   "outputs": [],
   "source": [
    "# output/gpt-3_5-turbo-games/annotated/evaluation/summarization_annotations/complete_intent_following_without_intent_100_deepayan.csv\n",
    "# output/gpt-3_5-turbo-games/annotated/evaluation/summarization_annotations/complete_intent_following_without_intent_100_javin_2.csv\n",
    "# output/gpt-3_5-turbo-games/annotated/evaluation/summarization_annotations/complete_intent_following_without_intent_100_sy.csv\n",
    "\n",
    "# gpt 4\n",
    "# output/gpt-4-games/annotated/evaluation/summarization_annotations/intent_summarization_gpt4_without_intent_50_javin.csv\n",
    "# output/gpt-4-games/annotated/evaluation/summarization_annotations/intent_summarization_gpt4_without_intent_50_Ziyi.csv\n",
    "# ANNOTATED_FILE = \"output/gpt-4-games/annotated/evaluation/summarization_annotations/intent_summarization_gpt4_without_intent_50_Ziyi.csv\"\n",
    "ANNOTATED_FILE = \"output/gpt-4-games/annotated/evaluation/summarization_annotations/intent_summarization_gpt4_without_intent_50_Abhi.csv\""
   ]
  },
  {
   "cell_type": "code",
   "execution_count": 88,
   "metadata": {},
   "outputs": [
    {
     "data": {
      "text/html": [
       "<div>\n",
       "<style scoped>\n",
       "    .dataframe tbody tr th:only-of-type {\n",
       "        vertical-align: middle;\n",
       "    }\n",
       "\n",
       "    .dataframe tbody tr th {\n",
       "        vertical-align: top;\n",
       "    }\n",
       "\n",
       "    .dataframe thead th {\n",
       "        text-align: right;\n",
       "    }\n",
       "</style>\n",
       "<table border=\"1\" class=\"dataframe\">\n",
       "  <thead>\n",
       "    <tr style=\"text-align: right;\">\n",
       "      <th></th>\n",
       "      <th>id</th>\n",
       "      <th>context</th>\n",
       "      <th>think</th>\n",
       "      <th>speak</th>\n",
       "      <th>summarized_intents</th>\n",
       "    </tr>\n",
       "  </thead>\n",
       "  <tbody>\n",
       "    <tr>\n",
       "      <th>0</th>\n",
       "      <td>game_2024-03-29-0-16-48-player4-5_form</td>\n",
       "      <td>**Name**: Player4\\n\\n**Role**: Percival\\n\\n**R...</td>\n",
       "      <td>I need to focus on protecting Merlin's identit...</td>\n",
       "      <td>Player5, your selection intrigues me; could yo...</td>\n",
       "      <td>Question a player about why they changed their...</td>\n",
       "    </tr>\n",
       "    <tr>\n",
       "      <th>1</th>\n",
       "      <td>game_2024-03-29-1-59-14-player1-2_form</td>\n",
       "      <td>**Name**: Player1\\n\\n**Role**: Merlin\\n\\n**Rol...</td>\n",
       "      <td>As Merlin, I must use the information I have a...</td>\n",
       "      <td>I find the team selection intriguing, Player2....</td>\n",
       "      <td>Question the leader why they selected a partic...</td>\n",
       "    </tr>\n",
       "    <tr>\n",
       "      <th>2</th>\n",
       "      <td>game_2024-03-29-0-16-48-player1-3_form</td>\n",
       "      <td>**Name**: Player1\\n\\n**Role**: Merlin\\n\\n**Rol...</td>\n",
       "      <td>As Merlin, I must cast doubt on the evil playe...</td>\n",
       "      <td>Player3, as the leader, could you share the in...</td>\n",
       "      <td>Question the leader why they selected a partic...</td>\n",
       "    </tr>\n",
       "    <tr>\n",
       "      <th>3</th>\n",
       "      <td>game_2024-03-29-0-51-34-player2-2_form</td>\n",
       "      <td>**Name**: Player2\\n\\n**Role**: Morgana\\n\\n**Ro...</td>\n",
       "      <td>As Morgana, my first sub-goal is to emulate Me...</td>\n",
       "      <td>Fellow knights, based on our discussions and t...</td>\n",
       "      <td>Pretend to have information and act like Merli...</td>\n",
       "    </tr>\n",
       "    <tr>\n",
       "      <th>4</th>\n",
       "      <td>game_2024-03-29-1-59-14-player2-3_form</td>\n",
       "      <td>**Name**: Player2\\n\\n**Role**: Morgana\\n\\n**Ro...</td>\n",
       "      <td>I need to subtly undermine the trust in the gr...</td>\n",
       "      <td>Player3, your choice of including Player4 is i...</td>\n",
       "      <td>Question the leader why they selected a partic...</td>\n",
       "    </tr>\n",
       "  </tbody>\n",
       "</table>\n",
       "</div>"
      ],
      "text/plain": [
       "                                       id  \\\n",
       "0  game_2024-03-29-0-16-48-player4-5_form   \n",
       "1  game_2024-03-29-1-59-14-player1-2_form   \n",
       "2  game_2024-03-29-0-16-48-player1-3_form   \n",
       "3  game_2024-03-29-0-51-34-player2-2_form   \n",
       "4  game_2024-03-29-1-59-14-player2-3_form   \n",
       "\n",
       "                                             context  \\\n",
       "0  **Name**: Player4\\n\\n**Role**: Percival\\n\\n**R...   \n",
       "1  **Name**: Player1\\n\\n**Role**: Merlin\\n\\n**Rol...   \n",
       "2  **Name**: Player1\\n\\n**Role**: Merlin\\n\\n**Rol...   \n",
       "3  **Name**: Player2\\n\\n**Role**: Morgana\\n\\n**Ro...   \n",
       "4  **Name**: Player2\\n\\n**Role**: Morgana\\n\\n**Ro...   \n",
       "\n",
       "                                               think  \\\n",
       "0  I need to focus on protecting Merlin's identit...   \n",
       "1  As Merlin, I must use the information I have a...   \n",
       "2  As Merlin, I must cast doubt on the evil playe...   \n",
       "3  As Morgana, my first sub-goal is to emulate Me...   \n",
       "4  I need to subtly undermine the trust in the gr...   \n",
       "\n",
       "                                               speak  \\\n",
       "0  Player5, your selection intrigues me; could yo...   \n",
       "1  I find the team selection intriguing, Player2....   \n",
       "2  Player3, as the leader, could you share the in...   \n",
       "3  Fellow knights, based on our discussions and t...   \n",
       "4  Player3, your choice of including Player4 is i...   \n",
       "\n",
       "                                  summarized_intents  \n",
       "0  Question a player about why they changed their...  \n",
       "1  Question the leader why they selected a partic...  \n",
       "2  Question the leader why they selected a partic...  \n",
       "3  Pretend to have information and act like Merli...  \n",
       "4  Question the leader why they selected a partic...  "
      ]
     },
     "execution_count": 88,
     "metadata": {},
     "output_type": "execute_result"
    }
   ],
   "source": [
    "summarization_annotated_df = pd.read_csv(ANNOTATED_FILE)\n",
    "summarization_annotated_df.head()"
   ]
  },
  {
   "cell_type": "code",
   "execution_count": 89,
   "metadata": {},
   "outputs": [],
   "source": [
    "def clean_annotation(annotation):\n",
    "    # sy\n",
    "    split_intents = annotation.split('\\n')\n",
    "    summarized_intents = []\n",
    "    for line in split_intents:\n",
    "        summarized_intents.extend([remove_non_alphabets(val.split('. ')[-1]) for val in line.split(\",\") if val.strip() != \"\"])\n",
    "    summarized_intents_final = []\n",
    "    for intent in summarized_intents:\n",
    "        split_intents = intent.strip().split(\"  \")\n",
    "        split_intents = [i.strip() for i in split_intents]\n",
    "        summarized_intents_final.extend(split_intents)\n",
    "\n",
    "    return ','.join(summarized_intents_final)"
   ]
  },
  {
   "cell_type": "code",
   "execution_count": 90,
   "metadata": {},
   "outputs": [],
   "source": [
    "def clean_annotation_v2(annotation):\n",
    "    # javin\n",
    "    summarized_intents = [remove_non_alphabets(intent.split('. ')[-1]) for intent in annotation.split('\\n')]\n",
    "    summarized_intents_final = []\n",
    "    for intent in summarized_intents:\n",
    "        split_intents = intent.strip().split(\"  \")\n",
    "        split_intents = [i.strip() for i in split_intents]\n",
    "        summarized_intents_final.extend(split_intents)\n",
    "    return ','.join(summarized_intents_final)"
   ]
  },
  {
   "cell_type": "code",
   "execution_count": 91,
   "metadata": {},
   "outputs": [],
   "source": [
    "def clean_annotation_v3(annotation):\n",
    "    # deepayan\n",
    "    summarized_intents = [remove_non_alphabets(intent).strip() for intent in annotation.split('\\n')]\n",
    "    return ','.join(summarized_intents)"
   ]
  },
  {
   "cell_type": "code",
   "execution_count": 92,
   "metadata": {},
   "outputs": [],
   "source": [
    "def clean_annotation_v4(annotation):\n",
    "    # just comma separated\n",
    "    if (type(annotation) != str):\n",
    "        return ''\n",
    "    split_intents = re.split(',', annotation)\n",
    "    sum_intents = []\n",
    "    for line in split_intents:\n",
    "        if len(line) > 10:\n",
    "            processed_intent = remove_non_alphabets(line.strip())\n",
    "            sum_intents.append(processed_intent)\n",
    "\n",
    "    # summarized_intents = [remove_non_alphabets(intent.split('. ')[-1]) for intent in r[1].split('\\n')]\n",
    "    # guessed_intents_final = []\n",
    "    # for intent in guessed_intents:\n",
    "    #     split_intents = intent.strip().split(\"  \")\n",
    "    #     split_intents = [i.strip() for i in split_intents]\n",
    "    #     guessed_intents_final.extend(split_intents)\n",
    "\n",
    "    return ','.join(sum_intents)"
   ]
  },
  {
   "cell_type": "code",
   "execution_count": 93,
   "metadata": {},
   "outputs": [
    {
     "data": {
      "text/html": [
       "<div>\n",
       "<style scoped>\n",
       "    .dataframe tbody tr th:only-of-type {\n",
       "        vertical-align: middle;\n",
       "    }\n",
       "\n",
       "    .dataframe tbody tr th {\n",
       "        vertical-align: top;\n",
       "    }\n",
       "\n",
       "    .dataframe thead th {\n",
       "        text-align: right;\n",
       "    }\n",
       "</style>\n",
       "<table border=\"1\" class=\"dataframe\">\n",
       "  <thead>\n",
       "    <tr style=\"text-align: right;\">\n",
       "      <th></th>\n",
       "      <th>id</th>\n",
       "      <th>context</th>\n",
       "      <th>think</th>\n",
       "      <th>speak</th>\n",
       "      <th>summarized_intents</th>\n",
       "    </tr>\n",
       "  </thead>\n",
       "  <tbody>\n",
       "    <tr>\n",
       "      <th>0</th>\n",
       "      <td>game_2024-03-29-0-16-48-player4-5_form</td>\n",
       "      <td>**Name**: Player4\\n\\n**Role**: Percival\\n\\n**R...</td>\n",
       "      <td>I need to focus on protecting Merlin's identit...</td>\n",
       "      <td>Player5, your selection intrigues me; could yo...</td>\n",
       "      <td>question a player about why they changed their...</td>\n",
       "    </tr>\n",
       "    <tr>\n",
       "      <th>1</th>\n",
       "      <td>game_2024-03-29-1-59-14-player1-2_form</td>\n",
       "      <td>**Name**: Player1\\n\\n**Role**: Merlin\\n\\n**Rol...</td>\n",
       "      <td>As Merlin, I must use the information I have a...</td>\n",
       "      <td>I find the team selection intriguing, Player2....</td>\n",
       "      <td>question the leader why they selected a partic...</td>\n",
       "    </tr>\n",
       "    <tr>\n",
       "      <th>2</th>\n",
       "      <td>game_2024-03-29-0-16-48-player1-3_form</td>\n",
       "      <td>**Name**: Player1\\n\\n**Role**: Merlin\\n\\n**Rol...</td>\n",
       "      <td>As Merlin, I must cast doubt on the evil playe...</td>\n",
       "      <td>Player3, as the leader, could you share the in...</td>\n",
       "      <td>question the leader why they selected a partic...</td>\n",
       "    </tr>\n",
       "    <tr>\n",
       "      <th>3</th>\n",
       "      <td>game_2024-03-29-0-51-34-player2-2_form</td>\n",
       "      <td>**Name**: Player2\\n\\n**Role**: Morgana\\n\\n**Ro...</td>\n",
       "      <td>As Morgana, my first sub-goal is to emulate Me...</td>\n",
       "      <td>Fellow knights, based on our discussions and t...</td>\n",
       "      <td>pretend to have information and act like merli...</td>\n",
       "    </tr>\n",
       "    <tr>\n",
       "      <th>4</th>\n",
       "      <td>game_2024-03-29-1-59-14-player2-3_form</td>\n",
       "      <td>**Name**: Player2\\n\\n**Role**: Morgana\\n\\n**Ro...</td>\n",
       "      <td>I need to subtly undermine the trust in the gr...</td>\n",
       "      <td>Player3, your choice of including Player4 is i...</td>\n",
       "      <td>question the leader why they selected a partic...</td>\n",
       "    </tr>\n",
       "  </tbody>\n",
       "</table>\n",
       "</div>"
      ],
      "text/plain": [
       "                                       id  \\\n",
       "0  game_2024-03-29-0-16-48-player4-5_form   \n",
       "1  game_2024-03-29-1-59-14-player1-2_form   \n",
       "2  game_2024-03-29-0-16-48-player1-3_form   \n",
       "3  game_2024-03-29-0-51-34-player2-2_form   \n",
       "4  game_2024-03-29-1-59-14-player2-3_form   \n",
       "\n",
       "                                             context  \\\n",
       "0  **Name**: Player4\\n\\n**Role**: Percival\\n\\n**R...   \n",
       "1  **Name**: Player1\\n\\n**Role**: Merlin\\n\\n**Rol...   \n",
       "2  **Name**: Player1\\n\\n**Role**: Merlin\\n\\n**Rol...   \n",
       "3  **Name**: Player2\\n\\n**Role**: Morgana\\n\\n**Ro...   \n",
       "4  **Name**: Player2\\n\\n**Role**: Morgana\\n\\n**Ro...   \n",
       "\n",
       "                                               think  \\\n",
       "0  I need to focus on protecting Merlin's identit...   \n",
       "1  As Merlin, I must use the information I have a...   \n",
       "2  As Merlin, I must cast doubt on the evil playe...   \n",
       "3  As Morgana, my first sub-goal is to emulate Me...   \n",
       "4  I need to subtly undermine the trust in the gr...   \n",
       "\n",
       "                                               speak  \\\n",
       "0  Player5, your selection intrigues me; could yo...   \n",
       "1  I find the team selection intriguing, Player2....   \n",
       "2  Player3, as the leader, could you share the in...   \n",
       "3  Fellow knights, based on our discussions and t...   \n",
       "4  Player3, your choice of including Player4 is i...   \n",
       "\n",
       "                                  summarized_intents  \n",
       "0  question a player about why they changed their...  \n",
       "1  question the leader why they selected a partic...  \n",
       "2  question the leader why they selected a partic...  \n",
       "3  pretend to have information and act like merli...  \n",
       "4  question the leader why they selected a partic...  "
      ]
     },
     "execution_count": 93,
     "metadata": {},
     "output_type": "execute_result"
    }
   ],
   "source": [
    "# sy\n",
    "# summarization_annotated_df['summarized_intents'] = summarization_annotated_df['intention'].apply(lambda x: clean_annotation(x))\n",
    "# deepayan\n",
    "# summarization_annotated_df['summarized_intents'] = summarization_annotated_df['intentions_summary'].apply(lambda x: clean_annotation_v3(x))\n",
    "# javin\n",
    "# summarization_annotated_df['summarized_intents'] = summarization_annotated_df['corrected'].apply(lambda x: clean_annotation(x))\n",
    "\n",
    "# gpt 4\n",
    "# javin\n",
    "summarization_annotated_df['summarized_intents'] = summarization_annotated_df['summarized_intents'].apply(lambda x: clean_annotation_v4(x))\n",
    "summarization_annotated_df.head()"
   ]
  },
  {
   "cell_type": "code",
   "execution_count": 94,
   "metadata": {},
   "outputs": [],
   "source": [
    "summarization_annotated_df = summarization_annotated_df.dropna(subset=[\"id\"])\n",
    "# summarization_annotated_df.info()"
   ]
  },
  {
   "cell_type": "code",
   "execution_count": 95,
   "metadata": {},
   "outputs": [
    {
     "data": {
      "text/plain": [
       "array(['question a player about why they changed their statements,question the leader why they selected a particular player for the team,express concerns about a player from a failed quest team and suggest to not include them in current team',\n",
       "       'question the leader why they selected a particular player for the team,counter the team proposal because you think a player on the team is evil',\n",
       "       'question the leader why they selected a particular player for the team,express concerns about a player from a failed quest team and suggest to not include them in current team,provide hints to loyal players about evil players',\n",
       "       'pretend to have information and act like merlin,support your teammate to be on the quest team,cast suspicion on innocent players',\n",
       "       'question the leader why they selected a particular player for the team,express concerns about a player from a failed quest team and suggest to not include them in current team,cast suspicion on innocent players'],\n",
       "      dtype=object)"
      ]
     },
     "execution_count": 95,
     "metadata": {},
     "output_type": "execute_result"
    }
   ],
   "source": [
    "summarization_annotated_df['summarized_intents'].values[:5]"
   ]
  },
  {
   "cell_type": "code",
   "execution_count": 96,
   "metadata": {},
   "outputs": [
    {
     "name": "stdout",
     "output_type": "stream",
     "text": [
      "<class 'pandas.core.frame.DataFrame'>\n",
      "RangeIndex: 50 entries, 0 to 49\n",
      "Data columns (total 5 columns):\n",
      " #   Column   Non-Null Count  Dtype \n",
      "---  ------   --------------  ----- \n",
      " 0   id       50 non-null     object\n",
      " 1   context  50 non-null     object\n",
      " 2   intents  50 non-null     object\n",
      " 3   think    50 non-null     object\n",
      " 4   speak    50 non-null     object\n",
      "dtypes: object(5)\n",
      "memory usage: 2.1+ KB\n"
     ]
    }
   ],
   "source": [
    "# all_samples_df = pd.read_csv(\"output/gpt-3_5-turbo-games/annotated/evaluation/structured_context_files/complete_intent_following.csv\")\n",
    "\n",
    "# gpt 4\n",
    "all_samples_df = pd.read_csv(\"output/gpt-4-games/annotated/evaluation/structured_context_files/intent_summarization_gpt4_50.csv\")\n",
    "\n",
    "all_samples_df.info()"
   ]
  },
  {
   "cell_type": "code",
   "execution_count": 97,
   "metadata": {},
   "outputs": [
    {
     "data": {
      "text/plain": [
       "50"
      ]
     },
     "execution_count": 97,
     "metadata": {},
     "output_type": "execute_result"
    }
   ],
   "source": [
    "annotation_results = summarization_annotated_df[['id', 'summarized_intents']].values.tolist()\n",
    "len(annotation_results)"
   ]
  },
  {
   "cell_type": "code",
   "execution_count": 98,
   "metadata": {},
   "outputs": [
    {
     "data": {
      "text/plain": [
       "50"
      ]
     },
     "execution_count": 98,
     "metadata": {},
     "output_type": "execute_result"
    }
   ],
   "source": [
    "all_data = all_samples_df[['id', 'intents']].values.tolist()\n",
    "len(all_data)"
   ]
  },
  {
   "cell_type": "code",
   "execution_count": 99,
   "metadata": {},
   "outputs": [
    {
     "data": {
      "text/plain": [
       "50"
      ]
     },
     "execution_count": 99,
     "metadata": {},
     "output_type": "execute_result"
    }
   ],
   "source": [
    "all_data_dic = {key: literal_eval(intents) for key, intents in all_data}\n",
    "len(all_data_dic)"
   ]
  },
  {
   "cell_type": "code",
   "execution_count": 100,
   "metadata": {},
   "outputs": [],
   "source": [
    "# all_data_dic['game_2024-03-06-16-53-2-player1-2_form']"
   ]
  },
  {
   "cell_type": "code",
   "execution_count": 101,
   "metadata": {},
   "outputs": [],
   "source": [
    "annotated_samples = []\n",
    "missing_count = 0\n",
    "for r in annotation_results:\n",
    "    if r[0] not in all_data_dic:\n",
    "        missing_count += 1\n",
    "        continue\n",
    "    data = {}\n",
    "    data['id'] = r[0]\n",
    "    data['intents'] = all_data_dic[r[0]]\n",
    "    split_intents = r[1].split('\\n')\n",
    "    data['summarized_intents'] = r[1].split(',')\n",
    "    annotated_samples.append(data)"
   ]
  },
  {
   "cell_type": "code",
   "execution_count": 102,
   "metadata": {},
   "outputs": [
    {
     "data": {
      "text/plain": [
       "0"
      ]
     },
     "execution_count": 102,
     "metadata": {},
     "output_type": "execute_result"
    }
   ],
   "source": [
    "missing_count"
   ]
  },
  {
   "cell_type": "code",
   "execution_count": 103,
   "metadata": {},
   "outputs": [],
   "source": [
    "results = []\n",
    "for sample in annotated_samples:\n",
    "    if 'summarized_intents' not in sample:\n",
    "        print('not found')\n",
    "        continue\n",
    "    intents = [remove_non_alphabets(intent) for intent in sample['intents']]\n",
    "    intents = [similar_intent_map[intent] for intent in intents if intent in similar_intent_map]\n",
    "    summarized_intents = [similar_intent_map[remove_non_alphabets(intent)] for intent in sample['summarized_intents'] if remove_non_alphabets(intent) in similar_intent_map]\n",
    "    \n",
    "    results.append({'summarized_intents': summarized_intents, 'intents': intents})"
   ]
  },
  {
   "cell_type": "code",
   "execution_count": 104,
   "metadata": {},
   "outputs": [
    {
     "data": {
      "text/plain": [
       "{'summarized_intents': ['question a player about why they changed their statements',\n",
       "  'question the leader why they selected a particular player for the team',\n",
       "  'express concerns about a player from a failed quest team and suggest to remove them from current team'],\n",
       " 'intents': ['question a player about why they changed their statements',\n",
       "  'question the leader why they selected a particular player for the team',\n",
       "  'express concerns about a player from a failed quest team and suggest to remove them from current team']}"
      ]
     },
     "execution_count": 104,
     "metadata": {},
     "output_type": "execute_result"
    }
   ],
   "source": [
    "results[0]"
   ]
  },
  {
   "cell_type": "code",
   "execution_count": 105,
   "metadata": {},
   "outputs": [
    {
     "data": {
      "text/plain": [
       "(142, 150)"
      ]
     },
     "execution_count": 105,
     "metadata": {},
     "output_type": "execute_result"
    }
   ],
   "source": [
    "count_sum, count_sel = 0, 0\n",
    "for r in results:\n",
    "    count_sum += len(r['summarized_intents'])\n",
    "    count_sel += len(r['intents'])\n",
    "count_sum, count_sel"
   ]
  },
  {
   "cell_type": "code",
   "execution_count": 106,
   "metadata": {},
   "outputs": [],
   "source": [
    "intent_stats_dic = {}\n",
    "for res in results:\n",
    "    calc_intent_stats(res['summarized_intents'], res['intents'])"
   ]
  },
  {
   "cell_type": "code",
   "execution_count": 107,
   "metadata": {},
   "outputs": [],
   "source": [
    "total_selection_count = 0\n",
    "selection_in_summary_count = 0\n",
    "total_summary_count = 0\n",
    "for key, value in intent_stats_dic.items():\n",
    "    total_selection_count += value['selection']\n",
    "    selection_in_summary_count += value['both']\n",
    "    total_summary_count += value['summary']"
   ]
  },
  {
   "cell_type": "code",
   "execution_count": 108,
   "metadata": {},
   "outputs": [
    {
     "data": {
      "text/plain": [
       "0.8466666666666667"
      ]
     },
     "execution_count": 108,
     "metadata": {},
     "output_type": "execute_result"
    }
   ],
   "source": [
    "recall = selection_in_summary_count / total_selection_count\n",
    "recall"
   ]
  },
  {
   "cell_type": "code",
   "execution_count": 109,
   "metadata": {},
   "outputs": [
    {
     "data": {
      "text/plain": [
       "0.8943661971830986"
      ]
     },
     "execution_count": 109,
     "metadata": {},
     "output_type": "execute_result"
    }
   ],
   "source": [
    "precision = selection_in_summary_count/total_summary_count\n",
    "precision"
   ]
  },
  {
   "cell_type": "code",
   "execution_count": 110,
   "metadata": {},
   "outputs": [
    {
     "data": {
      "text/plain": [
       "0.8698630136986302"
      ]
     },
     "execution_count": 110,
     "metadata": {},
     "output_type": "execute_result"
    }
   ],
   "source": [
    "calculate_f1_score(recall, precision)"
   ]
  },
  {
   "cell_type": "markdown",
   "metadata": {},
   "source": [
    "Javin gpt 3.5 summarization 100 samples => f1 = 0.7659, recall = 0.72262, precision = 0.8148 <br/>\n",
    "Sy gpt 3.5 summarization 100 samples => f1 = 0.7442, recall = 0.6763, precision = 0.8274 <br/>\n",
    "Deepayan gpt 3.5 summarization 100 samples => f1 = 0.7462, recall = 0.7261, precision = 0.7675 <br/>\n",
    "\n",
    "std = 0.0097\n",
    "\n",
    "GPT 4 <br/>\n",
    "Javin summmarization 50 samples => f1 = 0.8273, recall = 0.7666, precision = 0.8984 <br/>\n",
    "Ziyi summarization 50 samples => f1 = 0.8041, recall = 0.78, precision = 0.8297<br/>\n",
    "Abhishek summarization 50 samples => f1 = 0.8698, recall = 0.8466, precision = 0.894\n",
    "\n",
    "std = 0.0272"
   ]
  },
  {
   "cell_type": "markdown",
   "metadata": {},
   "source": []
  },
  {
   "cell_type": "markdown",
   "metadata": {},
   "source": [
    "# Model results"
   ]
  },
  {
   "cell_type": "code",
   "execution_count": 5,
   "metadata": {},
   "outputs": [],
   "source": [
    "# RESULTS_FILE = \"output/gpt-3_5-turbo-games/annotated/evaluation/summarization_model_results/intent_summarization_model_results_n5.json\"\n",
    "RESULTS_FILE = \"output/gpt-4-games/annotated/evaluation/summarization_model_results/intent_summarization_all_results.json\""
   ]
  },
  {
   "cell_type": "code",
   "execution_count": 6,
   "metadata": {},
   "outputs": [],
   "source": [
    "with open(RESULTS_FILE) as f:\n",
    "    data = json.load(f)\n",
    "samples = list(data.values())"
   ]
  },
  {
   "cell_type": "code",
   "execution_count": 7,
   "metadata": {},
   "outputs": [
    {
     "data": {
      "text/plain": [
       "{'id': 'game_2024-03-29-12-52-20-player1-2_ref',\n",
       " 'context': \"**Name**: Player1\\n\\n**Role**: Assassin\\n\\n**Role Details**: \\nYou are assassin. These are your goals and characteristics:\\n- Discreetly seek Merlin's identity.\\n- Work to prevent Quests success.\\n- Goal(Main Intent): Win either by failing quests or assassinating Merlin.\\n- Morgana is Player2\\n\\n**Round**: 2\\n\\n**Current Leader**: Player2\\n\\n**Current Team**: Player2, Player3, Player5\\n\\n**Previous Rounds Team Voting**:\\nRound 1: Player1 = agree, Player2 = agree, Player3 = agree, Player4 = agree, Player5 = disagree \\nRound 2: Player1 = agree, Player2 = agree, Player3 = agree, Player4 = agree, Player5 = disagree \\n\\n**Previous Results**: \\nRound 1: Team = Player1, Player2, Result = failure\\n\\n**Previous Rounds Summary**:\\nSummary questions: \\n\\nWho was the leader for this round?\\nWhat was the proposed team for this round?\\nWhy do you think the leader proposed the current team?\\nDid everyone agree for the proposed team?\\nIf some people disagreed, why do you think they disagreed?\\nWas the quest successful?\\nIf the quest was successful, was any evil player part of the team? If yes, then why did they vote success?\\nIf the quest failed, how do you plan to protect the evil player in the next round?\\nWhat do the evil side need to do from here to win the game?\\n\\nRound 1 : \\nWho was the leader for this round? - Player1 was the leader.\\nWhat was the proposed team for this round? - The proposed team was Player1 and Player2.\\nWhy do you think the leader proposed the current team? - The leader likely proposed this team to include one evil player and to appear trustworthy to others.\\nDid everyone agree for the proposed team? - No, not everyone agreed. Player5 disagreed.\\nIf some people disagreed, why do you think they disagreed? - Player5 may have disagreed due to suspicion or wanting more discussion about team selection.\\nWas the quest successful? - No, the quest failed.\\nIf the quest was successful, was any evil player part of the team? If yes, then why did they vote success? - Not applicable as the quest failed.\\nIf the quest failed, how do you plan to protect the evil player in the next round? - The evil side may use deception and redirect suspicion towards others to protect the evil player involved in the failed quest.\\nWhat do the evil side need to do from here to win the game? - The evil side needs to continue causing quest failures while avoiding detection, and ultimately identify Merlin if the good side wins three quests.\\n \\n\\nRound 2 : \\nWho was the leader for this round? - The leader for this round was Player2.\\nWhat was the proposed team for this round? - The proposed team for this round was Player2, Player3, and Player5.\\nWhy do you think the leader proposed the current team? - The leader likely proposed the current team to include a mix of players who have and have not been on a quest yet, aiming to build trust and avoid suspicion.\\nDid everyone agree for the proposed team? - No, not everyone agreed. Player5 disagreed.\\nIf some people disagreed, why do you think they disagreed? - Player5 likely disagreed due to suspicion or a strategic move to appear as a loyal player by questioning the composition of the team.\\nWas the quest successful? - No, the quest failed.\\nIf the quest was successful, was any evil player part of the team? If yes, then why did they vote success? - Not applicable as the quest failed.\\nIf the quest failed, how do you plan to protect the evil player in the next round? - As an evil player, I would redirect suspicion towards others and utilize discussion to obfuscate our intentions.\\nWhat do the evil side need to do from here to win the game? - The evil side needs to continue to fail one more quest without revealing both evil players' identities and prepare to identify Merlin if the good side reaches\\n \\n\\n\\n**Previous Discussions(in the current round)**: \\nPlayer2: I propose that Player1, Player3, and I go on this quest. I have a good feeling about this team, and I'm confident we can bring back success.\\nPlayer3: Player2, I'm curious about the selection process for this quest, particularly returning to players from the previous attempt. Can we discuss the strategy behind this to ensure we're making the best choices for success? Also, I haven't had a chance to participate in a quest yet and would like to offer my services, as I am fully committed to the cause of Arthur.\\nPlayer4: Player2, while I appreciate your efforts in team selection, I'm concerned about including Player1 again after a failed quest. It might be prudent to consider other participants who have not yet had the opportunity to demonstrate their loyalty. Can we discuss the possibility of adjusting the team to avoid potential sabotage?\\nPlayer5: I'm concerned about repeating a team selection that includes members from a quest that previously failed. Player2, can you elaborate on your strategy behind this choice? It's important we make informed decisions to ensure success for Arthur's cause.\\n\",\n",
       " 'intents': ['defend your teammate against allegations that they could be evil',\n",
       "  'express concerns about a player from a failed quest team and suggest to not include them in current team',\n",
       "  'support team proposal'],\n",
       " 'think': \"To maintain my cover and push the game towards evil's favor, I must continue to defend Player2 subtly, suggest doubts about players from the failed quest without drawing too much suspicion, and support the team proposal to appear cooperative. It's essential to keep suspicion off myself and Player2 while we work towards failing another quest.\",\n",
       " 'speak': \"I trust Player2's judgment for this quest, and I believe giving Player3 a chance could prove beneficial. We should also keep a close eye on the results of this quest to inform our future decisions. Let's proceed with this team and stay vigilant for any signs of betrayal.\",\n",
       " 'summarized_intents': ['Support team proposal.',\n",
       "  'Defend your teammate against allegations that they could be evil.',\n",
       "  'Cast suspicion on loyal players.']}"
      ]
     },
     "execution_count": 7,
     "metadata": {},
     "output_type": "execute_result"
    }
   ],
   "source": [
    "samples[1]"
   ]
  },
  {
   "cell_type": "code",
   "execution_count": 8,
   "metadata": {},
   "outputs": [],
   "source": [
    "samples_list = []\n",
    "total_sum_intents = 0\n",
    "total_sel_intents = 0\n",
    "for s in samples:\n",
    "    if 'summarized_intents' not in s:\n",
    "        continue\n",
    "    total_sum_intents += len(s['summarized_intents'])\n",
    "    total_sel_intents += len(s['intents'])\n",
    "    samples_list.append([s['id'], s['summarized_intents'], s['intents']])"
   ]
  },
  {
   "cell_type": "code",
   "execution_count": 9,
   "metadata": {},
   "outputs": [
    {
     "data": {
      "text/plain": [
       "(270, 250)"
      ]
     },
     "execution_count": 9,
     "metadata": {},
     "output_type": "execute_result"
    }
   ],
   "source": [
    "total_sel_intents, total_sum_intents"
   ]
  },
  {
   "cell_type": "markdown",
   "metadata": {},
   "source": [
    "## Cleaning rephrased intents"
   ]
  },
  {
   "cell_type": "code",
   "execution_count": 10,
   "metadata": {},
   "outputs": [
    {
     "name": "stdout",
     "output_type": "stream",
     "text": [
      "250\n",
      "21\n"
     ]
    },
    {
     "data": {
      "text/plain": [
       "0"
      ]
     },
     "execution_count": 10,
     "metadata": {},
     "output_type": "execute_result"
    }
   ],
   "source": [
    "uniq_sum_intents = []\n",
    "for ann in samples_list:\n",
    "    for intent in ann[1]:\n",
    "        intent = remove_non_alphabets(intent)\n",
    "        uniq_sum_intents.append(intent)\n",
    "\n",
    "print(len(uniq_sum_intents))\n",
    "uniq_sum_intents1 = set(uniq_sum_intents)\n",
    "print(len(uniq_sum_intents1))\n",
    "\n",
    "count = 0\n",
    "for intent in uniq_sum_intents:\n",
    "    if intent not in similar_intent_map.keys():\n",
    "        print(intent)\n",
    "        count += 1\n",
    "count"
   ]
  },
  {
   "cell_type": "markdown",
   "metadata": {},
   "source": [
    "## Results"
   ]
  },
  {
   "cell_type": "code",
   "execution_count": 11,
   "metadata": {},
   "outputs": [],
   "source": [
    "annotated_samples = []\n",
    "missing_count = 0\n",
    "for r in samples_list:\n",
    "    data = {}\n",
    "    data['intents'] = r[2]\n",
    "    # split_intents = r[1].split('\\n')\n",
    "    \n",
    "    data['summarized_intents'] = [similar_intent_map[remove_non_alphabets(intent)] for intent in r[1] if remove_non_alphabets(intent) in similar_intent_map]\n",
    "    if len(data['summarized_intents']) != len(r[1]):\n",
    "        print(len(data['summarized_intents']) - len(r[1]))\n",
    "    annotated_samples.append(data)"
   ]
  },
  {
   "cell_type": "code",
   "execution_count": 12,
   "metadata": {},
   "outputs": [
    {
     "data": {
      "text/plain": [
       "91"
      ]
     },
     "execution_count": 12,
     "metadata": {},
     "output_type": "execute_result"
    }
   ],
   "source": [
    "len(annotated_samples)"
   ]
  },
  {
   "cell_type": "code",
   "execution_count": 13,
   "metadata": {},
   "outputs": [
    {
     "data": {
      "text/plain": [
       "{'intents': ['defend your teammate against allegations that they could be evil',\n",
       "  'express concerns about a player from a failed quest team and suggest to not include them in current team',\n",
       "  'support team proposal'],\n",
       " 'summarized_intents': ['support team proposal',\n",
       "  'defend your teammate against allegations that they could be evil',\n",
       "  'cast suspicion on innocent players']}"
      ]
     },
     "execution_count": 13,
     "metadata": {},
     "output_type": "execute_result"
    }
   ],
   "source": [
    "annotated_samples[1]"
   ]
  },
  {
   "cell_type": "code",
   "execution_count": 14,
   "metadata": {},
   "outputs": [],
   "source": [
    "results = []\n",
    "for sample in annotated_samples:\n",
    "    intents = [similar_intent_map[remove_non_alphabets(intent)] for intent in sample['intents'] if remove_non_alphabets(intent) in similar_intent_map]\n",
    "    summarized_intents = [remove_non_alphabets(intent) for intent in sample['summarized_intents']]\n",
    "    \n",
    "    results.append({'summarized_intents': summarized_intents, 'intents': intents})"
   ]
  },
  {
   "cell_type": "code",
   "execution_count": 15,
   "metadata": {},
   "outputs": [],
   "source": [
    "intent_stats_dic = {}\n",
    "for res in results:\n",
    "    calc_intent_stats(res['summarized_intents'], res['intents'])"
   ]
  },
  {
   "cell_type": "code",
   "execution_count": 16,
   "metadata": {},
   "outputs": [],
   "source": [
    "total_selection_count = 0\n",
    "selection_in_summary_count = 0\n",
    "total_summary_count = 0\n",
    "for key, value in intent_stats_dic.items():\n",
    "    total_selection_count += value['selection']\n",
    "    selection_in_summary_count += value['both']\n",
    "    total_summary_count += value['summary']"
   ]
  },
  {
   "cell_type": "code",
   "execution_count": 17,
   "metadata": {},
   "outputs": [
    {
     "data": {
      "text/plain": [
       "0.8199233716475096"
      ]
     },
     "execution_count": 17,
     "metadata": {},
     "output_type": "execute_result"
    }
   ],
   "source": [
    "recall = selection_in_summary_count / total_selection_count\n",
    "recall"
   ]
  },
  {
   "cell_type": "code",
   "execution_count": 18,
   "metadata": {},
   "outputs": [
    {
     "data": {
      "text/plain": [
       "0.856"
      ]
     },
     "execution_count": 18,
     "metadata": {},
     "output_type": "execute_result"
    }
   ],
   "source": [
    "precision = selection_in_summary_count/total_summary_count\n",
    "precision"
   ]
  },
  {
   "cell_type": "code",
   "execution_count": 19,
   "metadata": {},
   "outputs": [
    {
     "data": {
      "text/plain": [
       "250"
      ]
     },
     "execution_count": 19,
     "metadata": {},
     "output_type": "execute_result"
    }
   ],
   "source": [
    "total_summary_count"
   ]
  },
  {
   "cell_type": "code",
   "execution_count": 20,
   "metadata": {},
   "outputs": [
    {
     "data": {
      "text/plain": [
       "261"
      ]
     },
     "execution_count": 20,
     "metadata": {},
     "output_type": "execute_result"
    }
   ],
   "source": [
    "total_selection_count"
   ]
  },
  {
   "cell_type": "code",
   "execution_count": 21,
   "metadata": {},
   "outputs": [
    {
     "data": {
      "text/plain": [
       "0.837573385518591"
      ]
     },
     "execution_count": 21,
     "metadata": {},
     "output_type": "execute_result"
    }
   ],
   "source": [
    "calculate_f1_score(recall, precision)"
   ]
  },
  {
   "cell_type": "markdown",
   "metadata": {},
   "source": [
    "GPT 4 - all f1 = 0.8616, recall = 0.8320, precision = 0.8934 <br/>\n",
    "GPT 3.5 - all f1 = 0.6552, recall = 0.5910, precision = 0.7350"
   ]
  },
  {
   "cell_type": "markdown",
   "metadata": {},
   "source": [
    "GPT 3.5 all summarization (without intent fix) = f1 = 0.6949, recall = 0.6360, precision = 0.7659<br/>\n",
    "GPT 4 all summarization = f1 = 0.83757, recall = 0.8199, precision = 0.8560<br/>"
   ]
  },
  {
   "cell_type": "code",
   "execution_count": null,
   "metadata": {},
   "outputs": [],
   "source": []
  }
 ],
 "metadata": {
  "kernelspec": {
   "display_name": "py11-env",
   "language": "python",
   "name": "python3"
  },
  "language_info": {
   "codemirror_mode": {
    "name": "ipython",
    "version": 3
   },
   "file_extension": ".py",
   "mimetype": "text/x-python",
   "name": "python",
   "nbconvert_exporter": "python",
   "pygments_lexer": "ipython3",
   "version": "3.9.6"
  }
 },
 "nbformat": 4,
 "nbformat_minor": 2
}
