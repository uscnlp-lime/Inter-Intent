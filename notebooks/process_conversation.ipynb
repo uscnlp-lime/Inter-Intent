{
 "cells": [
  {
   "cell_type": "code",
   "execution_count": 341,
   "metadata": {},
   "outputs": [],
   "source": [
    "import pandas as pd\n",
    "import os\n",
    "from utils import *\n",
    "from ast import literal_eval"
   ]
  },
  {
   "cell_type": "code",
   "execution_count": 342,
   "metadata": {},
   "outputs": [],
   "source": [
    "GAME_FOLDER = 'output/gpt-3_5-turbo-games/game_2024-03-09-14-44-25'"
   ]
  },
  {
   "cell_type": "code",
   "execution_count": 343,
   "metadata": {},
   "outputs": [
    {
     "data": {
      "text/plain": [
       "'2024-03-09-14-44-25'"
      ]
     },
     "execution_count": 343,
     "metadata": {},
     "output_type": "execute_result"
    }
   ],
   "source": [
    "timestamp = GAME_FOLDER.split(\"_\")[-1]\n",
    "timestamp"
   ]
  },
  {
   "cell_type": "code",
   "execution_count": 344,
   "metadata": {},
   "outputs": [
    {
     "data": {
      "text/html": [
       "<div>\n",
       "<style scoped>\n",
       "    .dataframe tbody tr th:only-of-type {\n",
       "        vertical-align: middle;\n",
       "    }\n",
       "\n",
       "    .dataframe tbody tr th {\n",
       "        vertical-align: top;\n",
       "    }\n",
       "\n",
       "    .dataframe thead th {\n",
       "        text-align: right;\n",
       "    }\n",
       "</style>\n",
       "<table border=\"1\" class=\"dataframe\">\n",
       "  <thead>\n",
       "    <tr style=\"text-align: right;\">\n",
       "      <th></th>\n",
       "      <th>agent_name</th>\n",
       "      <th>visible_to</th>\n",
       "      <th>content</th>\n",
       "      <th>turn</th>\n",
       "      <th>timestamp</th>\n",
       "      <th>msg_type</th>\n",
       "    </tr>\n",
       "  </thead>\n",
       "  <tbody>\n",
       "    <tr>\n",
       "      <th>0</th>\n",
       "      <td>Moderator</td>\n",
       "      <td>all</td>\n",
       "      <td>This is round 1. For this round, the leader is...</td>\n",
       "      <td>1</td>\n",
       "      <td>1710024262014179000</td>\n",
       "      <td>NaN</td>\n",
       "    </tr>\n",
       "    <tr>\n",
       "      <th>1</th>\n",
       "      <td>Moderator</td>\n",
       "      <td>all</td>\n",
       "      <td>Now the leader choose your teammates and expla...</td>\n",
       "      <td>1</td>\n",
       "      <td>1710024262014179000</td>\n",
       "      <td>NaN</td>\n",
       "    </tr>\n",
       "    <tr>\n",
       "      <th>2</th>\n",
       "      <td>Moderator</td>\n",
       "      <td>Player1</td>\n",
       "      <td>Aim for a good team without evil player</td>\n",
       "      <td>1</td>\n",
       "      <td>1710024262014179000</td>\n",
       "      <td>role_tips</td>\n",
       "    </tr>\n",
       "    <tr>\n",
       "      <th>3</th>\n",
       "      <td>Moderator</td>\n",
       "      <td>Player1</td>\n",
       "      <td>You are percival and you need to help Merlin. ...</td>\n",
       "      <td>1</td>\n",
       "      <td>1710024262014179000</td>\n",
       "      <td>role_tips</td>\n",
       "    </tr>\n",
       "    <tr>\n",
       "      <th>4</th>\n",
       "      <td>Moderator</td>\n",
       "      <td>Player1</td>\n",
       "      <td>Intents are used to guide your gameplay and di...</td>\n",
       "      <td>1</td>\n",
       "      <td>1710024262014179000</td>\n",
       "      <td>intent</td>\n",
       "    </tr>\n",
       "  </tbody>\n",
       "</table>\n",
       "</div>"
      ],
      "text/plain": [
       "  agent_name visible_to                                            content  \\\n",
       "0  Moderator        all  This is round 1. For this round, the leader is...   \n",
       "1  Moderator        all  Now the leader choose your teammates and expla...   \n",
       "2  Moderator    Player1            Aim for a good team without evil player   \n",
       "3  Moderator    Player1  You are percival and you need to help Merlin. ...   \n",
       "4  Moderator    Player1  Intents are used to guide your gameplay and di...   \n",
       "\n",
       "   turn            timestamp   msg_type  \n",
       "0     1  1710024262014179000        NaN  \n",
       "1     1  1710024262014179000        NaN  \n",
       "2     1  1710024262014179000  role_tips  \n",
       "3     1  1710024262014179000  role_tips  \n",
       "4     1  1710024262014179000     intent  "
      ]
     },
     "execution_count": 344,
     "metadata": {},
     "output_type": "execute_result"
    }
   ],
   "source": [
    "conversation_df = pd.read_csv(f'{GAME_FOLDER}/conversation.csv')\n",
    "conversation_df.head()"
   ]
  },
  {
   "cell_type": "code",
   "execution_count": 345,
   "metadata": {},
   "outputs": [
    {
     "data": {
      "text/html": [
       "<div>\n",
       "<style scoped>\n",
       "    .dataframe tbody tr th:only-of-type {\n",
       "        vertical-align: middle;\n",
       "    }\n",
       "\n",
       "    .dataframe tbody tr th {\n",
       "        vertical-align: top;\n",
       "    }\n",
       "\n",
       "    .dataframe thead th {\n",
       "        text-align: right;\n",
       "    }\n",
       "</style>\n",
       "<table border=\"1\" class=\"dataframe\">\n",
       "  <thead>\n",
       "    <tr style=\"text-align: right;\">\n",
       "      <th></th>\n",
       "      <th>agent_name</th>\n",
       "      <th>visible_to</th>\n",
       "      <th>content</th>\n",
       "      <th>turn</th>\n",
       "      <th>timestamp</th>\n",
       "      <th>msg_type</th>\n",
       "      <th>content_len</th>\n",
       "    </tr>\n",
       "  </thead>\n",
       "  <tbody>\n",
       "    <tr>\n",
       "      <th>0</th>\n",
       "      <td>Moderator</td>\n",
       "      <td>all</td>\n",
       "      <td>This is round 1. For this round, the leader is...</td>\n",
       "      <td>1</td>\n",
       "      <td>1710024262014179000</td>\n",
       "      <td>NaN</td>\n",
       "      <td>54</td>\n",
       "    </tr>\n",
       "    <tr>\n",
       "      <th>1</th>\n",
       "      <td>Moderator</td>\n",
       "      <td>all</td>\n",
       "      <td>Now the leader choose your teammates and expla...</td>\n",
       "      <td>1</td>\n",
       "      <td>1710024262014179000</td>\n",
       "      <td>NaN</td>\n",
       "      <td>632</td>\n",
       "    </tr>\n",
       "    <tr>\n",
       "      <th>2</th>\n",
       "      <td>Moderator</td>\n",
       "      <td>Player1</td>\n",
       "      <td>Aim for a good team without evil player</td>\n",
       "      <td>1</td>\n",
       "      <td>1710024262014179000</td>\n",
       "      <td>role_tips</td>\n",
       "      <td>39</td>\n",
       "    </tr>\n",
       "    <tr>\n",
       "      <th>3</th>\n",
       "      <td>Moderator</td>\n",
       "      <td>Player1</td>\n",
       "      <td>You are percival and you need to help Merlin. ...</td>\n",
       "      <td>1</td>\n",
       "      <td>1710024262014179000</td>\n",
       "      <td>role_tips</td>\n",
       "      <td>514</td>\n",
       "    </tr>\n",
       "    <tr>\n",
       "      <th>4</th>\n",
       "      <td>Moderator</td>\n",
       "      <td>Player1</td>\n",
       "      <td>Intents are used to guide your gameplay and di...</td>\n",
       "      <td>1</td>\n",
       "      <td>1710024262014179000</td>\n",
       "      <td>intent</td>\n",
       "      <td>1040</td>\n",
       "    </tr>\n",
       "  </tbody>\n",
       "</table>\n",
       "</div>"
      ],
      "text/plain": [
       "  agent_name visible_to                                            content  \\\n",
       "0  Moderator        all  This is round 1. For this round, the leader is...   \n",
       "1  Moderator        all  Now the leader choose your teammates and expla...   \n",
       "2  Moderator    Player1            Aim for a good team without evil player   \n",
       "3  Moderator    Player1  You are percival and you need to help Merlin. ...   \n",
       "4  Moderator    Player1  Intents are used to guide your gameplay and di...   \n",
       "\n",
       "   turn            timestamp   msg_type  content_len  \n",
       "0     1  1710024262014179000        NaN           54  \n",
       "1     1  1710024262014179000        NaN          632  \n",
       "2     1  1710024262014179000  role_tips           39  \n",
       "3     1  1710024262014179000  role_tips          514  \n",
       "4     1  1710024262014179000     intent         1040  "
      ]
     },
     "execution_count": 345,
     "metadata": {},
     "output_type": "execute_result"
    }
   ],
   "source": [
    "conversation_df['content'] = conversation_df['content'].astype(str)\n",
    "conversation_df['content_len'] = conversation_df['content'].apply(lambda x: len(x))\n",
    "conversation_df.head()"
   ]
  },
  {
   "cell_type": "code",
   "execution_count": 346,
   "metadata": {},
   "outputs": [
    {
     "data": {
      "text/plain": [
       "count    1987.000000\n",
       "mean      715.651233\n",
       "std      1048.823040\n",
       "min         2.000000\n",
       "25%       190.000000\n",
       "50%       281.000000\n",
       "75%       618.000000\n",
       "max      4070.000000\n",
       "Name: content_len, dtype: float64"
      ]
     },
     "execution_count": 346,
     "metadata": {},
     "output_type": "execute_result"
    }
   ],
   "source": [
    "conversation_df['content_len'].describe()"
   ]
  },
  {
   "cell_type": "code",
   "execution_count": 347,
   "metadata": {},
   "outputs": [],
   "source": [
    "# print(conversation_df[conversation_df['content_len'] > 1500].sort_values('content_len', ascending=False)['content'].unique()[1])"
   ]
  },
  {
   "cell_type": "code",
   "execution_count": 348,
   "metadata": {},
   "outputs": [
    {
     "data": {
      "text/plain": [
       "array(['Moderator', 'Player1', 'Player1(Percival)', 'Player2(Morgana)',\n",
       "       'Player2', 'Player3(Servant)', 'Player3', 'Player4(Assassin)',\n",
       "       'Player4', 'Player5(Merlin)', 'Player5'], dtype=object)"
      ]
     },
     "execution_count": 348,
     "metadata": {},
     "output_type": "execute_result"
    }
   ],
   "source": [
    "conversation_df['agent_name'].unique()"
   ]
  },
  {
   "cell_type": "code",
   "execution_count": 349,
   "metadata": {},
   "outputs": [
    {
     "data": {
      "text/plain": [
       "array(['Moderator', 'Player1', 'Player2', 'Player3', 'Player4', 'Player5'],\n",
       "      dtype=object)"
      ]
     },
     "execution_count": 349,
     "metadata": {},
     "output_type": "execute_result"
    }
   ],
   "source": [
    "conversation_df['name'] = conversation_df['agent_name'].apply(lambda x: x.split('(')[0])\n",
    "conversation_df['name'].unique()"
   ]
  },
  {
   "cell_type": "code",
   "execution_count": 350,
   "metadata": {},
   "outputs": [
    {
     "data": {
      "text/plain": [
       "array([1, 2, 3, 4, 5])"
      ]
     },
     "execution_count": 350,
     "metadata": {},
     "output_type": "execute_result"
    }
   ],
   "source": [
    "conversation_df['turn'].unique()"
   ]
  },
  {
   "cell_type": "code",
   "execution_count": 351,
   "metadata": {},
   "outputs": [],
   "source": [
    "conversation_df['round'] = conversation_df['turn']"
   ]
  },
  {
   "cell_type": "code",
   "execution_count": 352,
   "metadata": {},
   "outputs": [],
   "source": [
    "impactful_intents = {\n",
    "    'cast suspicion on innocent players': True, \n",
    "    'counter the team proposal because you think a player on the team is evil': True, \n",
    "    'express concerns about a player from a failed quest team and suggest to not include them in the current team': True, \n",
    "    'express confusion for failure of mission': True, \n",
    "    'express disagreement and vote disagree only if you are not in the proposed team': True, \n",
    "    'express you are a loyal player': True, \n",
    "    'pretend to be merlin by providing hints on who is evil': True, \n",
    "    'question a player about why they changed their statements': True, \n",
    "    'question a player on why they didnt vote for the last team': True, \n",
    "    'question the leader why they selected a particular player for the team': True, \n",
    "    'reveal identity by telling others you are servant to persuade other loyal players': True, \n",
    "    'share concerns about an evil player': True, \n",
    "    'strongly convince the team leader to choose you on team': True, \n",
    "    'support loyal players of the previous quest team if the mission failed': True, \n",
    "    'support your teammate by expressing that he is good': True\n",
    "}"
   ]
  },
  {
   "cell_type": "code",
   "execution_count": 353,
   "metadata": {},
   "outputs": [
    {
     "data": {
      "text/plain": [
       "344        first_order\n",
       "347        first_order\n",
       "350        first_order\n",
       "353        first_order\n",
       "356             intent\n",
       "357             intent\n",
       "360    formulation_con\n",
       "361    formulation_con\n",
       "364       second_order\n",
       "367             intent\n",
       "368             intent\n",
       "372           thinking\n",
       "373         discussion\n",
       "395        explanation\n",
       "404            summary\n",
       "527        first_order\n",
       "530        first_order\n",
       "533        first_order\n",
       "536        first_order\n",
       "539             intent\n",
       "540             intent\n",
       "543    formulation_con\n",
       "544    formulation_con\n",
       "547       second_order\n",
       "550             intent\n",
       "551             intent\n",
       "555           thinking\n",
       "556         discussion\n",
       "609        explanation\n",
       "622             action\n",
       "623        explanation\n",
       "624            answers\n",
       "638            summary\n",
       "Name: msg_type, dtype: object"
      ]
     },
     "execution_count": 353,
     "metadata": {},
     "output_type": "execute_result"
    }
   ],
   "source": [
    "conversation_df[(conversation_df['round'] == 2) & (conversation_df['name'] == 'Player1')]['msg_type']"
   ]
  },
  {
   "cell_type": "code",
   "execution_count": 354,
   "metadata": {},
   "outputs": [
    {
     "data": {
      "text/plain": [
       "Int64Index([401, 852, 1298, 1749], dtype='int64')"
      ]
     },
     "execution_count": 354,
     "metadata": {},
     "output_type": "execute_result"
    }
   ],
   "source": [
    "conversation_df[conversation_df['content'] == \"Most people don't agree with the team formation, we gonna move the leadership to next person and discuss again.\"].index"
   ]
  },
  {
   "cell_type": "code",
   "execution_count": 355,
   "metadata": {},
   "outputs": [
    {
     "data": {
      "text/plain": [
       "[417, 868, 1314, 1765]"
      ]
     },
     "execution_count": 355,
     "metadata": {},
     "output_type": "execute_result"
    }
   ],
   "source": [
    "secondary_round_start_indices = conversation_df[conversation_df['content'].str.startswith(\"Now the leader of this round is\")].index.tolist()\n",
    "secondary_round_start_indices"
   ]
  },
  {
   "cell_type": "code",
   "execution_count": 356,
   "metadata": {},
   "outputs": [
    {
     "data": {
      "text/plain": [
       "[200, 651, 1097, 1548, 1986]"
      ]
     },
     "execution_count": 356,
     "metadata": {},
     "output_type": "execute_result"
    }
   ],
   "source": [
    "next_round_start_indices = conversation_df[conversation_df['content'].str.startswith(\"This is round\")].index[1:].tolist()\n",
    "# appending end of game index\n",
    "next_round_start_indices.append(len(conversation_df) - 1)\n",
    "next_round_start_indices"
   ]
  },
  {
   "cell_type": "code",
   "execution_count": 357,
   "metadata": {},
   "outputs": [
    {
     "data": {
      "text/plain": [
       "[(417, 650), (868, 1096), (1314, 1547), (1765, 1985)]"
      ]
     },
     "execution_count": 357,
     "metadata": {},
     "output_type": "execute_result"
    }
   ],
   "source": [
    "secondary_round_index_ranges = []\n",
    "\n",
    "next_round_pointer = 0\n",
    "for idx in secondary_round_start_indices:\n",
    "    next_round_idx = next_round_start_indices[next_round_pointer]\n",
    "    while next_round_idx < idx and next_round_pointer < len(next_round_start_indices) - 1:\n",
    "        next_round_pointer += 1\n",
    "        next_round_idx = next_round_start_indices[next_round_pointer]\n",
    "    \n",
    "    secondary_round_index_ranges.append((idx, next_round_idx - 1))\n",
    "\n",
    "secondary_round_index_ranges"
   ]
  },
  {
   "cell_type": "code",
   "execution_count": 412,
   "metadata": {},
   "outputs": [
    {
     "data": {
      "text/plain": [
       "4"
      ]
     },
     "execution_count": 412,
     "metadata": {},
     "output_type": "execute_result"
    }
   ],
   "source": [
    "len(secondary_round_index_ranges)"
   ]
  },
  {
   "cell_type": "code",
   "execution_count": 358,
   "metadata": {},
   "outputs": [],
   "source": [
    "def set_secondary_round(idx):\n",
    "    for start, end in secondary_round_index_ranges:\n",
    "        if start <= idx <= end:\n",
    "            return True\n",
    "    return False"
   ]
  },
  {
   "cell_type": "code",
   "execution_count": 359,
   "metadata": {},
   "outputs": [
    {
     "data": {
      "text/html": [
       "<div>\n",
       "<style scoped>\n",
       "    .dataframe tbody tr th:only-of-type {\n",
       "        vertical-align: middle;\n",
       "    }\n",
       "\n",
       "    .dataframe tbody tr th {\n",
       "        vertical-align: top;\n",
       "    }\n",
       "\n",
       "    .dataframe thead th {\n",
       "        text-align: right;\n",
       "    }\n",
       "</style>\n",
       "<table border=\"1\" class=\"dataframe\">\n",
       "  <thead>\n",
       "    <tr style=\"text-align: right;\">\n",
       "      <th></th>\n",
       "      <th>agent_name</th>\n",
       "      <th>visible_to</th>\n",
       "      <th>content</th>\n",
       "      <th>turn</th>\n",
       "      <th>timestamp</th>\n",
       "      <th>msg_type</th>\n",
       "      <th>content_len</th>\n",
       "      <th>name</th>\n",
       "      <th>round</th>\n",
       "      <th>index</th>\n",
       "      <th>is_secondary_round</th>\n",
       "    </tr>\n",
       "  </thead>\n",
       "  <tbody>\n",
       "    <tr>\n",
       "      <th>0</th>\n",
       "      <td>Moderator</td>\n",
       "      <td>all</td>\n",
       "      <td>This is round 1. For this round, the leader is...</td>\n",
       "      <td>1</td>\n",
       "      <td>1710024262014179000</td>\n",
       "      <td>NaN</td>\n",
       "      <td>54</td>\n",
       "      <td>Moderator</td>\n",
       "      <td>1</td>\n",
       "      <td>0</td>\n",
       "      <td>False</td>\n",
       "    </tr>\n",
       "    <tr>\n",
       "      <th>1</th>\n",
       "      <td>Moderator</td>\n",
       "      <td>all</td>\n",
       "      <td>Now the leader choose your teammates and expla...</td>\n",
       "      <td>1</td>\n",
       "      <td>1710024262014179000</td>\n",
       "      <td>NaN</td>\n",
       "      <td>632</td>\n",
       "      <td>Moderator</td>\n",
       "      <td>1</td>\n",
       "      <td>1</td>\n",
       "      <td>False</td>\n",
       "    </tr>\n",
       "    <tr>\n",
       "      <th>2</th>\n",
       "      <td>Moderator</td>\n",
       "      <td>Player1</td>\n",
       "      <td>Aim for a good team without evil player</td>\n",
       "      <td>1</td>\n",
       "      <td>1710024262014179000</td>\n",
       "      <td>role_tips</td>\n",
       "      <td>39</td>\n",
       "      <td>Moderator</td>\n",
       "      <td>1</td>\n",
       "      <td>2</td>\n",
       "      <td>False</td>\n",
       "    </tr>\n",
       "    <tr>\n",
       "      <th>3</th>\n",
       "      <td>Moderator</td>\n",
       "      <td>Player1</td>\n",
       "      <td>You are percival and you need to help Merlin. ...</td>\n",
       "      <td>1</td>\n",
       "      <td>1710024262014179000</td>\n",
       "      <td>role_tips</td>\n",
       "      <td>514</td>\n",
       "      <td>Moderator</td>\n",
       "      <td>1</td>\n",
       "      <td>3</td>\n",
       "      <td>False</td>\n",
       "    </tr>\n",
       "    <tr>\n",
       "      <th>4</th>\n",
       "      <td>Moderator</td>\n",
       "      <td>Player1</td>\n",
       "      <td>Intents are used to guide your gameplay and di...</td>\n",
       "      <td>1</td>\n",
       "      <td>1710024262014179000</td>\n",
       "      <td>intent</td>\n",
       "      <td>1040</td>\n",
       "      <td>Moderator</td>\n",
       "      <td>1</td>\n",
       "      <td>4</td>\n",
       "      <td>False</td>\n",
       "    </tr>\n",
       "  </tbody>\n",
       "</table>\n",
       "</div>"
      ],
      "text/plain": [
       "  agent_name visible_to                                            content  \\\n",
       "0  Moderator        all  This is round 1. For this round, the leader is...   \n",
       "1  Moderator        all  Now the leader choose your teammates and expla...   \n",
       "2  Moderator    Player1            Aim for a good team without evil player   \n",
       "3  Moderator    Player1  You are percival and you need to help Merlin. ...   \n",
       "4  Moderator    Player1  Intents are used to guide your gameplay and di...   \n",
       "\n",
       "   turn            timestamp   msg_type  content_len       name  round  index  \\\n",
       "0     1  1710024262014179000        NaN           54  Moderator      1      0   \n",
       "1     1  1710024262014179000        NaN          632  Moderator      1      1   \n",
       "2     1  1710024262014179000  role_tips           39  Moderator      1      2   \n",
       "3     1  1710024262014179000  role_tips          514  Moderator      1      3   \n",
       "4     1  1710024262014179000     intent         1040  Moderator      1      4   \n",
       "\n",
       "   is_secondary_round  \n",
       "0               False  \n",
       "1               False  \n",
       "2               False  \n",
       "3               False  \n",
       "4               False  "
      ]
     },
     "execution_count": 359,
     "metadata": {},
     "output_type": "execute_result"
    }
   ],
   "source": [
    "conversation_df['index'] = conversation_df.index\n",
    "conversation_df['is_secondary_round'] = conversation_df['index'].apply(lambda idx: set_secondary_round(idx))\n",
    "\n",
    "conversation_df.head()"
   ]
  },
  {
   "cell_type": "code",
   "execution_count": 360,
   "metadata": {},
   "outputs": [
    {
     "data": {
      "text/plain": [
       "527        first_order\n",
       "530        first_order\n",
       "533        first_order\n",
       "536        first_order\n",
       "539             intent\n",
       "540             intent\n",
       "543    formulation_con\n",
       "544    formulation_con\n",
       "547       second_order\n",
       "550             intent\n",
       "551             intent\n",
       "555           thinking\n",
       "556         discussion\n",
       "609        explanation\n",
       "622             action\n",
       "623        explanation\n",
       "624            answers\n",
       "638            summary\n",
       "Name: msg_type, dtype: object"
      ]
     },
     "execution_count": 360,
     "metadata": {},
     "output_type": "execute_result"
    }
   ],
   "source": [
    "conversation_df[(conversation_df['round'] == 2) & (conversation_df['name'] == 'Player1')  & (conversation_df['is_secondary_round'] == True)]['msg_type']"
   ]
  },
  {
   "cell_type": "code",
   "execution_count": 361,
   "metadata": {},
   "outputs": [
    {
     "data": {
      "text/plain": [
       "344        first_order\n",
       "347        first_order\n",
       "350        first_order\n",
       "353        first_order\n",
       "356             intent\n",
       "357             intent\n",
       "360    formulation_con\n",
       "361    formulation_con\n",
       "364       second_order\n",
       "367             intent\n",
       "368             intent\n",
       "372           thinking\n",
       "373         discussion\n",
       "395        explanation\n",
       "404            summary\n",
       "Name: msg_type, dtype: object"
      ]
     },
     "execution_count": 361,
     "metadata": {},
     "output_type": "execute_result"
    }
   ],
   "source": [
    "conversation_df[(conversation_df['round'] == 2) & (conversation_df['name'] == 'Player1')  & (conversation_df['is_secondary_round'] == False)]['msg_type']"
   ]
  },
  {
   "cell_type": "code",
   "execution_count": 362,
   "metadata": {},
   "outputs": [
    {
     "data": {
      "text/plain": [
       "[146, 374, 592, 825, 1043, 1271, 1489, 1722, 1940]"
      ]
     },
     "execution_count": 362,
     "metadata": {},
     "output_type": "execute_result"
    }
   ],
   "source": [
    "team_proposal_mod_prompt_indices = conversation_df[conversation_df['content'].str.contains(\"do you want to change your team proposal?\")].index.tolist()\n",
    "team_proposal_mod_prompt_indices"
   ]
  },
  {
   "cell_type": "code",
   "execution_count": 363,
   "metadata": {},
   "outputs": [],
   "source": [
    "def set_team_proposal_change_message_type(idx):\n",
    "    found = False\n",
    "    idx_discussion = idx\n",
    "    while conversation_df.iloc[idx_discussion]['msg_type'] != 'discussion':\n",
    "        idx_discussion += 1\n",
    "    conversation_df.at[idx_discussion, 'msg_type'] = 'reconsider_team'"
   ]
  },
  {
   "cell_type": "code",
   "execution_count": 364,
   "metadata": {},
   "outputs": [
    {
     "data": {
      "text/plain": [
       "'discussion'"
      ]
     },
     "execution_count": 364,
     "metadata": {},
     "output_type": "execute_result"
    }
   ],
   "source": [
    "conversation_df.iloc[150]['msg_type']"
   ]
  },
  {
   "cell_type": "code",
   "execution_count": 365,
   "metadata": {},
   "outputs": [],
   "source": [
    "for idx in team_proposal_mod_prompt_indices:\n",
    "    set_team_proposal_change_message_type(idx)"
   ]
  },
  {
   "cell_type": "code",
   "execution_count": 366,
   "metadata": {},
   "outputs": [
    {
     "data": {
      "text/plain": [
       "'reconsider_team'"
      ]
     },
     "execution_count": 366,
     "metadata": {},
     "output_type": "execute_result"
    }
   ],
   "source": [
    "conversation_df.iloc[150]['msg_type']"
   ]
  },
  {
   "cell_type": "code",
   "execution_count": 367,
   "metadata": {},
   "outputs": [
    {
     "data": {
      "text/plain": [
       "45"
      ]
     },
     "execution_count": 367,
     "metadata": {},
     "output_type": "execute_result"
    }
   ],
   "source": [
    "player_discussion_end_indices = conversation_df[conversation_df['msg_type'] == 'discussion'].index.tolist()\n",
    "len(player_discussion_end_indices)"
   ]
  },
  {
   "cell_type": "code",
   "execution_count": 368,
   "metadata": {},
   "outputs": [
    {
     "data": {
      "text/plain": [
       "5"
      ]
     },
     "execution_count": 368,
     "metadata": {},
     "output_type": "execute_result"
    }
   ],
   "source": [
    "len([x for x in player_discussion_end_indices if x < 200])"
   ]
  },
  {
   "cell_type": "code",
   "execution_count": 369,
   "metadata": {},
   "outputs": [
    {
     "data": {
      "text/plain": [
       "[200, 651, 1097, 1548, 1986]"
      ]
     },
     "execution_count": 369,
     "metadata": {},
     "output_type": "execute_result"
    }
   ],
   "source": [
    "next_round_start_indices"
   ]
  },
  {
   "cell_type": "code",
   "execution_count": 370,
   "metadata": {},
   "outputs": [],
   "source": [
    "def check_is_start_of_player_discussion(content: str):\n",
    "    if \"respond with your views on the team proposal\" in content:\n",
    "        return True\n",
    "    if \"Now the leader choose your teammates\" in content:\n",
    "        return True\n",
    "    if \"This is round\" in content:\n",
    "        return True\n",
    "    return False"
   ]
  },
  {
   "cell_type": "code",
   "execution_count": 371,
   "metadata": {},
   "outputs": [
    {
     "data": {
      "text/plain": [
       "45"
      ]
     },
     "execution_count": 371,
     "metadata": {},
     "output_type": "execute_result"
    }
   ],
   "source": [
    "player_discussion_start_indices = conversation_df[conversation_df['content'].apply(lambda x: check_is_start_of_player_discussion(x))].index.tolist()[1:]\n",
    "len(player_discussion_start_indices)"
   ]
  },
  {
   "cell_type": "code",
   "execution_count": 372,
   "metadata": {},
   "outputs": [
    {
     "data": {
      "text/plain": [
       "[1, 24, 50, 79, 111, 200, 234, 269, 304, 339]"
      ]
     },
     "execution_count": 372,
     "metadata": {},
     "output_type": "execute_result"
    }
   ],
   "source": [
    "player_discussion_start_indices[:10]"
   ]
  },
  {
   "cell_type": "code",
   "execution_count": 373,
   "metadata": {},
   "outputs": [],
   "source": [
    "player_discussion_range_indices = []\n",
    "for start, end in zip(player_discussion_start_indices, player_discussion_end_indices):\n",
    "    player_discussion_range_indices.append((start, end))"
   ]
  },
  {
   "cell_type": "code",
   "execution_count": 374,
   "metadata": {},
   "outputs": [
    {
     "data": {
      "text/plain": [
       "[(1, 23),\n",
       " (24, 49),\n",
       " (50, 78),\n",
       " (79, 110),\n",
       " (111, 145),\n",
       " (200, 233),\n",
       " (234, 268),\n",
       " (269, 303),\n",
       " (304, 338),\n",
       " (339, 373)]"
      ]
     },
     "execution_count": 374,
     "metadata": {},
     "output_type": "execute_result"
    }
   ],
   "source": [
    "player_discussion_range_indices[:10]"
   ]
  },
  {
   "cell_type": "code",
   "execution_count": 380,
   "metadata": {},
   "outputs": [],
   "source": [
    "def filter_out_non_impactful_intents(intents, all=False):\n",
    "    final_intents = []\n",
    "    non_impactful_present = False\n",
    "    for intent in intents:\n",
    "        norm_intent = remove_non_alphabets(intent)\n",
    "        if norm_intent in impactful_intents:\n",
    "            final_intents.append(intent)\n",
    "        elif all: non_impactful_present = True\n",
    "    if all and non_impactful_present:\n",
    "        return []\n",
    "    return final_intents"
   ]
  },
  {
   "cell_type": "code",
   "execution_count": 420,
   "metadata": {},
   "outputs": [],
   "source": [
    "def process_player_discussion(start_idx, end_idx, df):\n",
    "    # print(conversation_df.iloc[start_idx: end_idx+1]['msg_type'])\n",
    "    intent_count = 0\n",
    "    cur_idx = start_idx\n",
    "    msg_type = ''\n",
    "    while cur_idx <= end_idx:\n",
    "        msg_type = df.iloc[cur_idx]['msg_type']\n",
    "        if msg_type == 'intent':\n",
    "            intent_count += 1\n",
    "            if intent_count == 2:\n",
    "                break\n",
    "        cur_idx += 1\n",
    "\n",
    "    if msg_type != 'intent':\n",
    "        return\n",
    "    orig_intent_idx = cur_idx\n",
    "    orig_selected_intents = literal_eval(df.iloc[orig_intent_idx]['content'])\n",
    "    # print(f\"{orig_selected_intents=}\")\n",
    "\n",
    "    intent_mod_prompt_idx = -1\n",
    "    intent_count = 0\n",
    "    while cur_idx <= end_idx:\n",
    "        msg_type = df.iloc[cur_idx]['msg_type']\n",
    "        if msg_type == 'intent_modification':\n",
    "            intent_mod_prompt_idx = cur_idx\n",
    "        if msg_type == 'intent' and intent_mod_prompt_idx != -1:\n",
    "            break\n",
    "        cur_idx += 1\n",
    "    \n",
    "    if msg_type != 'intent':\n",
    "        return\n",
    "    mod_intent_idx = cur_idx\n",
    "    modified_intents = literal_eval(df.iloc[mod_intent_idx]['content'])\n",
    "    # print(f\"{modified_intents=}\")\n",
    "\n",
    "    retained_orig_intents = filter_out_non_impactful_intents(orig_selected_intents, all=True)\n",
    "    retained_mod_intents = filter_out_non_impactful_intents(modified_intents, all=True)\n",
    "\n",
    "    annotation_data = {\n",
    "        \"round\": df.loc[orig_intent_idx]['round'],\n",
    "        \"is_secondary_round\": df.loc[orig_intent_idx]['is_secondary_round'],\n",
    "        \"player\": df.loc[orig_intent_idx]['name'],\n",
    "        \"updated_orig_intents\": (orig_intent_idx, retained_orig_intents),\n",
    "        \"updated_mod_intents\": (mod_intent_idx, retained_mod_intents),\n",
    "        \"was_intent_modified\": len(modified_intents) > 0\n",
    "    }\n",
    "\n",
    "    retained_annotation_data = {}\n",
    "    if len(retained_orig_intents) > 0 or len(retained_mod_intents) > 0:\n",
    "        retained_annotation_data = annotation_data\n",
    "\n",
    "    # print(f\"{retained_orig_intents=}\\n{retained_mod_intents=}\")\n",
    "\n",
    "    # print(intent_mod_prompt_idx)\n",
    "\n",
    "    to_drop_indices = []\n",
    "\n",
    "    if len(retained_orig_intents) == 0 and len(retained_mod_intents) == 0:\n",
    "        to_drop_indices.extend(df.index[start_idx + 1: end_idx].tolist())\n",
    "        # df.drop(index=df.index[start_idx + 1: end_idx], inplace=True)\n",
    "    elif len(retained_orig_intents) == 0:\n",
    "        to_drop_indices.extend(df.index[start_idx + 1: intent_mod_prompt_idx].tolist())\n",
    "        # df.drop(index=df.index[start_idx + 1: intent_mod_prompt_idx], inplace=True)\n",
    "    elif len(modified_intents) != 0 and len(retained_mod_intents) == 0:\n",
    "        to_drop_indices.extend(df.index[intent_mod_prompt_idx: end_idx].tolist())\n",
    "        # df.drop(index=df.index[intent_mod_prompt_idx: end_idx], inplace=True)\n",
    "\n",
    "    # print(df.loc[start_idx: end_idx]['msg_type'])\n",
    "    return annotation_data, to_drop_indices, retained_annotation_data\n",
    "        "
   ]
  },
  {
   "cell_type": "code",
   "execution_count": 421,
   "metadata": {},
   "outputs": [],
   "source": [
    "conversation_df_filtered = conversation_df.copy()"
   ]
  },
  {
   "cell_type": "code",
   "execution_count": 426,
   "metadata": {},
   "outputs": [],
   "source": [
    "final_drop_indices = []\n",
    "annotation_file_data = []\n",
    "retained_annotation_file_data = []\n",
    "\n",
    "for start_idx, end_idx in player_discussion_range_indices:\n",
    "    annotation_data, to_drop_indices, retained_annotation_data = process_player_discussion(start_idx, end_idx, conversation_df_filtered)\n",
    "    final_drop_indices.extend(to_drop_indices)\n",
    "    annotation_file_data.append(annotation_data)\n",
    "    if len(retained_annotation_data) != 0:\n",
    "        retained_annotation_file_data.append(retained_annotation_data)"
   ]
  },
  {
   "cell_type": "code",
   "execution_count": 427,
   "metadata": {},
   "outputs": [
    {
     "data": {
      "text/plain": [
       "10"
      ]
     },
     "execution_count": 427,
     "metadata": {},
     "output_type": "execute_result"
    }
   ],
   "source": [
    "len(retained_annotation_file_data)"
   ]
  },
  {
   "cell_type": "code",
   "execution_count": 424,
   "metadata": {},
   "outputs": [
    {
     "data": {
      "text/plain": [
       "[{'round': 1,\n",
       "  'is_secondary_round': False,\n",
       "  'player': 'Player1',\n",
       "  'updated_orig_intents': (6,\n",
       "   ['Pretend to be Merlin by providing hints on who is evil.']),\n",
       "  'updated_mod_intents': (17, []),\n",
       "  'was_intent_modified': False},\n",
       " {'round': 2,\n",
       "  'is_secondary_round': False,\n",
       "  'player': 'Player3',\n",
       "  'updated_orig_intents': (251,\n",
       "   ['Counter the team proposal because you think a player on the team is evil',\n",
       "    'Question the leader why they selected a particular player for the team',\n",
       "    'Express concerns about a player from a failed quest team and suggest to not include them in the current team']),\n",
       "  'updated_mod_intents': (262,\n",
       "   ['Counter the team proposal because you think a player on the team is evil',\n",
       "    'Question the leader why they selected a particular player for the team',\n",
       "    'Express concerns about a player from a failed quest team and suggest to not include them in the current team']),\n",
       "  'was_intent_modified': True},\n",
       " {'round': 2,\n",
       "  'is_secondary_round': True,\n",
       "  'player': 'Player1',\n",
       "  'updated_orig_intents': (539,\n",
       "   ['Express concerns about a player from a failed quest team and suggest to not include them in the current team.',\n",
       "    'Counter the team proposal because you think a player on the team is evil.']),\n",
       "  'updated_mod_intents': (550,\n",
       "   ['Express concerns about a player from a failed quest team and suggest to not include them in the current team.',\n",
       "    'Counter the team proposal because you think a player on the team is evil.']),\n",
       "  'was_intent_modified': True},\n",
       " {'round': 3,\n",
       "  'is_secondary_round': False,\n",
       "  'player': 'Player3',\n",
       "  'updated_orig_intents': (807,\n",
       "   ['Express concerns about a player from a failed quest team and suggest to not include them in the current team.',\n",
       "    'Counter the team proposal because you think a player on the team is evil.',\n",
       "    'Question the leader why they selected a particular player for the team.']),\n",
       "  'updated_mod_intents': (818,\n",
       "   ['Express concerns about a player from a failed quest team and suggest to not include them in the current team.',\n",
       "    'Counter the team proposal because you think a player on the team is evil.',\n",
       "    'Question the leader why they selected a particular player for the team.']),\n",
       "  'was_intent_modified': True},\n",
       " {'round': 3,\n",
       "  'is_secondary_round': True,\n",
       "  'player': 'Player2',\n",
       "  'updated_orig_intents': (955,\n",
       "   ['Express concerns about a player from a failed quest team and suggest to not include them in the current team.',\n",
       "    'Counter the team proposal because you think a player on the team is evil.']),\n",
       "  'updated_mod_intents': (966, []),\n",
       "  'was_intent_modified': False},\n",
       " {'round': 3,\n",
       "  'is_secondary_round': True,\n",
       "  'player': 'Player3',\n",
       "  'updated_orig_intents': (990,\n",
       "   ['Express concerns about a player from a failed quest team and suggest to not include them in the current team.',\n",
       "    'Counter the team proposal because you think a player on the team is evil.']),\n",
       "  'updated_mod_intents': (1001,\n",
       "   ['Express concerns about a player from a failed quest team and suggest to not include them in the current team.',\n",
       "    'Counter the team proposal because you think a player on the team is evil.']),\n",
       "  'was_intent_modified': True},\n",
       " {'round': 4,\n",
       "  'is_secondary_round': False,\n",
       "  'player': 'Player1',\n",
       "  'updated_orig_intents': (1113,\n",
       "   ['Pretend to be Merlin by providing hints on who is evil.']),\n",
       "  'updated_mod_intents': (1124, []),\n",
       "  'was_intent_modified': False},\n",
       " {'round': 4,\n",
       "  'is_secondary_round': False,\n",
       "  'player': 'Player2',\n",
       "  'updated_orig_intents': (1148,\n",
       "   ['Question the leader why they selected a particular player for the team.',\n",
       "    'Express concerns about a player from a failed quest team and suggest to not include them in the current team.',\n",
       "    'Counter the team proposal because you think a player on the team is evil.']),\n",
       "  'updated_mod_intents': (1159,\n",
       "   ['Counter the team proposal because you think a player on the team is evil.']),\n",
       "  'was_intent_modified': True},\n",
       " {'round': 5,\n",
       "  'is_secondary_round': False,\n",
       "  'player': 'Player3',\n",
       "  'updated_orig_intents': (1564,\n",
       "   ['Reveal identity by telling others you are Servant to persuade other loyal players.']),\n",
       "  'updated_mod_intents': (1575, []),\n",
       "  'was_intent_modified': False},\n",
       " {'round': 5,\n",
       "  'is_secondary_round': True,\n",
       "  'player': 'Player3',\n",
       "  'updated_orig_intents': (1922,\n",
       "   ['Express concerns about a player from a failed quest team and suggest to not include them in the current team.',\n",
       "    'Counter the team proposal because you think a player on the team is evil.']),\n",
       "  'updated_mod_intents': (1933, []),\n",
       "  'was_intent_modified': False}]"
      ]
     },
     "execution_count": 424,
     "metadata": {},
     "output_type": "execute_result"
    }
   ],
   "source": [
    "retained_annotation_file_data"
   ]
  },
  {
   "cell_type": "code",
   "execution_count": 384,
   "metadata": {},
   "outputs": [
    {
     "data": {
      "text/plain": [
       "1131"
      ]
     },
     "execution_count": 384,
     "metadata": {},
     "output_type": "execute_result"
    }
   ],
   "source": [
    "len(final_drop_indices)"
   ]
  },
  {
   "cell_type": "code",
   "execution_count": 385,
   "metadata": {},
   "outputs": [
    {
     "data": {
      "text/plain": [
       "1987"
      ]
     },
     "execution_count": 385,
     "metadata": {},
     "output_type": "execute_result"
    }
   ],
   "source": [
    "len(conversation_df_filtered)"
   ]
  },
  {
   "cell_type": "code",
   "execution_count": 386,
   "metadata": {},
   "outputs": [
    {
     "data": {
      "text/plain": [
       "45"
      ]
     },
     "execution_count": 386,
     "metadata": {},
     "output_type": "execute_result"
    }
   ],
   "source": [
    "len(annotation_file_data)"
   ]
  },
  {
   "cell_type": "code",
   "execution_count": 391,
   "metadata": {},
   "outputs": [
    {
     "name": "stdout",
     "output_type": "stream",
     "text": [
      "31\n"
     ]
    }
   ],
   "source": [
    "intent_count = 0\n",
    "for ann in annotation_file_data:\n",
    "    intent_count += len(ann['updated_orig_intents'][1])\n",
    "    intent_count += len(ann['updated_mod_intents'][1])\n",
    "\n",
    "print(intent_count)"
   ]
  },
  {
   "cell_type": "code",
   "execution_count": 415,
   "metadata": {},
   "outputs": [
    {
     "data": {
      "text/plain": [
       "{'round': 2,\n",
       " 'is_secondary_round': True,\n",
       " 'player': 'Player3',\n",
       " 'updated_orig_intents': (434, []),\n",
       " 'updated_mod_intents': (445, []),\n",
       " 'was_intent_modified': False}"
      ]
     },
     "execution_count": 415,
     "metadata": {},
     "output_type": "execute_result"
    }
   ],
   "source": [
    "annotation_file_data[10]"
   ]
  },
  {
   "cell_type": "code",
   "execution_count": 436,
   "metadata": {},
   "outputs": [],
   "source": [
    "for ann in annotation_file_data:\n",
    "    orig_intents_idx, updated_orig_intents = ann['updated_orig_intents']\n",
    "    mod_intents_idx, updated_mod_intents = ann['updated_mod_intents']\n",
    "    \n",
    "    conversation_df_filtered.at[orig_intents_idx, 'content'] = updated_orig_intents\n",
    "    conversation_df_filtered.at[mod_intents_idx, 'content'] = updated_mod_intents"
   ]
  },
  {
   "cell_type": "code",
   "execution_count": 437,
   "metadata": {},
   "outputs": [
    {
     "data": {
      "text/plain": [
       "\"['Strongly convince the team leader to choose you on the team.', 'Reveal identity by telling others you are Servant to persuade other loyal players.', 'Pretend to be Merlin by providing hints on who is evil.']\""
      ]
     },
     "execution_count": 437,
     "metadata": {},
     "output_type": "execute_result"
    }
   ],
   "source": [
    "conversation_df.iloc[434]['content']"
   ]
  },
  {
   "cell_type": "code",
   "execution_count": 438,
   "metadata": {},
   "outputs": [
    {
     "data": {
      "text/plain": [
       "[]"
      ]
     },
     "execution_count": 438,
     "metadata": {},
     "output_type": "execute_result"
    }
   ],
   "source": [
    "conversation_df_filtered.iloc[434]['content']"
   ]
  },
  {
   "cell_type": "code",
   "execution_count": 439,
   "metadata": {},
   "outputs": [],
   "source": [
    "conversation_df_filtered.drop(index=final_drop_indices, inplace=True)"
   ]
  },
  {
   "cell_type": "code",
   "execution_count": 440,
   "metadata": {},
   "outputs": [
    {
     "data": {
      "text/plain": [
       "856"
      ]
     },
     "execution_count": 440,
     "metadata": {},
     "output_type": "execute_result"
    }
   ],
   "source": [
    "len(conversation_df_filtered)"
   ]
  },
  {
   "cell_type": "code",
   "execution_count": 441,
   "metadata": {},
   "outputs": [
    {
     "data": {
      "text/plain": [
       "Index(['agent_name', 'visible_to', 'content', 'turn', 'timestamp', 'msg_type',\n",
       "       'content_len', 'name', 'round', 'index', 'is_secondary_round'],\n",
       "      dtype='object')"
      ]
     },
     "execution_count": 441,
     "metadata": {},
     "output_type": "execute_result"
    }
   ],
   "source": [
    "conversation_df_filtered.columns"
   ]
  },
  {
   "cell_type": "code",
   "execution_count": 442,
   "metadata": {},
   "outputs": [
    {
     "data": {
      "text/html": [
       "<div>\n",
       "<style scoped>\n",
       "    .dataframe tbody tr th:only-of-type {\n",
       "        vertical-align: middle;\n",
       "    }\n",
       "\n",
       "    .dataframe tbody tr th {\n",
       "        vertical-align: top;\n",
       "    }\n",
       "\n",
       "    .dataframe thead th {\n",
       "        text-align: right;\n",
       "    }\n",
       "</style>\n",
       "<table border=\"1\" class=\"dataframe\">\n",
       "  <thead>\n",
       "    <tr style=\"text-align: right;\">\n",
       "      <th></th>\n",
       "      <th>index</th>\n",
       "      <th>name</th>\n",
       "      <th>round</th>\n",
       "      <th>is_secondary_round</th>\n",
       "      <th>agent_name</th>\n",
       "      <th>visible_to</th>\n",
       "      <th>msg_type</th>\n",
       "      <th>content</th>\n",
       "      <th>turn</th>\n",
       "      <th>timestamp</th>\n",
       "    </tr>\n",
       "  </thead>\n",
       "  <tbody>\n",
       "    <tr>\n",
       "      <th>0</th>\n",
       "      <td>0</td>\n",
       "      <td>Moderator</td>\n",
       "      <td>1</td>\n",
       "      <td>False</td>\n",
       "      <td>Moderator</td>\n",
       "      <td>all</td>\n",
       "      <td>NaN</td>\n",
       "      <td>This is round 1. For this round, the leader is...</td>\n",
       "      <td>1</td>\n",
       "      <td>1710024262014179000</td>\n",
       "    </tr>\n",
       "    <tr>\n",
       "      <th>1</th>\n",
       "      <td>1</td>\n",
       "      <td>Moderator</td>\n",
       "      <td>1</td>\n",
       "      <td>False</td>\n",
       "      <td>Moderator</td>\n",
       "      <td>all</td>\n",
       "      <td>NaN</td>\n",
       "      <td>Now the leader choose your teammates and expla...</td>\n",
       "      <td>1</td>\n",
       "      <td>1710024262014179000</td>\n",
       "    </tr>\n",
       "    <tr>\n",
       "      <th>2</th>\n",
       "      <td>2</td>\n",
       "      <td>Moderator</td>\n",
       "      <td>1</td>\n",
       "      <td>False</td>\n",
       "      <td>Moderator</td>\n",
       "      <td>Player1</td>\n",
       "      <td>role_tips</td>\n",
       "      <td>Aim for a good team without evil player</td>\n",
       "      <td>1</td>\n",
       "      <td>1710024262014179000</td>\n",
       "    </tr>\n",
       "    <tr>\n",
       "      <th>3</th>\n",
       "      <td>3</td>\n",
       "      <td>Moderator</td>\n",
       "      <td>1</td>\n",
       "      <td>False</td>\n",
       "      <td>Moderator</td>\n",
       "      <td>Player1</td>\n",
       "      <td>role_tips</td>\n",
       "      <td>You are percival and you need to help Merlin. ...</td>\n",
       "      <td>1</td>\n",
       "      <td>1710024262014179000</td>\n",
       "    </tr>\n",
       "    <tr>\n",
       "      <th>4</th>\n",
       "      <td>4</td>\n",
       "      <td>Moderator</td>\n",
       "      <td>1</td>\n",
       "      <td>False</td>\n",
       "      <td>Moderator</td>\n",
       "      <td>Player1</td>\n",
       "      <td>intent</td>\n",
       "      <td>Intents are used to guide your gameplay and di...</td>\n",
       "      <td>1</td>\n",
       "      <td>1710024262014179000</td>\n",
       "    </tr>\n",
       "  </tbody>\n",
       "</table>\n",
       "</div>"
      ],
      "text/plain": [
       "   index       name  round  is_secondary_round agent_name visible_to  \\\n",
       "0      0  Moderator      1               False  Moderator        all   \n",
       "1      1  Moderator      1               False  Moderator        all   \n",
       "2      2  Moderator      1               False  Moderator    Player1   \n",
       "3      3  Moderator      1               False  Moderator    Player1   \n",
       "4      4  Moderator      1               False  Moderator    Player1   \n",
       "\n",
       "    msg_type                                            content  turn  \\\n",
       "0        NaN  This is round 1. For this round, the leader is...     1   \n",
       "1        NaN  Now the leader choose your teammates and expla...     1   \n",
       "2  role_tips            Aim for a good team without evil player     1   \n",
       "3  role_tips  You are percival and you need to help Merlin. ...     1   \n",
       "4     intent  Intents are used to guide your gameplay and di...     1   \n",
       "\n",
       "             timestamp  \n",
       "0  1710024262014179000  \n",
       "1  1710024262014179000  \n",
       "2  1710024262014179000  \n",
       "3  1710024262014179000  \n",
       "4  1710024262014179000  "
      ]
     },
     "execution_count": 442,
     "metadata": {},
     "output_type": "execute_result"
    }
   ],
   "source": [
    "conversation_df_filtered.reset_index(drop=True, inplace=True)\n",
    "conversation_df_filtered['index'] = conversation_df_filtered.index\n",
    "conversation_df_filtered = conversation_df_filtered[['index', 'name', 'round', 'is_secondary_round', 'agent_name', 'visible_to', 'msg_type', 'content', 'turn', 'timestamp']]\n",
    "conversation_df_filtered.head()"
   ]
  },
  {
   "cell_type": "code",
   "execution_count": 443,
   "metadata": {},
   "outputs": [],
   "source": [
    "conversation_df_filtered.to_csv(f'{GAME_FOLDER}/conversation-data-oi-{timestamp}.csv', index=False)"
   ]
  },
  {
   "cell_type": "code",
   "execution_count": 335,
   "metadata": {},
   "outputs": [
    {
     "data": {
      "text/html": [
       "<div>\n",
       "<style scoped>\n",
       "    .dataframe tbody tr th:only-of-type {\n",
       "        vertical-align: middle;\n",
       "    }\n",
       "\n",
       "    .dataframe tbody tr th {\n",
       "        vertical-align: top;\n",
       "    }\n",
       "\n",
       "    .dataframe thead th {\n",
       "        text-align: right;\n",
       "    }\n",
       "</style>\n",
       "<table border=\"1\" class=\"dataframe\">\n",
       "  <thead>\n",
       "    <tr style=\"text-align: right;\">\n",
       "      <th></th>\n",
       "      <th>player</th>\n",
       "      <th>round</th>\n",
       "      <th>is_secondary_round</th>\n",
       "      <th>intent</th>\n",
       "      <th>intent_selection</th>\n",
       "      <th>intent_fol_think_1</th>\n",
       "      <th>intent_fol_speech_1</th>\n",
       "      <th>intent_mod</th>\n",
       "      <th>intent_selection_mod</th>\n",
       "      <th>intent_fol_think_2</th>\n",
       "      <th>intent_fol_speech_2</th>\n",
       "      <th>comments</th>\n",
       "    </tr>\n",
       "  </thead>\n",
       "  <tbody>\n",
       "  </tbody>\n",
       "</table>\n",
       "</div>"
      ],
      "text/plain": [
       "Empty DataFrame\n",
       "Columns: [player, round, is_secondary_round, intent, intent_selection, intent_fol_think_1, intent_fol_speech_1, intent_mod, intent_selection_mod, intent_fol_think_2, intent_fol_speech_2, comments]\n",
       "Index: []"
      ]
     },
     "execution_count": 335,
     "metadata": {},
     "output_type": "execute_result"
    }
   ],
   "source": [
    "annotation_file_columns = [\"player\", \"round\", \"is_secondary_round\", \"intent\", \"intent_selection\", \"intent_fol_think_1\", \"intent_fol_speech_1\", \"intent_mod\", \"intent_selection_mod\", \"intent_fol_think_2\", \"intent_fol_speech_2\", \"comments\"]\n",
    "annotation_file_df = pd.DataFrame(columns=annotation_file_columns)\n",
    "annotation_file_df.head()"
   ]
  },
  {
   "cell_type": "code",
   "execution_count": 336,
   "metadata": {},
   "outputs": [
    {
     "data": {
      "text/plain": [
       "{'round': 2,\n",
       " 'is_secondary_round': True,\n",
       " 'player': 'Player3',\n",
       " 'updated_orig_intents': (434,\n",
       "  ['Reveal identity by telling others you are Servant to persuade other loyal players.',\n",
       "   'Pretend to be Merlin by providing hints on who is evil.']),\n",
       " 'updated_mod_intents': (445, [])}"
      ]
     },
     "execution_count": 336,
     "metadata": {},
     "output_type": "execute_result"
    }
   ],
   "source": [
    "annotation_file_data[10]"
   ]
  },
  {
   "cell_type": "code",
   "execution_count": 428,
   "metadata": {},
   "outputs": [
    {
     "data": {
      "text/plain": [
       "{'round': 5,\n",
       " 'is_secondary_round': True,\n",
       " 'player': 'Player3',\n",
       " 'updated_orig_intents': (1922,\n",
       "  ['Express concerns about a player from a failed quest team and suggest to not include them in the current team.',\n",
       "   'Counter the team proposal because you think a player on the team is evil.']),\n",
       " 'updated_mod_intents': (1933, []),\n",
       " 'was_intent_modified': False}"
      ]
     },
     "execution_count": 428,
     "metadata": {},
     "output_type": "execute_result"
    }
   ],
   "source": [
    "retained_annotation_file_data[9]"
   ]
  },
  {
   "cell_type": "code",
   "execution_count": 433,
   "metadata": {},
   "outputs": [],
   "source": [
    "def get_row_data(ann):\n",
    "    row_data = {col:None for col in annotation_file_columns}\n",
    "    row_data[\"player\"] = ann[\"player\"]\n",
    "    row_data[\"round\"] = ann[\"round\"]\n",
    "    row_data[\"is_secondary_round\"] = ann[\"is_secondary_round\"]\n",
    "    row_data[\"intent\"] = ann[\"updated_orig_intents\"][1]\n",
    "    if ann[\"was_intent_modified\"]:\n",
    "        row_data[\"intent_mod\"] = ann[\"updated_mod_intents\"][1]\n",
    "    else:\n",
    "        row_data[\"intent_mod\"] = ann[\"updated_orig_intents\"][1]\n",
    "\n",
    "    return row_data\n",
    "    "
   ]
  },
  {
   "cell_type": "code",
   "execution_count": 434,
   "metadata": {},
   "outputs": [],
   "source": [
    "annotation_file_df = pd.concat([pd.DataFrame([get_row_data(ann)], columns=annotation_file_columns) for ann in retained_annotation_file_data],\n",
    "          ignore_index=True)"
   ]
  },
  {
   "cell_type": "code",
   "execution_count": 435,
   "metadata": {},
   "outputs": [
    {
     "data": {
      "text/html": [
       "<div>\n",
       "<style scoped>\n",
       "    .dataframe tbody tr th:only-of-type {\n",
       "        vertical-align: middle;\n",
       "    }\n",
       "\n",
       "    .dataframe tbody tr th {\n",
       "        vertical-align: top;\n",
       "    }\n",
       "\n",
       "    .dataframe thead th {\n",
       "        text-align: right;\n",
       "    }\n",
       "</style>\n",
       "<table border=\"1\" class=\"dataframe\">\n",
       "  <thead>\n",
       "    <tr style=\"text-align: right;\">\n",
       "      <th></th>\n",
       "      <th>player</th>\n",
       "      <th>round</th>\n",
       "      <th>is_secondary_round</th>\n",
       "      <th>intent</th>\n",
       "      <th>intent_selection</th>\n",
       "      <th>intent_fol_think_1</th>\n",
       "      <th>intent_fol_speech_1</th>\n",
       "      <th>intent_mod</th>\n",
       "      <th>intent_selection_mod</th>\n",
       "      <th>intent_fol_think_2</th>\n",
       "      <th>intent_fol_speech_2</th>\n",
       "      <th>comments</th>\n",
       "    </tr>\n",
       "  </thead>\n",
       "  <tbody>\n",
       "    <tr>\n",
       "      <th>0</th>\n",
       "      <td>Player1</td>\n",
       "      <td>1</td>\n",
       "      <td>False</td>\n",
       "      <td>[Pretend to be Merlin by providing hints on wh...</td>\n",
       "      <td>None</td>\n",
       "      <td>None</td>\n",
       "      <td>None</td>\n",
       "      <td>[Pretend to be Merlin by providing hints on wh...</td>\n",
       "      <td>None</td>\n",
       "      <td>None</td>\n",
       "      <td>None</td>\n",
       "      <td>None</td>\n",
       "    </tr>\n",
       "    <tr>\n",
       "      <th>1</th>\n",
       "      <td>Player3</td>\n",
       "      <td>2</td>\n",
       "      <td>False</td>\n",
       "      <td>[Counter the team proposal because you think a...</td>\n",
       "      <td>None</td>\n",
       "      <td>None</td>\n",
       "      <td>None</td>\n",
       "      <td>[Counter the team proposal because you think a...</td>\n",
       "      <td>None</td>\n",
       "      <td>None</td>\n",
       "      <td>None</td>\n",
       "      <td>None</td>\n",
       "    </tr>\n",
       "    <tr>\n",
       "      <th>2</th>\n",
       "      <td>Player1</td>\n",
       "      <td>2</td>\n",
       "      <td>True</td>\n",
       "      <td>[Express concerns about a player from a failed...</td>\n",
       "      <td>None</td>\n",
       "      <td>None</td>\n",
       "      <td>None</td>\n",
       "      <td>[Express concerns about a player from a failed...</td>\n",
       "      <td>None</td>\n",
       "      <td>None</td>\n",
       "      <td>None</td>\n",
       "      <td>None</td>\n",
       "    </tr>\n",
       "    <tr>\n",
       "      <th>3</th>\n",
       "      <td>Player3</td>\n",
       "      <td>3</td>\n",
       "      <td>False</td>\n",
       "      <td>[Express concerns about a player from a failed...</td>\n",
       "      <td>None</td>\n",
       "      <td>None</td>\n",
       "      <td>None</td>\n",
       "      <td>[Express concerns about a player from a failed...</td>\n",
       "      <td>None</td>\n",
       "      <td>None</td>\n",
       "      <td>None</td>\n",
       "      <td>None</td>\n",
       "    </tr>\n",
       "    <tr>\n",
       "      <th>4</th>\n",
       "      <td>Player2</td>\n",
       "      <td>3</td>\n",
       "      <td>True</td>\n",
       "      <td>[Express concerns about a player from a failed...</td>\n",
       "      <td>None</td>\n",
       "      <td>None</td>\n",
       "      <td>None</td>\n",
       "      <td>[Express concerns about a player from a failed...</td>\n",
       "      <td>None</td>\n",
       "      <td>None</td>\n",
       "      <td>None</td>\n",
       "      <td>None</td>\n",
       "    </tr>\n",
       "    <tr>\n",
       "      <th>5</th>\n",
       "      <td>Player3</td>\n",
       "      <td>3</td>\n",
       "      <td>True</td>\n",
       "      <td>[Express concerns about a player from a failed...</td>\n",
       "      <td>None</td>\n",
       "      <td>None</td>\n",
       "      <td>None</td>\n",
       "      <td>[Express concerns about a player from a failed...</td>\n",
       "      <td>None</td>\n",
       "      <td>None</td>\n",
       "      <td>None</td>\n",
       "      <td>None</td>\n",
       "    </tr>\n",
       "    <tr>\n",
       "      <th>6</th>\n",
       "      <td>Player1</td>\n",
       "      <td>4</td>\n",
       "      <td>False</td>\n",
       "      <td>[Pretend to be Merlin by providing hints on wh...</td>\n",
       "      <td>None</td>\n",
       "      <td>None</td>\n",
       "      <td>None</td>\n",
       "      <td>[Pretend to be Merlin by providing hints on wh...</td>\n",
       "      <td>None</td>\n",
       "      <td>None</td>\n",
       "      <td>None</td>\n",
       "      <td>None</td>\n",
       "    </tr>\n",
       "    <tr>\n",
       "      <th>7</th>\n",
       "      <td>Player2</td>\n",
       "      <td>4</td>\n",
       "      <td>False</td>\n",
       "      <td>[Question the leader why they selected a parti...</td>\n",
       "      <td>None</td>\n",
       "      <td>None</td>\n",
       "      <td>None</td>\n",
       "      <td>[Counter the team proposal because you think a...</td>\n",
       "      <td>None</td>\n",
       "      <td>None</td>\n",
       "      <td>None</td>\n",
       "      <td>None</td>\n",
       "    </tr>\n",
       "    <tr>\n",
       "      <th>8</th>\n",
       "      <td>Player3</td>\n",
       "      <td>5</td>\n",
       "      <td>False</td>\n",
       "      <td>[Reveal identity by telling others you are Ser...</td>\n",
       "      <td>None</td>\n",
       "      <td>None</td>\n",
       "      <td>None</td>\n",
       "      <td>[Reveal identity by telling others you are Ser...</td>\n",
       "      <td>None</td>\n",
       "      <td>None</td>\n",
       "      <td>None</td>\n",
       "      <td>None</td>\n",
       "    </tr>\n",
       "    <tr>\n",
       "      <th>9</th>\n",
       "      <td>Player3</td>\n",
       "      <td>5</td>\n",
       "      <td>True</td>\n",
       "      <td>[Express concerns about a player from a failed...</td>\n",
       "      <td>None</td>\n",
       "      <td>None</td>\n",
       "      <td>None</td>\n",
       "      <td>[Express concerns about a player from a failed...</td>\n",
       "      <td>None</td>\n",
       "      <td>None</td>\n",
       "      <td>None</td>\n",
       "      <td>None</td>\n",
       "    </tr>\n",
       "  </tbody>\n",
       "</table>\n",
       "</div>"
      ],
      "text/plain": [
       "    player  round  is_secondary_round  \\\n",
       "0  Player1      1               False   \n",
       "1  Player3      2               False   \n",
       "2  Player1      2                True   \n",
       "3  Player3      3               False   \n",
       "4  Player2      3                True   \n",
       "5  Player3      3                True   \n",
       "6  Player1      4               False   \n",
       "7  Player2      4               False   \n",
       "8  Player3      5               False   \n",
       "9  Player3      5                True   \n",
       "\n",
       "                                              intent intent_selection  \\\n",
       "0  [Pretend to be Merlin by providing hints on wh...             None   \n",
       "1  [Counter the team proposal because you think a...             None   \n",
       "2  [Express concerns about a player from a failed...             None   \n",
       "3  [Express concerns about a player from a failed...             None   \n",
       "4  [Express concerns about a player from a failed...             None   \n",
       "5  [Express concerns about a player from a failed...             None   \n",
       "6  [Pretend to be Merlin by providing hints on wh...             None   \n",
       "7  [Question the leader why they selected a parti...             None   \n",
       "8  [Reveal identity by telling others you are Ser...             None   \n",
       "9  [Express concerns about a player from a failed...             None   \n",
       "\n",
       "  intent_fol_think_1 intent_fol_speech_1  \\\n",
       "0               None                None   \n",
       "1               None                None   \n",
       "2               None                None   \n",
       "3               None                None   \n",
       "4               None                None   \n",
       "5               None                None   \n",
       "6               None                None   \n",
       "7               None                None   \n",
       "8               None                None   \n",
       "9               None                None   \n",
       "\n",
       "                                          intent_mod intent_selection_mod  \\\n",
       "0  [Pretend to be Merlin by providing hints on wh...                 None   \n",
       "1  [Counter the team proposal because you think a...                 None   \n",
       "2  [Express concerns about a player from a failed...                 None   \n",
       "3  [Express concerns about a player from a failed...                 None   \n",
       "4  [Express concerns about a player from a failed...                 None   \n",
       "5  [Express concerns about a player from a failed...                 None   \n",
       "6  [Pretend to be Merlin by providing hints on wh...                 None   \n",
       "7  [Counter the team proposal because you think a...                 None   \n",
       "8  [Reveal identity by telling others you are Ser...                 None   \n",
       "9  [Express concerns about a player from a failed...                 None   \n",
       "\n",
       "  intent_fol_think_2 intent_fol_speech_2 comments  \n",
       "0               None                None     None  \n",
       "1               None                None     None  \n",
       "2               None                None     None  \n",
       "3               None                None     None  \n",
       "4               None                None     None  \n",
       "5               None                None     None  \n",
       "6               None                None     None  \n",
       "7               None                None     None  \n",
       "8               None                None     None  \n",
       "9               None                None     None  "
      ]
     },
     "execution_count": 435,
     "metadata": {},
     "output_type": "execute_result"
    }
   ],
   "source": [
    "annotation_file_df.head(10)"
   ]
  },
  {
   "cell_type": "code",
   "execution_count": 340,
   "metadata": {},
   "outputs": [],
   "source": [
    "annotation_file_df.to_csv(f'{GAME_FOLDER}/annotation-{timestamp}.csv', index=False)"
   ]
  },
  {
   "cell_type": "code",
   "execution_count": null,
   "metadata": {},
   "outputs": [],
   "source": []
  }
 ],
 "metadata": {
  "kernelspec": {
   "display_name": "py11-env",
   "language": "python",
   "name": "python3"
  },
  "language_info": {
   "codemirror_mode": {
    "name": "ipython",
    "version": 3
   },
   "file_extension": ".py",
   "mimetype": "text/x-python",
   "name": "python",
   "nbconvert_exporter": "python",
   "pygments_lexer": "ipython3",
   "version": "3.11.6"
  }
 },
 "nbformat": 4,
 "nbformat_minor": 2
}
