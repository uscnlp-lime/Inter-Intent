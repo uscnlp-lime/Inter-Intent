{
 "cells": [
  {
   "cell_type": "code",
   "execution_count": 136,
   "id": "initial_id",
   "metadata": {
    "collapsed": true,
    "ExecuteTime": {
     "end_time": "2024-03-07T05:17:45.357177Z",
     "start_time": "2024-03-07T05:17:45.350465Z"
    }
   },
   "outputs": [],
   "source": [
    "import pandas as pd\n",
    "import numpy as np\n",
    "import json"
   ]
  },
  {
   "cell_type": "code",
   "execution_count": 302,
   "outputs": [],
   "source": [
    "EVAL_FILE_PATH = './evaluation_2024-03-06-16-21-42.csv'\n",
    "GAMEPLAY_RESULTS_PATH = './game_play_data_2024-03-06-16-21-42.json'\n",
    "\n",
    "eval_df = pd.read_csv(EVAL_FILE_PATH)\n",
    "\n",
    "\n",
    "with open(GAMEPLAY_RESULTS_PATH) as f:\n",
    "    results_data = json.loads(f.read())"
   ],
   "metadata": {
    "collapsed": false,
    "ExecuteTime": {
     "end_time": "2024-03-07T08:54:05.160396Z",
     "start_time": "2024-03-07T08:54:05.115390Z"
    }
   },
   "id": "40c9491eaa62d34"
  },
  {
   "cell_type": "code",
   "execution_count": 303,
   "outputs": [
    {
     "data": {
      "text/plain": "{'1': 0, '2': 0, '3': 1, '4': 0, '5': None}"
     },
     "execution_count": 303,
     "metadata": {},
     "output_type": "execute_result"
    }
   ],
   "source": [
    "quest_results = results_data['quest_results']\n",
    "quest_results"
   ],
   "metadata": {
    "collapsed": false,
    "ExecuteTime": {
     "end_time": "2024-03-07T08:54:06.273415Z",
     "start_time": "2024-03-07T08:54:06.260229Z"
    }
   },
   "id": "3852ab19f8fc8f57"
  },
  {
   "cell_type": "code",
   "execution_count": 304,
   "outputs": [
    {
     "data": {
      "text/plain": "{'Player3': 'Merlin',\n 'Player4': 'Percival',\n 'Player1': 'Servant',\n 'Player2': 'Assassin',\n 'Player5': 'Morgana'}"
     },
     "execution_count": 304,
     "metadata": {},
     "output_type": "execute_result"
    }
   ],
   "source": [
    "evil_roles = ['Assassin', 'Morgana']\n",
    "\n",
    "player_to_char = dict((val,key) for key, val in results_data['character_to_player'].items())\n",
    "player_to_char"
   ],
   "metadata": {
    "collapsed": false,
    "ExecuteTime": {
     "end_time": "2024-03-07T08:54:07.927558Z",
     "start_time": "2024-03-07T08:54:07.892175Z"
    }
   },
   "id": "b086bf8b9f63656f"
  },
  {
   "cell_type": "markdown",
   "source": [
    "## Failure vote rate"
   ],
   "metadata": {
    "collapsed": false
   },
   "id": "b7256e804ade2ceb"
  },
  {
   "cell_type": "code",
   "execution_count": 305,
   "outputs": [
    {
     "name": "stdout",
     "output_type": "stream",
     "text": [
      "Failure rate: 3/4\n"
     ]
    }
   ],
   "source": [
    "evil_players = [key for key, val in player_to_char.items() if val in evil_roles]\n",
    "\n",
    "total_vote = 0\n",
    "fail_vote = 0\n",
    "for val in results_data['team_quest_result'].values():\n",
    "    for p in evil_players:\n",
    "        if p in val:\n",
    "            if val[p] == 'failure':\n",
    "                fail_vote += 1\n",
    "            total_vote += 1\n",
    "            \n",
    "print(f\"Failure rate: {fail_vote}/{total_vote}\")"
   ],
   "metadata": {
    "collapsed": false,
    "ExecuteTime": {
     "end_time": "2024-03-07T08:54:08.530530Z",
     "start_time": "2024-03-07T08:54:08.516360Z"
    }
   },
   "id": "bce24aa3df6ddbc3"
  },
  {
   "cell_type": "markdown",
   "source": [
    "## Quest win rate"
   ],
   "metadata": {
    "collapsed": false
   },
   "id": "7b4d708af9c64c3a"
  },
  {
   "cell_type": "code",
   "execution_count": 306,
   "outputs": [
    {
     "name": "stdout",
     "output_type": "stream",
     "text": [
      "Quest win rate: Evil: 3, Loyal: 1\n"
     ]
    }
   ],
   "source": [
    "evil = 0\n",
    "loyal = 0\n",
    "for key, val in quest_results.items():\n",
    "    if val is None:\n",
    "        continue\n",
    "    if val == 0:\n",
    "        evil += 1\n",
    "    else:\n",
    "        loyal += 1\n",
    "        \n",
    "print(f\"Quest win rate: Evil: {evil}, Loyal: {loyal}\")"
   ],
   "metadata": {
    "collapsed": false,
    "ExecuteTime": {
     "end_time": "2024-03-07T08:54:08.947955Z",
     "start_time": "2024-03-07T08:54:08.912189Z"
    }
   },
   "id": "b2e1ecfa26c0f86b"
  },
  {
   "cell_type": "markdown",
   "source": [
    "## Team Selection Accuracy"
   ],
   "metadata": {
    "collapsed": false
   },
   "id": "e939c9897db0e8c"
  },
  {
   "cell_type": "code",
   "execution_count": 307,
   "outputs": [
    {
     "name": "stdout",
     "output_type": "stream",
     "text": [
      "Team Selection Accuracy: Evil = 1/2, Loyal = 0/2\n"
     ]
    }
   ],
   "source": [
    "round_leaders = results_data['round_leaders']\n",
    "round_team_members = results_data['round_team_members']\n",
    "\n",
    "total_evil = 0\n",
    "evil_correct = 0\n",
    "\n",
    "total_loyal = 0\n",
    "loyal_correct = 0\n",
    "for key, val in round_team_members.items():\n",
    "    if len(val) == 0:\n",
    "        continue\n",
    "    leader = round_leaders[key]\n",
    "    \n",
    "    if leader in evil_players:\n",
    "        total_evil += 1\n",
    "        for member in val:\n",
    "            role = player_to_char[member]\n",
    "            if role in evil_roles:\n",
    "                evil_correct += 1\n",
    "                break\n",
    "    else:\n",
    "        total_loyal += 1\n",
    "        found_evil = False\n",
    "        for member in val:\n",
    "            role = player_to_char[member]\n",
    "            if role in evil_roles:\n",
    "                found_evil = True\n",
    "                break\n",
    "        if not found_evil:\n",
    "            loyal_correct += 1\n",
    "            \n",
    "print(f\"Team Selection Accuracy: Evil = {evil_correct}/{total_evil}, Loyal = {loyal_correct}/{total_loyal}\")"
   ],
   "metadata": {
    "collapsed": false,
    "ExecuteTime": {
     "end_time": "2024-03-07T08:54:09.980812Z",
     "start_time": "2024-03-07T08:54:09.968886Z"
    }
   },
   "id": "fe5b5867c1ecc7b7"
  },
  {
   "cell_type": "markdown",
   "source": [
    "## Detailed analysis"
   ],
   "metadata": {
    "collapsed": false
   },
   "id": "8b4666f949327c8a"
  },
  {
   "cell_type": "code",
   "execution_count": 308,
   "outputs": [],
   "source": [
    "comma_string_to_list = lambda x: [val.strip() for val in x.split(',') if val != '']"
   ],
   "metadata": {
    "collapsed": false,
    "ExecuteTime": {
     "end_time": "2024-03-07T08:54:10.385910Z",
     "start_time": "2024-03-07T08:54:10.380809Z"
    }
   },
   "id": "34c781754d4f33c6"
  },
  {
   "cell_type": "code",
   "execution_count": 309,
   "outputs": [
    {
     "data": {
      "text/plain": "    player  round                                             intent  \\\n0  Player1      1  ['Strongly convince the team leader to choose ...   \n1  Player2      1  ['counter the team proposal because you are go...   \n2  Player3      1  ['Support team proposal', 'Support one loyal p...   \n3  Player4      1  ['Question the leader why they selected a part...   \n4  Player5      1  ['Pretend to be Merlin', 'Stay hidden in discu...   \n\n  intent_selection intent_fol_think_1 intent_fol_speech_1  \\\n0              [0]                [5]                 [5]   \n1              [0]                [1]                 [1]   \n2        [1, 1, 1]          [5, 5, 5]           [5, 5, 4]   \n3        [1, 1, 1]          [5, 5, 5]           [5, 5, 5]   \n4        [1, 0, 1]          [5, 5, 5]           [1, 4, 5]   \n\n                                          intent_mod intent_selection_mod  \\\n0                                                NaN                [nan]   \n1                                                NaN                [nan]   \n2                                                NaN                [nan]   \n3  ['Stay hidden in discussions and act like a Lo...                  [1]   \n4                                                NaN                [nan]   \n\n  intent_fol_think_2 intent_fol_speech_2                             comments  \\\n0                [5]                 [5]  team leader try to convince himself   \n1                [1]                 [1]           wrong intent understanding   \n2          [5, 5, 5]           [5, 5, 5]                                  NaN   \n3                [5]                 [5]                                  NaN   \n4          [5, 5, 5]           [1, 4, 5]                                  NaN   \n\n  round_quest_result  \n0            failure  \n1            failure  \n2            failure  \n3            failure  \n4            failure  ",
      "text/html": "<div>\n<style scoped>\n    .dataframe tbody tr th:only-of-type {\n        vertical-align: middle;\n    }\n\n    .dataframe tbody tr th {\n        vertical-align: top;\n    }\n\n    .dataframe thead th {\n        text-align: right;\n    }\n</style>\n<table border=\"1\" class=\"dataframe\">\n  <thead>\n    <tr style=\"text-align: right;\">\n      <th></th>\n      <th>player</th>\n      <th>round</th>\n      <th>intent</th>\n      <th>intent_selection</th>\n      <th>intent_fol_think_1</th>\n      <th>intent_fol_speech_1</th>\n      <th>intent_mod</th>\n      <th>intent_selection_mod</th>\n      <th>intent_fol_think_2</th>\n      <th>intent_fol_speech_2</th>\n      <th>comments</th>\n      <th>round_quest_result</th>\n    </tr>\n  </thead>\n  <tbody>\n    <tr>\n      <th>0</th>\n      <td>Player1</td>\n      <td>1</td>\n      <td>['Strongly convince the team leader to choose ...</td>\n      <td>[0]</td>\n      <td>[5]</td>\n      <td>[5]</td>\n      <td>NaN</td>\n      <td>[nan]</td>\n      <td>[5]</td>\n      <td>[5]</td>\n      <td>team leader try to convince himself</td>\n      <td>failure</td>\n    </tr>\n    <tr>\n      <th>1</th>\n      <td>Player2</td>\n      <td>1</td>\n      <td>['counter the team proposal because you are go...</td>\n      <td>[0]</td>\n      <td>[1]</td>\n      <td>[1]</td>\n      <td>NaN</td>\n      <td>[nan]</td>\n      <td>[1]</td>\n      <td>[1]</td>\n      <td>wrong intent understanding</td>\n      <td>failure</td>\n    </tr>\n    <tr>\n      <th>2</th>\n      <td>Player3</td>\n      <td>1</td>\n      <td>['Support team proposal', 'Support one loyal p...</td>\n      <td>[1, 1, 1]</td>\n      <td>[5, 5, 5]</td>\n      <td>[5, 5, 4]</td>\n      <td>NaN</td>\n      <td>[nan]</td>\n      <td>[5, 5, 5]</td>\n      <td>[5, 5, 5]</td>\n      <td>NaN</td>\n      <td>failure</td>\n    </tr>\n    <tr>\n      <th>3</th>\n      <td>Player4</td>\n      <td>1</td>\n      <td>['Question the leader why they selected a part...</td>\n      <td>[1, 1, 1]</td>\n      <td>[5, 5, 5]</td>\n      <td>[5, 5, 5]</td>\n      <td>['Stay hidden in discussions and act like a Lo...</td>\n      <td>[1]</td>\n      <td>[5]</td>\n      <td>[5]</td>\n      <td>NaN</td>\n      <td>failure</td>\n    </tr>\n    <tr>\n      <th>4</th>\n      <td>Player5</td>\n      <td>1</td>\n      <td>['Pretend to be Merlin', 'Stay hidden in discu...</td>\n      <td>[1, 0, 1]</td>\n      <td>[5, 5, 5]</td>\n      <td>[1, 4, 5]</td>\n      <td>NaN</td>\n      <td>[nan]</td>\n      <td>[5, 5, 5]</td>\n      <td>[1, 4, 5]</td>\n      <td>NaN</td>\n      <td>failure</td>\n    </tr>\n  </tbody>\n</table>\n</div>"
     },
     "execution_count": 309,
     "metadata": {},
     "output_type": "execute_result"
    }
   ],
   "source": [
    "eval_df['intent_selection'] = eval_df['intent_selection'].astype(str).apply(comma_string_to_list)\n",
    "eval_df['intent_selection_mod'] = eval_df['intent_selection_mod'].astype(str).apply(comma_string_to_list)\n",
    "eval_df['intent_fol_think_1'] = eval_df['intent_fol_think_1'].astype(str).apply(comma_string_to_list)\n",
    "eval_df['intent_fol_speech_1'] = eval_df['intent_fol_speech_1'].astype(str).apply(comma_string_to_list)\n",
    "eval_df['intent_fol_think_2'] = eval_df['intent_fol_think_2'].astype(str).apply(comma_string_to_list)\n",
    "eval_df['intent_fol_speech_2'] = eval_df['intent_fol_speech_2'].astype(str).apply(comma_string_to_list)\n",
    "eval_df['round_quest_result'] = eval_df['round'].apply(lambda x: 'success' if quest_results[str(x)] == 1 else 'failure')\n",
    "\n",
    "eval_df.head()"
   ],
   "metadata": {
    "collapsed": false,
    "ExecuteTime": {
     "end_time": "2024-03-07T08:54:10.586878Z",
     "start_time": "2024-03-07T08:54:10.548155Z"
    }
   },
   "id": "9df7e76e2b2412d4"
  },
  {
   "cell_type": "code",
   "execution_count": 310,
   "outputs": [],
   "source": [
    "def find_player_side(player_name):\n",
    "    if player_to_char[player_name] in evil_roles:\n",
    "        return 'evil'\n",
    "    return 'loyal'"
   ],
   "metadata": {
    "collapsed": false,
    "ExecuteTime": {
     "end_time": "2024-03-07T08:54:10.780416Z",
     "start_time": "2024-03-07T08:54:10.766706Z"
    }
   },
   "id": "c7f6df9b6aa60ec8"
  },
  {
   "cell_type": "code",
   "execution_count": 311,
   "outputs": [
    {
     "data": {
      "text/plain": "    player  round                                             intent  \\\n0  Player1      1  ['Strongly convince the team leader to choose ...   \n1  Player2      1  ['counter the team proposal because you are go...   \n2  Player3      1  ['Support team proposal', 'Support one loyal p...   \n3  Player4      1  ['Question the leader why they selected a part...   \n4  Player5      1  ['Pretend to be Merlin', 'Stay hidden in discu...   \n\n  intent_selection intent_fol_think_1 intent_fol_speech_1  \\\n0              [0]                [5]                 [5]   \n1              [0]                [1]                 [1]   \n2        [1, 1, 1]          [5, 5, 5]           [5, 5, 4]   \n3        [1, 1, 1]          [5, 5, 5]           [5, 5, 5]   \n4        [1, 0, 1]          [5, 5, 5]           [1, 4, 5]   \n\n                                          intent_mod intent_selection_mod  \\\n0                                                NaN                [nan]   \n1                                                NaN                [nan]   \n2                                                NaN                [nan]   \n3  ['Stay hidden in discussions and act like a Lo...                  [1]   \n4                                                NaN                [nan]   \n\n  intent_fol_think_2 intent_fol_speech_2                             comments  \\\n0                [5]                 [5]  team leader try to convince himself   \n1                [1]                 [1]           wrong intent understanding   \n2          [5, 5, 5]           [5, 5, 5]                                  NaN   \n3                [5]                 [5]                                  NaN   \n4          [5, 5, 5]           [1, 4, 5]                                  NaN   \n\n  round_quest_result   side  \n0            failure  loyal  \n1            failure   evil  \n2            failure  loyal  \n3            failure  loyal  \n4            failure   evil  ",
      "text/html": "<div>\n<style scoped>\n    .dataframe tbody tr th:only-of-type {\n        vertical-align: middle;\n    }\n\n    .dataframe tbody tr th {\n        vertical-align: top;\n    }\n\n    .dataframe thead th {\n        text-align: right;\n    }\n</style>\n<table border=\"1\" class=\"dataframe\">\n  <thead>\n    <tr style=\"text-align: right;\">\n      <th></th>\n      <th>player</th>\n      <th>round</th>\n      <th>intent</th>\n      <th>intent_selection</th>\n      <th>intent_fol_think_1</th>\n      <th>intent_fol_speech_1</th>\n      <th>intent_mod</th>\n      <th>intent_selection_mod</th>\n      <th>intent_fol_think_2</th>\n      <th>intent_fol_speech_2</th>\n      <th>comments</th>\n      <th>round_quest_result</th>\n      <th>side</th>\n    </tr>\n  </thead>\n  <tbody>\n    <tr>\n      <th>0</th>\n      <td>Player1</td>\n      <td>1</td>\n      <td>['Strongly convince the team leader to choose ...</td>\n      <td>[0]</td>\n      <td>[5]</td>\n      <td>[5]</td>\n      <td>NaN</td>\n      <td>[nan]</td>\n      <td>[5]</td>\n      <td>[5]</td>\n      <td>team leader try to convince himself</td>\n      <td>failure</td>\n      <td>loyal</td>\n    </tr>\n    <tr>\n      <th>1</th>\n      <td>Player2</td>\n      <td>1</td>\n      <td>['counter the team proposal because you are go...</td>\n      <td>[0]</td>\n      <td>[1]</td>\n      <td>[1]</td>\n      <td>NaN</td>\n      <td>[nan]</td>\n      <td>[1]</td>\n      <td>[1]</td>\n      <td>wrong intent understanding</td>\n      <td>failure</td>\n      <td>evil</td>\n    </tr>\n    <tr>\n      <th>2</th>\n      <td>Player3</td>\n      <td>1</td>\n      <td>['Support team proposal', 'Support one loyal p...</td>\n      <td>[1, 1, 1]</td>\n      <td>[5, 5, 5]</td>\n      <td>[5, 5, 4]</td>\n      <td>NaN</td>\n      <td>[nan]</td>\n      <td>[5, 5, 5]</td>\n      <td>[5, 5, 5]</td>\n      <td>NaN</td>\n      <td>failure</td>\n      <td>loyal</td>\n    </tr>\n    <tr>\n      <th>3</th>\n      <td>Player4</td>\n      <td>1</td>\n      <td>['Question the leader why they selected a part...</td>\n      <td>[1, 1, 1]</td>\n      <td>[5, 5, 5]</td>\n      <td>[5, 5, 5]</td>\n      <td>['Stay hidden in discussions and act like a Lo...</td>\n      <td>[1]</td>\n      <td>[5]</td>\n      <td>[5]</td>\n      <td>NaN</td>\n      <td>failure</td>\n      <td>loyal</td>\n    </tr>\n    <tr>\n      <th>4</th>\n      <td>Player5</td>\n      <td>1</td>\n      <td>['Pretend to be Merlin', 'Stay hidden in discu...</td>\n      <td>[1, 0, 1]</td>\n      <td>[5, 5, 5]</td>\n      <td>[1, 4, 5]</td>\n      <td>NaN</td>\n      <td>[nan]</td>\n      <td>[5, 5, 5]</td>\n      <td>[1, 4, 5]</td>\n      <td>NaN</td>\n      <td>failure</td>\n      <td>evil</td>\n    </tr>\n  </tbody>\n</table>\n</div>"
     },
     "execution_count": 311,
     "metadata": {},
     "output_type": "execute_result"
    }
   ],
   "source": [
    "eval_df['side'] = eval_df['player'].apply(lambda x: find_player_side(x))\n",
    "eval_df.head()"
   ],
   "metadata": {
    "collapsed": false,
    "ExecuteTime": {
     "end_time": "2024-03-07T08:54:10.939517Z",
     "start_time": "2024-03-07T08:54:10.924923Z"
    }
   },
   "id": "9645efc96996ee1f"
  },
  {
   "cell_type": "code",
   "execution_count": 312,
   "outputs": [],
   "source": [
    "eval_df_form_cnt = eval_df[['player', 'side', 'round', 'intent', 'intent_selection', 'intent_fol_think_1', 'intent_fol_speech_1', 'round_quest_result']].copy()\n",
    "eval_df_ref_cnt = eval_df[['player', 'side', 'round', 'intent', 'intent_mod', 'intent_selection', 'intent_selection_mod', 'intent_fol_think_2', 'intent_fol_speech_2', 'round_quest_result']].copy()"
   ],
   "metadata": {
    "collapsed": false,
    "ExecuteTime": {
     "end_time": "2024-03-07T08:54:11.106653Z",
     "start_time": "2024-03-07T08:54:11.098666Z"
    }
   },
   "id": "ac810ad1ffe88d0a"
  },
  {
   "cell_type": "code",
   "execution_count": 313,
   "outputs": [
    {
     "data": {
      "text/plain": "    player   side  round                                             intent  \\\n0  Player1  loyal      1  ['Strongly convince the team leader to choose ...   \n1  Player2   evil      1  ['counter the team proposal because you are go...   \n2  Player3  loyal      1  ['Support team proposal', 'Support one loyal p...   \n3  Player4  loyal      1  ['Question the leader why they selected a part...   \n4  Player5   evil      1  ['Pretend to be Merlin', 'Stay hidden in discu...   \n\n  intent_selection intent_fol_think_1 intent_fol_speech_1 round_quest_result  \n0              [0]                [5]                 [5]            failure  \n1              [0]                [1]                 [1]            failure  \n2        [1, 1, 1]          [5, 5, 5]           [5, 5, 4]            failure  \n3        [1, 1, 1]          [5, 5, 5]           [5, 5, 5]            failure  \n4        [1, 0, 1]          [5, 5, 5]           [1, 4, 5]            failure  ",
      "text/html": "<div>\n<style scoped>\n    .dataframe tbody tr th:only-of-type {\n        vertical-align: middle;\n    }\n\n    .dataframe tbody tr th {\n        vertical-align: top;\n    }\n\n    .dataframe thead th {\n        text-align: right;\n    }\n</style>\n<table border=\"1\" class=\"dataframe\">\n  <thead>\n    <tr style=\"text-align: right;\">\n      <th></th>\n      <th>player</th>\n      <th>side</th>\n      <th>round</th>\n      <th>intent</th>\n      <th>intent_selection</th>\n      <th>intent_fol_think_1</th>\n      <th>intent_fol_speech_1</th>\n      <th>round_quest_result</th>\n    </tr>\n  </thead>\n  <tbody>\n    <tr>\n      <th>0</th>\n      <td>Player1</td>\n      <td>loyal</td>\n      <td>1</td>\n      <td>['Strongly convince the team leader to choose ...</td>\n      <td>[0]</td>\n      <td>[5]</td>\n      <td>[5]</td>\n      <td>failure</td>\n    </tr>\n    <tr>\n      <th>1</th>\n      <td>Player2</td>\n      <td>evil</td>\n      <td>1</td>\n      <td>['counter the team proposal because you are go...</td>\n      <td>[0]</td>\n      <td>[1]</td>\n      <td>[1]</td>\n      <td>failure</td>\n    </tr>\n    <tr>\n      <th>2</th>\n      <td>Player3</td>\n      <td>loyal</td>\n      <td>1</td>\n      <td>['Support team proposal', 'Support one loyal p...</td>\n      <td>[1, 1, 1]</td>\n      <td>[5, 5, 5]</td>\n      <td>[5, 5, 4]</td>\n      <td>failure</td>\n    </tr>\n    <tr>\n      <th>3</th>\n      <td>Player4</td>\n      <td>loyal</td>\n      <td>1</td>\n      <td>['Question the leader why they selected a part...</td>\n      <td>[1, 1, 1]</td>\n      <td>[5, 5, 5]</td>\n      <td>[5, 5, 5]</td>\n      <td>failure</td>\n    </tr>\n    <tr>\n      <th>4</th>\n      <td>Player5</td>\n      <td>evil</td>\n      <td>1</td>\n      <td>['Pretend to be Merlin', 'Stay hidden in discu...</td>\n      <td>[1, 0, 1]</td>\n      <td>[5, 5, 5]</td>\n      <td>[1, 4, 5]</td>\n      <td>failure</td>\n    </tr>\n  </tbody>\n</table>\n</div>"
     },
     "execution_count": 313,
     "metadata": {},
     "output_type": "execute_result"
    }
   ],
   "source": [
    "eval_df_form_cnt.head()"
   ],
   "metadata": {
    "collapsed": false,
    "ExecuteTime": {
     "end_time": "2024-03-07T08:54:11.315364Z",
     "start_time": "2024-03-07T08:54:11.305734Z"
    }
   },
   "id": "e5ef34a78814a5d5"
  },
  {
   "cell_type": "code",
   "execution_count": 314,
   "outputs": [
    {
     "data": {
      "text/plain": "    player   side  round                                             intent  \\\n0  Player1  loyal      1  ['Strongly convince the team leader to choose ...   \n1  Player2   evil      1  ['counter the team proposal because you are go...   \n2  Player3  loyal      1  ['Support team proposal', 'Support one loyal p...   \n3  Player4  loyal      1  ['Question the leader why they selected a part...   \n4  Player5   evil      1  ['Pretend to be Merlin', 'Stay hidden in discu...   \n\n                                          intent_mod intent_selection  \\\n0                                                NaN              [0]   \n1                                                NaN              [0]   \n2                                                NaN        [1, 1, 1]   \n3  ['Stay hidden in discussions and act like a Lo...        [1, 1, 1]   \n4                                                NaN        [1, 0, 1]   \n\n  intent_selection_mod intent_fol_think_2 intent_fol_speech_2  \\\n0                [nan]                [5]                 [5]   \n1                [nan]                [1]                 [1]   \n2                [nan]          [5, 5, 5]           [5, 5, 5]   \n3                  [1]                [5]                 [5]   \n4                [nan]          [5, 5, 5]           [1, 4, 5]   \n\n  round_quest_result  \n0            failure  \n1            failure  \n2            failure  \n3            failure  \n4            failure  ",
      "text/html": "<div>\n<style scoped>\n    .dataframe tbody tr th:only-of-type {\n        vertical-align: middle;\n    }\n\n    .dataframe tbody tr th {\n        vertical-align: top;\n    }\n\n    .dataframe thead th {\n        text-align: right;\n    }\n</style>\n<table border=\"1\" class=\"dataframe\">\n  <thead>\n    <tr style=\"text-align: right;\">\n      <th></th>\n      <th>player</th>\n      <th>side</th>\n      <th>round</th>\n      <th>intent</th>\n      <th>intent_mod</th>\n      <th>intent_selection</th>\n      <th>intent_selection_mod</th>\n      <th>intent_fol_think_2</th>\n      <th>intent_fol_speech_2</th>\n      <th>round_quest_result</th>\n    </tr>\n  </thead>\n  <tbody>\n    <tr>\n      <th>0</th>\n      <td>Player1</td>\n      <td>loyal</td>\n      <td>1</td>\n      <td>['Strongly convince the team leader to choose ...</td>\n      <td>NaN</td>\n      <td>[0]</td>\n      <td>[nan]</td>\n      <td>[5]</td>\n      <td>[5]</td>\n      <td>failure</td>\n    </tr>\n    <tr>\n      <th>1</th>\n      <td>Player2</td>\n      <td>evil</td>\n      <td>1</td>\n      <td>['counter the team proposal because you are go...</td>\n      <td>NaN</td>\n      <td>[0]</td>\n      <td>[nan]</td>\n      <td>[1]</td>\n      <td>[1]</td>\n      <td>failure</td>\n    </tr>\n    <tr>\n      <th>2</th>\n      <td>Player3</td>\n      <td>loyal</td>\n      <td>1</td>\n      <td>['Support team proposal', 'Support one loyal p...</td>\n      <td>NaN</td>\n      <td>[1, 1, 1]</td>\n      <td>[nan]</td>\n      <td>[5, 5, 5]</td>\n      <td>[5, 5, 5]</td>\n      <td>failure</td>\n    </tr>\n    <tr>\n      <th>3</th>\n      <td>Player4</td>\n      <td>loyal</td>\n      <td>1</td>\n      <td>['Question the leader why they selected a part...</td>\n      <td>['Stay hidden in discussions and act like a Lo...</td>\n      <td>[1, 1, 1]</td>\n      <td>[1]</td>\n      <td>[5]</td>\n      <td>[5]</td>\n      <td>failure</td>\n    </tr>\n    <tr>\n      <th>4</th>\n      <td>Player5</td>\n      <td>evil</td>\n      <td>1</td>\n      <td>['Pretend to be Merlin', 'Stay hidden in discu...</td>\n      <td>NaN</td>\n      <td>[1, 0, 1]</td>\n      <td>[nan]</td>\n      <td>[5, 5, 5]</td>\n      <td>[1, 4, 5]</td>\n      <td>failure</td>\n    </tr>\n  </tbody>\n</table>\n</div>"
     },
     "execution_count": 314,
     "metadata": {},
     "output_type": "execute_result"
    }
   ],
   "source": [
    "eval_df_ref_cnt.head()"
   ],
   "metadata": {
    "collapsed": false,
    "ExecuteTime": {
     "end_time": "2024-03-07T08:54:11.569275Z",
     "start_time": "2024-03-07T08:54:11.548841Z"
    }
   },
   "id": "e1bdddc8d1261674"
  },
  {
   "cell_type": "markdown",
   "source": [
    "## Processing dfs for analysis (splitting values into separate rows)"
   ],
   "metadata": {
    "collapsed": false
   },
   "id": "6322bf0b15633313"
  },
  {
   "cell_type": "markdown",
   "source": [
    "#### Formulation contemplation"
   ],
   "metadata": {
    "collapsed": false
   },
   "id": "73ecd98c0f299031"
  },
  {
   "cell_type": "code",
   "execution_count": 315,
   "outputs": [
    {
     "data": {
      "text/plain": "    player   side  round                                             intent  \\\n0  Player1  loyal      1  ['Strongly convince the team leader to choose ...   \n1  Player2   evil      1  ['counter the team proposal because you are go...   \n2  Player3  loyal      1  ['Support team proposal', 'Support one loyal p...   \n2  Player3  loyal      1  ['Support team proposal', 'Support one loyal p...   \n2  Player3  loyal      1  ['Support team proposal', 'Support one loyal p...   \n3  Player4  loyal      1  ['Question the leader why they selected a part...   \n3  Player4  loyal      1  ['Question the leader why they selected a part...   \n3  Player4  loyal      1  ['Question the leader why they selected a part...   \n4  Player5   evil      1  ['Pretend to be Merlin', 'Stay hidden in discu...   \n4  Player5   evil      1  ['Pretend to be Merlin', 'Stay hidden in discu...   \n\n  intent_selection intent_fol_think_1 intent_fol_speech_1 round_quest_result  \n0                0                  5                   5            failure  \n1                0                  1                   1            failure  \n2                1                  5                   5            failure  \n2                1                  5                   5            failure  \n2                1                  5                   4            failure  \n3                1                  5                   5            failure  \n3                1                  5                   5            failure  \n3                1                  5                   5            failure  \n4                1                  5                   1            failure  \n4                0                  5                   4            failure  ",
      "text/html": "<div>\n<style scoped>\n    .dataframe tbody tr th:only-of-type {\n        vertical-align: middle;\n    }\n\n    .dataframe tbody tr th {\n        vertical-align: top;\n    }\n\n    .dataframe thead th {\n        text-align: right;\n    }\n</style>\n<table border=\"1\" class=\"dataframe\">\n  <thead>\n    <tr style=\"text-align: right;\">\n      <th></th>\n      <th>player</th>\n      <th>side</th>\n      <th>round</th>\n      <th>intent</th>\n      <th>intent_selection</th>\n      <th>intent_fol_think_1</th>\n      <th>intent_fol_speech_1</th>\n      <th>round_quest_result</th>\n    </tr>\n  </thead>\n  <tbody>\n    <tr>\n      <th>0</th>\n      <td>Player1</td>\n      <td>loyal</td>\n      <td>1</td>\n      <td>['Strongly convince the team leader to choose ...</td>\n      <td>0</td>\n      <td>5</td>\n      <td>5</td>\n      <td>failure</td>\n    </tr>\n    <tr>\n      <th>1</th>\n      <td>Player2</td>\n      <td>evil</td>\n      <td>1</td>\n      <td>['counter the team proposal because you are go...</td>\n      <td>0</td>\n      <td>1</td>\n      <td>1</td>\n      <td>failure</td>\n    </tr>\n    <tr>\n      <th>2</th>\n      <td>Player3</td>\n      <td>loyal</td>\n      <td>1</td>\n      <td>['Support team proposal', 'Support one loyal p...</td>\n      <td>1</td>\n      <td>5</td>\n      <td>5</td>\n      <td>failure</td>\n    </tr>\n    <tr>\n      <th>2</th>\n      <td>Player3</td>\n      <td>loyal</td>\n      <td>1</td>\n      <td>['Support team proposal', 'Support one loyal p...</td>\n      <td>1</td>\n      <td>5</td>\n      <td>5</td>\n      <td>failure</td>\n    </tr>\n    <tr>\n      <th>2</th>\n      <td>Player3</td>\n      <td>loyal</td>\n      <td>1</td>\n      <td>['Support team proposal', 'Support one loyal p...</td>\n      <td>1</td>\n      <td>5</td>\n      <td>4</td>\n      <td>failure</td>\n    </tr>\n    <tr>\n      <th>3</th>\n      <td>Player4</td>\n      <td>loyal</td>\n      <td>1</td>\n      <td>['Question the leader why they selected a part...</td>\n      <td>1</td>\n      <td>5</td>\n      <td>5</td>\n      <td>failure</td>\n    </tr>\n    <tr>\n      <th>3</th>\n      <td>Player4</td>\n      <td>loyal</td>\n      <td>1</td>\n      <td>['Question the leader why they selected a part...</td>\n      <td>1</td>\n      <td>5</td>\n      <td>5</td>\n      <td>failure</td>\n    </tr>\n    <tr>\n      <th>3</th>\n      <td>Player4</td>\n      <td>loyal</td>\n      <td>1</td>\n      <td>['Question the leader why they selected a part...</td>\n      <td>1</td>\n      <td>5</td>\n      <td>5</td>\n      <td>failure</td>\n    </tr>\n    <tr>\n      <th>4</th>\n      <td>Player5</td>\n      <td>evil</td>\n      <td>1</td>\n      <td>['Pretend to be Merlin', 'Stay hidden in discu...</td>\n      <td>1</td>\n      <td>5</td>\n      <td>1</td>\n      <td>failure</td>\n    </tr>\n    <tr>\n      <th>4</th>\n      <td>Player5</td>\n      <td>evil</td>\n      <td>1</td>\n      <td>['Pretend to be Merlin', 'Stay hidden in discu...</td>\n      <td>0</td>\n      <td>5</td>\n      <td>4</td>\n      <td>failure</td>\n    </tr>\n  </tbody>\n</table>\n</div>"
     },
     "execution_count": 315,
     "metadata": {},
     "output_type": "execute_result"
    }
   ],
   "source": [
    "eval_df_form_cnt_denorm = eval_df_form_cnt.explode(['intent_selection', 'intent_fol_think_1', 'intent_fol_speech_1'])\n",
    "eval_df_form_cnt_denorm.head(10)"
   ],
   "metadata": {
    "collapsed": false,
    "ExecuteTime": {
     "end_time": "2024-03-07T08:54:12.136064Z",
     "start_time": "2024-03-07T08:54:12.128975Z"
    }
   },
   "id": "f2a497f455db5373"
  },
  {
   "cell_type": "code",
   "execution_count": 316,
   "outputs": [],
   "source": [
    "eval_df_form_cnt_denorm['intent_selection'] = eval_df_form_cnt_denorm['intent_selection'].astype(int)\n",
    "eval_df_form_cnt_denorm['intent_fol_think_1'] = eval_df_form_cnt_denorm['intent_fol_think_1'].astype(int)\n",
    "eval_df_form_cnt_denorm['intent_fol_speech_1'] = eval_df_form_cnt_denorm['intent_fol_speech_1'].astype(int)"
   ],
   "metadata": {
    "collapsed": false,
    "ExecuteTime": {
     "end_time": "2024-03-07T08:54:12.312213Z",
     "start_time": "2024-03-07T08:54:12.298918Z"
    }
   },
   "id": "961c89496791eb80"
  },
  {
   "cell_type": "code",
   "execution_count": 317,
   "outputs": [
    {
     "data": {
      "text/plain": "    player   side  round                                             intent  \\\n0  Player1  loyal      1  ['Strongly convince the team leader to choose ...   \n1  Player2   evil      1  ['counter the team proposal because you are go...   \n2  Player3  loyal      1  ['Support team proposal', 'Support one loyal p...   \n3  Player4  loyal      1  ['Question the leader why they selected a part...   \n4  Player5   evil      1  ['Pretend to be Merlin', 'Stay hidden in discu...   \n\n                                          intent_mod intent_selection  \\\n0                                                NaN              [0]   \n1                                                NaN              [0]   \n2                                                NaN        [1, 1, 1]   \n3  ['Stay hidden in discussions and act like a Lo...        [1, 1, 1]   \n4                                                NaN        [1, 0, 1]   \n\n  intent_selection_mod intent_fol_think_2 intent_fol_speech_2  \\\n0                [nan]                [5]                 [5]   \n1                [nan]                [1]                 [1]   \n2                [nan]          [5, 5, 5]           [5, 5, 5]   \n3                  [1]                [5]                 [5]   \n4                [nan]          [5, 5, 5]           [1, 4, 5]   \n\n  round_quest_result  \n0            failure  \n1            failure  \n2            failure  \n3            failure  \n4            failure  ",
      "text/html": "<div>\n<style scoped>\n    .dataframe tbody tr th:only-of-type {\n        vertical-align: middle;\n    }\n\n    .dataframe tbody tr th {\n        vertical-align: top;\n    }\n\n    .dataframe thead th {\n        text-align: right;\n    }\n</style>\n<table border=\"1\" class=\"dataframe\">\n  <thead>\n    <tr style=\"text-align: right;\">\n      <th></th>\n      <th>player</th>\n      <th>side</th>\n      <th>round</th>\n      <th>intent</th>\n      <th>intent_mod</th>\n      <th>intent_selection</th>\n      <th>intent_selection_mod</th>\n      <th>intent_fol_think_2</th>\n      <th>intent_fol_speech_2</th>\n      <th>round_quest_result</th>\n    </tr>\n  </thead>\n  <tbody>\n    <tr>\n      <th>0</th>\n      <td>Player1</td>\n      <td>loyal</td>\n      <td>1</td>\n      <td>['Strongly convince the team leader to choose ...</td>\n      <td>NaN</td>\n      <td>[0]</td>\n      <td>[nan]</td>\n      <td>[5]</td>\n      <td>[5]</td>\n      <td>failure</td>\n    </tr>\n    <tr>\n      <th>1</th>\n      <td>Player2</td>\n      <td>evil</td>\n      <td>1</td>\n      <td>['counter the team proposal because you are go...</td>\n      <td>NaN</td>\n      <td>[0]</td>\n      <td>[nan]</td>\n      <td>[1]</td>\n      <td>[1]</td>\n      <td>failure</td>\n    </tr>\n    <tr>\n      <th>2</th>\n      <td>Player3</td>\n      <td>loyal</td>\n      <td>1</td>\n      <td>['Support team proposal', 'Support one loyal p...</td>\n      <td>NaN</td>\n      <td>[1, 1, 1]</td>\n      <td>[nan]</td>\n      <td>[5, 5, 5]</td>\n      <td>[5, 5, 5]</td>\n      <td>failure</td>\n    </tr>\n    <tr>\n      <th>3</th>\n      <td>Player4</td>\n      <td>loyal</td>\n      <td>1</td>\n      <td>['Question the leader why they selected a part...</td>\n      <td>['Stay hidden in discussions and act like a Lo...</td>\n      <td>[1, 1, 1]</td>\n      <td>[1]</td>\n      <td>[5]</td>\n      <td>[5]</td>\n      <td>failure</td>\n    </tr>\n    <tr>\n      <th>4</th>\n      <td>Player5</td>\n      <td>evil</td>\n      <td>1</td>\n      <td>['Pretend to be Merlin', 'Stay hidden in discu...</td>\n      <td>NaN</td>\n      <td>[1, 0, 1]</td>\n      <td>[nan]</td>\n      <td>[5, 5, 5]</td>\n      <td>[1, 4, 5]</td>\n      <td>failure</td>\n    </tr>\n  </tbody>\n</table>\n</div>"
     },
     "execution_count": 317,
     "metadata": {},
     "output_type": "execute_result"
    }
   ],
   "source": [
    "eval_df_ref_cnt.head()"
   ],
   "metadata": {
    "collapsed": false,
    "ExecuteTime": {
     "end_time": "2024-03-07T08:54:12.541047Z",
     "start_time": "2024-03-07T08:54:12.522235Z"
    }
   },
   "id": "e59045898ac2ea9d"
  },
  {
   "cell_type": "markdown",
   "source": [
    "#### Refinement Contemplation"
   ],
   "metadata": {
    "collapsed": false
   },
   "id": "c414c6a305e0a94e"
  },
  {
   "cell_type": "code",
   "execution_count": 318,
   "outputs": [],
   "source": [
    "def update_intent_selection_vals(intent_mod, intent_sel, intent_sel_mod):\n",
    "    if intent_mod is not np.NaN:\n",
    "        return intent_sel_mod\n",
    "    return intent_sel"
   ],
   "metadata": {
    "collapsed": false,
    "ExecuteTime": {
     "end_time": "2024-03-07T08:54:12.970856Z",
     "start_time": "2024-03-07T08:54:12.963431Z"
    }
   },
   "id": "36e6887132367f9a"
  },
  {
   "cell_type": "code",
   "execution_count": 319,
   "outputs": [
    {
     "data": {
      "text/plain": "    player   side  round                                             intent  \\\n0  Player1  loyal      1  ['Strongly convince the team leader to choose ...   \n1  Player2   evil      1  ['counter the team proposal because you are go...   \n2  Player3  loyal      1  ['Support team proposal', 'Support one loyal p...   \n3  Player4  loyal      1  ['Question the leader why they selected a part...   \n4  Player5   evil      1  ['Pretend to be Merlin', 'Stay hidden in discu...   \n\n                                          intent_mod intent_selection  \\\n0                                                NaN              [0]   \n1                                                NaN              [0]   \n2                                                NaN        [1, 1, 1]   \n3  ['Stay hidden in discussions and act like a Lo...        [1, 1, 1]   \n4                                                NaN        [1, 0, 1]   \n\n  intent_selection_mod intent_fol_think_2 intent_fol_speech_2  \\\n0                [nan]                [5]                 [5]   \n1                [nan]                [1]                 [1]   \n2                [nan]          [5, 5, 5]           [5, 5, 5]   \n3                  [1]                [5]                 [5]   \n4                [nan]          [5, 5, 5]           [1, 4, 5]   \n\n  round_quest_result intent_selection_final  \n0            failure                    [0]  \n1            failure                    [0]  \n2            failure              [1, 1, 1]  \n3            failure                    [1]  \n4            failure              [1, 0, 1]  ",
      "text/html": "<div>\n<style scoped>\n    .dataframe tbody tr th:only-of-type {\n        vertical-align: middle;\n    }\n\n    .dataframe tbody tr th {\n        vertical-align: top;\n    }\n\n    .dataframe thead th {\n        text-align: right;\n    }\n</style>\n<table border=\"1\" class=\"dataframe\">\n  <thead>\n    <tr style=\"text-align: right;\">\n      <th></th>\n      <th>player</th>\n      <th>side</th>\n      <th>round</th>\n      <th>intent</th>\n      <th>intent_mod</th>\n      <th>intent_selection</th>\n      <th>intent_selection_mod</th>\n      <th>intent_fol_think_2</th>\n      <th>intent_fol_speech_2</th>\n      <th>round_quest_result</th>\n      <th>intent_selection_final</th>\n    </tr>\n  </thead>\n  <tbody>\n    <tr>\n      <th>0</th>\n      <td>Player1</td>\n      <td>loyal</td>\n      <td>1</td>\n      <td>['Strongly convince the team leader to choose ...</td>\n      <td>NaN</td>\n      <td>[0]</td>\n      <td>[nan]</td>\n      <td>[5]</td>\n      <td>[5]</td>\n      <td>failure</td>\n      <td>[0]</td>\n    </tr>\n    <tr>\n      <th>1</th>\n      <td>Player2</td>\n      <td>evil</td>\n      <td>1</td>\n      <td>['counter the team proposal because you are go...</td>\n      <td>NaN</td>\n      <td>[0]</td>\n      <td>[nan]</td>\n      <td>[1]</td>\n      <td>[1]</td>\n      <td>failure</td>\n      <td>[0]</td>\n    </tr>\n    <tr>\n      <th>2</th>\n      <td>Player3</td>\n      <td>loyal</td>\n      <td>1</td>\n      <td>['Support team proposal', 'Support one loyal p...</td>\n      <td>NaN</td>\n      <td>[1, 1, 1]</td>\n      <td>[nan]</td>\n      <td>[5, 5, 5]</td>\n      <td>[5, 5, 5]</td>\n      <td>failure</td>\n      <td>[1, 1, 1]</td>\n    </tr>\n    <tr>\n      <th>3</th>\n      <td>Player4</td>\n      <td>loyal</td>\n      <td>1</td>\n      <td>['Question the leader why they selected a part...</td>\n      <td>['Stay hidden in discussions and act like a Lo...</td>\n      <td>[1, 1, 1]</td>\n      <td>[1]</td>\n      <td>[5]</td>\n      <td>[5]</td>\n      <td>failure</td>\n      <td>[1]</td>\n    </tr>\n    <tr>\n      <th>4</th>\n      <td>Player5</td>\n      <td>evil</td>\n      <td>1</td>\n      <td>['Pretend to be Merlin', 'Stay hidden in discu...</td>\n      <td>NaN</td>\n      <td>[1, 0, 1]</td>\n      <td>[nan]</td>\n      <td>[5, 5, 5]</td>\n      <td>[1, 4, 5]</td>\n      <td>failure</td>\n      <td>[1, 0, 1]</td>\n    </tr>\n  </tbody>\n</table>\n</div>"
     },
     "execution_count": 319,
     "metadata": {},
     "output_type": "execute_result"
    }
   ],
   "source": [
    "eval_df_ref_cnt['intent_selection_final'] = eval_df_ref_cnt.apply(lambda row: update_intent_selection_vals(row.intent_mod, row.intent_selection, row.intent_selection_mod), axis=1)\n",
    "eval_df_ref_cnt.head()"
   ],
   "metadata": {
    "collapsed": false,
    "ExecuteTime": {
     "end_time": "2024-03-07T08:54:13.238324Z",
     "start_time": "2024-03-07T08:54:13.224318Z"
    }
   },
   "id": "f1221a52f7e43f7e"
  },
  {
   "cell_type": "code",
   "execution_count": 320,
   "outputs": [
    {
     "data": {
      "text/plain": "    player   side  round                                             intent  \\\n0  Player1  loyal      1  ['Strongly convince the team leader to choose ...   \n1  Player2   evil      1  ['counter the team proposal because you are go...   \n2  Player3  loyal      1  ['Support team proposal', 'Support one loyal p...   \n3  Player4  loyal      1  ['Question the leader why they selected a part...   \n4  Player5   evil      1  ['Pretend to be Merlin', 'Stay hidden in discu...   \n\n                                          intent_mod intent_fol_think_2  \\\n0                                                NaN                [5]   \n1                                                NaN                [1]   \n2                                                NaN          [5, 5, 5]   \n3  ['Stay hidden in discussions and act like a Lo...                [5]   \n4                                                NaN          [5, 5, 5]   \n\n  intent_fol_speech_2 round_quest_result intent_selection_final  \n0                 [5]            failure                    [0]  \n1                 [1]            failure                    [0]  \n2           [5, 5, 5]            failure              [1, 1, 1]  \n3                 [5]            failure                    [1]  \n4           [1, 4, 5]            failure              [1, 0, 1]  ",
      "text/html": "<div>\n<style scoped>\n    .dataframe tbody tr th:only-of-type {\n        vertical-align: middle;\n    }\n\n    .dataframe tbody tr th {\n        vertical-align: top;\n    }\n\n    .dataframe thead th {\n        text-align: right;\n    }\n</style>\n<table border=\"1\" class=\"dataframe\">\n  <thead>\n    <tr style=\"text-align: right;\">\n      <th></th>\n      <th>player</th>\n      <th>side</th>\n      <th>round</th>\n      <th>intent</th>\n      <th>intent_mod</th>\n      <th>intent_fol_think_2</th>\n      <th>intent_fol_speech_2</th>\n      <th>round_quest_result</th>\n      <th>intent_selection_final</th>\n    </tr>\n  </thead>\n  <tbody>\n    <tr>\n      <th>0</th>\n      <td>Player1</td>\n      <td>loyal</td>\n      <td>1</td>\n      <td>['Strongly convince the team leader to choose ...</td>\n      <td>NaN</td>\n      <td>[5]</td>\n      <td>[5]</td>\n      <td>failure</td>\n      <td>[0]</td>\n    </tr>\n    <tr>\n      <th>1</th>\n      <td>Player2</td>\n      <td>evil</td>\n      <td>1</td>\n      <td>['counter the team proposal because you are go...</td>\n      <td>NaN</td>\n      <td>[1]</td>\n      <td>[1]</td>\n      <td>failure</td>\n      <td>[0]</td>\n    </tr>\n    <tr>\n      <th>2</th>\n      <td>Player3</td>\n      <td>loyal</td>\n      <td>1</td>\n      <td>['Support team proposal', 'Support one loyal p...</td>\n      <td>NaN</td>\n      <td>[5, 5, 5]</td>\n      <td>[5, 5, 5]</td>\n      <td>failure</td>\n      <td>[1, 1, 1]</td>\n    </tr>\n    <tr>\n      <th>3</th>\n      <td>Player4</td>\n      <td>loyal</td>\n      <td>1</td>\n      <td>['Question the leader why they selected a part...</td>\n      <td>['Stay hidden in discussions and act like a Lo...</td>\n      <td>[5]</td>\n      <td>[5]</td>\n      <td>failure</td>\n      <td>[1]</td>\n    </tr>\n    <tr>\n      <th>4</th>\n      <td>Player5</td>\n      <td>evil</td>\n      <td>1</td>\n      <td>['Pretend to be Merlin', 'Stay hidden in discu...</td>\n      <td>NaN</td>\n      <td>[5, 5, 5]</td>\n      <td>[1, 4, 5]</td>\n      <td>failure</td>\n      <td>[1, 0, 1]</td>\n    </tr>\n  </tbody>\n</table>\n</div>"
     },
     "execution_count": 320,
     "metadata": {},
     "output_type": "execute_result"
    }
   ],
   "source": [
    "eval_df_ref_cnt.drop(['intent_selection','intent_selection_mod'], axis=1, inplace=True)\n",
    "eval_df_ref_cnt.head()"
   ],
   "metadata": {
    "collapsed": false,
    "ExecuteTime": {
     "end_time": "2024-03-07T08:54:13.588869Z",
     "start_time": "2024-03-07T08:54:13.577985Z"
    }
   },
   "id": "7ef133a2a0521c08"
  },
  {
   "cell_type": "code",
   "execution_count": 321,
   "outputs": [
    {
     "data": {
      "text/plain": "    player   side  round                                             intent  \\\n0  Player1  loyal      1  ['Strongly convince the team leader to choose ...   \n1  Player2   evil      1  ['counter the team proposal because you are go...   \n2  Player3  loyal      1  ['Support team proposal', 'Support one loyal p...   \n2  Player3  loyal      1  ['Support team proposal', 'Support one loyal p...   \n2  Player3  loyal      1  ['Support team proposal', 'Support one loyal p...   \n3  Player4  loyal      1  ['Question the leader why they selected a part...   \n4  Player5   evil      1  ['Pretend to be Merlin', 'Stay hidden in discu...   \n4  Player5   evil      1  ['Pretend to be Merlin', 'Stay hidden in discu...   \n4  Player5   evil      1  ['Pretend to be Merlin', 'Stay hidden in discu...   \n5  Player2   evil      2  ['Stay hidden in discussions and act like a Lo...   \n\n                                          intent_mod intent_fol_think_2  \\\n0                                                NaN                  5   \n1                                                NaN                  1   \n2                                                NaN                  5   \n2                                                NaN                  5   \n2                                                NaN                  5   \n3  ['Stay hidden in discussions and act like a Lo...                  5   \n4                                                NaN                  5   \n4                                                NaN                  5   \n4                                                NaN                  5   \n5                                                NaN                  5   \n\n  intent_fol_speech_2 round_quest_result intent_selection_final  \n0                   5            failure                      0  \n1                   1            failure                      0  \n2                   5            failure                      1  \n2                   5            failure                      1  \n2                   5            failure                      1  \n3                   5            failure                      1  \n4                   1            failure                      1  \n4                   4            failure                      0  \n4                   5            failure                      1  \n5                   1            failure                      1  ",
      "text/html": "<div>\n<style scoped>\n    .dataframe tbody tr th:only-of-type {\n        vertical-align: middle;\n    }\n\n    .dataframe tbody tr th {\n        vertical-align: top;\n    }\n\n    .dataframe thead th {\n        text-align: right;\n    }\n</style>\n<table border=\"1\" class=\"dataframe\">\n  <thead>\n    <tr style=\"text-align: right;\">\n      <th></th>\n      <th>player</th>\n      <th>side</th>\n      <th>round</th>\n      <th>intent</th>\n      <th>intent_mod</th>\n      <th>intent_fol_think_2</th>\n      <th>intent_fol_speech_2</th>\n      <th>round_quest_result</th>\n      <th>intent_selection_final</th>\n    </tr>\n  </thead>\n  <tbody>\n    <tr>\n      <th>0</th>\n      <td>Player1</td>\n      <td>loyal</td>\n      <td>1</td>\n      <td>['Strongly convince the team leader to choose ...</td>\n      <td>NaN</td>\n      <td>5</td>\n      <td>5</td>\n      <td>failure</td>\n      <td>0</td>\n    </tr>\n    <tr>\n      <th>1</th>\n      <td>Player2</td>\n      <td>evil</td>\n      <td>1</td>\n      <td>['counter the team proposal because you are go...</td>\n      <td>NaN</td>\n      <td>1</td>\n      <td>1</td>\n      <td>failure</td>\n      <td>0</td>\n    </tr>\n    <tr>\n      <th>2</th>\n      <td>Player3</td>\n      <td>loyal</td>\n      <td>1</td>\n      <td>['Support team proposal', 'Support one loyal p...</td>\n      <td>NaN</td>\n      <td>5</td>\n      <td>5</td>\n      <td>failure</td>\n      <td>1</td>\n    </tr>\n    <tr>\n      <th>2</th>\n      <td>Player3</td>\n      <td>loyal</td>\n      <td>1</td>\n      <td>['Support team proposal', 'Support one loyal p...</td>\n      <td>NaN</td>\n      <td>5</td>\n      <td>5</td>\n      <td>failure</td>\n      <td>1</td>\n    </tr>\n    <tr>\n      <th>2</th>\n      <td>Player3</td>\n      <td>loyal</td>\n      <td>1</td>\n      <td>['Support team proposal', 'Support one loyal p...</td>\n      <td>NaN</td>\n      <td>5</td>\n      <td>5</td>\n      <td>failure</td>\n      <td>1</td>\n    </tr>\n    <tr>\n      <th>3</th>\n      <td>Player4</td>\n      <td>loyal</td>\n      <td>1</td>\n      <td>['Question the leader why they selected a part...</td>\n      <td>['Stay hidden in discussions and act like a Lo...</td>\n      <td>5</td>\n      <td>5</td>\n      <td>failure</td>\n      <td>1</td>\n    </tr>\n    <tr>\n      <th>4</th>\n      <td>Player5</td>\n      <td>evil</td>\n      <td>1</td>\n      <td>['Pretend to be Merlin', 'Stay hidden in discu...</td>\n      <td>NaN</td>\n      <td>5</td>\n      <td>1</td>\n      <td>failure</td>\n      <td>1</td>\n    </tr>\n    <tr>\n      <th>4</th>\n      <td>Player5</td>\n      <td>evil</td>\n      <td>1</td>\n      <td>['Pretend to be Merlin', 'Stay hidden in discu...</td>\n      <td>NaN</td>\n      <td>5</td>\n      <td>4</td>\n      <td>failure</td>\n      <td>0</td>\n    </tr>\n    <tr>\n      <th>4</th>\n      <td>Player5</td>\n      <td>evil</td>\n      <td>1</td>\n      <td>['Pretend to be Merlin', 'Stay hidden in discu...</td>\n      <td>NaN</td>\n      <td>5</td>\n      <td>5</td>\n      <td>failure</td>\n      <td>1</td>\n    </tr>\n    <tr>\n      <th>5</th>\n      <td>Player2</td>\n      <td>evil</td>\n      <td>2</td>\n      <td>['Stay hidden in discussions and act like a Lo...</td>\n      <td>NaN</td>\n      <td>5</td>\n      <td>1</td>\n      <td>failure</td>\n      <td>1</td>\n    </tr>\n  </tbody>\n</table>\n</div>"
     },
     "execution_count": 321,
     "metadata": {},
     "output_type": "execute_result"
    }
   ],
   "source": [
    "eval_df_ref_cnt_denorm = eval_df_ref_cnt.explode(['intent_selection_final', 'intent_fol_think_2', 'intent_fol_speech_2'])\n",
    "eval_df_ref_cnt_denorm.head(10)"
   ],
   "metadata": {
    "collapsed": false,
    "ExecuteTime": {
     "end_time": "2024-03-07T08:54:13.957581Z",
     "start_time": "2024-03-07T08:54:13.939046Z"
    }
   },
   "id": "75c589f2dfd20d22"
  },
  {
   "cell_type": "code",
   "execution_count": 322,
   "outputs": [],
   "source": [
    "eval_df_ref_cnt_denorm['intent_selection_final'] = eval_df_ref_cnt_denorm['intent_selection_final'].astype(int)\n",
    "eval_df_ref_cnt_denorm['intent_fol_think_2'] = eval_df_ref_cnt_denorm['intent_fol_think_2'].astype(int)\n",
    "eval_df_ref_cnt_denorm['intent_fol_speech_2'] = eval_df_ref_cnt_denorm['intent_fol_speech_2'].astype(int)"
   ],
   "metadata": {
    "collapsed": false,
    "ExecuteTime": {
     "end_time": "2024-03-07T08:54:14.333750Z",
     "start_time": "2024-03-07T08:54:14.308991Z"
    }
   },
   "id": "960d1722be072065"
  },
  {
   "cell_type": "markdown",
   "source": [
    "## Metrics"
   ],
   "metadata": {
    "collapsed": false
   },
   "id": "152b27615f5dd884"
  },
  {
   "cell_type": "markdown",
   "source": [
    "### Calculating stats"
   ],
   "metadata": {
    "collapsed": false
   },
   "id": "dd77849105194565"
  },
  {
   "cell_type": "code",
   "execution_count": 323,
   "outputs": [
    {
     "name": "stdout",
     "output_type": "stream",
     "text": [
      "    side  intent_selection  intent_fol_think_1  count\n",
      "0   evil                 0                   1      1\n",
      "1   evil                 0                   5      6\n",
      "2   evil                 1                   5     29\n",
      "3  loyal                 0                   1      2\n",
      "4  loyal                 0                   5     10\n",
      "5  loyal                 1                   5     41\n"
     ]
    }
   ],
   "source": [
    "metrics_form_cnt_think = eval_df_form_cnt_denorm.groupby(['side', 'intent_selection', 'intent_fol_think_1']).size().reset_index(name='count')\n",
    "print(metrics_form_cnt_think)"
   ],
   "metadata": {
    "collapsed": false,
    "ExecuteTime": {
     "end_time": "2024-03-07T08:54:15.568632Z",
     "start_time": "2024-03-07T08:54:15.565594Z"
    }
   },
   "id": "cf6d3c17ab8bd"
  },
  {
   "cell_type": "code",
   "execution_count": 324,
   "outputs": [],
   "source": [
    "metrics_form_cnt_think_rnd = eval_df_form_cnt_denorm.groupby(['side', 'intent_selection', 'intent_fol_think_1', 'round', 'round_quest_result']).size().reset_index(name='count')"
   ],
   "metadata": {
    "collapsed": false,
    "ExecuteTime": {
     "end_time": "2024-03-07T08:54:15.788039Z",
     "start_time": "2024-03-07T08:54:15.777527Z"
    }
   },
   "id": "491ddc7664b66d46"
  },
  {
   "cell_type": "code",
   "execution_count": 325,
   "outputs": [
    {
     "name": "stdout",
     "output_type": "stream",
     "text": [
      "     side  intent_selection  intent_fol_speech_1  count\n",
      "0    evil                 0                    1      1\n",
      "1    evil                 0                    4      1\n",
      "2    evil                 0                    5      5\n",
      "3    evil                 1                    1      1\n",
      "4    evil                 1                    2      2\n",
      "5    evil                 1                    3      2\n",
      "6    evil                 1                    4      3\n",
      "7    evil                 1                    5     21\n",
      "8   loyal                 0                    4      1\n",
      "9   loyal                 0                    5     11\n",
      "10  loyal                 1                    3      7\n",
      "11  loyal                 1                    4      5\n",
      "12  loyal                 1                    5     29\n"
     ]
    }
   ],
   "source": [
    "metrics_form_cnt_speech = eval_df_form_cnt_denorm.groupby(['side', 'intent_selection', 'intent_fol_speech_1']).size().reset_index(name='count')\n",
    "print(metrics_form_cnt_speech)"
   ],
   "metadata": {
    "collapsed": false,
    "ExecuteTime": {
     "end_time": "2024-03-07T08:54:16.046113Z",
     "start_time": "2024-03-07T08:54:16.035926Z"
    }
   },
   "id": "3cb5ef02e083c59a"
  },
  {
   "cell_type": "code",
   "execution_count": 326,
   "outputs": [],
   "source": [
    "metrics_form_cnt_speech_rnd = eval_df_form_cnt_denorm.groupby(['side', 'intent_selection', 'intent_fol_speech_1', 'round', 'round_quest_result']).size().reset_index(name='count')"
   ],
   "metadata": {
    "collapsed": false,
    "ExecuteTime": {
     "end_time": "2024-03-07T08:54:16.431123Z",
     "start_time": "2024-03-07T08:54:16.419897Z"
    }
   },
   "id": "b3a35d0a0ce492af"
  },
  {
   "cell_type": "code",
   "execution_count": 327,
   "outputs": [
    {
     "name": "stdout",
     "output_type": "stream",
     "text": [
      "    side  intent_selection_final  intent_fol_think_2  count\n",
      "0   evil                       0                   1      1\n",
      "1   evil                       0                   5      5\n",
      "2   evil                       1                   1      4\n",
      "3   evil                       1                   3      1\n",
      "4   evil                       1                   5     24\n",
      "5  loyal                       0                   1      2\n",
      "6  loyal                       0                   5     10\n",
      "7  loyal                       1                   1      3\n",
      "8  loyal                       1                   5     35\n"
     ]
    }
   ],
   "source": [
    "metrics_ref_cnt_think = eval_df_ref_cnt_denorm.groupby(['side', 'intent_selection_final', 'intent_fol_think_2']).size().reset_index(name='count')\n",
    "print(metrics_ref_cnt_think)"
   ],
   "metadata": {
    "collapsed": false,
    "ExecuteTime": {
     "end_time": "2024-03-07T08:54:16.683085Z",
     "start_time": "2024-03-07T08:54:16.671028Z"
    }
   },
   "id": "ae0f887b6ba4843f"
  },
  {
   "cell_type": "code",
   "execution_count": 328,
   "outputs": [],
   "source": [
    "metrics_ref_cnt_think_rnd = eval_df_ref_cnt_denorm.groupby(['side', 'intent_selection_final', 'intent_fol_think_2', 'round', 'round_quest_result']).size().reset_index(name='count')"
   ],
   "metadata": {
    "collapsed": false,
    "ExecuteTime": {
     "end_time": "2024-03-07T08:54:16.893810Z",
     "start_time": "2024-03-07T08:54:16.887518Z"
    }
   },
   "id": "384895f257787cfc"
  },
  {
   "cell_type": "code",
   "execution_count": 329,
   "outputs": [
    {
     "name": "stdout",
     "output_type": "stream",
     "text": [
      "     side  intent_selection_final  intent_fol_speech_2  count\n",
      "0    evil                       0                    1      1\n",
      "1    evil                       0                    4      2\n",
      "2    evil                       0                    5      3\n",
      "3    evil                       1                    1     10\n",
      "4    evil                       1                    3      2\n",
      "5    evil                       1                    4      2\n",
      "6    evil                       1                    5     15\n",
      "7   loyal                       0                    4      1\n",
      "8   loyal                       0                    5     11\n",
      "9   loyal                       1                    1      3\n",
      "10  loyal                       1                    3      9\n",
      "11  loyal                       1                    4      2\n",
      "12  loyal                       1                    5     24\n"
     ]
    }
   ],
   "source": [
    "metrics_ref_cnt_speech = eval_df_ref_cnt_denorm.groupby(['side', 'intent_selection_final', 'intent_fol_speech_2']).size().reset_index(name='count')\n",
    "print(metrics_ref_cnt_speech)"
   ],
   "metadata": {
    "collapsed": false,
    "ExecuteTime": {
     "end_time": "2024-03-07T08:54:17.129542Z",
     "start_time": "2024-03-07T08:54:17.118191Z"
    }
   },
   "id": "dece19e1fa176c20"
  },
  {
   "cell_type": "code",
   "execution_count": 330,
   "outputs": [],
   "source": [
    "metrics_ref_cnt_speech_rnd = eval_df_ref_cnt_denorm.groupby(['side', 'intent_selection_final', 'intent_fol_speech_2', 'round', 'round_quest_result']).size().reset_index(name='count')"
   ],
   "metadata": {
    "collapsed": false,
    "ExecuteTime": {
     "end_time": "2024-03-07T08:54:17.667155Z",
     "start_time": "2024-03-07T08:54:17.660960Z"
    }
   },
   "id": "2955b93f2f9378c9"
  },
  {
   "cell_type": "markdown",
   "source": [
    "## Final metrics calc"
   ],
   "metadata": {
    "collapsed": false
   },
   "id": "dd2c112698a2d2a5"
  },
  {
   "cell_type": "code",
   "execution_count": 331,
   "outputs": [],
   "source": [
    "metrics_form_cnt_think = metrics_form_cnt_think.rename(columns={'intent_fol_think_1': 'intent_fol_think'})\n",
    "metrics_ref_cnt_think = metrics_ref_cnt_think.rename(columns={'intent_fol_think_2': 'intent_fol_think', 'intent_selection_final': 'intent_selection'})\n",
    "metrics_form_cnt_speech = metrics_form_cnt_speech.rename(columns={'intent_fol_speech_1': 'intent_fol_speech'})\n",
    "metrics_ref_cnt_speech = metrics_ref_cnt_speech.rename(columns={'intent_fol_speech_2': 'intent_fol_speech', 'intent_selection_final': 'intent_selection'})"
   ],
   "metadata": {
    "collapsed": false,
    "ExecuteTime": {
     "end_time": "2024-03-07T08:54:18.338108Z",
     "start_time": "2024-03-07T08:54:18.332147Z"
    }
   },
   "id": "3060325e0d93e8d1"
  },
  {
   "cell_type": "code",
   "execution_count": 332,
   "outputs": [
    {
     "data": {
      "text/plain": "    side  intent_selection  intent_fol_think  count\n0   evil                 0                 1      1\n1   evil                 0                 5      6\n2   evil                 1                 5     29\n3  loyal                 0                 1      2\n4  loyal                 0                 5     10",
      "text/html": "<div>\n<style scoped>\n    .dataframe tbody tr th:only-of-type {\n        vertical-align: middle;\n    }\n\n    .dataframe tbody tr th {\n        vertical-align: top;\n    }\n\n    .dataframe thead th {\n        text-align: right;\n    }\n</style>\n<table border=\"1\" class=\"dataframe\">\n  <thead>\n    <tr style=\"text-align: right;\">\n      <th></th>\n      <th>side</th>\n      <th>intent_selection</th>\n      <th>intent_fol_think</th>\n      <th>count</th>\n    </tr>\n  </thead>\n  <tbody>\n    <tr>\n      <th>0</th>\n      <td>evil</td>\n      <td>0</td>\n      <td>1</td>\n      <td>1</td>\n    </tr>\n    <tr>\n      <th>1</th>\n      <td>evil</td>\n      <td>0</td>\n      <td>5</td>\n      <td>6</td>\n    </tr>\n    <tr>\n      <th>2</th>\n      <td>evil</td>\n      <td>1</td>\n      <td>5</td>\n      <td>29</td>\n    </tr>\n    <tr>\n      <th>3</th>\n      <td>loyal</td>\n      <td>0</td>\n      <td>1</td>\n      <td>2</td>\n    </tr>\n    <tr>\n      <th>4</th>\n      <td>loyal</td>\n      <td>0</td>\n      <td>5</td>\n      <td>10</td>\n    </tr>\n  </tbody>\n</table>\n</div>"
     },
     "execution_count": 332,
     "metadata": {},
     "output_type": "execute_result"
    }
   ],
   "source": [
    "metrics_form_cnt_think.head()"
   ],
   "metadata": {
    "collapsed": false,
    "ExecuteTime": {
     "end_time": "2024-03-07T08:54:18.669459Z",
     "start_time": "2024-03-07T08:54:18.656242Z"
    }
   },
   "id": "11a7c01d13faee8c"
  },
  {
   "cell_type": "code",
   "execution_count": 333,
   "outputs": [],
   "source": [
    "metrics_form_cnt_think_rnd = metrics_form_cnt_think_rnd.rename(columns={'intent_fol_think_1': 'intent_fol_think'})\n",
    "metrics_ref_cnt_think_rnd = metrics_ref_cnt_think_rnd.rename(columns={'intent_fol_think_2': 'intent_fol_think', 'intent_selection_final': 'intent_selection'})\n",
    "metrics_form_cnt_speech_rnd = metrics_form_cnt_speech_rnd.rename(columns={'intent_fol_speech_1': 'intent_fol_speech'})\n",
    "metrics_ref_cnt_speech_rnd = metrics_ref_cnt_speech_rnd.rename(columns={'intent_fol_speech_2': 'intent_fol_speech', 'intent_selection_final': 'intent_selection'})"
   ],
   "metadata": {
    "collapsed": false,
    "ExecuteTime": {
     "end_time": "2024-03-07T08:54:19.009561Z",
     "start_time": "2024-03-07T08:54:19.003516Z"
    }
   },
   "id": "c1e038a612ee58fc"
  },
  {
   "cell_type": "code",
   "execution_count": 334,
   "outputs": [
    {
     "data": {
      "text/plain": "    side  intent_selection  intent_fol_think  count\n0   evil                 0                 1      1\n1   evil                 0                 5      6\n2   evil                 1                 5     29\n3  loyal                 0                 1      2\n4  loyal                 0                 5     10",
      "text/html": "<div>\n<style scoped>\n    .dataframe tbody tr th:only-of-type {\n        vertical-align: middle;\n    }\n\n    .dataframe tbody tr th {\n        vertical-align: top;\n    }\n\n    .dataframe thead th {\n        text-align: right;\n    }\n</style>\n<table border=\"1\" class=\"dataframe\">\n  <thead>\n    <tr style=\"text-align: right;\">\n      <th></th>\n      <th>side</th>\n      <th>intent_selection</th>\n      <th>intent_fol_think</th>\n      <th>count</th>\n    </tr>\n  </thead>\n  <tbody>\n    <tr>\n      <th>0</th>\n      <td>evil</td>\n      <td>0</td>\n      <td>1</td>\n      <td>1</td>\n    </tr>\n    <tr>\n      <th>1</th>\n      <td>evil</td>\n      <td>0</td>\n      <td>5</td>\n      <td>6</td>\n    </tr>\n    <tr>\n      <th>2</th>\n      <td>evil</td>\n      <td>1</td>\n      <td>5</td>\n      <td>29</td>\n    </tr>\n    <tr>\n      <th>3</th>\n      <td>loyal</td>\n      <td>0</td>\n      <td>1</td>\n      <td>2</td>\n    </tr>\n    <tr>\n      <th>4</th>\n      <td>loyal</td>\n      <td>0</td>\n      <td>5</td>\n      <td>10</td>\n    </tr>\n  </tbody>\n</table>\n</div>"
     },
     "execution_count": 334,
     "metadata": {},
     "output_type": "execute_result"
    }
   ],
   "source": [
    "metrics_think = pd.concat([metrics_form_cnt_think, metrics_ref_cnt_think])\n",
    "metrics_think.head()"
   ],
   "metadata": {
    "collapsed": false,
    "ExecuteTime": {
     "end_time": "2024-03-07T08:54:19.400129Z",
     "start_time": "2024-03-07T08:54:19.382537Z"
    }
   },
   "id": "7a0791627bfea2c3"
  },
  {
   "cell_type": "code",
   "execution_count": 335,
   "outputs": [
    {
     "data": {
      "text/plain": "   side  intent_selection  intent_fol_think  round round_quest_result  count\n0  evil                 0                 1      1            failure      1\n1  evil                 0                 5      1            failure      1\n2  evil                 0                 5      2            failure      2\n3  evil                 0                 5      3            success      1\n4  evil                 0                 5      4            failure      2",
      "text/html": "<div>\n<style scoped>\n    .dataframe tbody tr th:only-of-type {\n        vertical-align: middle;\n    }\n\n    .dataframe tbody tr th {\n        vertical-align: top;\n    }\n\n    .dataframe thead th {\n        text-align: right;\n    }\n</style>\n<table border=\"1\" class=\"dataframe\">\n  <thead>\n    <tr style=\"text-align: right;\">\n      <th></th>\n      <th>side</th>\n      <th>intent_selection</th>\n      <th>intent_fol_think</th>\n      <th>round</th>\n      <th>round_quest_result</th>\n      <th>count</th>\n    </tr>\n  </thead>\n  <tbody>\n    <tr>\n      <th>0</th>\n      <td>evil</td>\n      <td>0</td>\n      <td>1</td>\n      <td>1</td>\n      <td>failure</td>\n      <td>1</td>\n    </tr>\n    <tr>\n      <th>1</th>\n      <td>evil</td>\n      <td>0</td>\n      <td>5</td>\n      <td>1</td>\n      <td>failure</td>\n      <td>1</td>\n    </tr>\n    <tr>\n      <th>2</th>\n      <td>evil</td>\n      <td>0</td>\n      <td>5</td>\n      <td>2</td>\n      <td>failure</td>\n      <td>2</td>\n    </tr>\n    <tr>\n      <th>3</th>\n      <td>evil</td>\n      <td>0</td>\n      <td>5</td>\n      <td>3</td>\n      <td>success</td>\n      <td>1</td>\n    </tr>\n    <tr>\n      <th>4</th>\n      <td>evil</td>\n      <td>0</td>\n      <td>5</td>\n      <td>4</td>\n      <td>failure</td>\n      <td>2</td>\n    </tr>\n  </tbody>\n</table>\n</div>"
     },
     "execution_count": 335,
     "metadata": {},
     "output_type": "execute_result"
    }
   ],
   "source": [
    "metrics_think_rnd = pd.concat([metrics_form_cnt_think_rnd, metrics_ref_cnt_think_rnd])\n",
    "metrics_think_rnd.head()"
   ],
   "metadata": {
    "collapsed": false,
    "ExecuteTime": {
     "end_time": "2024-03-07T08:54:19.817847Z",
     "start_time": "2024-03-07T08:54:19.804711Z"
    }
   },
   "id": "abfcb8a9ad49e5d8"
  },
  {
   "cell_type": "code",
   "execution_count": 336,
   "outputs": [
    {
     "data": {
      "text/plain": "   side  intent_selection  intent_fol_speech  count\n0  evil                 0                  1      1\n1  evil                 0                  4      1\n2  evil                 0                  5      5\n3  evil                 1                  1      1\n4  evil                 1                  2      2",
      "text/html": "<div>\n<style scoped>\n    .dataframe tbody tr th:only-of-type {\n        vertical-align: middle;\n    }\n\n    .dataframe tbody tr th {\n        vertical-align: top;\n    }\n\n    .dataframe thead th {\n        text-align: right;\n    }\n</style>\n<table border=\"1\" class=\"dataframe\">\n  <thead>\n    <tr style=\"text-align: right;\">\n      <th></th>\n      <th>side</th>\n      <th>intent_selection</th>\n      <th>intent_fol_speech</th>\n      <th>count</th>\n    </tr>\n  </thead>\n  <tbody>\n    <tr>\n      <th>0</th>\n      <td>evil</td>\n      <td>0</td>\n      <td>1</td>\n      <td>1</td>\n    </tr>\n    <tr>\n      <th>1</th>\n      <td>evil</td>\n      <td>0</td>\n      <td>4</td>\n      <td>1</td>\n    </tr>\n    <tr>\n      <th>2</th>\n      <td>evil</td>\n      <td>0</td>\n      <td>5</td>\n      <td>5</td>\n    </tr>\n    <tr>\n      <th>3</th>\n      <td>evil</td>\n      <td>1</td>\n      <td>1</td>\n      <td>1</td>\n    </tr>\n    <tr>\n      <th>4</th>\n      <td>evil</td>\n      <td>1</td>\n      <td>2</td>\n      <td>2</td>\n    </tr>\n  </tbody>\n</table>\n</div>"
     },
     "execution_count": 336,
     "metadata": {},
     "output_type": "execute_result"
    }
   ],
   "source": [
    "metrics_speech = pd.concat([metrics_form_cnt_speech, metrics_ref_cnt_speech])\n",
    "metrics_speech.head()"
   ],
   "metadata": {
    "collapsed": false,
    "ExecuteTime": {
     "end_time": "2024-03-07T08:54:20.168378Z",
     "start_time": "2024-03-07T08:54:20.155179Z"
    }
   },
   "id": "a7503425dcf4a335"
  },
  {
   "cell_type": "code",
   "execution_count": 337,
   "outputs": [
    {
     "data": {
      "text/plain": "     side  intent_selection  intent_fol_speech  round round_quest_result  \\\n0    evil                 0                  1      1            failure   \n1    evil                 0                  4      1            failure   \n2    evil                 0                  5      2            failure   \n3    evil                 0                  5      3            success   \n4    evil                 0                  5      4            failure   \n5    evil                 1                  1      1            failure   \n6    evil                 1                  2      3            success   \n7    evil                 1                  2      4            failure   \n8    evil                 1                  3      4            failure   \n9    evil                 1                  4      3            success   \n10   evil                 1                  5      1            failure   \n11   evil                 1                  5      2            failure   \n12   evil                 1                  5      3            success   \n13   evil                 1                  5      4            failure   \n14  loyal                 0                  4      3            success   \n15  loyal                 0                  5      1            failure   \n16  loyal                 0                  5      2            failure   \n17  loyal                 0                  5      3            success   \n18  loyal                 0                  5      4            failure   \n19  loyal                 1                  3      3            success   \n20  loyal                 1                  3      4            failure   \n21  loyal                 1                  4      1            failure   \n22  loyal                 1                  4      2            failure   \n23  loyal                 1                  4      3            success   \n24  loyal                 1                  4      4            failure   \n25  loyal                 1                  5      1            failure   \n26  loyal                 1                  5      2            failure   \n27  loyal                 1                  5      3            success   \n28  loyal                 1                  5      4            failure   \n0    evil                 0                  1      1            failure   \n1    evil                 0                  4      1            failure   \n2    evil                 0                  4      2            failure   \n3    evil                 0                  5      2            failure   \n4    evil                 0                  5      3            success   \n5    evil                 1                  1      1            failure   \n6    evil                 1                  1      2            failure   \n7    evil                 1                  1      3            success   \n8    evil                 1                  1      4            failure   \n9    evil                 1                  3      3            success   \n10   evil                 1                  3      4            failure   \n11   evil                 1                  4      3            success   \n12   evil                 1                  5      1            failure   \n13   evil                 1                  5      2            failure   \n14   evil                 1                  5      3            success   \n15   evil                 1                  5      4            failure   \n16  loyal                 0                  4      3            success   \n17  loyal                 0                  5      1            failure   \n18  loyal                 0                  5      2            failure   \n19  loyal                 0                  5      3            success   \n20  loyal                 0                  5      4            failure   \n21  loyal                 1                  1      2            failure   \n22  loyal                 1                  1      3            success   \n23  loyal                 1                  3      3            success   \n24  loyal                 1                  3      4            failure   \n25  loyal                 1                  4      4            failure   \n26  loyal                 1                  5      1            failure   \n27  loyal                 1                  5      2            failure   \n28  loyal                 1                  5      3            success   \n29  loyal                 1                  5      4            failure   \n\n    count  \n0       1  \n1       1  \n2       2  \n3       1  \n4       2  \n5       1  \n6       1  \n7       1  \n8       2  \n9       3  \n10      1  \n11     10  \n12      7  \n13      3  \n14      1  \n15      1  \n16      6  \n17      2  \n18      2  \n19      2  \n20      5  \n21      1  \n22      1  \n23      1  \n24      2  \n25      5  \n26      9  \n27      9  \n28      6  \n0       1  \n1       1  \n2       1  \n3       2  \n4       1  \n5       1  \n6       1  \n7       5  \n8       3  \n9       1  \n10      1  \n11      2  \n12      1  \n13      7  \n14      3  \n15      4  \n16      1  \n17      1  \n18      6  \n19      2  \n20      2  \n21      2  \n22      1  \n23      2  \n24      7  \n25      2  \n26      4  \n27      8  \n28      8  \n29      4  ",
      "text/html": "<div>\n<style scoped>\n    .dataframe tbody tr th:only-of-type {\n        vertical-align: middle;\n    }\n\n    .dataframe tbody tr th {\n        vertical-align: top;\n    }\n\n    .dataframe thead th {\n        text-align: right;\n    }\n</style>\n<table border=\"1\" class=\"dataframe\">\n  <thead>\n    <tr style=\"text-align: right;\">\n      <th></th>\n      <th>side</th>\n      <th>intent_selection</th>\n      <th>intent_fol_speech</th>\n      <th>round</th>\n      <th>round_quest_result</th>\n      <th>count</th>\n    </tr>\n  </thead>\n  <tbody>\n    <tr>\n      <th>0</th>\n      <td>evil</td>\n      <td>0</td>\n      <td>1</td>\n      <td>1</td>\n      <td>failure</td>\n      <td>1</td>\n    </tr>\n    <tr>\n      <th>1</th>\n      <td>evil</td>\n      <td>0</td>\n      <td>4</td>\n      <td>1</td>\n      <td>failure</td>\n      <td>1</td>\n    </tr>\n    <tr>\n      <th>2</th>\n      <td>evil</td>\n      <td>0</td>\n      <td>5</td>\n      <td>2</td>\n      <td>failure</td>\n      <td>2</td>\n    </tr>\n    <tr>\n      <th>3</th>\n      <td>evil</td>\n      <td>0</td>\n      <td>5</td>\n      <td>3</td>\n      <td>success</td>\n      <td>1</td>\n    </tr>\n    <tr>\n      <th>4</th>\n      <td>evil</td>\n      <td>0</td>\n      <td>5</td>\n      <td>4</td>\n      <td>failure</td>\n      <td>2</td>\n    </tr>\n    <tr>\n      <th>5</th>\n      <td>evil</td>\n      <td>1</td>\n      <td>1</td>\n      <td>1</td>\n      <td>failure</td>\n      <td>1</td>\n    </tr>\n    <tr>\n      <th>6</th>\n      <td>evil</td>\n      <td>1</td>\n      <td>2</td>\n      <td>3</td>\n      <td>success</td>\n      <td>1</td>\n    </tr>\n    <tr>\n      <th>7</th>\n      <td>evil</td>\n      <td>1</td>\n      <td>2</td>\n      <td>4</td>\n      <td>failure</td>\n      <td>1</td>\n    </tr>\n    <tr>\n      <th>8</th>\n      <td>evil</td>\n      <td>1</td>\n      <td>3</td>\n      <td>4</td>\n      <td>failure</td>\n      <td>2</td>\n    </tr>\n    <tr>\n      <th>9</th>\n      <td>evil</td>\n      <td>1</td>\n      <td>4</td>\n      <td>3</td>\n      <td>success</td>\n      <td>3</td>\n    </tr>\n    <tr>\n      <th>10</th>\n      <td>evil</td>\n      <td>1</td>\n      <td>5</td>\n      <td>1</td>\n      <td>failure</td>\n      <td>1</td>\n    </tr>\n    <tr>\n      <th>11</th>\n      <td>evil</td>\n      <td>1</td>\n      <td>5</td>\n      <td>2</td>\n      <td>failure</td>\n      <td>10</td>\n    </tr>\n    <tr>\n      <th>12</th>\n      <td>evil</td>\n      <td>1</td>\n      <td>5</td>\n      <td>3</td>\n      <td>success</td>\n      <td>7</td>\n    </tr>\n    <tr>\n      <th>13</th>\n      <td>evil</td>\n      <td>1</td>\n      <td>5</td>\n      <td>4</td>\n      <td>failure</td>\n      <td>3</td>\n    </tr>\n    <tr>\n      <th>14</th>\n      <td>loyal</td>\n      <td>0</td>\n      <td>4</td>\n      <td>3</td>\n      <td>success</td>\n      <td>1</td>\n    </tr>\n    <tr>\n      <th>15</th>\n      <td>loyal</td>\n      <td>0</td>\n      <td>5</td>\n      <td>1</td>\n      <td>failure</td>\n      <td>1</td>\n    </tr>\n    <tr>\n      <th>16</th>\n      <td>loyal</td>\n      <td>0</td>\n      <td>5</td>\n      <td>2</td>\n      <td>failure</td>\n      <td>6</td>\n    </tr>\n    <tr>\n      <th>17</th>\n      <td>loyal</td>\n      <td>0</td>\n      <td>5</td>\n      <td>3</td>\n      <td>success</td>\n      <td>2</td>\n    </tr>\n    <tr>\n      <th>18</th>\n      <td>loyal</td>\n      <td>0</td>\n      <td>5</td>\n      <td>4</td>\n      <td>failure</td>\n      <td>2</td>\n    </tr>\n    <tr>\n      <th>19</th>\n      <td>loyal</td>\n      <td>1</td>\n      <td>3</td>\n      <td>3</td>\n      <td>success</td>\n      <td>2</td>\n    </tr>\n    <tr>\n      <th>20</th>\n      <td>loyal</td>\n      <td>1</td>\n      <td>3</td>\n      <td>4</td>\n      <td>failure</td>\n      <td>5</td>\n    </tr>\n    <tr>\n      <th>21</th>\n      <td>loyal</td>\n      <td>1</td>\n      <td>4</td>\n      <td>1</td>\n      <td>failure</td>\n      <td>1</td>\n    </tr>\n    <tr>\n      <th>22</th>\n      <td>loyal</td>\n      <td>1</td>\n      <td>4</td>\n      <td>2</td>\n      <td>failure</td>\n      <td>1</td>\n    </tr>\n    <tr>\n      <th>23</th>\n      <td>loyal</td>\n      <td>1</td>\n      <td>4</td>\n      <td>3</td>\n      <td>success</td>\n      <td>1</td>\n    </tr>\n    <tr>\n      <th>24</th>\n      <td>loyal</td>\n      <td>1</td>\n      <td>4</td>\n      <td>4</td>\n      <td>failure</td>\n      <td>2</td>\n    </tr>\n    <tr>\n      <th>25</th>\n      <td>loyal</td>\n      <td>1</td>\n      <td>5</td>\n      <td>1</td>\n      <td>failure</td>\n      <td>5</td>\n    </tr>\n    <tr>\n      <th>26</th>\n      <td>loyal</td>\n      <td>1</td>\n      <td>5</td>\n      <td>2</td>\n      <td>failure</td>\n      <td>9</td>\n    </tr>\n    <tr>\n      <th>27</th>\n      <td>loyal</td>\n      <td>1</td>\n      <td>5</td>\n      <td>3</td>\n      <td>success</td>\n      <td>9</td>\n    </tr>\n    <tr>\n      <th>28</th>\n      <td>loyal</td>\n      <td>1</td>\n      <td>5</td>\n      <td>4</td>\n      <td>failure</td>\n      <td>6</td>\n    </tr>\n    <tr>\n      <th>0</th>\n      <td>evil</td>\n      <td>0</td>\n      <td>1</td>\n      <td>1</td>\n      <td>failure</td>\n      <td>1</td>\n    </tr>\n    <tr>\n      <th>1</th>\n      <td>evil</td>\n      <td>0</td>\n      <td>4</td>\n      <td>1</td>\n      <td>failure</td>\n      <td>1</td>\n    </tr>\n    <tr>\n      <th>2</th>\n      <td>evil</td>\n      <td>0</td>\n      <td>4</td>\n      <td>2</td>\n      <td>failure</td>\n      <td>1</td>\n    </tr>\n    <tr>\n      <th>3</th>\n      <td>evil</td>\n      <td>0</td>\n      <td>5</td>\n      <td>2</td>\n      <td>failure</td>\n      <td>2</td>\n    </tr>\n    <tr>\n      <th>4</th>\n      <td>evil</td>\n      <td>0</td>\n      <td>5</td>\n      <td>3</td>\n      <td>success</td>\n      <td>1</td>\n    </tr>\n    <tr>\n      <th>5</th>\n      <td>evil</td>\n      <td>1</td>\n      <td>1</td>\n      <td>1</td>\n      <td>failure</td>\n      <td>1</td>\n    </tr>\n    <tr>\n      <th>6</th>\n      <td>evil</td>\n      <td>1</td>\n      <td>1</td>\n      <td>2</td>\n      <td>failure</td>\n      <td>1</td>\n    </tr>\n    <tr>\n      <th>7</th>\n      <td>evil</td>\n      <td>1</td>\n      <td>1</td>\n      <td>3</td>\n      <td>success</td>\n      <td>5</td>\n    </tr>\n    <tr>\n      <th>8</th>\n      <td>evil</td>\n      <td>1</td>\n      <td>1</td>\n      <td>4</td>\n      <td>failure</td>\n      <td>3</td>\n    </tr>\n    <tr>\n      <th>9</th>\n      <td>evil</td>\n      <td>1</td>\n      <td>3</td>\n      <td>3</td>\n      <td>success</td>\n      <td>1</td>\n    </tr>\n    <tr>\n      <th>10</th>\n      <td>evil</td>\n      <td>1</td>\n      <td>3</td>\n      <td>4</td>\n      <td>failure</td>\n      <td>1</td>\n    </tr>\n    <tr>\n      <th>11</th>\n      <td>evil</td>\n      <td>1</td>\n      <td>4</td>\n      <td>3</td>\n      <td>success</td>\n      <td>2</td>\n    </tr>\n    <tr>\n      <th>12</th>\n      <td>evil</td>\n      <td>1</td>\n      <td>5</td>\n      <td>1</td>\n      <td>failure</td>\n      <td>1</td>\n    </tr>\n    <tr>\n      <th>13</th>\n      <td>evil</td>\n      <td>1</td>\n      <td>5</td>\n      <td>2</td>\n      <td>failure</td>\n      <td>7</td>\n    </tr>\n    <tr>\n      <th>14</th>\n      <td>evil</td>\n      <td>1</td>\n      <td>5</td>\n      <td>3</td>\n      <td>success</td>\n      <td>3</td>\n    </tr>\n    <tr>\n      <th>15</th>\n      <td>evil</td>\n      <td>1</td>\n      <td>5</td>\n      <td>4</td>\n      <td>failure</td>\n      <td>4</td>\n    </tr>\n    <tr>\n      <th>16</th>\n      <td>loyal</td>\n      <td>0</td>\n      <td>4</td>\n      <td>3</td>\n      <td>success</td>\n      <td>1</td>\n    </tr>\n    <tr>\n      <th>17</th>\n      <td>loyal</td>\n      <td>0</td>\n      <td>5</td>\n      <td>1</td>\n      <td>failure</td>\n      <td>1</td>\n    </tr>\n    <tr>\n      <th>18</th>\n      <td>loyal</td>\n      <td>0</td>\n      <td>5</td>\n      <td>2</td>\n      <td>failure</td>\n      <td>6</td>\n    </tr>\n    <tr>\n      <th>19</th>\n      <td>loyal</td>\n      <td>0</td>\n      <td>5</td>\n      <td>3</td>\n      <td>success</td>\n      <td>2</td>\n    </tr>\n    <tr>\n      <th>20</th>\n      <td>loyal</td>\n      <td>0</td>\n      <td>5</td>\n      <td>4</td>\n      <td>failure</td>\n      <td>2</td>\n    </tr>\n    <tr>\n      <th>21</th>\n      <td>loyal</td>\n      <td>1</td>\n      <td>1</td>\n      <td>2</td>\n      <td>failure</td>\n      <td>2</td>\n    </tr>\n    <tr>\n      <th>22</th>\n      <td>loyal</td>\n      <td>1</td>\n      <td>1</td>\n      <td>3</td>\n      <td>success</td>\n      <td>1</td>\n    </tr>\n    <tr>\n      <th>23</th>\n      <td>loyal</td>\n      <td>1</td>\n      <td>3</td>\n      <td>3</td>\n      <td>success</td>\n      <td>2</td>\n    </tr>\n    <tr>\n      <th>24</th>\n      <td>loyal</td>\n      <td>1</td>\n      <td>3</td>\n      <td>4</td>\n      <td>failure</td>\n      <td>7</td>\n    </tr>\n    <tr>\n      <th>25</th>\n      <td>loyal</td>\n      <td>1</td>\n      <td>4</td>\n      <td>4</td>\n      <td>failure</td>\n      <td>2</td>\n    </tr>\n    <tr>\n      <th>26</th>\n      <td>loyal</td>\n      <td>1</td>\n      <td>5</td>\n      <td>1</td>\n      <td>failure</td>\n      <td>4</td>\n    </tr>\n    <tr>\n      <th>27</th>\n      <td>loyal</td>\n      <td>1</td>\n      <td>5</td>\n      <td>2</td>\n      <td>failure</td>\n      <td>8</td>\n    </tr>\n    <tr>\n      <th>28</th>\n      <td>loyal</td>\n      <td>1</td>\n      <td>5</td>\n      <td>3</td>\n      <td>success</td>\n      <td>8</td>\n    </tr>\n    <tr>\n      <th>29</th>\n      <td>loyal</td>\n      <td>1</td>\n      <td>5</td>\n      <td>4</td>\n      <td>failure</td>\n      <td>4</td>\n    </tr>\n  </tbody>\n</table>\n</div>"
     },
     "execution_count": 337,
     "metadata": {},
     "output_type": "execute_result"
    }
   ],
   "source": [
    "metrics_speech_rnd = pd.concat([metrics_form_cnt_speech_rnd, metrics_ref_cnt_speech_rnd])\n",
    "metrics_speech_rnd"
   ],
   "metadata": {
    "collapsed": false,
    "ExecuteTime": {
     "end_time": "2024-03-07T08:54:20.538901Z",
     "start_time": "2024-03-07T08:54:20.522951Z"
    }
   },
   "id": "60bbdaf559fcec00"
  },
  {
   "cell_type": "code",
   "execution_count": 338,
   "outputs": [
    {
     "data": {
      "text/plain": "   side  intent_selection  intent_fol  round round_quest_result  count\n0  evil                 0           1      1            failure      1\n1  evil                 0           5      1            failure      1\n2  evil                 0           5      2            failure      2\n3  evil                 0           5      3            success      1\n4  evil                 0           5      4            failure      2",
      "text/html": "<div>\n<style scoped>\n    .dataframe tbody tr th:only-of-type {\n        vertical-align: middle;\n    }\n\n    .dataframe tbody tr th {\n        vertical-align: top;\n    }\n\n    .dataframe thead th {\n        text-align: right;\n    }\n</style>\n<table border=\"1\" class=\"dataframe\">\n  <thead>\n    <tr style=\"text-align: right;\">\n      <th></th>\n      <th>side</th>\n      <th>intent_selection</th>\n      <th>intent_fol</th>\n      <th>round</th>\n      <th>round_quest_result</th>\n      <th>count</th>\n    </tr>\n  </thead>\n  <tbody>\n    <tr>\n      <th>0</th>\n      <td>evil</td>\n      <td>0</td>\n      <td>1</td>\n      <td>1</td>\n      <td>failure</td>\n      <td>1</td>\n    </tr>\n    <tr>\n      <th>1</th>\n      <td>evil</td>\n      <td>0</td>\n      <td>5</td>\n      <td>1</td>\n      <td>failure</td>\n      <td>1</td>\n    </tr>\n    <tr>\n      <th>2</th>\n      <td>evil</td>\n      <td>0</td>\n      <td>5</td>\n      <td>2</td>\n      <td>failure</td>\n      <td>2</td>\n    </tr>\n    <tr>\n      <th>3</th>\n      <td>evil</td>\n      <td>0</td>\n      <td>5</td>\n      <td>3</td>\n      <td>success</td>\n      <td>1</td>\n    </tr>\n    <tr>\n      <th>4</th>\n      <td>evil</td>\n      <td>0</td>\n      <td>5</td>\n      <td>4</td>\n      <td>failure</td>\n      <td>2</td>\n    </tr>\n  </tbody>\n</table>\n</div>"
     },
     "execution_count": 338,
     "metadata": {},
     "output_type": "execute_result"
    }
   ],
   "source": [
    "metrics_speech_rnd = metrics_speech_rnd.rename(columns={'intent_fol_speech': 'intent_fol'})\n",
    "metrics_think_rnd = metrics_think_rnd.rename(columns={'intent_fol_think': 'intent_fol'})\n",
    "\n",
    "metrics_rnd = pd.concat([metrics_think_rnd, metrics_speech_rnd])\n",
    "metrics_rnd.head()"
   ],
   "metadata": {
    "collapsed": false,
    "ExecuteTime": {
     "end_time": "2024-03-07T08:54:20.847625Z",
     "start_time": "2024-03-07T08:54:20.834496Z"
    }
   },
   "id": "b8ea81abfbc51b6e"
  },
  {
   "cell_type": "code",
   "execution_count": 339,
   "outputs": [
    {
     "name": "stdout",
     "output_type": "stream",
     "text": [
      "    side  intent_selection  count\n",
      "0   evil                 0     13\n",
      "1   evil                 1     58\n",
      "2  loyal                 0     24\n",
      "3  loyal                 1     79\n"
     ]
    }
   ],
   "source": [
    "total_think = metrics_think.groupby(['side', 'intent_selection'])['count'].sum().reset_index(name='count')\n",
    "print(total_think)"
   ],
   "metadata": {
    "collapsed": false,
    "ExecuteTime": {
     "end_time": "2024-03-07T08:54:21.295252Z",
     "start_time": "2024-03-07T08:54:21.282906Z"
    }
   },
   "id": "82acd6df0f66f9e"
  },
  {
   "cell_type": "code",
   "execution_count": 340,
   "outputs": [
    {
     "name": "stdout",
     "output_type": "stream",
     "text": [
      "    side  intent_selection  count\n",
      "0   evil                 0     13\n",
      "1   evil                 1     58\n",
      "2  loyal                 0     24\n",
      "3  loyal                 1     79\n"
     ]
    }
   ],
   "source": [
    "total_speech = metrics_speech.groupby(['side', 'intent_selection'])['count'].sum().reset_index(name='count')\n",
    "print(total_speech)"
   ],
   "metadata": {
    "collapsed": false,
    "ExecuteTime": {
     "end_time": "2024-03-07T08:54:21.862666Z",
     "start_time": "2024-03-07T08:54:21.857494Z"
    }
   },
   "id": "4f3a791a75226a6e"
  },
  {
   "cell_type": "code",
   "execution_count": 341,
   "outputs": [
    {
     "name": "stdout",
     "output_type": "stream",
     "text": [
      "    side  intent_selection  count\n",
      "0   evil                 0     11\n",
      "1   evil                 1     54\n",
      "2  loyal                 0     20\n",
      "3  loyal                 1     76\n"
     ]
    }
   ],
   "source": [
    "greater_than_3_think = metrics_think[metrics_think['intent_fol_think'] >= 3].groupby(['side', 'intent_selection'])['count'].sum().reset_index(name='count')\n",
    "print(greater_than_3_think)"
   ],
   "metadata": {
    "collapsed": false,
    "ExecuteTime": {
     "end_time": "2024-03-07T08:54:22.285411Z",
     "start_time": "2024-03-07T08:54:22.275759Z"
    }
   },
   "id": "bcad8e34244d3ce2"
  },
  {
   "cell_type": "code",
   "execution_count": 342,
   "outputs": [
    {
     "name": "stdout",
     "output_type": "stream",
     "text": [
      "    side  intent_selection  count\n",
      "0   evil                 0     11\n",
      "1   evil                 1     45\n",
      "2  loyal                 0     24\n",
      "3  loyal                 1     76\n"
     ]
    }
   ],
   "source": [
    "greater_than_3_speech = metrics_speech[metrics_speech['intent_fol_speech'] >= 3].groupby(['side', 'intent_selection'])['count'].sum().reset_index(name='count')\n",
    "print(greater_than_3_speech)"
   ],
   "metadata": {
    "collapsed": false,
    "ExecuteTime": {
     "end_time": "2024-03-07T08:54:22.583046Z",
     "start_time": "2024-03-07T08:54:22.571122Z"
    }
   },
   "id": "aae3afa8f7c818b0"
  },
  {
   "cell_type": "code",
   "execution_count": 343,
   "outputs": [
    {
     "name": "stdout",
     "output_type": "stream",
     "text": [
      "    side  intent_selection  count\n",
      "0   evil                 0     11\n",
      "1   evil                 1     53\n",
      "2  loyal                 0     20\n",
      "3  loyal                 1     76\n"
     ]
    }
   ],
   "source": [
    "think_5 = metrics_think[metrics_think['intent_fol_think'] == 5].groupby(['side', 'intent_selection'])['count'].sum().reset_index(name='count')\n",
    "print(think_5)"
   ],
   "metadata": {
    "collapsed": false,
    "ExecuteTime": {
     "end_time": "2024-03-07T08:54:22.853877Z",
     "start_time": "2024-03-07T08:54:22.841747Z"
    }
   },
   "id": "24fdc02e59553826"
  },
  {
   "cell_type": "code",
   "execution_count": 344,
   "outputs": [
    {
     "name": "stdout",
     "output_type": "stream",
     "text": [
      "    side  intent_selection  count\n",
      "0   evil                 0      8\n",
      "1   evil                 1     36\n",
      "2  loyal                 0     22\n",
      "3  loyal                 1     53\n"
     ]
    }
   ],
   "source": [
    "speech_5 = metrics_speech[metrics_speech['intent_fol_speech'] == 5].groupby(['side', 'intent_selection'])['count'].sum().reset_index(name='count')\n",
    "print(speech_5)"
   ],
   "metadata": {
    "collapsed": false,
    "ExecuteTime": {
     "end_time": "2024-03-07T08:54:23.180998Z",
     "start_time": "2024-03-07T08:54:23.162849Z"
    }
   },
   "id": "6a4207343d4571e"
  },
  {
   "cell_type": "code",
   "execution_count": 345,
   "outputs": [],
   "source": [
    "keys = [('evil', 0), ('evil', 1), ('loyal', 0), ('loyal', 1)]"
   ],
   "metadata": {
    "collapsed": false,
    "ExecuteTime": {
     "end_time": "2024-03-07T08:54:23.519795Z",
     "start_time": "2024-03-07T08:54:23.504585Z"
    }
   },
   "id": "2fec57871b6a0824"
  },
  {
   "cell_type": "code",
   "execution_count": 346,
   "outputs": [],
   "source": [
    "final_total_metrics_gt_3 = {'evil': {}, 'loyal': {}}\n",
    "\n",
    "final_total_metrics_5 = {'evil': {}, 'loyal': {}}"
   ],
   "metadata": {
    "collapsed": false,
    "ExecuteTime": {
     "end_time": "2024-03-07T08:54:23.841985Z",
     "start_time": "2024-03-07T08:54:23.825009Z"
    }
   },
   "id": "2f88c5461c73b252"
  },
  {
   "cell_type": "code",
   "execution_count": 347,
   "outputs": [],
   "source": [
    "for side, is_reas in keys:\n",
    "    total_think_count = total_think[(total_think['side'] == side) & (total_think['intent_selection'] == is_reas)]['count'].values[0]\n",
    "    total_speech_count = total_speech[(total_speech['side'] == side) & (total_speech['intent_selection'] == is_reas)]['count'].values[0]\n",
    "    \n",
    "    greater_than_3_think_count = greater_than_3_think[(greater_than_3_think['side'] == side) & (greater_than_3_think['intent_selection'] == is_reas)]['count'].values[0]\n",
    "    greater_than_3_speech_count = greater_than_3_speech[(greater_than_3_speech['side'] == side) & (greater_than_3_speech['intent_selection'] == is_reas)]['count'].values[0]\n",
    "    \n",
    "    think_5_count = think_5[(think_5['side'] == side) & (think_5['intent_selection'] == is_reas)]['count'].values[0]\n",
    "\n",
    "    speech_5_count = speech_5[(speech_5['side'] == side) & (speech_5['intent_selection'] == is_reas)]['count'].values[0]\n",
    "    \n",
    "    intent_reas = 'reasonable' if is_reas == 1 else 'unreasonable'\n",
    "    \n",
    "    final_total_metrics_gt_3[side][intent_reas] = {\n",
    "        'following': {'think': greater_than_3_think_count, 'speak': greater_than_3_speech_count},\n",
    "        'not_following': {'think': total_think_count - greater_than_3_think_count, 'speak': total_speech_count - greater_than_3_speech_count}\n",
    "    }\n",
    "    \n",
    "    final_total_metrics_5[side][intent_reas] = {\n",
    "        'following': {'think': think_5_count, 'speak': speech_5_count},\n",
    "        'not_following': {'think': total_think_count - think_5_count, 'speak': total_speech_count - speech_5_count}\n",
    "    }"
   ],
   "metadata": {
    "collapsed": false,
    "ExecuteTime": {
     "end_time": "2024-03-07T08:54:24.061592Z",
     "start_time": "2024-03-07T08:54:24.045975Z"
    }
   },
   "id": "d90f5974a58190ae"
  },
  {
   "cell_type": "code",
   "execution_count": 348,
   "outputs": [
    {
     "data": {
      "text/plain": "{'evil': {'unreasonable': {'following': {'think': 11, 'speak': 11},\n   'not_following': {'think': 2, 'speak': 2}},\n  'reasonable': {'following': {'think': 54, 'speak': 45},\n   'not_following': {'think': 4, 'speak': 13}}},\n 'loyal': {'unreasonable': {'following': {'think': 20, 'speak': 24},\n   'not_following': {'think': 4, 'speak': 0}},\n  'reasonable': {'following': {'think': 76, 'speak': 76},\n   'not_following': {'think': 3, 'speak': 3}}}}"
     },
     "execution_count": 348,
     "metadata": {},
     "output_type": "execute_result"
    }
   ],
   "source": [
    "final_total_metrics_gt_3"
   ],
   "metadata": {
    "collapsed": false,
    "ExecuteTime": {
     "end_time": "2024-03-07T08:54:24.460007Z",
     "start_time": "2024-03-07T08:54:24.448034Z"
    }
   },
   "id": "2c0f66f7701df363"
  },
  {
   "cell_type": "code",
   "execution_count": 349,
   "outputs": [
    {
     "data": {
      "text/plain": "{'evil': {'unreasonable': {'following': {'think': 11, 'speak': 8},\n   'not_following': {'think': 2, 'speak': 5}},\n  'reasonable': {'following': {'think': 53, 'speak': 36},\n   'not_following': {'think': 5, 'speak': 22}}},\n 'loyal': {'unreasonable': {'following': {'think': 20, 'speak': 22},\n   'not_following': {'think': 4, 'speak': 2}},\n  'reasonable': {'following': {'think': 76, 'speak': 53},\n   'not_following': {'think': 3, 'speak': 26}}}}"
     },
     "execution_count": 349,
     "metadata": {},
     "output_type": "execute_result"
    }
   ],
   "source": [
    "final_total_metrics_5"
   ],
   "metadata": {
    "collapsed": false,
    "ExecuteTime": {
     "end_time": "2024-03-07T08:54:24.824838Z",
     "start_time": "2024-03-07T08:54:24.810985Z"
    }
   },
   "id": "d54e55244efc6a61"
  },
  {
   "cell_type": "code",
   "execution_count": 350,
   "outputs": [
    {
     "name": "stdout",
     "output_type": "stream",
     "text": [
      "    side  intent_selection  count\n",
      "0   evil                 0     13\n",
      "1   evil                 1     58\n",
      "2  loyal                 0     24\n",
      "3  loyal                 1     79\n"
     ]
    }
   ],
   "source": [
    "print(total_think)"
   ],
   "metadata": {
    "collapsed": false,
    "ExecuteTime": {
     "end_time": "2024-03-07T08:54:39.579655Z",
     "start_time": "2024-03-07T08:54:39.567413Z"
    }
   },
   "id": "9fef5e17021a07b0"
  },
  {
   "cell_type": "code",
   "execution_count": 351,
   "outputs": [
    {
     "name": "stdout",
     "output_type": "stream",
     "text": [
      "    side  intent_selection  count\n",
      "0   evil                 0     13\n",
      "1   evil                 1     58\n",
      "2  loyal                 0     24\n",
      "3  loyal                 1     79\n"
     ]
    }
   ],
   "source": [
    "print(total_speech)"
   ],
   "metadata": {
    "collapsed": false,
    "ExecuteTime": {
     "end_time": "2024-03-07T08:54:40.863004Z",
     "start_time": "2024-03-07T08:54:40.847670Z"
    }
   },
   "id": "25865f8abfba4e74"
  },
  {
   "cell_type": "markdown",
   "source": [
    "### Round metrics"
   ],
   "metadata": {
    "collapsed": false
   },
   "id": "21e0162c962e30aa"
  },
  {
   "cell_type": "code",
   "execution_count": 352,
   "outputs": [
    {
     "name": "stdout",
     "output_type": "stream",
     "text": [
      "     side  intent_selection  round round_quest_result  count\n",
      "0    evil                 0      1            failure      8\n",
      "1    evil                 0      2            failure     10\n",
      "2    evil                 0      3            success      4\n",
      "3    evil                 0      4            failure      4\n",
      "4    evil                 1      1            failure      8\n",
      "5    evil                 1      2            failure     36\n",
      "6    evil                 1      3            success     44\n",
      "7    evil                 1      4            failure     28\n",
      "8   loyal                 0      1            failure      4\n",
      "9   loyal                 0      2            failure     24\n",
      "10  loyal                 0      3            success     12\n",
      "11  loyal                 0      4            failure      8\n",
      "12  loyal                 1      1            failure     20\n",
      "13  loyal                 1      2            failure     40\n",
      "14  loyal                 1      3            success     46\n",
      "15  loyal                 1      4            failure     52\n"
     ]
    }
   ],
   "source": [
    "total_rnd = metrics_rnd.groupby(['side', 'intent_selection', 'round', 'round_quest_result'])['count'].sum().reset_index(name='count')\n",
    "print(total_rnd)"
   ],
   "metadata": {
    "collapsed": false,
    "ExecuteTime": {
     "end_time": "2024-03-07T08:54:43.405427Z",
     "start_time": "2024-03-07T08:54:43.397941Z"
    }
   },
   "id": "c816e12326a562ee"
  },
  {
   "cell_type": "code",
   "execution_count": 353,
   "outputs": [
    {
     "data": {
      "text/plain": "348"
     },
     "execution_count": 353,
     "metadata": {},
     "output_type": "execute_result"
    }
   ],
   "source": [
    "total_rnd['count'].sum()"
   ],
   "metadata": {
    "collapsed": false,
    "ExecuteTime": {
     "end_time": "2024-03-07T08:54:49.025Z",
     "start_time": "2024-03-07T08:54:49.006345Z"
    }
   },
   "id": "85a3c33ba7d26a3a"
  },
  {
   "cell_type": "code",
   "execution_count": 354,
   "outputs": [
    {
     "name": "stdout",
     "output_type": "stream",
     "text": [
      "     side  intent_selection  round round_quest_result  count\n",
      "0    evil                 0      1            failure      2\n",
      "1    evil                 0      2            failure      9\n",
      "2    evil                 0      3            success      4\n",
      "3    evil                 0      4            failure      4\n",
      "4    evil                 1      1            failure      6\n",
      "5    evil                 1      2            failure     35\n",
      "6    evil                 1      3            success     28\n",
      "7    evil                 1      4            failure     20\n",
      "8   loyal                 0      1            failure      4\n",
      "9   loyal                 0      2            failure     22\n",
      "10  loyal                 0      3            success      8\n",
      "11  loyal                 0      4            failure      8\n",
      "12  loyal                 1      1            failure     19\n",
      "13  loyal                 1      2            failure     35\n",
      "14  loyal                 1      3            success     39\n",
      "15  loyal                 1      4            failure     36\n"
     ]
    }
   ],
   "source": [
    "rnd_5 = metrics_rnd[metrics_rnd['intent_fol'] == 5].groupby(['side', 'intent_selection', 'round', 'round_quest_result'])['count'].sum().reset_index(name='count')\n",
    "print(rnd_5)"
   ],
   "metadata": {
    "collapsed": false,
    "ExecuteTime": {
     "end_time": "2024-03-07T08:54:50.357961Z",
     "start_time": "2024-03-07T08:54:50.350542Z"
    }
   },
   "id": "cffd63c49188232e"
  },
  {
   "cell_type": "code",
   "execution_count": 355,
   "outputs": [
    {
     "data": {
      "text/plain": "279"
     },
     "execution_count": 355,
     "metadata": {},
     "output_type": "execute_result"
    }
   ],
   "source": [
    "rnd_5['count'].sum()"
   ],
   "metadata": {
    "collapsed": false,
    "ExecuteTime": {
     "end_time": "2024-03-07T08:54:51.847491Z",
     "start_time": "2024-03-07T08:54:51.826388Z"
    }
   },
   "id": "a7ec72bd6c7415a3"
  },
  {
   "cell_type": "code",
   "execution_count": 356,
   "outputs": [
    {
     "data": {
      "text/plain": "   side  intent_selection  round round_quest_result  count\n0  evil                 0      1            failure      2\n1  evil                 0      2            failure      9\n2  evil                 0      3            success      4\n3  evil                 0      4            failure      4\n4  evil                 1      1            failure      6",
      "text/html": "<div>\n<style scoped>\n    .dataframe tbody tr th:only-of-type {\n        vertical-align: middle;\n    }\n\n    .dataframe tbody tr th {\n        vertical-align: top;\n    }\n\n    .dataframe thead th {\n        text-align: right;\n    }\n</style>\n<table border=\"1\" class=\"dataframe\">\n  <thead>\n    <tr style=\"text-align: right;\">\n      <th></th>\n      <th>side</th>\n      <th>intent_selection</th>\n      <th>round</th>\n      <th>round_quest_result</th>\n      <th>count</th>\n    </tr>\n  </thead>\n  <tbody>\n    <tr>\n      <th>0</th>\n      <td>evil</td>\n      <td>0</td>\n      <td>1</td>\n      <td>failure</td>\n      <td>2</td>\n    </tr>\n    <tr>\n      <th>1</th>\n      <td>evil</td>\n      <td>0</td>\n      <td>2</td>\n      <td>failure</td>\n      <td>9</td>\n    </tr>\n    <tr>\n      <th>2</th>\n      <td>evil</td>\n      <td>0</td>\n      <td>3</td>\n      <td>success</td>\n      <td>4</td>\n    </tr>\n    <tr>\n      <th>3</th>\n      <td>evil</td>\n      <td>0</td>\n      <td>4</td>\n      <td>failure</td>\n      <td>4</td>\n    </tr>\n    <tr>\n      <th>4</th>\n      <td>evil</td>\n      <td>1</td>\n      <td>1</td>\n      <td>failure</td>\n      <td>6</td>\n    </tr>\n  </tbody>\n</table>\n</div>"
     },
     "execution_count": 356,
     "metadata": {},
     "output_type": "execute_result"
    }
   ],
   "source": [
    "rnd_5.head()"
   ],
   "metadata": {
    "collapsed": false,
    "ExecuteTime": {
     "end_time": "2024-03-07T08:54:53.594827Z",
     "start_time": "2024-03-07T08:54:53.580144Z"
    }
   },
   "id": "c1e5ee557e0a620f"
  },
  {
   "cell_type": "code",
   "execution_count": 357,
   "outputs": [],
   "source": [
    "rnd_5['rnd'] = rnd_5['round'].astype(int)\n",
    "rnd_5['sd'] = rnd_5['side'].astype(str)"
   ],
   "metadata": {
    "collapsed": false,
    "ExecuteTime": {
     "end_time": "2024-03-07T08:54:59.223915Z",
     "start_time": "2024-03-07T08:54:59.216889Z"
    }
   },
   "id": "a70f4d365a77703f"
  },
  {
   "cell_type": "code",
   "execution_count": 358,
   "outputs": [],
   "source": [
    "round_metrics_dict = {}"
   ],
   "metadata": {
    "collapsed": false,
    "ExecuteTime": {
     "end_time": "2024-03-07T08:55:00.149915Z",
     "start_time": "2024-03-07T08:55:00.125417Z"
    }
   },
   "id": "e1e3bf7f972ee8bf"
  },
  {
   "cell_type": "code",
   "execution_count": 359,
   "outputs": [],
   "source": [
    "def round_metrics(side, intent_sel, rnd, count):\n",
    "    if side not in round_metrics_dict:\n",
    "        round_metrics_dict[side] = {}\n",
    "    if rnd not in round_metrics_dict[side]:\n",
    "        round_metrics_dict[side][rnd] = {}\n",
    "    round_metrics_dict[side][rnd][intent_sel] = count\n",
    "    "
   ],
   "metadata": {
    "collapsed": false,
    "ExecuteTime": {
     "end_time": "2024-03-07T08:55:01.707888Z",
     "start_time": "2024-03-07T08:55:01.689822Z"
    }
   },
   "id": "3e47cf5ff45f7eed"
  },
  {
   "cell_type": "code",
   "execution_count": 360,
   "outputs": [],
   "source": [
    "for index, row in rnd_5.iterrows():\n",
    "    round_metrics(row['sd'], row['intent_selection'], row['rnd'], row['count'])\n"
   ],
   "metadata": {
    "collapsed": false,
    "ExecuteTime": {
     "end_time": "2024-03-07T08:55:02.376917Z",
     "start_time": "2024-03-07T08:55:02.366350Z"
    }
   },
   "id": "aaea96d53c55b482"
  },
  {
   "cell_type": "code",
   "execution_count": 361,
   "outputs": [
    {
     "data": {
      "text/plain": "{'evil': {1: {0: 2, 1: 6},\n  2: {0: 9, 1: 35},\n  3: {0: 4, 1: 28},\n  4: {0: 4, 1: 20}},\n 'loyal': {1: {0: 4, 1: 19},\n  2: {0: 22, 1: 35},\n  3: {0: 8, 1: 39},\n  4: {0: 8, 1: 36}}}"
     },
     "execution_count": 361,
     "metadata": {},
     "output_type": "execute_result"
    }
   ],
   "source": [
    "round_metrics_dict"
   ],
   "metadata": {
    "collapsed": false,
    "ExecuteTime": {
     "end_time": "2024-03-07T08:55:03.255988Z",
     "start_time": "2024-03-07T08:55:03.238191Z"
    }
   },
   "id": "941433ce7c85e5c4"
  },
  {
   "cell_type": "code",
   "execution_count": 362,
   "outputs": [
    {
     "data": {
      "text/plain": "{'1': 0, '2': 0, '3': 1, '4': 0, '5': None}"
     },
     "execution_count": 362,
     "metadata": {},
     "output_type": "execute_result"
    }
   ],
   "source": [
    "quest_results"
   ],
   "metadata": {
    "collapsed": false,
    "ExecuteTime": {
     "end_time": "2024-03-07T08:55:06.105269Z",
     "start_time": "2024-03-07T08:55:06.076044Z"
    }
   },
   "id": "1348e73d1ea89f80"
  },
  {
   "cell_type": "code",
   "execution_count": 369,
   "outputs": [],
   "source": [
    "final_round_metrics = {}"
   ],
   "metadata": {
    "collapsed": false,
    "ExecuteTime": {
     "end_time": "2024-03-07T08:56:19.101254Z",
     "start_time": "2024-03-07T08:56:19.086326Z"
    }
   },
   "id": "1df8d24593d0445c"
  },
  {
   "cell_type": "code",
   "execution_count": 370,
   "outputs": [],
   "source": [
    "for key in quest_results.keys():\n",
    "    if quest_results[key] is None:\n",
    "        continue\n",
    "    int_key = int(key)\n",
    "    result = 'success' if quest_results[key] == 1 else 'failure'\n",
    "    \n",
    "    evil_reas = 0\n",
    "    evil_unreas = 0\n",
    "    loyal_reas = 0\n",
    "    loyal_unreas = 0\n",
    "    \n",
    "    if 0 in round_metrics_dict['evil'][int_key]:\n",
    "        evil_unreas = round_metrics_dict['evil'][int_key][0]\n",
    "        \n",
    "    if 1 in round_metrics_dict['evil'][int_key]:\n",
    "        evil_reas = round_metrics_dict['evil'][int_key][1]\n",
    "        \n",
    "    if 0 in round_metrics_dict['loyal'][int_key]:\n",
    "        loyal_unreas = round_metrics_dict['loyal'][int_key][0]\n",
    "        \n",
    "    if 1 in round_metrics_dict['loyal'][int_key]:\n",
    "        loyal_reas = round_metrics_dict['loyal'][int_key][1]\n",
    "        \n",
    "    total_evil_intents = evil_unreas + evil_reas\n",
    "    total_loyal_intents = loyal_unreas + loyal_reas\n",
    "    \n",
    "    evil_reas_per = evil_reas/total_evil_intents\n",
    "    evil_unreas_per = evil_unreas/total_evil_intents\n",
    "    \n",
    "    loyal_reas_per = loyal_reas/total_loyal_intents\n",
    "    loyal_unreas_per = loyal_unreas/total_loyal_intents\n",
    "    \n",
    "    final_round_metrics[int_key] = {\n",
    "        'result': result, \n",
    "        'evil_reasonable': f\"{evil_reas_per} ({evil_reas})\", \n",
    "        'evil_unreasonable': f\"{evil_unreas_per} ({evil_unreas})\", \n",
    "        'loyal_reasonable': f\"{loyal_reas_per} ({loyal_reas})\", \n",
    "        'loyal_unreasonable': f\"{loyal_unreas_per} ({loyal_unreas})\"\n",
    "    }"
   ],
   "metadata": {
    "collapsed": false,
    "ExecuteTime": {
     "end_time": "2024-03-07T08:56:36.523143Z",
     "start_time": "2024-03-07T08:56:36.512607Z"
    }
   },
   "id": "eb5941500bdd1772"
  },
  {
   "cell_type": "code",
   "execution_count": 371,
   "outputs": [
    {
     "data": {
      "text/plain": "{1: {'result': 'failure',\n  'evil_reasonable': '0.75 (6)',\n  'evil_unreasonable': '0.25 (2)',\n  'loyal_reasonable': '0.8260869565217391 (19)',\n  'loyal_unreasonable': '0.17391304347826086 (4)'},\n 2: {'result': 'failure',\n  'evil_reasonable': '0.7954545454545454 (35)',\n  'evil_unreasonable': '0.20454545454545456 (9)',\n  'loyal_reasonable': '0.6140350877192983 (35)',\n  'loyal_unreasonable': '0.38596491228070173 (22)'},\n 3: {'result': 'success',\n  'evil_reasonable': '0.875 (28)',\n  'evil_unreasonable': '0.125 (4)',\n  'loyal_reasonable': '0.8297872340425532 (39)',\n  'loyal_unreasonable': '0.1702127659574468 (8)'},\n 4: {'result': 'failure',\n  'evil_reasonable': '0.8333333333333334 (20)',\n  'evil_unreasonable': '0.16666666666666666 (4)',\n  'loyal_reasonable': '0.8181818181818182 (36)',\n  'loyal_unreasonable': '0.18181818181818182 (8)'}}"
     },
     "execution_count": 371,
     "metadata": {},
     "output_type": "execute_result"
    }
   ],
   "source": [
    "final_round_metrics"
   ],
   "metadata": {
    "collapsed": false,
    "ExecuteTime": {
     "end_time": "2024-03-07T08:56:37.154328Z",
     "start_time": "2024-03-07T08:56:37.137960Z"
    }
   },
   "id": "73796002eef3de4a"
  },
  {
   "cell_type": "markdown",
   "source": [],
   "metadata": {
    "collapsed": false
   },
   "id": "c787592a808ca628"
  },
  {
   "cell_type": "code",
   "execution_count": null,
   "outputs": [],
   "source": [],
   "metadata": {
    "collapsed": false
   },
   "id": "774ebcc2e7db23a7"
  }
 ],
 "metadata": {
  "kernelspec": {
   "display_name": "Python 3",
   "language": "python",
   "name": "python3"
  },
  "language_info": {
   "codemirror_mode": {
    "name": "ipython",
    "version": 2
   },
   "file_extension": ".py",
   "mimetype": "text/x-python",
   "name": "python",
   "nbconvert_exporter": "python",
   "pygments_lexer": "ipython2",
   "version": "2.7.6"
  }
 },
 "nbformat": 4,
 "nbformat_minor": 5
}
